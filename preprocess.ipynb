{
 "cells": [
  {
   "cell_type": "code",
   "execution_count": null,
   "id": "24ccb427-ad5b-4673-a458-c2dfe0b12732",
   "metadata": {
    "tags": []
   },
   "outputs": [],
   "source": [
    "MAX_COUNT = 100"
   ]
  },
  {
   "cell_type": "code",
   "execution_count": 2,
   "id": "e1ef7dd2-573a-4648-8f24-27d9a90f8cfc",
   "metadata": {
    "tags": []
   },
   "outputs": [
    {
     "name": "stdout",
     "output_type": "stream",
     "text": [
      "\u001b[34mChallenge\u001b[m\u001b[m           leaderboard.h5      odor_pair_full.json train.h5\n",
      "dataset.h5          molecules.csv       test.h5\n"
     ]
    }
   ],
   "source": [
    "import os\n",
    "os.chdir(\"Data\")\n",
    "!ls"
   ]
  },
  {
   "cell_type": "code",
   "execution_count": 3,
   "id": "92faae55-af35-4eb6-9312-798cee44f8ef",
   "metadata": {
    "tags": []
   },
   "outputs": [
    {
     "data": {
      "text/plain": [
       "(166814,\n",
       " {'mol1': 'CCCCC/C=C/C(=O)OC',\n",
       "  'mol1_notes': ['violet',\n",
       "   'sweet',\n",
       "   'oily',\n",
       "   'melon',\n",
       "   'pear',\n",
       "   'hairy',\n",
       "   'costus',\n",
       "   'fruity',\n",
       "   'violet leaf',\n",
       "   'waxy',\n",
       "   'fresh',\n",
       "   'green'],\n",
       "  'mol2': 'CCCCCOC(=O)CCC',\n",
       "  'mol2_notes': ['cherry',\n",
       "   'sweet',\n",
       "   'pineapple',\n",
       "   'fruity',\n",
       "   'banana',\n",
       "   'tropical'],\n",
       "  'blend_notes': ['animal', 'fruity', 'waxy']})"
      ]
     },
     "execution_count": 3,
     "metadata": {},
     "output_type": "execute_result"
    }
   ],
   "source": [
    "import json\n",
    "with open(\"odor_pair_full.json\") as f:\n",
    "    dataset = json.load(f)\n",
    "\n",
    "len(dataset),dataset[0]"
   ]
  },
  {
   "cell_type": "code",
   "execution_count": 4,
   "id": "6b14e79e-8ef3-4bff-91e0-bd3864b642f2",
   "metadata": {
    "tags": []
   },
   "outputs": [
    {
     "name": "stderr",
     "output_type": "stream",
     "text": [
      "100%|████████████████████████████| 166814/166814 [00:00<00:00, 1766460.80it/s]\n"
     ]
    },
    {
     "data": {
      "text/plain": [
       "(2921,\n",
       " (frozenset({'animal', 'fruity', 'waxy'}),\n",
       "  [('CCCCC/C=C/C(=O)OC', 'CCCCCOC(=O)CCC'),\n",
       "   ('CCCCC/C=C/C(=O)OC', 'CCCCCCCCOC(=O)C(C)CC'),\n",
       "   ('CCCCC/C=C/C(=O)OC', 'CCCCCCCCOC(=O)CCC'),\n",
       "   ('CCCCC/C=C/C(=O)OC', 'CCCCCCCCCCCCCC(=O)OCC')]))"
      ]
     },
     "execution_count": 4,
     "metadata": {},
     "output_type": "execute_result"
    }
   ],
   "source": [
    "import collections\n",
    "import tqdm\n",
    "\n",
    "notes_to_pairs = collections.defaultdict(list)\n",
    "for d in tqdm.tqdm(dataset):\n",
    "    notes_to_pairs[frozenset(d[\"blend_notes\"])].append((d[\"mol1\"],d[\"mol2\"]))\n",
    "\n",
    "len(notes_to_pairs), next(iter(notes_to_pairs.items()))"
   ]
  },
  {
   "cell_type": "code",
   "execution_count": 5,
   "id": "d8cbed91-bd9a-4a8c-ae60-d9e948e16a10",
   "metadata": {
    "tags": []
   },
   "outputs": [
    {
     "name": "stderr",
     "output_type": "stream",
     "text": [
      "100%|████████████████████████████████████| 2921/2921 [00:03<00:00, 781.78it/s]\n"
     ]
    },
    {
     "data": {
      "text/plain": [
       "(166814,\n",
       " (('CCCCC/C=C/C(=O)OC', 'CCCCCOC(=O)CCC'),\n",
       "  [('CCCCC/C=C/C(=O)OC', 'CCCCCCCCOC(=O)C(C)CC'),\n",
       "   ('CCCCC/C=C/C(=O)OC', 'CCCCCCCCOC(=O)CCC'),\n",
       "   ('CCCCC/C=C/C(=O)OC', 'CCCCCCCCCCCCCC(=O)OCC')]))"
      ]
     },
     "execution_count": 5,
     "metadata": {},
     "output_type": "execute_result"
    }
   ],
   "source": [
    "import random\n",
    "\n",
    "positives = dict()\n",
    "for n, pairs in tqdm.tqdm(notes_to_pairs.items()):\n",
    "    for p1 in pairs:\n",
    "        vals = list(random.sample(pairs,MAX_COUNT)) if len(pairs) > MAX_COUNT else pairs\n",
    "        positives[p1] = [p2 for p2 in vals if p1 != p2]\n",
    "len(positives), next(iter(positives.items()))"
   ]
  },
  {
   "cell_type": "code",
   "execution_count": 6,
   "id": "5ed9c017-70c7-480d-9d64-dfde97a9c039",
   "metadata": {
    "tags": []
   },
   "outputs": [
    {
     "data": {
      "text/plain": [
       "(31983, 0.19172851199539606)"
      ]
     },
     "execution_count": 6,
     "metadata": {},
     "output_type": "execute_result"
    }
   ],
   "source": [
    "missing = len([p for p, ps in positives.items() if len(ps) < MAX_COUNT])\n",
    "missing, missing/len(dataset)"
   ]
  },
  {
   "cell_type": "code",
   "execution_count": 7,
   "id": "aa8e6da0-3f52-47ef-8cd7-0aad708e7df4",
   "metadata": {
    "tags": []
   },
   "outputs": [],
   "source": [
    "mol_sets = collections.defaultdict(list)\n",
    "for i,d in enumerate(dataset):\n",
    "    mol_sets[d[\"mol1\"]].append(i)\n",
    "    mol_sets[d[\"mol2\"]].append(i)"
   ]
  },
  {
   "cell_type": "code",
   "execution_count": 8,
   "id": "fa4e4f16-f990-479f-93c8-6bf9b05db141",
   "metadata": {
    "tags": []
   },
   "outputs": [],
   "source": [
    "pairs = []\n",
    "pair_to_notes = dict()\n",
    "for d in dataset:\n",
    "    pair = (d[\"mol1\"],d[\"mol2\"])\n",
    "    pairs.append(pair)\n",
    "    pair_to_notes[pair] = set(d[\"blend_notes\"])"
   ]
  },
  {
   "cell_type": "code",
   "execution_count": 9,
   "id": "ca624953-af2e-494a-971b-a8d4838f6343",
   "metadata": {
    "tags": []
   },
   "outputs": [],
   "source": [
    "notes_sets = dict()\n",
    "for i,d in enumerate(dataset):\n",
    "    notes_sets[i] = set(d[\"blend_notes\"])"
   ]
  },
  {
   "cell_type": "code",
   "execution_count": 10,
   "id": "0df44fb1-f4e8-482a-9d5f-73a12a118188",
   "metadata": {
    "tags": []
   },
   "outputs": [
    {
     "name": "stderr",
     "output_type": "stream",
     "text": [
      "100%|████████████████████████████████████| 2971/2971 [00:13<00:00, 225.25it/s]\n"
     ]
    },
    {
     "data": {
      "text/plain": [
       "166788"
      ]
     },
     "execution_count": 10,
     "metadata": {},
     "output_type": "execute_result"
    }
   ],
   "source": [
    "# Hard negatives are anchor/negatives that share a molecule\n",
    "# but do not have any notes in common.\n",
    "negatives = collections.defaultdict(list)\n",
    "for (mol,idcs) in tqdm.tqdm(mol_sets.items()):\n",
    "    for i in idcs:\n",
    "        p1 = notes_sets[i]\n",
    "        for j in idcs:\n",
    "            p2 = notes_sets[j]\n",
    "            if bool(p1 & p2):\n",
    "                continue\n",
    "            negatives[pairs[i]].append(pairs[j])\n",
    "len(negatives)"
   ]
  },
  {
   "cell_type": "code",
   "execution_count": 11,
   "id": "745b2a3c-b0cd-4149-94ae-d3f49bd575c9",
   "metadata": {
    "tags": []
   },
   "outputs": [
    {
     "data": {
      "text/plain": [
       "(94025, 0.5636517318690277)"
      ]
     },
     "execution_count": 11,
     "metadata": {},
     "output_type": "execute_result"
    }
   ],
   "source": [
    "missing = len([p for p, ns in negatives.items() if len(ns) < MAX_COUNT])\n",
    "missing, missing/len(dataset)"
   ]
  },
  {
   "cell_type": "code",
   "execution_count": 12,
   "id": "b5708355-eb22-4c7d-8791-4d7902881ada",
   "metadata": {
    "tags": []
   },
   "outputs": [
    {
     "name": "stderr",
     "output_type": "stream",
     "text": [
      "100%|██████████████████████████████| 166788/166788 [00:11<00:00, 14989.48it/s]\n"
     ]
    },
    {
     "data": {
      "text/plain": [
       "(166788, 0, 0.0)"
      ]
     },
     "execution_count": 12,
     "metadata": {},
     "output_type": "execute_result"
    }
   ],
   "source": [
    "# Supplement with random negatives if we have less than the required\n",
    "# number of hard negatives.\n",
    "for p, ns in tqdm.tqdm(negatives.items()):\n",
    "    notes = pair_to_notes[pair]\n",
    "    while len(ns) < MAX_COUNT:\n",
    "        other = random.choice(dataset)\n",
    "        other_pair = (other[\"mol1\"],other[\"mol2\"])\n",
    "        other_notes = pair_to_notes[other_pair]\n",
    "        if bool(notes & other_notes):\n",
    "            continue\n",
    "        ns.append(other_pair)\n",
    "    negatives[p] = list(random.sample(pairs,MAX_COUNT))\n",
    "\n",
    "missing = len([p for p, ns in negatives.items() if len(ns) != MAX_COUNT])\n",
    "len(negatives), missing, missing/len(dataset)      "
   ]
  },
  {
   "cell_type": "code",
   "execution_count": 13,
   "id": "3f7c8231-efec-4962-a612-8e483946c682",
   "metadata": {
    "tags": []
   },
   "outputs": [
    {
     "data": {
      "text/plain": [
       "(('CCCCC/C=C/C(=O)OC', 'CCCCCOC(=O)CCC'),\n",
       " [('C1=CC=C2C(=C1)C=CN2', 'CC(CCCC(C)(C)O)CC=O'),\n",
       "  ('CC(C)CC(=O)O', 'CCCCOC(=O)C(C)O'),\n",
       "  ('CCCCCOC(=O)/C(=C\\\\C)/C', 'OC2C(CCC2C1CCCC1)C3CCCC3'),\n",
       "  ('CC/C=C/CC1=C(C(=O)CC1)C', 'CCCCCCOC(=O)C(C)(C)C'),\n",
       "  ('CCCCCC=CC(=O)OCC', 'COC(=O)CCC(=O)OC'),\n",
       "  ('CCCCCCC1CCC(=O)O1', 'CCOC(=O)C(C)O'),\n",
       "  ('C/C=C(\\\\C)/C(=O)OCCC1=CC=CC=C1', 'CC(=O)CO'),\n",
       "  ('C1=CC=C(C=C1)CCC=O', 'CCCCCOC(=O)CCC'),\n",
       "  ('CC=CCCCCCCCC=O', 'O=C(OC)CC1C(C(=O)CC1)CCCCC'),\n",
       "  ('CC(C1CCCC(C1)(C)C)OC(C)(C)COC(=O)C2CC2', 'CC1(CCCCCCCCCCC1)OC'),\n",
       "  ('CC(=CCC/C(=C/CC1CCCC1=O)/C)C', 'CCCCCCC(=O)OCCC1=CC=CC=C1'),\n",
       "  ('CC1=C(C(=O)CO1)O', 'CCC1(CC(=O)C(=C(C1C)C)C)C'),\n",
       "  ('CCCCCCCC(=O)OCC1=CC=CC=C1', 'CCCCCCCCCCCCOC(=O)CCC'),\n",
       "  ('CC(CCC1=CC=CC=C1)CCO', 'CCCCC[C@H]1[C@@H](CCC1=O)C(=O)OC'),\n",
       "  ('CCCCCCOC(=O)CCCCC', 'CCCCCOC(=O)CC(C)C'),\n",
       "  ('CCCCCC(OCC)OCC', 'CCOC(=O)CC(C)C'),\n",
       "  ('C/C(=C\\\\C=C)/CC(C)(C=C)O', 'CCOC(=O)CC1(OCC(O1)C)C'),\n",
       "  ('C1CCCCCC(=O)OCC/C=C/CCCC1', 'CC(=CCC/C(=C/CO)/C)C'),\n",
       "  ('CC(=CC(=O)C(C)(C)C=C)C', 'CC(=CCC/C(=C\\\\COC=O)/C)C'),\n",
       "  ('CCC(=O)C(=O)O', 'CCCCCCCCC(=O)C(=O)C'),\n",
       "  ('COC(=O)C=CC1=CC=CC=C1', 'COCC1=NC=CN=C1'),\n",
       "  ('CC(=O)O[C@@H]1C[C@@H]2CC[C@@]1(C2(C)C)C', 'CC1=C(C=C(C=C1)C(C)C)O'),\n",
       "  ('CC1CCC2(C(C3CCC2(C1C3)C)(C)C)O', 'CCOC1=C(C=CC(=C1)C2OC(CC(O2)(C)C)C)O'),\n",
       "  ('C1CCCCC2COCC2/C=C\\\\CCC1', 'C1CCCCC=CCCCCC(=O)OCCCC1'),\n",
       "  ('CC(CCC=C(C)C)CC(=O)O', 'CCCCCCOC(=O)\\\\C=C\\\\C(=O)OCCCCCC'),\n",
       "  ('CCCCCC(=O)OCCCCC', 'CC\\\\1C=C(CC/C1=C\\\\NC2=CC=CC=C2C(=O)OC)C'),\n",
       "  ('CC1CCC(=O)C1=O', 'CCCCCC(=O)C(C)C(=O)C'),\n",
       "  ('CC(=O)OC(C)(C)CC1=CC=CC=C1', 'CC(C)C1=CCC(=CC1)CCOC=O'),\n",
       "  ('CC(C)OC(=O)C', 'CCCCC(=O)OCCCC'),\n",
       "  ('C/C=C(\\\\C)/C(=O)O', 'CC1C2CC3CC1C(C(C2)C3=C)O'),\n",
       "  ('CC(C)CC(=O)OCC1=CC=CC=C1', 'CCCCCC(=O)OC1CCCCC1'),\n",
       "  ('CC(=CCC/C(=C/COC=O)/C)C', 'CCCCCOC(=O)CC(C)C'),\n",
       "  ('CC(C)CCOC(=O)CC1=CC=CC=C1', 'CCOCC1=NC=CN=C1'),\n",
       "  ('CCC(C(C)C=O)S', 'CS'),\n",
       "  ('C1=CC=C(C=C1)C=CCOC=O', 'CCCCC(=O)OCCC(C)CCC=C(C)C'),\n",
       "  ('CCC12CCC(C1)C(C2)C3(CCCCC3)O', 'CCCCCCCCC=O'),\n",
       "  ('CC(=CCCC(=CCCC(=O)C)C)C', 'CCCC=CCO'),\n",
       "  ('C1=CC=C(C=C1)C(=O)C2=CC=CC=C2', 'CC(C)(CCC1=CC=CC=C1)O'),\n",
       "  ('CCC/C=C/C(=O)O', 'CCCCCCCCCCCCC=O'),\n",
       "  ('CCCC(=O)OCC(C)CC', 'CCCCCCCCCCC(=O)OCC'),\n",
       "  ('CC(C)C(=O)OCC1=CCC2CC1C2(C)C', 'CC1=CCC(=C(C)C)CC1'),\n",
       "  ('CC(=O)CCSC', 'C[C@H]1CCC[C@@]2([C@@]1(CCCC2)O)C'),\n",
       "  ('CC(C)C(=O)OC/C=C(/C)\\\\CCC=C(C)C', 'CCCCC(=O)OCC/C=C/CC'),\n",
       "  ('CC(=O)C1=CC=CS1', 'CCCC(=O)C1=CC=CC=C1'),\n",
       "  ('CCCCC(=O)OCCC', 'CCCCCC(=O)OCCC'),\n",
       "  ('C1=CC=C(C=C1)CCOC(=O)C2=CC=CC=C2', 'CC(=O)CCC1=CC2=C(C=C1)OCO2'),\n",
       "  ('CC(C)CC/C=C/C(=O)C', 'CC(CCCC(C)(C)OC)C=O'),\n",
       "  ('C/C=C/C(=O)C1=C(C=CCC1(C)C)C', 'CCOC(=O)C1C(O1)(C)C2=CC=CC=C2'),\n",
       "  ('CCC(C)C1N=C(C(S1)C)C', 'CCOC(=O)CCS'),\n",
       "  ('CCCC1OCCC(S1)C', 'CCOC(C)OC(C)(CCCC(C)C)C=C'),\n",
       "  ('C1=CC=C(C=C1)/C=C(/C(CO)O)\\\\O', 'CC(=C)C1CCC(=CC1)C=O'),\n",
       "  ('C1CCCCCC(=O)OCC/C=C\\\\CCCC1', 'CC1(CCCC23C1CC(CC2)(C(=O)O3)C)C'),\n",
       "  ('C/C/1=C/CCC(=C)C2CC(C2CC1)(C)C', 'CC1(CC2C1CCC3(CCCC2(C3)O)C)C'),\n",
       "  ('CC(C)COC(=O)C', 'CCCCCCOC(=O)C(C)CC'),\n",
       "  ('CC(=C(C)C(=O)OCC1=CC=CC=C1)C', 'CC1C(=O)C2=CC=CC=C2C1(C)C'),\n",
       "  ('CC(=CCCC(C)(C=C)OC(=O)C)C', 'CC1(CC2C(C1)C3(CCCC2(C3O)C)C)C'),\n",
       "  ('CC(C)(CCC1=CC=CC=C1)O', 'CC(CCC=C(C)C)CCO'),\n",
       "  ('CCCCC(=O)OCC1=CC=CO1', 'CCCCCC(=O)OC'),\n",
       "  ('CC1CC(CC(=C1)C)C=O', 'CCCCCCCCC=O'),\n",
       "  ('CCOC(=O)C1C(O1)C2=CC=CC=C2', 'COC(=O)C1CCCCC1'),\n",
       "  ('CCC1CCC(=O)C1=O', 'CCCCOC(=O)C(C)O'),\n",
       "  ('CC(C=CC)C(O)=O', 'CCC1=NC=C(N=C1CC)C'),\n",
       "  ('CCCC(=O)OC1CCCCC1', 'CCCC(CCCC(=O)OCC)O'),\n",
       "  ('CC(C)CC(=O)CC(C)C', 'CCCC(=O)OC(C)(CCC=C(C)C)C=C'),\n",
       "  ('CC(=CCCC(C)(C#C)O)C', 'CC1CC2=C(CC1(C)C(=O)C)C(CCC2)(C)C'),\n",
       "  ('CC(C)(C)C1=CC=C(C=C1)CCC=O', 'COC1CC2CC1C3C2CC(C3)C=O'),\n",
       "  ('CC(=C)C1CCC(O1)(C)C=C', 'CCCCCCC(=O)OCCCC'),\n",
       "  ('CC(C)C1C(COC(O1)(C)C)(C)C', 'COC1CC2CC1C3C2CC=C3'),\n",
       "  ('CC(=CCCC(=CCCC(=O)C)C)C', 'CCC(=O)OCC(C)C'),\n",
       "  ('CC(C)CC(=O)O', 'CCCC(=O)OCCC'),\n",
       "  ('C1=CNC=C1', 'CCC1=NC=CN=C1CC'),\n",
       "  ('CC1CC(CC(C1)(C)C)OC(=O)C', 'COC1=C(C=CC(=C1)CC=C)OC(=O)CC2=CC=CC=C2'),\n",
       "  ('CCCCCCCCCO', 'CCCCCCCCOC(=O)C(C)CC'),\n",
       "  ('CCCC(=O)OC(C)(CCC=C(C)C)C=C', 'CCCCCCCC(=O)OCCCC'),\n",
       "  ('CC1(C2CC=C(C1C2)CCC=O)C', 'CC1(C2CCC(C2)(C1O)C)C'),\n",
       "  ('CCCCC(=O)OCCCC', 'CCCCC/C=C/CC(=O)OC'),\n",
       "  ('C1=CC=C(C=C1)CCCOC=O', 'CCOC(=O)CCC1=CC=CC=C1'),\n",
       "  ('CCC/C=C/CC1CCCC1=O', 'CCCCOC(=O)[C@H](C)O'),\n",
       "  ('CCCCCCCCCO', 'CCOC1=C(C=CC(=C1)C=O)O'),\n",
       "  ('CC(=C)[C@@H]1CCC2(C(C1)O2)C', 'CC1=CCC(CC1)C(C)CC=O'),\n",
       "  ('CC(C)OC(=O)C1=CC=CC=C1', 'CCCCOC(=O)CCCCCCCCC=C'),\n",
       "  ('CCCC=O', 'CCCCCOC(=O)\\\\C=C/C1=CC=CC=C1'),\n",
       "  ('CC(=O)CCC1=CC=C(C=C1)O', 'CCC(=O)OC/C=C(/C)\\\\CCC=C(C)C'),\n",
       "  ('CC(C)C=CC=O', 'CC(C)CC(=O)OC1CCCCC1'),\n",
       "  ('CC1=CC(=O)CC(C1)(C)C', 'CCCCCCCCC(=O)OC'),\n",
       "  ('CC(C)CCCCCCCCCCOC(CC(C)CCCC(C)(C)O)OCCCCCCCCCCC(C)C', 'CCC(=CCC(C)CCO)CC'),\n",
       "  ('CCC(=O)SCC1=CC=CO1', 'CCC(C)C(=O)C=CC'),\n",
       "  ('CC/C=C\\\\CC(=O)O', 'CCOC(=O)C(=O)C'),\n",
       "  ('CC1=CC=C(S1)C=O', 'CCC1=C(C(=O)C(O1)C)O'),\n",
       "  ('CC(=CCCC(=CCCC(=O)C)C)C', 'CCCCC1COC2(O1)CCCC2'),\n",
       "  ('CCCC(=O)OCC(COC(=O)CCC)OC(=O)CCC', 'CCCCCCCC(=O)O'),\n",
       "  ('CC(=CCC/C(=C/COCC=O)/C)C', 'CC(=O)OC1CCCCC1C(C)(C)C'),\n",
       "  ('CC(CCCC(=C)C)CCOC(=O)CC1=CC=CC=C1', 'CCCCOC(=O)C1=CC=CC=C1N'),\n",
       "  ('CC1([C@H]2CC[C@](C2)(C1=O)C)C', 'CC1CCCC2(C1(CCCC2)O)C'),\n",
       "  ('CC1CCC(=O)C1=O', 'Cc1ncc(nc1)SCc2ccco2'),\n",
       "  ('C1=CC=C(C=C1)CO', 'CC/C=C\\\\CCCCC=O'),\n",
       "  ('CC(C)C(=O)OC1CC2CC1C3C2C=CC3', 'COC1=CC=CC=C1OC(=O)CC2=CC=CC=C2'),\n",
       "  ('CC(C)C1=CC(=NC=C1)C(=O)C', 'CCCCCCOC(CCCCC)OCCCCCC'),\n",
       "  ('CC(C)C(=O)C(=O)C', 'CCCCCCCC1CCCC(=O)O1'),\n",
       "  ('C1=CC=C2C(=C1)N=CS2', 'C[C@H]1CC[C@H](C(=O)C1)C(C)(C)S')])"
      ]
     },
     "execution_count": 13,
     "metadata": {},
     "output_type": "execute_result"
    }
   ],
   "source": [
    "next(iter(negatives.items()))"
   ]
  },
  {
   "cell_type": "code",
   "execution_count": 14,
   "id": "051ac0a1-f2a0-445b-a243-6546e2d5d2d6",
   "metadata": {
    "tags": []
   },
   "outputs": [
    {
     "data": {
      "text/plain": [
       "(2971, 'CC1=CC[C@@H]2[C@@H](C1)[C@@H](CC=C2C)C(C)C')"
      ]
     },
     "execution_count": 14,
     "metadata": {},
     "output_type": "execute_result"
    }
   ],
   "source": [
    "all_smiles = set()\n",
    "for d in dataset:\n",
    "    all_smiles.add(d[\"mol1\"])\n",
    "    all_smiles.add(d[\"mol2\"])\n",
    "len(all_smiles),next(iter(all_smiles))"
   ]
  },
  {
   "cell_type": "code",
   "execution_count": 15,
   "id": "aedac74b-2a79-4699-8a77-d730ea4ca321",
   "metadata": {
    "tags": []
   },
   "outputs": [
    {
     "name": "stderr",
     "output_type": "stream",
     "text": [
      "  0%|                                                | 0/2971 [00:00<?, ?it/s]\n"
     ]
    },
    {
     "ename": "NameError",
     "evalue": "name 'torch' is not defined",
     "output_type": "error",
     "traceback": [
      "\u001b[0;31m---------------------------------------------------------------------------\u001b[0m",
      "\u001b[0;31mNameError\u001b[0m                                 Traceback (most recent call last)",
      "Cell \u001b[0;32mIn[15], line 13\u001b[0m\n\u001b[1;32m     11\u001b[0m \u001b[38;5;28;01mfor\u001b[39;00m smiles \u001b[38;5;129;01min\u001b[39;00m tqdm\u001b[38;5;241m.\u001b[39mtqdm(all_smiles):\n\u001b[1;32m     12\u001b[0m     \u001b[38;5;28;01mtry\u001b[39;00m:\n\u001b[0;32m---> 13\u001b[0m         graph_data[smiles] \u001b[38;5;241m=\u001b[39m to_torch(smiles2graph(smiles))\n\u001b[1;32m     14\u001b[0m     \u001b[38;5;28;01mexcept\u001b[39;00m \u001b[38;5;167;01mAttributeError\u001b[39;00m \u001b[38;5;28;01mas\u001b[39;00m e:\n\u001b[1;32m     15\u001b[0m         errored \u001b[38;5;241m+\u001b[39m\u001b[38;5;241m=\u001b[39m \u001b[38;5;241m1\u001b[39m\n",
      "Cell \u001b[0;32mIn[15], line 6\u001b[0m, in \u001b[0;36mto_torch\u001b[0;34m(graph)\u001b[0m\n\u001b[1;32m      4\u001b[0m tensor_keys \u001b[38;5;241m=\u001b[39m [\u001b[38;5;124m\"\u001b[39m\u001b[38;5;124medge_index\u001b[39m\u001b[38;5;124m\"\u001b[39m, \u001b[38;5;124m'\u001b[39m\u001b[38;5;124medge_feat\u001b[39m\u001b[38;5;124m'\u001b[39m, \u001b[38;5;124m'\u001b[39m\u001b[38;5;124mnode_feat\u001b[39m\u001b[38;5;124m'\u001b[39m]\n\u001b[1;32m      5\u001b[0m \u001b[38;5;28;01mfor\u001b[39;00m key \u001b[38;5;129;01min\u001b[39;00m tensor_keys:\n\u001b[0;32m----> 6\u001b[0m     graph[key] \u001b[38;5;241m=\u001b[39m torch\u001b[38;5;241m.\u001b[39mfrom_numpy(graph[key])\n\u001b[1;32m      7\u001b[0m \u001b[38;5;28;01mreturn\u001b[39;00m Data(x\u001b[38;5;241m=\u001b[39mgraph[\u001b[38;5;124m\"\u001b[39m\u001b[38;5;124mnode_feat\u001b[39m\u001b[38;5;124m\"\u001b[39m]\u001b[38;5;241m.\u001b[39mfloat(),edge_attr\u001b[38;5;241m=\u001b[39mgraph[\u001b[38;5;124m\"\u001b[39m\u001b[38;5;124medge_feat\u001b[39m\u001b[38;5;124m\"\u001b[39m],edge_index\u001b[38;5;241m=\u001b[39mgraph[\u001b[38;5;124m\"\u001b[39m\u001b[38;5;124medge_index\u001b[39m\u001b[38;5;124m\"\u001b[39m])\n",
      "\u001b[0;31mNameError\u001b[0m: name 'torch' is not defined"
     ]
    }
   ],
   "source": [
    "from ogb.utils import smiles2graph\n",
    "\n",
    "def to_torch(graph):\n",
    "    tensor_keys = [\"edge_index\", 'edge_feat', 'node_feat']\n",
    "    for key in tensor_keys:\n",
    "        graph[key] = torch.from_numpy(graph[key])\n",
    "    return Data(x=graph[\"node_feat\"].float(),edge_attr=graph[\"edge_feat\"],edge_index=graph[\"edge_index\"])\n",
    "\n",
    "errored = 0\n",
    "graph_data = dict()\n",
    "for smiles in tqdm.tqdm(all_smiles):\n",
    "    try:\n",
    "        graph_data[smiles] = to_torch(smiles2graph(smiles))\n",
    "    except AttributeError as e:\n",
    "        errored += 1\n",
    "errored, len(graph_data), next(iter(graph_data.items()))"
   ]
  },
  {
   "cell_type": "code",
   "execution_count": null,
   "id": "7e091e5a-2d74-461e-bb1b-3f3d586e4c53",
   "metadata": {
    "tags": []
   },
   "outputs": [],
   "source": [
    "import numpy as np\n",
    "from torch_geometric.data import InMemoryDataset, download_url, Data\n",
    "import torch\n",
    "from torch_geometric.loader import DataLoader\n",
    "import data\n",
    "\n",
    "pair_to_data = dict()\n",
    "for d in tqdm.tqdm(dataset):\n",
    "    if not d[\"mol1\"] in graph_data or not d[\"mol2\"] in graph_data:\n",
    "        continue\n",
    "    pair = (d[\"mol1\"],d[\"mol2\"])\n",
    "    g1 = graph_data[d[\"mol1\"]]\n",
    "    g2 = graph_data[d[\"mol2\"]]\n",
    "    pair_to_data[pair] = data.combine_graphs([g1,g2])\n",
    "len(pair_to_data), next(iter(pair_to_data.items()))"
   ]
  },
  {
   "cell_type": "code",
   "execution_count": null,
   "id": "d6535d22-9952-43a9-921f-e4d22a716b2b",
   "metadata": {
    "tags": []
   },
   "outputs": [],
   "source": [
    "valid_pairs = set(pair_to_data.keys()).intersection(set(positives.keys())).intersection(set(negatives.keys()))\n",
    "len(valid_pairs), len(valid_pairs)/len(dataset)"
   ]
  },
  {
   "cell_type": "code",
   "execution_count": null,
   "id": "ca75c3fa-24b8-40f4-8f91-ecd534e1cc8c",
   "metadata": {
    "tags": []
   },
   "outputs": [],
   "source": [
    "import json\n",
    "import h5py\n",
    "import base64\n",
    "\n",
    "def encode_smiles(smiles):\n",
    "    return base64.urlsafe_b64encode(smiles.encode()).decode()\n",
    "\n",
    "with h5py.File('dataset.h5', 'w') as f:\n",
    "    for (pair, data) in tqdm.tqdm(pair_to_data.items()):\n",
    "        group = f.create_group(encode_smiles(json.dumps(pair)))\n",
    "        group.create_dataset(\"pair\",data=pairs[i])\n",
    "        group.create_dataset(\"positives\",data=positives[pair])\n",
    "        group.create_dataset(\"negatives\",data=negatives[pair])\n",
    "        graph_group = group.create_group(\"graph\")\n",
    "        for k,v in data.items():\n",
    "            graph_group.create_dataset(k,data=v.numpy())"
   ]
  },
  {
   "cell_type": "code",
   "execution_count": null,
   "id": "5b01826f-dcc6-421e-ae73-c9252acba8dd",
   "metadata": {
    "tags": []
   },
   "outputs": [],
   "source": [
    "for p in random.sample(sorted(pair_to_data.keys()),100):\n",
    "    print(p,json.dumps(p))"
   ]
  }
 ],
 "metadata": {
  "kernelspec": {
   "display_name": "Python 3 (ipykernel)",
   "language": "python",
   "name": "python3"
  },
  "language_info": {
   "codemirror_mode": {
    "name": "ipython",
    "version": 3
   },
   "file_extension": ".py",
   "mimetype": "text/x-python",
   "name": "python",
   "nbconvert_exporter": "python",
   "pygments_lexer": "ipython3",
   "version": "3.11.5"
  }
 },
 "nbformat": 4,
 "nbformat_minor": 5
}
