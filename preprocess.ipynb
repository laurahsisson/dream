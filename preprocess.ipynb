{
 "cells": [
  {
   "cell_type": "code",
   "execution_count": 1,
   "id": "24ccb427-ad5b-4673-a458-c2dfe0b12732",
   "metadata": {
    "tags": []
   },
   "outputs": [],
   "source": [
    "MAX_COUNT = 100"
   ]
  },
  {
   "cell_type": "code",
   "execution_count": 2,
   "id": "e1ef7dd2-573a-4648-8f24-27d9a90f8cfc",
   "metadata": {
    "tags": []
   },
   "outputs": [
    {
     "name": "stdout",
     "output_type": "stream",
     "text": [
      "dataset.h5          odor_pair_full.json\n"
     ]
    }
   ],
   "source": [
    "import os\n",
    "os.chdir(\"Data\")\n",
    "!ls"
   ]
  },
  {
   "cell_type": "code",
   "execution_count": 3,
   "id": "92faae55-af35-4eb6-9312-798cee44f8ef",
   "metadata": {
    "tags": []
   },
   "outputs": [
    {
     "data": {
      "text/plain": [
       "(166814,\n",
       " {'mol1': 'CCCCC/C=C/C(=O)OC',\n",
       "  'mol1_notes': ['violet',\n",
       "   'sweet',\n",
       "   'oily',\n",
       "   'melon',\n",
       "   'pear',\n",
       "   'hairy',\n",
       "   'costus',\n",
       "   'fruity',\n",
       "   'violet leaf',\n",
       "   'waxy',\n",
       "   'fresh',\n",
       "   'green'],\n",
       "  'mol2': 'CCCCCOC(=O)CCC',\n",
       "  'mol2_notes': ['cherry',\n",
       "   'sweet',\n",
       "   'pineapple',\n",
       "   'fruity',\n",
       "   'banana',\n",
       "   'tropical'],\n",
       "  'blend_notes': ['animal', 'fruity', 'waxy']})"
      ]
     },
     "execution_count": 3,
     "metadata": {},
     "output_type": "execute_result"
    }
   ],
   "source": [
    "import json\n",
    "with open(\"odor_pair_full.json\") as f:\n",
    "    dataset = json.load(f)\n",
    "\n",
    "len(dataset),dataset[0]"
   ]
  },
  {
   "cell_type": "code",
   "execution_count": 4,
   "id": "6b14e79e-8ef3-4bff-91e0-bd3864b642f2",
   "metadata": {
    "tags": []
   },
   "outputs": [
    {
     "name": "stderr",
     "output_type": "stream",
     "text": [
      "100%|██████████████████████████████| 166814/166814 [00:00<00:00, 1930136.33it/s]\n"
     ]
    },
    {
     "data": {
      "text/plain": [
       "(2921,\n",
       " (frozenset({'animal', 'fruity', 'waxy'}),\n",
       "  [('CCCCC/C=C/C(=O)OC', 'CCCCCOC(=O)CCC'),\n",
       "   ('CCCCC/C=C/C(=O)OC', 'CCCCCCCCOC(=O)C(C)CC'),\n",
       "   ('CCCCC/C=C/C(=O)OC', 'CCCCCCCCOC(=O)CCC'),\n",
       "   ('CCCCC/C=C/C(=O)OC', 'CCCCCCCCCCCCCC(=O)OCC')]))"
      ]
     },
     "execution_count": 4,
     "metadata": {},
     "output_type": "execute_result"
    }
   ],
   "source": [
    "import collections\n",
    "import tqdm\n",
    "\n",
    "notes_to_pairs = collections.defaultdict(list)\n",
    "for d in tqdm.tqdm(dataset):\n",
    "    notes_to_pairs[frozenset(d[\"blend_notes\"])].append((d[\"mol1\"],d[\"mol2\"]))\n",
    "\n",
    "len(notes_to_pairs), next(iter(notes_to_pairs.items()))"
   ]
  },
  {
   "cell_type": "code",
   "execution_count": 5,
   "id": "d8cbed91-bd9a-4a8c-ae60-d9e948e16a10",
   "metadata": {
    "tags": []
   },
   "outputs": [
    {
     "name": "stderr",
     "output_type": "stream",
     "text": [
      "100%|██████████████████████████████████████| 2921/2921 [00:03<00:00, 790.40it/s]\n"
     ]
    },
    {
     "data": {
      "text/plain": [
       "(166814,\n",
       " (('CCCCC/C=C/C(=O)OC', 'CCCCCOC(=O)CCC'),\n",
       "  [('CCCCC/C=C/C(=O)OC', 'CCCCCCCCOC(=O)C(C)CC'),\n",
       "   ('CCCCC/C=C/C(=O)OC', 'CCCCCCCCOC(=O)CCC'),\n",
       "   ('CCCCC/C=C/C(=O)OC', 'CCCCCCCCCCCCCC(=O)OCC')]))"
      ]
     },
     "execution_count": 5,
     "metadata": {},
     "output_type": "execute_result"
    }
   ],
   "source": [
    "import random\n",
    "\n",
    "positives = dict()\n",
    "for n, pairs in tqdm.tqdm(notes_to_pairs.items()):\n",
    "    for p1 in pairs:\n",
    "        vals = list(random.sample(pairs,MAX_COUNT)) if len(pairs) > MAX_COUNT else pairs\n",
    "        positives[p1] = [p2 for p2 in vals if p1 != p2]\n",
    "len(positives), next(iter(positives.items()))"
   ]
  },
  {
   "cell_type": "code",
   "execution_count": 6,
   "id": "5ed9c017-70c7-480d-9d64-dfde97a9c039",
   "metadata": {
    "tags": []
   },
   "outputs": [
    {
     "data": {
      "text/plain": [
       "(31871, 0.19105710551872146)"
      ]
     },
     "execution_count": 6,
     "metadata": {},
     "output_type": "execute_result"
    }
   ],
   "source": [
    "missing = len([p for p, ps in positives.items() if len(ps) < MAX_COUNT])\n",
    "missing, missing/len(dataset)"
   ]
  },
  {
   "cell_type": "code",
   "execution_count": 7,
   "id": "aa8e6da0-3f52-47ef-8cd7-0aad708e7df4",
   "metadata": {
    "tags": []
   },
   "outputs": [],
   "source": [
    "mol_sets = collections.defaultdict(list)\n",
    "for i,d in enumerate(dataset):\n",
    "    mol_sets[d[\"mol1\"]].append(i)\n",
    "    mol_sets[d[\"mol2\"]].append(i)"
   ]
  },
  {
   "cell_type": "code",
   "execution_count": 8,
   "id": "fa4e4f16-f990-479f-93c8-6bf9b05db141",
   "metadata": {
    "tags": []
   },
   "outputs": [],
   "source": [
    "pairs = []\n",
    "pair_to_notes = dict()\n",
    "for d in dataset:\n",
    "    pair = (d[\"mol1\"],d[\"mol2\"])\n",
    "    pairs.append(pair)\n",
    "    pair_to_notes[pair] = set(d[\"blend_notes\"])"
   ]
  },
  {
   "cell_type": "code",
   "execution_count": 9,
   "id": "ca624953-af2e-494a-971b-a8d4838f6343",
   "metadata": {
    "tags": []
   },
   "outputs": [],
   "source": [
    "notes_sets = dict()\n",
    "for i,d in enumerate(dataset):\n",
    "    notes_sets[i] = set(d[\"blend_notes\"])"
   ]
  },
  {
   "cell_type": "code",
   "execution_count": 10,
   "id": "0df44fb1-f4e8-482a-9d5f-73a12a118188",
   "metadata": {
    "tags": []
   },
   "outputs": [
    {
     "name": "stderr",
     "output_type": "stream",
     "text": [
      "100%|██████████████████████████████████████| 2971/2971 [00:13<00:00, 215.94it/s]\n"
     ]
    },
    {
     "data": {
      "text/plain": [
       "166788"
      ]
     },
     "execution_count": 10,
     "metadata": {},
     "output_type": "execute_result"
    }
   ],
   "source": [
    "# Hard negatives are anchor/negatives that share a molecule\n",
    "# but do not have any notes in common.\n",
    "negatives = collections.defaultdict(list)\n",
    "for (mol,idcs) in tqdm.tqdm(mol_sets.items()):\n",
    "    for i in idcs:\n",
    "        p1 = notes_sets[i]\n",
    "        for j in idcs:\n",
    "            p2 = notes_sets[j]\n",
    "            if bool(p1 & p2):\n",
    "                continue\n",
    "            negatives[pairs[i]].append(pairs[j])\n",
    "len(negatives)"
   ]
  },
  {
   "cell_type": "code",
   "execution_count": 11,
   "id": "745b2a3c-b0cd-4149-94ae-d3f49bd575c9",
   "metadata": {
    "tags": []
   },
   "outputs": [
    {
     "data": {
      "text/plain": [
       "(94025, 0.5636517318690277)"
      ]
     },
     "execution_count": 11,
     "metadata": {},
     "output_type": "execute_result"
    }
   ],
   "source": [
    "missing = len([p for p, ns in negatives.items() if len(ns) < MAX_COUNT])\n",
    "missing, missing/len(dataset)"
   ]
  },
  {
   "cell_type": "code",
   "execution_count": 12,
   "id": "b5708355-eb22-4c7d-8791-4d7902881ada",
   "metadata": {
    "tags": []
   },
   "outputs": [
    {
     "name": "stderr",
     "output_type": "stream",
     "text": [
      "100%|████████████████████████████████| 166788/166788 [00:10<00:00, 15531.19it/s]\n"
     ]
    },
    {
     "data": {
      "text/plain": [
       "(166788, 0, 0.0)"
      ]
     },
     "execution_count": 12,
     "metadata": {},
     "output_type": "execute_result"
    }
   ],
   "source": [
    "# Supplement with random negatives if we have less than the required\n",
    "# number of hard negatives.\n",
    "for p, ns in tqdm.tqdm(negatives.items()):\n",
    "    notes = pair_to_notes[pair]\n",
    "    while len(ns) < MAX_COUNT:\n",
    "        other = random.choice(dataset)\n",
    "        other_pair = (other[\"mol1\"],other[\"mol2\"])\n",
    "        other_notes = pair_to_notes[other_pair]\n",
    "        if bool(notes & other_notes):\n",
    "            continue\n",
    "        ns.append(other_pair)\n",
    "    negatives[p] = list(random.sample(pairs,MAX_COUNT))\n",
    "\n",
    "missing = len([p for p, ns in negatives.items() if len(ns) != MAX_COUNT])\n",
    "len(negatives), missing, missing/len(dataset)      "
   ]
  },
  {
   "cell_type": "code",
   "execution_count": 13,
   "id": "3f7c8231-efec-4962-a612-8e483946c682",
   "metadata": {
    "tags": []
   },
   "outputs": [
    {
     "data": {
      "text/plain": [
       "(('CCCCC/C=C/C(=O)OC', 'CCCCCOC(=O)CCC'),\n",
       " [('CC(C)(CCCC(=C)C=C)O', 'CC(CCCC(C)(C)O)C=C'),\n",
       "  ('CCCC1=NC=CN=C1OC', 'CCCCCC=CC=CC=C'),\n",
       "  ('CC(C)C(=O)OCC1=CC=CC=C1', 'CC(C)C1CCC2CC(=O)CCC2C1'),\n",
       "  ('CC1C2(O1)CC3CC2C4C3CC=C(C4)C', 'COC1=C(C=CC(=C1)CC=C)OC=O'),\n",
       "  ('CC1CCC(CC1OC(=O)C)C(=C)C', 'CCCCCCCCCCOC(=O)C1=CC=CC=C1N'),\n",
       "  ('CCOC(=O)C1CC2CC1C=C2', 'CC\\\\1C=C(CC/C1=C\\\\NC2=CC=CC=C2C(=O)OC)C'),\n",
       "  ('C/C(=C\\\\CCC(=C)C=C)/CC/C=C(\\\\C)/C=O', 'CC(CCC1=CC=CC=C1)CC=O'),\n",
       "  ('CC(=O)OC1=C(C=C(C=C1)C=O)OC', 'CC/C=C\\\\CC/C=C/C=O'),\n",
       "  ('CCC(C)(C)C1CCCCC1OC(=O)C',\n",
       "   'CCCC(=O)OC(C)(C)[C@@H]1CC[C@@H](C2=C(C1)[C@H](CC2)C)C'),\n",
       "  ('CC(=CCOC(=O)C1=CC=CC=C1O)C', 'CC1=C[C@H]2[C@@H](CC1)C(=C)CC[C@@H]2C(C)C'),\n",
       "  ('CCCCC/C=C/CCC(=O)OCC', 'CC\\\\C=C\\\\CCOC(=O)/C(=C\\\\CC)/C'),\n",
       "  ('CC(C)CC(=O)OCCC1=CC=CC=C1', 'CCCCCC(C)O'),\n",
       "  ('CC/C=C\\\\C/C=C\\\\CCO', 'CCCCC(=O)C'),\n",
       "  ('CCCC(=O)OCC=CC=CC', 'CCCCCC(C)C(=O)O'),\n",
       "  ('CC(CCC=C(C)C)CCOC=O', 'CCC=CCCC=CCO'),\n",
       "  ('CC(=O)OCC1=CC2=C(C=C1)OCO2', 'CCOC(=O)C=CC1=CC=CC=C1'),\n",
       "  ('CCC(C)(CC)O', 'CCC/C=C/C(=O)OCC'),\n",
       "  ('C1=CC=C(C=C1)CCO', 'CC(C)C1=CC=C(C=C1)CC(C)C=O'),\n",
       "  ('CCCC(=O)C(=O)C', 'CCCCCC1CCC(=O)O1'),\n",
       "  ('C1=CC=C(C=C1)CCOC(=O)CC2=CC=CC=C2', 'CC1=CC=C(C=C1)OC'),\n",
       "  ('CC(=CCCC(=CC(OC)OC)C)C', 'CC(=O)C=CC1=CC=CC=C1'),\n",
       "  ('CC(=O)NC1=CC=CC=C1C(=O)OC', 'CCOC(=O)C1C(O1)(C)C2=CC=CC=C2'),\n",
       "  ('CC(C(=O)C)OC(=O)C', 'CC[C@H](C)C(=O)OCC'),\n",
       "  ('CC(C)(CCC1CCCCC1)O', 'CC1=CC=CC=C1CCO'),\n",
       "  ('C=CCSSSCC=C', 'CCC(=O)SC'),\n",
       "  ('CC(=O)C(CC1=CC=CC=C1)O', 'CCCCCCCCOC(=O)C1=CC=CO1'),\n",
       "  ('CC(C)(C)C1=CC=C(C=C1)CC(=O)OC', 'CCC/C=C/COC(=O)CC1=CC=CC=C1'),\n",
       "  ('CC(CCCC(C)(C)OC(=O)C)C=C', 'CC1CCC(C=C1)(C(C)C)OC(=O)C'),\n",
       "  ('CC(=CCC/C(=C/CCC(=O)C)/C)C', 'CC1(CCCC2=C1CC(CC2)C=O)C'),\n",
       "  ('CC(CC(C)(C)C1=CC=CC=C1)O', 'CCCCCCCCOCC=O'),\n",
       "  ('CCCCCCOC(=O)C(C)CC', 'COCOC1CCCCCCCCCCC1'),\n",
       "  ('CC(CCC=C(C)C)CCO', 'CCC(=O)/C(=C/C1C(CC=CC1(C)C)C)/C'),\n",
       "  ('CC(CCC=C(C)C)CCOC(=O)C', 'CCCCCCCCOC=O'),\n",
       "  ('CCCCC(=O)O[C@@H]1CC2CCC1(C2(C)C)C', 'CCCCCC(=O)OCCC'),\n",
       "  ('C1CCC(CC1)SSC2CCCCC2', 'CC(C)(CCCC1=CCC(CC1)C=O)O'),\n",
       "  ('CC(C1=CC=CC=C1)OC(=O)C', 'CCCOC(C)OCCC1=CC=CC=C1'),\n",
       "  ('CC1CCC2=C(C1)C(=CO2)C', 'CCC(=O)C1=NC=CS1'),\n",
       "  ('CC(C)C=CC(=O)C', 'CCCC(=O)C(CC)CC1=CC=CC=C1'),\n",
       "  ('CC(=O)OCC1=CC=CC=C1', 'CC1=CC=C(C=C1)OC'),\n",
       "  ('C1CCC(=O)C(=O)C1', 'CC1C(=O)C(=C(O1)C)OC'),\n",
       "  ('CCCCC(=O)OCC', 'CCOC(=O)C(C)S'),\n",
       "  ('CC(CCC=C(C)C)CC(=O)OC', 'CCCC(=O)OCC\\\\C=C/CC'),\n",
       "  ('CCOC(=O)OC1C(CCC(C1C)C)C', 'OC(\\\\C=C)(CCC=C(CCC=C(C)CC\\\\C=C(/C)C)C)C'),\n",
       "  ('C(C(=CC(=O)O)C(=O)O)C(=O)O', 'CCCC(=O)OCC1=CC=CC=C1'),\n",
       "  ('CC(=CCOC(=O)C1=CC=CC=C1)C', 'CCC1=NC=CN=C1C(=O)C'),\n",
       "  ('CSCC=O', 'CSCCCN=C=S'),\n",
       "  ('CC(=CCCC(=O)C)C', 'CC(C)CCCC1=CCC(CC1)(C)C=O'),\n",
       "  ('CC1=CC[C@@H]2C[C@H]1C2(C)C', 'CC1CCC(CC1O)C(=C)C'),\n",
       "  ('CC(C)C(=O)OCC=C(C)C', 'O=C(CCC=C)C(=C)C1CCCCC1'),\n",
       "  ('CCCCCCC\\\\C=C\\\\C(=O)O', 'COC1=C(C(=CC(=C1)C=O)C2=CC(=CC(=C2O)OC)C=O)O'),\n",
       "  ('CC(C)C1=CC=C(C=C1)COC(=O)C', 'CC1=CC(=CC=C1)CC(C)(C)CO'),\n",
       "  ('C(CCCC#N)CCC#N', 'CC(CCC=C(C)C)CC#N'),\n",
       "  ('CCCCCC=CCO', 'CCCOC(=O)C(C)CC'),\n",
       "  ('CCCCCC(CC(=O)OC)OC(=O)C', 'CCCCCCCC(=O)OCCCC'),\n",
       "  ('C1OC2=C(O1)C=C(C=C2)CO', 'COC1=C(C=C(C=C1)C=O)OC'),\n",
       "  ('CCCCC=CC(=O)O', 'CCCCCCCOC(=O)C(C)C'),\n",
       "  ('CCCCCCOC(C)OCCC(C)C', 'CCCCCCOC(C)OCCCCCC'),\n",
       "  ('CC=C(C)C=O', 'CCCCCOC(=O)CC'),\n",
       "  ('CCCCOC(=O)CC', 'O=C(CCCCCCCC)OCCCCCC'),\n",
       "  ('C/C=C/C(=O)OC1CCCC1C2CCCC2',\n",
       "   'O(C(OCC=C(C)CC\\\\C=C(/C)C)Cc1ccccc1)CC=C(C)CC\\\\C=C(/C)C'),\n",
       "  ('CC1=CC2CC(C1CC2C(C)C)C3OCCO3', 'CCCCCCCC/C=C/CO'),\n",
       "  ('CCC1=C(C(=O)CC1)O', 'CCCCCCCCCC(=O)OCC'),\n",
       "  ('CC(=O)C1=CC(=CC2=C1CCC2(C)C)C(C)(C)C', 'CCCC(CCC1C(CCCC1(C)C)C)O'),\n",
       "  ('CCCCCCOC(=O)C(C)C', 'CC[C@@H](C)C(=O)OCC'),\n",
       "  ('C1=CC=C(C=C1)CCOC(=O)CC2=CC=CC=C2', 'CC1=CC2CC(C1CC2C(C)C)C3OCCO3'),\n",
       "  ('CC1C=C(CC(C1C)C(=O)C)C', 'CCCC=O'),\n",
       "  ('CC(C)CCOCC1=CC=CC=C1', 'COC(=O)OC1CCC\\\\C=C/CC1'),\n",
       "  ('CC(C)CCOC(=O)C(=O)C', 'CCC(=O)OC1=C(OC=CC1=O)C'),\n",
       "  ('CC1=CC(=CC(=C1C(=O)C)C)C(C)(C)C', 'CC1=CC2C(C2(C)C)CC1C(=O)C'),\n",
       "  ('C1=CC=C(C=C1)CCO', 'CC1C(C2=C(C1(C)C)C=C(C(=C2)C(=O)C)C)C(C)C'),\n",
       "  ('CC(C)C(=O)OC1CC2CCC1(C2(C)C)C', 'CC1=CC(=C(O1)C)C(=O)C'),\n",
       "  ('C/C=C(\\\\C)/C(=O)OCCC1=CC=CC=C1', 'CCCCCCCCCCC/C=C/C=O'),\n",
       "  ('CCCC=CC=CC=O', 'CCCCCCC=CC(=O)OC'),\n",
       "  ('CC1OCC2(CC3CCC2C3)CO1', 'CCCCC(C(=O)OCC)O'),\n",
       "  ('CCCCCCCC1CC=CC(=O)O1', 'CCCCCCCCCCCC(=O)OC'),\n",
       "  ('CC(=CCCC(=CCOC(=O)CC1=CC=CC=C1)C)C', 'CCCCCCCCCC(=O)OCC=C'),\n",
       "  ('CC(=O)OC/C=C/C1=CC=CC=C1', 'CC(=O)OC1=C(C=C(C=C1)CC=C)OC'),\n",
       "  ('CC(C)CC(=O)OCC1=CC=CO1', 'CCCC(=O)CC(=O)OCC'),\n",
       "  ('COC(=O)C1=CC=CC=C1N', 'COC1=C(C=CC(=C1)C=O)O'),\n",
       "  ('CC(C)(CCCC1=CCC(CC1)C=O)O', 'CCCCCCOC(=O)C(C)CC'),\n",
       "  ('CC1CCCC(C1CCC(C)OC(=O)C)(C)C', 'CCC(=O)OC1=C(OC=CC1=O)C'),\n",
       "  ('CCCC=CC=O', 'CCCCCC(=O)O'),\n",
       "  ('CCCCCCCCCC(=O)OCC', 'CCOC(=O)CC(C)CC(C)(C)C'),\n",
       "  ('CCCCCC(=CC1=CC=CC=C1)C(OCC)OCC', 'CCCCOC(=O)CC'),\n",
       "  ('CC(C)CC(=O)CC1=CC=CC=C1', 'CCCCCC1C(CCC1=O)C'),\n",
       "  ('CC(=C)CCOC(=O)C(C)(C)C', 'CC(=O)CCC1=CC=CC=C1'),\n",
       "  ('CC1=C(SC(=N1)C)C=C', 'CCC1=NC=CN=C1CC'),\n",
       "  ('C1CCCCOCCCCCCOC(=O)CCC1', 'CCCCCC#CC(=O)OC'),\n",
       "  ('CCCCCOC(=O)CCC', 'CCOC(=O)C1C(O1)C2=CC=C(C=C2)C'),\n",
       "  ('CCCCCCCCCCCC(=O)OCCCC', 'CCCCCCCCCCCCOC(=O)C'),\n",
       "  ('CC(C)CCOC=O', 'CCCCCCOC(C)OCCCCCC'),\n",
       "  ('CC(=O)OC1CCC(CC1)C(C)(C)C', 'CC/C=C\\\\CCOC=O'),\n",
       "  ('CC1(C/C=C\\\\CC/C=C\\\\CCC2C1(O2)C)C', 'CC2(C)C(=C\\\\CO)\\\\C1CCC2C1'),\n",
       "  ('CC(C)(CC1=CC=CC=C1)O', 'CC(C)CCOC(=O)CCC1=CC=CO1'),\n",
       "  ('CC(C)C(=O)OC', 'O=C(OCC)[C@@H]1[C@@H](C)CCCC1(C)C'),\n",
       "  ('CC(C)(CCCC1=CCC(CC1)C=O)O', 'CC(CC1=CC=C(C=C1)OC)C=NC2=CC=CC=C2C(=O)OC'),\n",
       "  ('CCCC=CC(=O)OC', 'CCCCCCCCCC(=O)OCC=C'),\n",
       "  ('CCCC(=O)OC1CC2CCC1(C2(C)C)C', 'CCCCCCCCOC(=O)CC'),\n",
       "  ('CC(=CCC/C(=C/CO)/C)C', 'CC(C)(CCC1CCCCC1)O'),\n",
       "  ('CC(=O)OC1CC2CCC1(C2(C)C)C', 'CC1(CCC2C3(C14CCC(C4)C3(C)C)O2)C')])"
      ]
     },
     "execution_count": 13,
     "metadata": {},
     "output_type": "execute_result"
    }
   ],
   "source": [
    "next(iter(negatives.items()))"
   ]
  },
  {
   "cell_type": "code",
   "execution_count": 14,
   "id": "051ac0a1-f2a0-445b-a243-6546e2d5d2d6",
   "metadata": {
    "tags": []
   },
   "outputs": [
    {
     "data": {
      "text/plain": [
       "(2971, 'CCC(=O)OCC(C)(C)CC1=C(CCC1C(=C)C)C')"
      ]
     },
     "execution_count": 14,
     "metadata": {},
     "output_type": "execute_result"
    }
   ],
   "source": [
    "all_smiles = set()\n",
    "for d in dataset:\n",
    "    all_smiles.add(d[\"mol1\"])\n",
    "    all_smiles.add(d[\"mol2\"])\n",
    "len(all_smiles),next(iter(all_smiles))"
   ]
  },
  {
   "cell_type": "code",
   "execution_count": 15,
   "id": "aedac74b-2a79-4699-8a77-d730ea4ca321",
   "metadata": {
    "tags": []
   },
   "outputs": [
    {
     "name": "stderr",
     "output_type": "stream",
     "text": [
      " 51%|███████████████████                  | 1528/2971 [00:01<00:01, 1269.12it/s][17:56:52] SMILES Parse Error: syntax error while parsing: (C)C1=CN=CC(=N1)OC.CC(C)C1=CN=C(C=N1)OC.CC(C)C1=NC=CN=C1OC\n",
      "[17:56:52] SMILES Parse Error: Failed parsing SMILES '(C)C1=CN=CC(=N1)OC.CC(C)C1=CN=C(C=N1)OC.CC(C)C1=NC=CN=C1OC' for input: '(C)C1=CN=CC(=N1)OC.CC(C)C1=CN=C(C=N1)OC.CC(C)C1=NC=CN=C1OC'\n",
      " 60%|██████████████████████▏              | 1784/2971 [00:01<00:00, 1272.08it/s][17:56:52] SMILES Parse Error: syntax error while parsing: InChI=1/C7H8S/c1-6-4-2-3-5-7(6)8/h2-5,8H,1H3\n",
      "[17:56:52] SMILES Parse Error: Failed parsing SMILES 'InChI=1/C7H8S/c1-6-4-2-3-5-7(6)8/h2-5,8H,1H3' for input: 'InChI=1/C7H8S/c1-6-4-2-3-5-7(6)8/h2-5,8H,1H3'\n",
      " 90%|█████████████████████████████████▍   | 2681/2971 [00:02<00:00, 1277.53it/s][17:56:53] Can't kekulize mol.  Unkekulized atoms: 3 4 5 6 8\n",
      "100%|█████████████████████████████████████| 2971/2971 [00:02<00:00, 1268.83it/s]\n"
     ]
    },
    {
     "data": {
      "text/plain": [
       "(2968,\n",
       " ('CCC(=O)OCC(C)(C)CC1=C(CCC1C(=C)C)C',\n",
       "  {'edge_index': array([[ 0,  1,  1,  2,  2,  3,  2,  4,  4,  5,  5,  6,  6,  7,  6,  8,\n",
       "            6,  9,  9, 10, 10, 11, 11, 12, 12, 13, 13, 14, 14, 15, 15, 16,\n",
       "           15, 17, 11, 18, 14, 10],\n",
       "          [ 1,  0,  2,  1,  3,  2,  4,  2,  5,  4,  6,  5,  7,  6,  8,  6,\n",
       "            9,  6, 10,  9, 11, 10, 12, 11, 13, 12, 14, 13, 15, 14, 16, 15,\n",
       "           17, 15, 18, 11, 10, 14]]),\n",
       "   'edge_feat': array([[0, 0, 0],\n",
       "          [0, 0, 0],\n",
       "          [0, 0, 0],\n",
       "          [0, 0, 0],\n",
       "          [1, 0, 1],\n",
       "          [1, 0, 1],\n",
       "          [0, 0, 1],\n",
       "          [0, 0, 1],\n",
       "          [0, 0, 0],\n",
       "          [0, 0, 0],\n",
       "          [0, 0, 0],\n",
       "          [0, 0, 0],\n",
       "          [0, 0, 0],\n",
       "          [0, 0, 0],\n",
       "          [0, 0, 0],\n",
       "          [0, 0, 0],\n",
       "          [0, 0, 0],\n",
       "          [0, 0, 0],\n",
       "          [0, 0, 0],\n",
       "          [0, 0, 0],\n",
       "          [1, 0, 0],\n",
       "          [1, 0, 0],\n",
       "          [0, 0, 0],\n",
       "          [0, 0, 0],\n",
       "          [0, 0, 0],\n",
       "          [0, 0, 0],\n",
       "          [0, 0, 0],\n",
       "          [0, 0, 0],\n",
       "          [0, 0, 0],\n",
       "          [0, 0, 0],\n",
       "          [1, 0, 0],\n",
       "          [1, 0, 0],\n",
       "          [0, 0, 0],\n",
       "          [0, 0, 0],\n",
       "          [0, 0, 0],\n",
       "          [0, 0, 0],\n",
       "          [0, 0, 0],\n",
       "          [0, 0, 0]]),\n",
       "   'node_feat': array([[5, 0, 4, 5, 3, 0, 2, 0, 0],\n",
       "          [5, 0, 4, 5, 2, 0, 2, 0, 0],\n",
       "          [5, 0, 3, 5, 0, 0, 1, 0, 0],\n",
       "          [7, 0, 1, 5, 0, 0, 1, 0, 0],\n",
       "          [7, 0, 2, 5, 0, 0, 1, 0, 0],\n",
       "          [5, 0, 4, 5, 2, 0, 2, 0, 0],\n",
       "          [5, 0, 4, 5, 0, 0, 2, 0, 0],\n",
       "          [5, 0, 4, 5, 3, 0, 2, 0, 0],\n",
       "          [5, 0, 4, 5, 3, 0, 2, 0, 0],\n",
       "          [5, 0, 4, 5, 2, 0, 2, 0, 0],\n",
       "          [5, 0, 3, 5, 0, 0, 1, 0, 1],\n",
       "          [5, 0, 3, 5, 0, 0, 1, 0, 1],\n",
       "          [5, 0, 4, 5, 2, 0, 2, 0, 1],\n",
       "          [5, 0, 4, 5, 2, 0, 2, 0, 1],\n",
       "          [5, 0, 4, 5, 1, 0, 2, 0, 1],\n",
       "          [5, 0, 3, 5, 0, 0, 1, 0, 0],\n",
       "          [5, 0, 3, 5, 2, 0, 1, 0, 0],\n",
       "          [5, 0, 4, 5, 3, 0, 2, 0, 0],\n",
       "          [5, 0, 4, 5, 3, 0, 2, 0, 0]]),\n",
       "   'num_nodes': 19}))"
      ]
     },
     "execution_count": 15,
     "metadata": {},
     "output_type": "execute_result"
    }
   ],
   "source": [
    "from ogb.utils import smiles2graph\n",
    "\n",
    "errored = 0\n",
    "graph_data = dict()\n",
    "for smiles in tqdm.tqdm(all_smiles):\n",
    "    try:\n",
    "        graph_data[smiles] = smiles2graph(smiles)\n",
    "    except AttributeError as e:\n",
    "        errored += 1\n",
    "errored, len(graph_data), next(iter(graph_data.items()))"
   ]
  },
  {
   "cell_type": "code",
   "execution_count": 16,
   "id": "7e091e5a-2d74-461e-bb1b-3f3d586e4c53",
   "metadata": {
    "tags": []
   },
   "outputs": [
    {
     "name": "stderr",
     "output_type": "stream",
     "text": [
      "100%|████████████████████████████████| 166814/166814 [00:06<00:00, 25218.91it/s]\n"
     ]
    },
    {
     "data": {
      "text/plain": [
       "(166733,\n",
       " (('CCCCC/C=C/C(=O)OC', 'CCCCCOC(=O)CCC'),\n",
       "  Data(x=[22, 9], edge_index=[2, 40], edge_attr=[40, 3])))"
      ]
     },
     "execution_count": 16,
     "metadata": {},
     "output_type": "execute_result"
    }
   ],
   "source": [
    "import numpy as np\n",
    "from torch_geometric.data import InMemoryDataset, download_url, Data\n",
    "import torch\n",
    "\n",
    "def combine_graphs(g1,g2):\n",
    "    combined_edge_index = np.concatenate([g1[\"edge_index\"],g1[\"num_nodes\"]+g2[\"edge_index\"]],axis=1)\n",
    "    combined_edge_feat = np.concatenate([g1[\"edge_feat\"],g2[\"edge_feat\"]],axis=0)\n",
    "    combined_node_feat = np.concatenate([g1[\"node_feat\"],g2[\"node_feat\"]],axis=0)\n",
    "    combined_num_nodes = g1[\"num_nodes\"] + g2[\"num_nodes\"]\n",
    "    combined = {\"edge_index\":combined_edge_index,\"edge_feat\":combined_edge_feat,\"node_feat\":combined_node_feat,\"num_nodes\":combined_num_nodes}\n",
    "    return combined\n",
    "\n",
    "def to_torch(graph):\n",
    "    tensor_keys = [\"edge_index\", 'edge_feat', 'node_feat']\n",
    "    for key in tensor_keys:\n",
    "        graph[key] = torch.tensor(graph[key])\n",
    "    return graph\n",
    "\n",
    "pair_to_data = dict()\n",
    "for d in tqdm.tqdm(dataset):\n",
    "    if not d[\"mol1\"] in graph_data or not d[\"mol2\"] in graph_data:\n",
    "        continue\n",
    "    pair = (d[\"mol1\"],d[\"mol2\"])\n",
    "    combined = combine_graphs(graph_data[d[\"mol1\"]],graph_data[d[\"mol1\"]])\n",
    "    graph = to_torch(combined)\n",
    "    pair_to_data[pair] = Data(x=graph[\"node_feat\"].float(),edge_attr=graph[\"edge_feat\"],edge_index=graph[\"edge_index\"])\n",
    "len(pair_to_data), next(iter(pair_to_data.items()))"
   ]
  },
  {
   "cell_type": "code",
   "execution_count": 17,
   "id": "d6535d22-9952-43a9-921f-e4d22a716b2b",
   "metadata": {
    "tags": []
   },
   "outputs": [
    {
     "data": {
      "text/plain": [
       "(166707, 0.9993585670267483)"
      ]
     },
     "execution_count": 17,
     "metadata": {},
     "output_type": "execute_result"
    }
   ],
   "source": [
    "valid_pairs = set(pair_to_data.keys()).intersection(set(positives.keys())).intersection(set(negatives.keys()))\n",
    "len(valid_pairs), len(valid_pairs)/len(dataset)"
   ]
  },
  {
   "cell_type": "code",
   "execution_count": 24,
   "id": "ca75c3fa-24b8-40f4-8f91-ecd534e1cc8c",
   "metadata": {
    "tags": []
   },
   "outputs": [
    {
     "name": "stderr",
     "output_type": "stream",
     "text": [
      "100%|██████████████████████████████████| 166733/166733 [03:00<00:00, 923.52it/s]\n"
     ]
    }
   ],
   "source": [
    "import json\n",
    "import h5py\n",
    "import base64\n",
    "\n",
    "def encode_smiles(smiles):\n",
    "    return base64.urlsafe_b64encode(smiles.encode()).decode()\n",
    "\n",
    "with h5py.File('dataset.h5', 'w') as f:\n",
    "    for (pair, data) in tqdm.tqdm(pair_to_data.items()):\n",
    "        group = f.create_group(encode_smiles(json.dumps(pair)))\n",
    "        group.create_dataset(\"pair\",data=pairs[i])\n",
    "        group.create_dataset(\"positives\",data=positives[pair])\n",
    "        group.create_dataset(\"negatives\",data=negatives[pair])\n",
    "        graph_group = group.create_group(\"graph\")\n",
    "        for k,v in data.items():\n",
    "            graph_group.create_dataset(k,data=v.numpy())"
   ]
  },
  {
   "cell_type": "code",
   "execution_count": 22,
   "id": "5b01826f-dcc6-421e-ae73-c9252acba8dd",
   "metadata": {
    "tags": []
   },
   "outputs": [
    {
     "name": "stdout",
     "output_type": "stream",
     "text": [
      "('CCCC(=O)OC/C=C(/C)\\\\CCC=C(C)C', 'CCCCCCCCCCCCCC(=O)OC') [\"CCCC(=O)OC/C=C(/C)\\\\CCC=C(C)C\", \"CCCCCCCCCCCCCC(=O)OC\"]\n",
      "('CC(=O)CC(=O)OC', 'C[C@@H]1CC[C@H]([C@H]2[C@]13[C@@H]2C(=C)CC3)C(C)C') [\"CC(=O)CC(=O)OC\", \"C[C@@H]1CC[C@H]([C@H]2[C@]13[C@@H]2C(=C)CC3)C(C)C\"]\n",
      "('C1=CC=C(C=C1)OC2=CC=CC=C2', 'CC(=CC/C=C(/C)\\\\C=C)C') [\"C1=CC=C(C=C1)OC2=CC=CC=C2\", \"CC(=CC/C=C(/C)\\\\C=C)C\"]\n",
      "('CCC(=O)OCC=CC1=CC=CC=C1', 'CCCCCCCOC(=O)CCC') [\"CCC(=O)OCC=CC1=CC=CC=C1\", \"CCCCCCCOC(=O)CCC\"]\n",
      "('CC(=CCCC(=CCCC(C)(C=C)O)C)C', 'CCCCCCCCCCCCCC=O') [\"CC(=CCCC(=CCCC(C)(C=C)O)C)C\", \"CCCCCCCCCCCCCC=O\"]\n",
      "('C/C=C/C(=O)C1=C(CCCC1(C)C)C', 'CCCCC/C=C/C(=O)OC') [\"C/C=C/C(=O)C1=C(CCCC1(C)C)C\", \"CCCCC/C=C/C(=O)OC\"]\n",
      "('CC1CC2=C(CC1(C)C(=O)C)C(CCC2)(C)C', 'CCCCCCOC(=O)C(=CC)C') [\"CC1CC2=C(CC1(C)C(=O)C)C(CCC2)(C)C\", \"CCCCCCOC(=O)C(=CC)C\"]\n",
      "('C/C=C/C(=O)OC/C=C(\\\\C)/CCC=C(C)C', 'C1=CC=C(C=C1)CC(=O)CC2=CC=CC=C2') [\"C/C=C/C(=O)OC/C=C(\\\\C)/CCC=C(C)C\", \"C1=CC=C(C=C1)CC(=O)CC2=CC=CC=C2\"]\n",
      "('CC(C)CC(=O)OC(C=C)C(C)CC=C(C)C', 'CCCCCCC(=O)OCC1=CC=CC=C1') [\"CC(C)CC(=O)OC(C=C)C(C)CC=C(C)C\", \"CCCCCCC(=O)OCC1=CC=CC=C1\"]\n",
      "('CCC1=CC=C(C=C1)C=O', 'COC(=O)C=CC1=CC=CC=C1') [\"CCC1=CC=C(C=C1)C=O\", \"COC(=O)C=CC1=CC=CC=C1\"]\n",
      "('CC=O', 'CCCCC/C=C/C(=O)OC') [\"CC=O\", \"CCCCC/C=C/C(=O)OC\"]\n",
      "('CCC(=O)OC1CCCCC1', 'CCCCCC1OCC(O1)C') [\"CCC(=O)OC1CCCCC1\", \"CCCCCC1OCC(O1)C\"]\n",
      "('C1=CC=C(C=C1)CCCC2=CC=CC=N2', 'CC1=CSC=N1') [\"C1=CC=C(C=C1)CCCC2=CC=CC=N2\", \"CC1=CSC=N1\"]\n",
      "('CC/C=C/CCOC(=O)C', 'CCCCCOC(=O)CC(C)C') [\"CC/C=C/CCOC(=O)C\", \"CCCCCOC(=O)CC(C)C\"]\n",
      "('CCCCCCCCOC(=O)CCC', 'O=C1CCCC(CCC=CC)O1') [\"CCCCCCCCOC(=O)CCC\", \"O=C1CCCC(CCC=CC)O1\"]\n",
      "('CCCCCC=CC(=O)OC', 'CCCCCCCC(=O)OC') [\"CCCCCC=CC(=O)OC\", \"CCCCCCCC(=O)OC\"]\n",
      "('CCCCCC1(CCC(C1=O)(C)C)C', 'CCCCCCCC(=O)OC(C)(CCC=C(C)C)C=C') [\"CCCCCC1(CCC(C1=O)(C)C)C\", \"CCCCCCCC(=O)OC(C)(CCC=C(C)C)C=C\"]\n",
      "('CC1=C(SC(=N1)C)C', 'CCCOC=O') [\"CC1=C(SC(=N1)C)C\", \"CCCOC=O\"]\n",
      "('CC/C(=C/CCC(C)(C=C)OC(=O)C)/C', 'CCC(=O)OC(C)(CCC=C(C)C)C=C') [\"CC/C(=C/CCC(C)(C=C)OC(=O)C)/C\", \"CCC(=O)OC(C)(CCC=C(C)C)C=C\"]\n",
      "('CC(C)C(=O)C(C)(C)CC=C(C)C', 'CC1=CC2C(C2(C)C)CC1C(=O)C') [\"CC(C)C(=O)C(C)(C)CC=C(C)C\", \"CC1=CC2C(C2(C)C)CC1C(=O)C\"]\n",
      "('CC(=CCC/C(=C/CC/C(=C/CCC(C)(C=C)O)/C)/C)C', 'CC(CCCC(=O)C)CCC=C(C)C') [\"CC(=CCC/C(=C/CC/C(=C/CCC(C)(C=C)O)/C)/C)C\", \"CC(CCCC(=O)C)CCC=C(C)C\"]\n",
      "('CCCCCC=CC(=O)OCC', 'CCCCCCOC(=O)C(C)O') [\"CCCCCC=CC(=O)OCC\", \"CCCCCCOC(=O)C(C)O\"]\n",
      "('C1CC2CC1C3C2C(CC3)C=O', 'CC\\\\C=C/CCOC(=O)C\\\\C=C/CC') [\"C1CC2CC1C3C2C(CC3)C=O\", \"CC\\\\C=C/CCOC(=O)C\\\\C=C/CC\"]\n",
      "('CC1CCCC2(C1(CCCC2)O)C', 'C[C@@H]1CC[C@H]2[C@@H]1C3[C@H](C3(C)C)CC[C@]2(C)O') [\"CC1CCCC2(C1(CCCC2)O)C\", \"C[C@@H]1CC[C@H]2[C@@H]1C3[C@H](C3(C)C)CC[C@]2(C)O\"]\n",
      "('CC1=CC(=CC=C1)CC(C)(C)CO', 'CCOC(=O)COC1=CC=CC=C1') [\"CC1=CC(=CC=C1)CC(C)(C)CO\", \"CCOC(=O)COC1=CC=CC=C1\"]\n",
      "('CC1(CCC(O1)C(C)(C)O)C=C', 'CCCC1CC(=CC(=O)C1)C') [\"CC1(CCC(O1)C(C)(C)O)C=C\", \"CCCC1CC(=CC(=O)C1)C\"]\n",
      "('C1=CC=C(C=C1)OCCO', 'CCC(C)(C=CC=C(C)C)O') [\"C1=CC=C(C=C1)OCCO\", \"CCC(C)(C=CC=C(C)C)O\"]\n",
      "('CC1(C2CCC1C(=C)C2)C', 'CCCCOC(=O)C(C)C') [\"CC1(C2CCC1C(=C)C2)C\", \"CCCCOC(=O)C(C)C\"]\n",
      "('CCCCC/C=C\\\\CC/C=C/C=O', 'CCCCCCCCCO') [\"CCCCC/C=C\\\\CC/C=C/C=O\", \"CCCCCCCCCO\"]\n",
      "('CCCCCC(=O)OCCC', 'CCCCCCOC(=O)CC') [\"CCCCCC(=O)OCCC\", \"CCCCCCOC(=O)CC\"]\n",
      "('CCC1CCC(=O)O1', 'CCCCCCCOC(=O)CCCCCC') [\"CCC1CCC(=O)O1\", \"CCCCCCCOC(=O)CCCCCC\"]\n",
      "('CCCCCCCC(=O)OCC1=CC=CC=C1', 'CCCCCCCC=CC(=O)OCCCC') [\"CCCCCCCC(=O)OCC1=CC=CC=C1\", \"CCCCCCCC=CC(=O)OCCCC\"]\n",
      "('CC/C(=C/CCC(C)(C=C)OC(=O)C)/C', 'CCCCCC(=CC1=CC=CC=C1)C=O') [\"CC/C(=C/CCC(C)(C=C)OC(=O)C)/C\", \"CCCCCC(=CC1=CC=CC=C1)C=O\"]\n",
      "('CC(C)CCOC(=O)C=CC1=CC=CC=C1', 'CC1CCC(C(=O)C1)C(C)(C)S') [\"CC(C)CCOC(=O)C=CC1=CC=CC=C1\", \"CC1CCC(C(=O)C1)C(C)(C)S\"]\n",
      "('CC(C)CC1=NC2=CC=CC=C2C=C1', 'CCOC(=O)C=CC1=CC=CC=C1') [\"CC(C)CC1=NC2=CC=CC=C2C=C1\", \"CCOC(=O)C=CC1=CC=CC=C1\"]\n",
      "('CC1(CCC=C2C1CCC(C2)(C)O)C', 'CC1CCCC2(C1(CCCC2)O)C') [\"CC1(CCC=C2C1CCC(C2)(C)O)C\", \"CC1CCCC2(C1(CCCC2)O)C\"]\n",
      "('CCCOC(=O)C=CC=CCCCCC', 'O=C(OCCC=CCC)C') [\"CCCOC(=O)C=CC=CCCCCC\", \"O=C(OCCC=CCC)C\"]\n",
      "('CCCCCCCCCOC(=O)CC(C)C', 'CCCCCCOC(=O)CC(C)C') [\"CCCCCCCCCOC(=O)CC(C)C\", \"CCCCCCOC(=O)CC(C)C\"]\n",
      "('CCCCCCC#CC(=O)OC', 'CCCCCCCCC(=O)OC/C=C(\\\\C)/CCC=C(C)C') [\"CCCCCCC#CC(=O)OC\", \"CCCCCCCCC(=O)OC/C=C(\\\\C)/CCC=C(C)C\"]\n",
      "('CC(=CCOC(=O)C)C', 'CCCCCCCCC(C)C#N') [\"CC(=CCOC(=O)C)C\", \"CCCCCCCCC(C)C#N\"]\n",
      "('CCCCCOC(=O)CCC', 'CCOCC=C(C)C') [\"CCCCCOC(=O)CCC\", \"CCOCC=C(C)C\"]\n",
      "('CC(CC(C)(C)C)C(C)C=O', 'C[C@@H](CCCC(=C)C)CCO') [\"CC(CC(C)(C)C)C(C)C=O\", \"C[C@@H](CCCC(=C)C)CCO\"]\n",
      "('CC(=CCCC(=CCCC(=O)C)C)C', 'CC1COC(O1)CC(C)CCCC(C)(C)O') [\"CC(=CCCC(=CCCC(=O)C)C)C\", \"CC1COC(O1)CC(C)CCCC(C)(C)O\"]\n",
      "('C1=COC(=C1)CO', 'Oc1ccccc1CCC(=O)OCC') [\"C1=COC(=C1)CO\", \"Oc1ccccc1CCC(=O)OCC\"]\n",
      "('CCC(C)C1CCCCC1(C#C)OC(=O)C', 'CCCCCCCCCCCC=O') [\"CCC(C)C1CCCCC1(C#C)OC(=O)C\", \"CCCCCCCCCCCC=O\"]\n",
      "('CC(=O)OCCC1=CC=CC=C1', 'CCCCCCCC(C)O') [\"CC(=O)OCCC1=CC=CC=C1\", \"CCCCCCCC(C)O\"]\n",
      "('CCCCCCCCCC(C)O', 'CCCCCCCCCCOC(=O)CCC') [\"CCCCCCCCCC(C)O\", \"CCCCCCCCCCOC(=O)CCC\"]\n",
      "('CC(CCOC=O)CC(C)(C)C', 'CC1CCCC2(C1(CCCC2)O)C') [\"CC(CCOC=O)CC(C)(C)C\", \"CC1CCCC2(C1(CCCC2)O)C\"]\n",
      "('CC(C)C(=O)OCC1=CC=CC=C1', 'CCCCC1CC(C(=O)O1)C(=O)C') [\"CC(C)C(=O)OCC1=CC=CC=C1\", \"CCCCC1CC(C(=O)O1)C(=O)C\"]\n",
      "('C/C(=C\\\\C/C=C(\\\\C)/C=C)/CC/C=C(\\\\C)/C=O', 'CCC(C)(C=CC=C(C)C)O') [\"C/C(=C\\\\C/C=C(\\\\C)/C=C)/CC/C=C(\\\\C)/C=O\", \"CCC(C)(C=CC=C(C)C)O\"]\n",
      "('CC(CCC=C(C)C)CCOC(=O)C1=CC=CC=C1N', 'CCC(=O)OCC') [\"CC(CCC=C(C)C)CCOC(=O)C1=CC=CC=C1N\", \"CCC(=O)OCC\"]\n",
      "('CCCCCCCCCC(OC)OC', 'C[C@@H]1C[C@H]2CC(CO[C@@H]2C[C@@H]1C)(C)C') [\"CCCCCCCCCC(OC)OC\", \"C[C@@H]1C[C@H]2CC(CO[C@@H]2C[C@@H]1C)(C)C\"]\n",
      "('CCCC=CC(=O)OC', 'CCCCCCOC(=O)CCCCC') [\"CCCC=CC(=O)OC\", \"CCCCCCOC(=O)CCCCC\"]\n",
      "('CCCCC(=O)O', 'CCCCCCCCC(=O)C(=O)C') [\"CCCCC(=O)O\", \"CCCCCCCCC(=O)C(=O)C\"]\n",
      "('CC(=C)C1CCC(O1)(C)C=C', 'CC(=O)OCCC1=CC=CC=C1') [\"CC(=C)C1CCC(O1)(C)C=C\", \"CC(=O)OCCC1=CC=CC=C1\"]\n",
      "('C/C/1=C/CC2C(CC2(C)C)C(=C)CCC1OC(=O)C', 'C[C@@H]1[C@H]2C[C@]2(CC1=O)C(C)C') [\"C/C/1=C/CC2C(CC2(C)C)C(=C)CCC1OC(=O)C\", \"C[C@@H]1[C@H]2C[C@]2(CC1=O)C(C)C\"]\n",
      "('CC(=O)OCCC1=CC=CC=C1', 'CCCC=CC(=O)OC') [\"CC(=O)OCCC1=CC=CC=C1\", \"CCCC=CC(=O)OC\"]\n",
      "('CC(=O)OCC/C=C\\\\CCC', 'CCCC(CC(=O)OCC)OC(=O)C') [\"CC(=O)OCC/C=C\\\\CCC\", \"CCCC(CC(=O)OCC)OC(=O)C\"]\n",
      "('CC1CC(=CC(C1CO)C)C', 'CCC1CC2CC1CC2OC') [\"CC1CC(=CC(C1CO)C)C\", \"CCC1CC2CC1CC2OC\"]\n",
      "('C=CCOC(=O)CCC1CCCCC1', 'COC1CC2CC1C3C2CC(C3)C=O') [\"C=CCOC(=O)CCC1CCCCC1\", \"COC1CC2CC1C3C2CC(C3)C=O\"]\n",
      "('CCCC(=O)OC(C)(C)CC1=CC=CC=C1', 'CCCCC(=O)OCCC(C)CCC=C(C)C') [\"CCCC(=O)OC(C)(C)CC1=CC=CC=C1\", \"CCCCC(=O)OCCC(C)CCC=C(C)C\"]\n",
      "('CC(CCC1=CC=CC=C1)CC=O', 'CCC=CC=O') [\"CC(CCC1=CC=CC=C1)CC=O\", \"CCC=CC=O\"]\n",
      "('C1=COC(=C1)CO', 'CCOC(=O)\\\\C=C\\\\C') [\"C1=COC(=C1)CO\", \"CCOC(=O)\\\\C=C\\\\C\"]\n",
      "('COC(=O)/C=C/C1=CC=CC=C1', 'COC(=O)C1=CC=CC=C1N=CCC2=CC=CC=C2') [\"COC(=O)/C=C/C1=CC=CC=C1\", \"COC(=O)C1=CC=CC=C1N=CCC2=CC=CC=C2\"]\n",
      "('C1CC(=O)OC1', 'CC1=CCC(CC1)C(C)CC2CCCC2=O') [\"C1CC(=O)OC1\", \"CC1=CCC(CC1)C(C)CC2CCCC2=O\"]\n",
      "('CCCCOC(=O)C1=CC=CC=C1N', 'O=C(OC)CC1C(C(=O)CC1)CCCCC') [\"CCCCOC(=O)C1=CC=CC=C1N\", \"O=C(OC)CC1C(C(=O)CC1)CCCCC\"]\n",
      "('C1CCC(CC1)OC(=O)C2=CC=CC=C2', 'CC(CCC=C(C)C)CCOC(C)OC') [\"C1CCC(CC1)OC(=O)C2=CC=CC=C2\", \"CC(CCC=C(C)C)CCOC(C)OC\"]\n",
      "('CCCC(=O)OCC(COC(=O)CCC)OC(=O)CCC', 'CCCCC=CC=CCO') [\"CCCC(=O)OCC(COC(=O)CCC)OC(=O)CCC\", \"CCCCC=CC=CCO\"]\n",
      "('CC1CCC(C(=O)C1)C(C)(C)S', 'C\\\\C=C\\\\C=C\\\\C(=O)OCC=C') [\"CC1CCC(C(=O)C1)C(C)(C)S\", \"C\\\\C=C\\\\C=C\\\\C(=O)OCC=C\"]\n",
      "('CCCCOC(=O)CC', 'CCOC(=O)CC(=O)C') [\"CCCCOC(=O)CC\", \"CCOC(=O)CC(=O)C\"]\n",
      "('CC(=O)OC(C)(C)CC1=CC=CC=C1', 'CC(C)C1CCC(CC1)C(C)O') [\"CC(=O)OC(C)(C)CC1=CC=CC=C1\", \"CC(C)C1CCC(CC1)C(C)O\"]\n",
      "('C1=COC(=C1)CS', 'CSC1=CC=CC=C1O') [\"C1=COC(=C1)CS\", \"CSC1=CC=CC=C1O\"]\n",
      "('CC(C)CCOCC(=O)OCC=C', 'CCC(=O)\\\\C=C\\\\C1C(=CCCC1(C)C)C') [\"CC(C)CCOCC(=O)OCC=C\", \"CCC(=O)\\\\C=C\\\\C1C(=CCCC1(C)C)C\"]\n",
      "('CCCCCCOC(=O)C(C)(C)C', 'CCOC(=O)CCC(=O)C') [\"CCCCCCOC(=O)C(C)(C)C\", \"CCOC(=O)CCC(=O)C\"]\n",
      "('CCC(=O)OCC(=O)OC(C)C1CCCC(C1)(C)C', 'CCOC(=O)C1C(O1)C2=CC=CC=C2') [\"CCC(=O)OCC(=O)OC(C)C1CCCC(C1)(C)C\", \"CCOC(=O)C1C(O1)C2=CC=CC=C2\"]\n",
      "('CCCC1CC(CCO1)(C)OC(=O)C', 'CCCCCCCOC(=O)C1=CC=CC=C1') [\"CCCC1CC(CCO1)(C)OC(=O)C\", \"CCCCCCCOC(=O)C1=CC=CC=C1\"]\n",
      "('CCC1=NC=CN=C1C', 'CCOC(=O)CCSCC1=CC=CO1') [\"CCC1=NC=CN=C1C\", \"CCOC(=O)CCSCC1=CC=CO1\"]\n",
      "('CC(CCCC(C)(C)OC(=O)C)C=C', 'CC1=CCC(CC1)C(C)(C)OC(=O)C(C)C') [\"CC(CCCC(C)(C)OC(=O)C)C=C\", \"CC1=CCC(CC1)C(C)(C)OC(=O)C(C)C\"]\n",
      "('CC(CCCC(C)(C)O)CC(OC)OC', 'CCCCCCOC(=O)C1=CC=CO1') [\"CC(CCCC(C)(C)O)CC(OC)OC\", \"CCCCCCOC(=O)C1=CC=CO1\"]\n",
      "('CC1CCOC(C1)C2=CC=CC=C2', 'CCC(C)SC(=O)C=C(C)C') [\"CC1CCOC(C1)C2=CC=CC=C2\", \"CCC(C)SC(=O)C=C(C)C\"]\n",
      "('CC(=CCC/C(=C/COC(=O)C1=CC=CC=C1N)/C)C', 'CC1=CC2C(C2(C)C)CC1C(=O)C') [\"CC(=CCC/C(=C/COC(=O)C1=CC=CC=C1N)/C)C\", \"CC1=CC2C(C2(C)C)CC1C(=O)C\"]\n",
      "('CCCCC/C=C/CC(=O)OC', 'CCCCCCC(=O)OCCC') [\"CCCCC/C=C/CC(=O)OC\", \"CCCCCCC(=O)OCCC\"]\n",
      "('CC1=CC=C(C=C1)C2=CC=CC=C2', 'COC1=CC=CC=C1OC(=O)CC2=CC=CC=C2') [\"CC1=CC=C(C=C1)C2=CC=CC=C2\", \"COC1=CC=CC=C1OC(=O)CC2=CC=CC=C2\"]\n",
      "('CC/C=C/CC=O', 'CCCCCOC(=O)C(C)CC') [\"CC/C=C/CC=O\", \"CCCCCOC(=O)C(C)CC\"]\n",
      "('CCOC(=O)C1CC2CC1C=C2', 'CC\\\\C=C\\\\CC(=O)OCC') [\"CCOC(=O)C1CC2CC1C=C2\", \"CC\\\\C=C\\\\CC(=O)OCC\"]\n",
      "('CC(C)C1=CC=C(C=C1)CC(C)C=O', 'CC1C2CC(C1(C)C)CC2C3CCC(CC3)O') [\"CC(C)C1=CC=C(C=C1)CC(C)C=O\", \"CC1C2CC(C1(C)C)CC2C3CCC(CC3)O\"]\n",
      "('CC(=O)C1=CC2=CC=CC=C2C=C1', 'CCCCCOC(=O)C1=CC=CC=C1O') [\"CC(=O)C1=CC2=CC=CC=C2C=C1\", \"CCCCCOC(=O)C1=CC=CC=C1O\"]\n",
      "('CCCCCCC(=O)OCCCC', 'C\\\\C=C\\\\C(=O)OC(C)(C)CC1=CC=CC=C1') [\"CCCCCCC(=O)OCCCC\", \"C\\\\C=C\\\\C(=O)OC(C)(C)CC1=CC=CC=C1\"]\n",
      "('CC(C)(C(C)(C)O)O', 'CC1=CC(=C(O1)C)C(=O)C') [\"CC(C)(C(C)(C)O)O\", \"CC1=CC(=C(O1)C)C(=O)C\"]\n",
      "('CC(C(=O)C)O', 'CC(C)C(=O)OCC1=CC=CC=C1') [\"CC(C(=O)C)O\", \"CC(C)C(=O)OCC1=CC=CC=C1\"]\n",
      "('CCCCCC1CCC(=O)O1', 'CCCCCCCCC(=O)OCC=C') [\"CCCCCC1CCC(=O)O1\", \"CCCCCCCCC(=O)OCC=C\"]\n",
      "('CC(CCC=C(C)C)CC=O', 'OC(C1OC(\\\\C=C)(CC1)C)(C)C') [\"CC(CCC=C(C)C)CC=O\", \"OC(C1OC(\\\\C=C)(CC1)C)(C)C\"]\n",
      "('CC1(CC2CC(C1C2)C(=O)OC)C', 'CCCC(CC(=O)OC)OC(=O)C') [\"CC1(CC2CC(C1C2)C(=O)OC)C\", \"CCCC(CC(=O)OC)OC(=O)C\"]\n",
      "('CCCCCCC(=O)CCOC(=O)C', 'CCCCOC(=O)C1=CC=CC=C1N') [\"CCCCCCC(=O)CCOC(=O)C\", \"CCCCOC(=O)C1=CC=CC=C1N\"]\n",
      "('C1=CC=C(C=C1)/C=C/C=O', 'COC1=C(C=CC(=C1)C=O)O') [\"C1=CC=C(C=C1)/C=C/C=O\", \"COC1=C(C=CC(=C1)C=O)O\"]\n",
      "('CC1(C2CCC1C(=C)C2)C', 'CC1(CCC=C(C1)C(=O)CCC=C)C') [\"CC1(C2CCC1C(=C)C2)C\", \"CC1(CCC=C(C1)C(=O)CCC=C)C\"]\n",
      "('CC(=O)CCC1=CC2=C(C=C1)OCO2', 'CCCCOC(=O)C1=CC=CC=C1') [\"CC(=O)CCC1=CC2=C(C=C1)OCO2\", \"CCCCOC(=O)C1=CC=CC=C1\"]\n",
      "('C1=CC=C(C=C1)CCOC(=O)C2=CC=CC=C2', 'CC1(CCCC23C1CC(CC2)(C(=O)O3)C)C') [\"C1=CC=C(C=C1)CCOC(=O)C2=CC=CC=C2\", \"CC1(CCCC23C1CC(CC2)(C(=O)O3)C)C\"]\n",
      "('CC(C)C(=O)OC/C=C(\\\\C)/CCC=C(C)C', 'CCCCCCCOC(=O)CC') [\"CC(C)C(=O)OC/C=C(\\\\C)/CCC=C(C)C\", \"CCCCCCCOC(=O)CC\"]\n",
      "('CC1=NC=CN=C1OC', 'CCCCC=O') [\"CC1=NC=CN=C1OC\", \"CCCCC=O\"]\n"
     ]
    }
   ],
   "source": [
    "for p in random.sample(sorted(pair_to_data.keys()),100):\n",
    "    print(p,json.dumps(p))"
   ]
  }
 ],
 "metadata": {
  "kernelspec": {
   "display_name": "Python 3 (ipykernel)",
   "language": "python",
   "name": "python3"
  },
  "language_info": {
   "codemirror_mode": {
    "name": "ipython",
    "version": 3
   },
   "file_extension": ".py",
   "mimetype": "text/x-python",
   "name": "python",
   "nbconvert_exporter": "python",
   "pygments_lexer": "ipython3",
   "version": "3.11.5"
  }
 },
 "nbformat": 4,
 "nbformat_minor": 5
}
