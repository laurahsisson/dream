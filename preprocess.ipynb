{
 "cells": [
  {
   "cell_type": "code",
   "execution_count": null,
   "id": "24ccb427-ad5b-4673-a458-c2dfe0b12732",
   "metadata": {
    "tags": []
   },
   "outputs": [],
   "source": [
    "MAX_COUNT = 100"
   ]
  },
  {
   "cell_type": "code",
   "execution_count": 2,
   "id": "e1ef7dd2-573a-4648-8f24-27d9a90f8cfc",
   "metadata": {
    "tags": []
   },
   "outputs": [],
   "source": [
    "import os\n",
    "os.chdir(\"Data\")\n",
    "!ls"
   ]
  },
  {
   "cell_type": "code",
   "execution_count": 3,
   "id": "92faae55-af35-4eb6-9312-798cee44f8ef",
   "metadata": {
    "tags": []
   },
   "outputs": [
    {
     "data": {
      "text/plain": [
       "(166814,\n",
       " {'mol1': 'CCCCC/C=C/C(=O)OC',\n",
       "  'mol1_notes': ['violet',\n",
       "   'sweet',\n",
       "   'oily',\n",
       "   'melon',\n",
       "   'pear',\n",
       "   'hairy',\n",
       "   'costus',\n",
       "   'fruity',\n",
       "   'violet leaf',\n",
       "   'waxy',\n",
       "   'fresh',\n",
       "   'green'],\n",
       "  'mol2': 'CCCCCOC(=O)CCC',\n",
       "  'mol2_notes': ['cherry',\n",
       "   'sweet',\n",
       "   'pineapple',\n",
       "   'fruity',\n",
       "   'banana',\n",
       "   'tropical'],\n",
       "  'blend_notes': ['animal', 'fruity', 'waxy']})"
      ]
     },
     "execution_count": 3,
     "metadata": {},
     "output_type": "execute_result"
    }
   ],
   "source": [
    "import json\n",
    "with open(\"odor_pair_full.json\") as f:\n",
    "    dataset = json.load(f)\n",
    "\n",
    "len(dataset),dataset[0]"
   ]
  },
  {
   "cell_type": "code",
   "execution_count": 4,
   "id": "6b14e79e-8ef3-4bff-91e0-bd3864b642f2",
   "metadata": {
    "tags": []
   },
   "outputs": [
    {
     "name": "stderr",
     "output_type": "stream",
     "text": [
      "100%|████████████████████████████| 166814/166814 [00:00<00:00, 1778376.96it/s]\n"
     ]
    },
    {
     "data": {
      "text/plain": [
       "(2921,\n",
       " (frozenset({'animal', 'fruity', 'waxy'}),\n",
       "  [('CCCCC/C=C/C(=O)OC', 'CCCCCOC(=O)CCC'),\n",
       "   ('CCCCC/C=C/C(=O)OC', 'CCCCCCCCOC(=O)C(C)CC'),\n",
       "   ('CCCCC/C=C/C(=O)OC', 'CCCCCCCCOC(=O)CCC'),\n",
       "   ('CCCCC/C=C/C(=O)OC', 'CCCCCCCCCCCCCC(=O)OCC')]))"
      ]
     },
     "execution_count": 4,
     "metadata": {},
     "output_type": "execute_result"
    }
   ],
   "source": [
    "import collections\n",
    "import tqdm\n",
    "\n",
    "notes_to_pairs = collections.defaultdict(list)\n",
    "for d in tqdm.tqdm(dataset):\n",
    "    notes_to_pairs[frozenset(d[\"blend_notes\"])].append((d[\"mol1\"],d[\"mol2\"]))\n",
    "\n",
    "len(notes_to_pairs), next(iter(notes_to_pairs.items()))"
   ]
  },
  {
   "cell_type": "code",
   "execution_count": 5,
   "id": "d8cbed91-bd9a-4a8c-ae60-d9e948e16a10",
   "metadata": {
    "tags": []
   },
   "outputs": [
    {
     "name": "stderr",
     "output_type": "stream",
     "text": [
      "100%|████████████████████████████████████| 2921/2921 [00:03<00:00, 795.89it/s]\n"
     ]
    },
    {
     "data": {
      "text/plain": [
       "(166814,\n",
       " (('CCCCC/C=C/C(=O)OC', 'CCCCCOC(=O)CCC'),\n",
       "  [('CCCCC/C=C/C(=O)OC', 'CCCCCCCCOC(=O)C(C)CC'),\n",
       "   ('CCCCC/C=C/C(=O)OC', 'CCCCCCCCOC(=O)CCC'),\n",
       "   ('CCCCC/C=C/C(=O)OC', 'CCCCCCCCCCCCCC(=O)OCC')]))"
      ]
     },
     "execution_count": 5,
     "metadata": {},
     "output_type": "execute_result"
    }
   ],
   "source": [
    "import random\n",
    "\n",
    "positives = dict()\n",
    "for n, pairs in tqdm.tqdm(notes_to_pairs.items()):\n",
    "    for p1 in pairs:\n",
    "        vals = list(random.sample(pairs,MAX_COUNT)) if len(pairs) > MAX_COUNT else pairs\n",
    "        positives[p1] = [p2 for p2 in vals if p1 != p2]\n",
    "len(positives), next(iter(positives.items()))"
   ]
  },
  {
   "cell_type": "code",
   "execution_count": 6,
   "id": "5ed9c017-70c7-480d-9d64-dfde97a9c039",
   "metadata": {
    "tags": []
   },
   "outputs": [
    {
     "data": {
      "text/plain": [
       "(31827, 0.19079333868859927)"
      ]
     },
     "execution_count": 6,
     "metadata": {},
     "output_type": "execute_result"
    }
   ],
   "source": [
    "missing = len([p for p, ps in positives.items() if len(ps) < MAX_COUNT])\n",
    "missing, missing/len(dataset)"
   ]
  },
  {
   "cell_type": "code",
   "execution_count": 7,
   "id": "aa8e6da0-3f52-47ef-8cd7-0aad708e7df4",
   "metadata": {
    "tags": []
   },
   "outputs": [],
   "source": [
    "mol_sets = collections.defaultdict(list)\n",
    "for i,d in enumerate(dataset):\n",
    "    mol_sets[d[\"mol1\"]].append(i)\n",
    "    mol_sets[d[\"mol2\"]].append(i)"
   ]
  },
  {
   "cell_type": "code",
   "execution_count": 8,
   "id": "fa4e4f16-f990-479f-93c8-6bf9b05db141",
   "metadata": {
    "tags": []
   },
   "outputs": [],
   "source": [
    "pairs = []\n",
    "pair_to_notes = dict()\n",
    "for d in dataset:\n",
    "    pair = (d[\"mol1\"],d[\"mol2\"])\n",
    "    pairs.append(pair)\n",
    "    pair_to_notes[pair] = set(d[\"blend_notes\"])"
   ]
  },
  {
   "cell_type": "code",
   "execution_count": 9,
   "id": "ca624953-af2e-494a-971b-a8d4838f6343",
   "metadata": {
    "tags": []
   },
   "outputs": [],
   "source": [
    "notes_sets = dict()\n",
    "for i,d in enumerate(dataset):\n",
    "    notes_sets[i] = set(d[\"blend_notes\"])"
   ]
  },
  {
   "cell_type": "code",
   "execution_count": 10,
   "id": "0df44fb1-f4e8-482a-9d5f-73a12a118188",
   "metadata": {
    "tags": []
   },
   "outputs": [
    {
     "name": "stderr",
     "output_type": "stream",
     "text": [
      "100%|████████████████████████████████████| 2971/2971 [00:12<00:00, 238.52it/s]\n"
     ]
    },
    {
     "data": {
      "text/plain": [
       "166788"
      ]
     },
     "execution_count": 10,
     "metadata": {},
     "output_type": "execute_result"
    }
   ],
   "source": [
    "# Hard negatives are anchor/negatives that share a molecule\n",
    "# but do not have any notes in common.\n",
    "negatives = collections.defaultdict(list)\n",
    "for (mol,idcs) in tqdm.tqdm(mol_sets.items()):\n",
    "    for i in idcs:\n",
    "        p1 = notes_sets[i]\n",
    "        for j in idcs:\n",
    "            p2 = notes_sets[j]\n",
    "            if bool(p1 & p2):\n",
    "                continue\n",
    "            negatives[pairs[i]].append(pairs[j])\n",
    "len(negatives)"
   ]
  },
  {
   "cell_type": "code",
   "execution_count": 11,
   "id": "745b2a3c-b0cd-4149-94ae-d3f49bd575c9",
   "metadata": {
    "tags": []
   },
   "outputs": [
    {
     "data": {
      "text/plain": [
       "(94025, 0.5636517318690277)"
      ]
     },
     "execution_count": 11,
     "metadata": {},
     "output_type": "execute_result"
    }
   ],
   "source": [
    "missing = len([p for p, ns in negatives.items() if len(ns) < MAX_COUNT])\n",
    "missing, missing/len(dataset)"
   ]
  },
  {
   "cell_type": "code",
   "execution_count": 12,
   "id": "b5708355-eb22-4c7d-8791-4d7902881ada",
   "metadata": {
    "tags": []
   },
   "outputs": [
    {
     "name": "stderr",
     "output_type": "stream",
     "text": [
      "100%|██████████████████████████████| 166788/166788 [00:11<00:00, 15034.80it/s]\n"
     ]
    },
    {
     "data": {
      "text/plain": [
       "(166788, 0, 0.0)"
      ]
     },
     "execution_count": 12,
     "metadata": {},
     "output_type": "execute_result"
    }
   ],
   "source": [
    "# Supplement with random negatives if we have less than the required\n",
    "# number of hard negatives.\n",
    "for p, ns in tqdm.tqdm(negatives.items()):\n",
    "    notes = pair_to_notes[pair]\n",
    "    while len(ns) < MAX_COUNT:\n",
    "        other = random.choice(dataset)\n",
    "        other_pair = (other[\"mol1\"],other[\"mol2\"])\n",
    "        other_notes = pair_to_notes[other_pair]\n",
    "        if bool(notes & other_notes):\n",
    "            continue\n",
    "        ns.append(other_pair)\n",
    "    negatives[p] = list(random.sample(pairs,MAX_COUNT))\n",
    "\n",
    "missing = len([p for p, ns in negatives.items() if len(ns) != MAX_COUNT])\n",
    "len(negatives), missing, missing/len(dataset)      "
   ]
  },
  {
   "cell_type": "code",
   "execution_count": 13,
   "id": "3f7c8231-efec-4962-a612-8e483946c682",
   "metadata": {
    "tags": []
   },
   "outputs": [
    {
     "data": {
      "text/plain": [
       "(('CCCCC/C=C/C(=O)OC', 'CCCCCOC(=O)CCC'),\n",
       " [('CCC1=C(C(=O)C(O1)C)O', 'CCCCCC(=O)C(C)C(=O)C'),\n",
       "  ('CCCCCCOC(=O)/C=C/C', 'CCCCCOC(=O)C(C)CC'),\n",
       "  ('CCCCCCCOC(=O)C(C)CC', 'CCCCCOC(=O)C(C)CC'),\n",
       "  ('CC1=CCC(CC1)C(C)(C)S', 'CCCC(CC(=O)OCC)O'),\n",
       "  ('C/C/1=C/CCC(=C)C2CC(C2CC1)(C)C',\n",
       "   'C[C@@H]1CC[C@@H]2[C@@]13C[C@H](C2(C)C)C(=C(C3)C(=O)C)C'),\n",
       "  ('CC=CC=CCOC(=O)C(C)C', 'CCC(=O)OCC(C)(C)OC(C)C1CCCC(C1)(C)C'),\n",
       "  ('CC(=CCCC(C)(C=C)OC(=O)C)C', 'CCCCC\\\\C=C/C=C/C(=O)OCC'),\n",
       "  ('CCCC(=O)OC(C)(C)CC1=CC=CC=C1', 'CCCCC(=O)OCCC(C)CCC=C(C)C'),\n",
       "  ('CC1CC(CC(C1)(C)C)O', 'CC1CCC(C(C1)OC(=O)C)C(C)C'),\n",
       "  ('C1CC(=O)OC2=CC=CC=C21', 'CC1=CC=C(C=C1)C(C)(C)O'),\n",
       "  ('CCCCCC1CCCC1=O', 'CCOC(=O)C=CC1=CC=CC=C1'),\n",
       "  ('CC1CCCC(C1CCC(C)OC(=O)C)(C)C', 'O=C(C)O[C@@H]1CC[C@@H](CC1)C(C)(C)C'),\n",
       "  ('CC1=CC=C(C=C1)OC', 'CCCCCCCCCCCC(=O)OCC'),\n",
       "  ('CC(CC1=CC2=C(C=C1)OCO2)C=O', 'CCCOC(=O)C=CC=CCCCCC'),\n",
       "  ('CC(=O)OCC1=CC2=C(C=C1)OCO2', 'CCC(=O)C1=CC=CC=C1'),\n",
       "  ('CC(C)CC(=O)OCCC1=CC=CC=C1', 'CCOC(=O)CC(C)C'),\n",
       "  ('CC(=CCCC(=CCCC(=O)C)C)C', 'CCCCCCCCCCOC(=O)C'),\n",
       "  ('CC1=C(CCO1)S', 'CC1=CSC(=N1)C(C)C'),\n",
       "  ('C1CC(OC1)CCCC2=CC=CC=C2', 'CC(C)C1=CC=C(C=C1)CCC=O'),\n",
       "  ('CCCCCC1=CCC(=O)O1', 'CCCCCCCOC(=O)CCC'),\n",
       "  ('C1=CC=C(C=C1)C=CCO', 'CC1(CCCC2(C1CCC34C2CCC(O3)(OC4)C)C)C'),\n",
       "  ('CC/C=C\\\\CCOC(=O)C', 'CCCCCC=CC(=O)OC'),\n",
       "  ('CC(C)CC(=O)OCCC1=CC=CC=C1', 'CCC(C)(C)CCCC(=O)OCC=C'),\n",
       "  ('CCCCCCCC1CC(OC1=O)C', 'CCOC1=C(C=CC(=C1)C=O)O'),\n",
       "  ('CC(=CCCC(=CCCC(C)(C=C)O)C)C', 'CC=CC1=CC(=C(C=C1)OC)OC'),\n",
       "  ('C/C=C(\\\\C)/C(=O)OC/C=C(\\\\C)/CCC=C(C)C', 'OC(C1OC(\\\\C=C)(CC1)C)(C)C'),\n",
       "  ('CC(CC/C=C(\\\\C)/CCC=C(C)C)CCO', 'CCCCCC(CC)OC(=O)CCC'),\n",
       "  ('C1=COC(=C1)CSSCC2=CC=CO2', 'CSCSSC'),\n",
       "  ('CCCCCCCC=O', 'CCCCCCCCOC(=O)C'),\n",
       "  ('CC(C)CCOC(=O)CC(=O)C', 'CCCCCCCCC(=O)OCC'),\n",
       "  ('CC/C=C/CCOC(=O)C', 'CCC(=O)OCC1=CC=CO1'),\n",
       "  ('CCC(C)(CCCC(C)C=O)OC', 'CCCC=CC(=O)OC'),\n",
       "  ('CC(=CCCC(=CC=O)C)C', 'CC1C2CC3=CC=CC=C3C2OC(O1)C'),\n",
       "  ('C1CCC(CC1)OC=O', 'CCCCCC(C)OC(=O)CCC'),\n",
       "  ('CCCCC(=O)OC(C)(C)C1CCC(=CC1)C', 'CCNC1=CC=CC=C1C(=O)OCC'),\n",
       "  ('C1=CC=C(C=C1)COC=O', 'CC(C)COC1=CC2=CC=CC=C2C=C1'),\n",
       "  ('CCC(=O)OCCC(C)CCC=C(C)C', 'CCCCCC(=O)OCC/C=C\\\\CC'),\n",
       "  ('C=CCOC(=O)C1=CC=CC=C1N', 'CC\\\\C=C/CCOC(=O)C(C)O'),\n",
       "  ('CC/C=C/C=C/C(=O)C', 'COC(=O)CCC(=O)OC'),\n",
       "  ('CC(CCC=C(C)C)CCO', 'COC(=O)C1=CC=CC=C1N=CCC2=CC=CC=C2'),\n",
       "  ('C1CCC2=C(C1)CCC(=O)O2', 'CC1CCC2=C(C(=O)OC2C1)C'),\n",
       "  ('CC1=C[N+](=CC(=N1)C)C(=O)C', 'CCCCCCCC(=O)OCC1=CC=CO1'),\n",
       "  ('CCCCCCCCCCCC(=O)OC', 'CCCCCCCCCCCCCC(=O)OCC'),\n",
       "  ('CCCCCC1OCC(O1)C', 'CCOC(=O)CC(C)O'),\n",
       "  ('CC1(CC2CC(C1C2)C(=O)OC)C', 'CCCCCCC(=O)OCC(C)C'),\n",
       "  ('CCCCCC(=O)OCCCCC', 'CCCCCOC(=O)C(C)C'),\n",
       "  ('CC(COC1CC2CCC1(C)C2(C)C)CO', 'CC1=CC[C@@H](CC1)C(C)(C)O'),\n",
       "  ('CCCC(=O)OCC=C', 'CCCC=CC=CC=O'),\n",
       "  ('C1CCCCCC(=O)OCC/C=C\\\\CCCC1', 'O=C(OC)CC1C(C(=O)CC1)CCCCC'),\n",
       "  ('CC1COC(O1)C', 'CCCC=CCO'),\n",
       "  ('CC(C)CC(=O)OCCC1=CC=CC=C1', 'CCC(C)O'),\n",
       "  ('CCCCCCCCC#CC(=O)OC', 'CCCCCCCCO'),\n",
       "  ('CC(C)C(=O)OC1=C(C=C(C=C1)C=O)OC', 'CCC(C(=O)C)O'),\n",
       "  ('C1=CC=C(C(=C1)C=O)O', 'CCCCCOC1=C(C=C(C=C1)\\\\C=C\\\\C)OC'),\n",
       "  ('C1=CC=C(C=C1)C=CCOC=O', 'CC(CC1=CC=CC=C1)(C=C)C#N'),\n",
       "  ('CC=CC=CCOC(=O)C(C)C', 'CCC/C=C/C=C/C=O'),\n",
       "  ('CC/C=C\\\\CCOC(=O)C1CC1', 'CCCCOC(=O)C1=CC=CC=C1O'),\n",
       "  ('CC1=CC=C(C=C1)OC', 'CC=CC1=CC(=C(C=C1)OC)OC'),\n",
       "  ('CCCCC(=O)OCCC(C)C', 'CCOC(=O)CC(C)C'),\n",
       "  ('CC1=CC=C(C=C1)COC(=O)C',\n",
       "   'C[C@@H]1CC[C@H]2[C@@H]1C3[C@H](C3(C)C)CC[C@]2(C)O'),\n",
       "  ('CCCCCCCCCCCCCCCCO', 'O=C(OC)CC1C(C(=O)CC1)CCCCC'),\n",
       "  ('CCOC(=O)C(C)C=C=C', 'CCOC(=O)C1C(O1)(C)C2=CC=CC=C2'),\n",
       "  ('CC1=C(C(=O)C=CO1)OC(=O)C(C)C', 'CCCCC(=O)O[C@@H]1CC2CCC1(C2(C)C)C'),\n",
       "  ('CC(C)CCOC(=O)C1=CC=CC=C1O', 'CC(C)CCOCCC1=CC=CC=C1'),\n",
       "  ('C1CCCCCC(CCCCC1)OC=O', 'CCCCCCCCCCCCO'),\n",
       "  ('CC(=CCCC(=CCC=C(C)C=C)C)C', 'CCOC(=O)CC1(OCCO1)C'),\n",
       "  ('CCC(=O)OC(C)(CCC=C(C)C)C=C', 'CCOC(=O)OC1C(CCC(C1C)C)C'),\n",
       "  ('CC(=O)OCCCSC', 'CCCCCCCC(OCC)OCC'),\n",
       "  ('CCCCCCCC(=O)OCCCCCC', 'CC\\\\C=C\\\\CCOC(=O)CC(=O)C'),\n",
       "  ('CCCCCC(C=C)O', 'CCCCCCCC(=O)OCCCC'),\n",
       "  ('CC(C)C1=CC=C(C=C1)CC(C)C=O', 'COC(=O)/C=C/C1=CC=CC=C1'),\n",
       "  ('CCCCCCC(OC)OC', 'CCCCOC(=O)C(C)C'),\n",
       "  ('CCC(C)C(=O)SC', 'CCCOC=O'),\n",
       "  ('CCCCCC(CC(=O)OC)OC(=O)C', 'CCCCCCO'),\n",
       "  ('CC(=CCC/C(=C/CS)/C)C',\n",
       "   'C[C@@H]1CC[C@H]2[C@@H]1C3[C@H](C3(C)C)CC[C@]2(C)O'),\n",
       "  ('CCC(C)C(=O)C=CC', 'CCCCCCCCC(=O)C(=O)C'),\n",
       "  ('CCCCCCCCC(=O)OCCCC', 'CCCCCCCCOC=O'),\n",
       "  ('CC(C)CC(=O)OCC=C', 'CC1=CC(=C(C=C1)C=O)C'),\n",
       "  ('CC(C)CCCC(C)CCOC(=O)C', 'CCCCCCCC(=O)OCCCCCCC'),\n",
       "  ('C=CCCCCCCCCC(=O)OCC=C', 'CCCCCOC(=O)C(C)CC'),\n",
       "  ('CC/C=C\\\\CC(OCC)OCC', 'CCCCCCOC(=O)C1=CC=CO1'),\n",
       "  ('CCCCCCC/C=C/C=O', 'COC(CC1=CC=CC=C1)OC'),\n",
       "  ('C1CC(OC1)CO', 'CCCC1=NC=CS1'),\n",
       "  ('C1=CC=C(C=C1)OCC=O', 'CCCCCOC(=O)CC(C)C'),\n",
       "  ('CC(=CCC/C(=C/COC(=O)C1=CC=CC=C1N)/C)C', 'CCCCOCC1=CC=CC=C1'),\n",
       "  ('CC(=C)[C@@H]1C[C@@H](CC[C@@]1(C)C=C)C(C)(C)O',\n",
       "   'CCOC(=O)OC1CCCCC1C(C)(C)C'),\n",
       "  ('CC(=CCCC(C)(C=C)OC(=O)C1=CC=CC=C1N)C', 'CCCC(CC(=O)OCC)O'),\n",
       "  ('CC(C)C1=CC=C(C=C1)C(=O)C', 'CCCCCCC1OCCO1'),\n",
       "  ('CC(C)CCCC(C)(C=C)O', 'CC1=CCC(=C(C)C)CC1'),\n",
       "  ('CCCCCC(C)OC(=O)CCC', 'CCCCCCOC(=O)C(C)C'),\n",
       "  ('CCCCCCCC1CCCC(=O)O1', 'CSC(=O)C1=CC=CO1'),\n",
       "  ('CC(C)C(=O)OC/C=C(/C)\\\\CCC=C(C)C', 'CCCCC(=O)OCC/C=C/CC'),\n",
       "  ('CCCCCCCCCCCC(OC)OC', 'CCCCCCCCO'),\n",
       "  ('CC1CC[C@H](C(=O)C1)C(C)(C)OC(=S)C', 'CCC(=O)OC1C=CC2C1C3CCC2C3'),\n",
       "  ('CCCCOC1=CC2=CC=CC=C2C=C1', 'C[C@@H](CCC=C(C)C)CCOC(=O)C'),\n",
       "  ('CC(=CCC/C(=C/COC)/C)C', 'CCCCCCCOC=O'),\n",
       "  ('CC1COC(O1)C', 'CCCCCCOC(=O)CCCC'),\n",
       "  ('CCCCCCOC(=O)C(C)(C)C', 'COC(=O)CCC=C'),\n",
       "  ('CC(=O)CCC1=CC=CC=C1', 'CCCCCCC(=O)OCCC(C)C'),\n",
       "  ('CC(C)OC2CC1CC(C2C1)=[C@H]C', 'CCC(C)CCCC(C)(C)OC(=O)C')])"
      ]
     },
     "execution_count": 13,
     "metadata": {},
     "output_type": "execute_result"
    }
   ],
   "source": [
    "next(iter(negatives.items()))"
   ]
  },
  {
   "cell_type": "code",
   "execution_count": 14,
   "id": "051ac0a1-f2a0-445b-a243-6546e2d5d2d6",
   "metadata": {
    "tags": []
   },
   "outputs": [
    {
     "data": {
      "text/plain": [
       "(2971, 'C1=CC=C(C=C1)COC=O')"
      ]
     },
     "execution_count": 14,
     "metadata": {},
     "output_type": "execute_result"
    }
   ],
   "source": [
    "all_smiles = set()\n",
    "for d in dataset:\n",
    "    all_smiles.add(d[\"mol1\"])\n",
    "    all_smiles.add(d[\"mol2\"])\n",
    "len(all_smiles),next(iter(all_smiles))"
   ]
  },
  {
   "cell_type": "code",
   "execution_count": 15,
   "id": "aedac74b-2a79-4699-8a77-d730ea4ca321",
   "metadata": {
    "tags": []
   },
   "outputs": [
    {
     "name": "stderr",
     "output_type": "stream",
     "text": [
      " 13%|████▌                               | 374/2971 [00:00<00:02, 1242.35it/s][20:18:07] SMILES Parse Error: syntax error while parsing: InChI=1/C7H8S/c1-6-4-2-3-5-7(6)8/h2-5,8H,1H3\n",
      "[20:18:07] SMILES Parse Error: Failed parsing SMILES 'InChI=1/C7H8S/c1-6-4-2-3-5-7(6)8/h2-5,8H,1H3' for input: 'InChI=1/C7H8S/c1-6-4-2-3-5-7(6)8/h2-5,8H,1H3'\n",
      " 76%|██████████████████████████▌        | 2255/2971 [00:01<00:00, 1242.45it/s][20:18:09] SMILES Parse Error: syntax error while parsing: (C)C1=CN=CC(=N1)OC.CC(C)C1=CN=C(C=N1)OC.CC(C)C1=NC=CN=C1OC\n",
      "[20:18:09] SMILES Parse Error: Failed parsing SMILES '(C)C1=CN=CC(=N1)OC.CC(C)C1=CN=C(C=N1)OC.CC(C)C1=NC=CN=C1OC' for input: '(C)C1=CN=CC(=N1)OC.CC(C)C1=CN=C(C=N1)OC.CC(C)C1=NC=CN=C1OC'\n",
      " 84%|█████████████████████████████▌     | 2510/2971 [00:02<00:00, 1254.59it/s][20:18:09] Can't kekulize mol.  Unkekulized atoms: 3 4 5 6 8\n",
      "100%|███████████████████████████████████| 2971/2971 [00:02<00:00, 1239.35it/s]\n"
     ]
    },
    {
     "data": {
      "text/plain": [
       "(3,\n",
       " 2968,\n",
       " ('C1=CC=C(C=C1)COC=O',\n",
       "  Data(x=[10, 9], edge_index=[2, 20], edge_attr=[20, 3])))"
      ]
     },
     "execution_count": 15,
     "metadata": {},
     "output_type": "execute_result"
    }
   ],
   "source": [
    "from ogb.utils import smiles2graph\n",
    "from torch_geometric.data import InMemoryDataset, download_url, Data\n",
    "import torch\n",
    "from torch_geometric.loader import DataLoader\n",
    "\n",
    "def to_torch(graph):\n",
    "    tensor_keys = [\"edge_index\", 'edge_feat', 'node_feat']\n",
    "    for key in tensor_keys:\n",
    "        graph[key] = torch.from_numpy(graph[key])\n",
    "    return Data(x=graph[\"node_feat\"].float(),edge_attr=graph[\"edge_feat\"],edge_index=graph[\"edge_index\"])\n",
    "\n",
    "errored = 0\n",
    "graph_data = dict()\n",
    "for smiles in tqdm.tqdm(all_smiles):\n",
    "    try:\n",
    "        graph_data[smiles] = to_torch(smiles2graph(smiles))\n",
    "    except AttributeError as e:\n",
    "        errored += 1\n",
    "errored, len(graph_data), next(iter(graph_data.items()))"
   ]
  },
  {
   "cell_type": "code",
   "execution_count": 16,
   "id": "7e091e5a-2d74-461e-bb1b-3f3d586e4c53",
   "metadata": {
    "tags": []
   },
   "outputs": [
    {
     "name": "stderr",
     "output_type": "stream",
     "text": [
      "100%|███████████████████████████████| 166814/166814 [00:41<00:00, 4004.13it/s]\n"
     ]
    },
    {
     "data": {
      "text/plain": [
       "(166733,\n",
       " (('CCCCC/C=C/C(=O)OC', 'CCCCCOC(=O)CCC'),\n",
       "  BlendData(x=[22, 9], edge_index=[2, 40], edge_attr=[40, 3], mol_batch=[22], blend_batch=[2])))"
      ]
     },
     "execution_count": 16,
     "metadata": {},
     "output_type": "execute_result"
    }
   ],
   "source": [
    "import numpy as np\n",
    "import data\n",
    "\n",
    "pair_to_data = dict()\n",
    "for d in tqdm.tqdm(dataset):\n",
    "    if not d[\"mol1\"] in graph_data or not d[\"mol2\"] in graph_data:\n",
    "        continue\n",
    "    pair = (d[\"mol1\"],d[\"mol2\"])\n",
    "    g1 = graph_data[d[\"mol1\"]]\n",
    "    g2 = graph_data[d[\"mol2\"]]\n",
    "    pair_to_data[pair] = data.combine_graphs([g1,g2])\n",
    "len(pair_to_data), next(iter(pair_to_data.items()))"
   ]
  },
  {
   "cell_type": "code",
   "execution_count": 17,
   "id": "d6535d22-9952-43a9-921f-e4d22a716b2b",
   "metadata": {
    "tags": []
   },
   "outputs": [
    {
     "data": {
      "text/plain": [
       "(166707, 0.9993585670267483)"
      ]
     },
     "execution_count": 17,
     "metadata": {},
     "output_type": "execute_result"
    }
   ],
   "source": [
    "valid_pairs = set(pair_to_data.keys()).intersection(set(positives.keys())).intersection(set(negatives.keys()))\n",
    "len(valid_pairs), len(valid_pairs)/len(dataset)"
   ]
  },
  {
   "cell_type": "code",
   "execution_count": 18,
   "id": "ca75c3fa-24b8-40f4-8f91-ecd534e1cc8c",
   "metadata": {
    "tags": []
   },
   "outputs": [
    {
     "name": "stderr",
     "output_type": "stream",
     "text": [
      "100%|████████████████████████████████| 166733/166733 [03:05<00:00, 899.79it/s]\n"
     ]
    }
   ],
   "source": [
    "import json\n",
    "import h5py\n",
    "import base64\n",
    "\n",
    "def encode_smiles(smiles):\n",
    "    return base64.urlsafe_b64encode(smiles.encode()).decode()\n",
    "\n",
    "with h5py.File('dataset.h5', 'w') as f:\n",
    "    for (pair, data) in tqdm.tqdm(pair_to_data.items()):\n",
    "        group = f.create_group(encode_smiles(json.dumps(pair)))\n",
    "        group.create_dataset(\"pair\",data=pairs[i])\n",
    "        group.create_dataset(\"positives\",data=positives[pair])\n",
    "        group.create_dataset(\"negatives\",data=negatives[pair])\n",
    "        graph_group = group.create_group(\"graph\")\n",
    "        for k,v in data.items():\n",
    "            graph_group.create_dataset(k,data=v.numpy())"
   ]
  },
  {
   "cell_type": "code",
   "execution_count": 19,
   "id": "5b01826f-dcc6-421e-ae73-c9252acba8dd",
   "metadata": {
    "tags": []
   },
   "outputs": [
    {
     "name": "stdout",
     "output_type": "stream",
     "text": [
      "('CC(C)C[C@H](O)C(=O)OCC', 'CCOC(=O)C1C(O1)C2=CC=CC=C2') [\"CC(C)C[C@H](O)C(=O)OCC\", \"CCOC(=O)C1C(O1)C2=CC=CC=C2\"]\n",
      "('CC(=O)CCSC', 'OC(C1OC(\\\\C=C)(CC1)C)(C)C') [\"CC(=O)CCSC\", \"OC(C1OC(\\\\C=C)(CC1)C)(C)C\"]\n",
      "('CC/C=C/CC(=O)OC', 'CC/C=C\\\\CCOCC(=C)C') [\"CC/C=C/CC(=O)OC\", \"CC/C=C\\\\CCOCC(=C)C\"]\n",
      "('COC(=O)OC1CCC\\\\C=C/CC1', 'O=C(OCC/1=C/C[C@@H]2C[C@H]\\\\1C2(C)C)C') [\"COC(=O)OC1CCC\\\\C=C/CC1\", \"O=C(OCC/1=C/C[C@@H]2C[C@H]\\\\1C2(C)C)C\"]\n",
      "('CC(=CCOC=O)C', 'CCC=C(C)C(=O)OCC') [\"CC(=CCOC=O)C\", \"CCC=C(C)C(=O)OCC\"]\n",
      "('CC1=CSC(=N1)C(C)C', 'CCCCCCCCCC(=O)OCCC') [\"CC1=CSC(=N1)C(C)C\", \"CCCCCCCCCC(=O)OCCC\"]\n",
      "('CCC(=O)OC(C)(C)C1CCC(=CC1)C', 'COC1=CC=CC=C1C=C') [\"CCC(=O)OC(C)(C)C1CCC(=CC1)C\", \"COC1=CC=CC=C1C=C\"]\n",
      "('C1=CC=C(C=C1)CCOC=O', 'CC1C=CCCC1(C)C=O') [\"C1=CC=C(C=C1)CCOC=O\", \"CC1C=CCCC1(C)C=O\"]\n",
      "('CCC(=O)OC(C)(C)C1CCC(=CC1)C', 'CCC/C=C/C(=O)OCC') [\"CCC(=O)OC(C)(C)C1CCC(=CC1)C\", \"CCC/C=C/C(=O)OCC\"]\n",
      "('CC(=O)OCC1CCCO1', 'CCC1(CC(=O)C(=C(C1C)C)C)C') [\"CC(=O)OCC1CCCO1\", \"CCC1(CC(=O)C(=C(C1C)C)C)C\"]\n",
      "('O(C(OCC=C(C)CC\\\\C=C(/C)C)Cc1ccccc1)CC=C(C)CC\\\\C=C(/C)C', 'O=C(/C=C/C)C1\\\\C(=C)CCCC1(C)C') [\"O(C(OCC=C(C)CC\\\\C=C(/C)C)Cc1ccccc1)CC=C(C)CC\\\\C=C(/C)C\", \"O=C(/C=C/C)C1\\\\C(=C)CCCC1(C)C\"]\n",
      "('C/C=C/C(=O)OC1CCCCC1', 'COC1CC2CC1C3C2CC=C3') [\"C/C=C/C(=O)OC1CCCCC1\", \"COC1CC2CC1C3C2CC=C3\"]\n",
      "('CCCCCCCCCCC(=O)O', 'CS(=O)C') [\"CCCCCCCCCCC(=O)O\", \"CS(=O)C\"]\n",
      "('C=CCSCC=C', 'SC(S)CC') [\"C=CCSCC=C\", \"SC(S)CC\"]\n",
      "('CCC(C)COC(=O)CC', 'CCCCOC(=O)C(C)C') [\"CCC(C)COC(=O)CC\", \"CCCCOC(=O)C(C)C\"]\n",
      "('C1=CC=C(C=C1)C=O', 'CC(CCC=C(C)C)CCOC(=O)C') [\"C1=CC=C(C=C1)C=O\", \"CC(CCC=C(C)C)CCOC(=O)C\"]\n",
      "('CCCCCCCCCC(=O)OCC', 'CCCCCCCCCC(=O)OCCC(C)C') [\"CCCCCCCCCC(=O)OCC\", \"CCCCCCCCCC(=O)OCCC(C)C\"]\n",
      "('CC1CCC(CC1O)C(=C)C', 'CCC/C=C/C=C/C=O') [\"CC1CCC(CC1O)C(=C)C\", \"CCC/C=C/C=C/C=O\"]\n",
      "('CCCCCCC#CC(=O)OC', 'CCCCCCCCOCC=O') [\"CCCCCCC#CC(=O)OC\", \"CCCCCCCCOCC=O\"]\n",
      "('CC1CCC2=C(C(=O)OC2C1)C', 'CCC(=O)C(=O)C') [\"CC1CCC2=C(C(=O)OC2C1)C\", \"CCC(=O)C(=O)C\"]\n",
      "('CCCCC/C=C(\\\\C)/C=O', 'CCCCCCCCC#CC(=O)OC') [\"CCCCC/C=C(\\\\C)/C=O\", \"CCCCCCCCC#CC(=O)OC\"]\n",
      "('CCCCCCC(=O)OCC=C', 'CCCCOC(=O)[C@H](C)O') [\"CCCCCCC(=O)OCC=C\", \"CCCCOC(=O)[C@H](C)O\"]\n",
      "('C/C=C/C(=O)C1=C(C=CCC1(C)C)C', 'CC1=CC=CC=C1CCO') [\"C/C=C/C(=O)C1=C(C=CCC1(C)C)C\", \"CC1=CC=CC=C1CCO\"]\n",
      "('CCCCC(=O)OCCC', 'CCCCOC(=O)C(C)C') [\"CCCCC(=O)OCCC\", \"CCCCOC(=O)C(C)C\"]\n",
      "('CC(C1C2CCC(C2)C1(C)C)O', 'CC1CC(=CC(C1C=O)C)C.CC1C=C(CC(C1C)C=O)C') [\"CC(C1C2CCC(C2)C1(C)C)O\", \"CC1CC(=CC(C1C=O)C)C.CC1C=C(CC(C1C)C=O)C\"]\n",
      "('CCC(=O)SCC=C', 'CSSCC=C') [\"CCC(=O)SCC=C\", \"CSSCC=C\"]\n",
      "('CC(C)C(=O)OC(C)(CCC=C(C)C)C=C', 'CCCCOC(=O)CC(=O)C') [\"CC(C)C(=O)OC(C)(CCC=C(C)C)C=C\", \"CCCCOC(=O)CC(=O)C\"]\n",
      "('CC1CC(CC(C1)(C)C)OC(=O)C', 'CC1CCOC(C1)C2=CC=CC=C2') [\"CC1CC(CC(C1)(C)C)OC(=O)C\", \"CC1CCOC(C1)C2=CC=CC=C2\"]\n",
      "('CCCCCCOC', 'C[C@@]1(CC[C@@H]2[C@@H]1[C@H]3[C@H](C3(C)C)CCC2=C)O') [\"CCCCCCOC\", \"C[C@@]1(CC[C@@H]2[C@@H]1[C@H]3[C@H](C3(C)C)CCC2=C)O\"]\n",
      "('CC/C=C\\\\CC(OC)OC', 'CCOC(=O)C1C(O1)(C)C2=CC=C(C=C2)C') [\"CC/C=C\\\\CC(OC)OC\", \"CCOC(=O)C1C(O1)(C)C2=CC=C(C=C2)C\"]\n",
      "('CCC1(C(O1)(C)C2=CC=CC=C2)C(=O)OCC', 'CCCC(=O)C(CC)CC1=CC=CC=C1') [\"CCC1(C(O1)(C)C2=CC=CC=C2)C(=O)OCC\", \"CCCC(=O)C(CC)CC1=CC=CC=C1\"]\n",
      "('CC(=O)C(CC1=CC=CC=C1)O', 'CC(=O)\\\\C=C\\\\C1=CC(=C(C=C1)O)OC') [\"CC(=O)C(CC1=CC=CC=C1)O\", \"CC(=O)\\\\C=C\\\\C1=CC(=C(C=C1)O)OC\"]\n",
      "('CCCCCCCCC(=O)OCC=C', 'CCCCCCCCCC(=O)C') [\"CCCCCCCCC(=O)OCC=C\", \"CCCCCCCCCC(=O)C\"]\n",
      "('CC(CCC=C(C)C)C=O', 'CC\\\\C=C/CCOC(=O)C\\\\C=C/CC') [\"CC(CCC=C(C)C)C=O\", \"CC\\\\C=C/CCOC(=O)C\\\\C=C/CC\"]\n",
      "('CC(C)C1CCC(CC1)CO', 'CC1=CCC(C1(C)C)C/C=C(\\\\C)/C(=O)C') [\"CC(C)C1CCC(CC1)CO\", \"CC1=CCC(C1(C)C)C/C=C(\\\\C)/C(=O)C\"]\n",
      "('C/C=C/C(=O)C1CCC(C=C1C)(C)C', 'CC1=C(C(=O)C=CO1)OC(=O)C(C)C') [\"C/C=C/C(=O)C1CCC(C=C1C)(C)C\", \"CC1=C(C(=O)C=CO1)OC(=O)C(C)C\"]\n",
      "('C/C(=C\\\\C=C)/CC(C)(C=C)O', 'CCCC(CCOC(=O)C)SC') [\"C/C(=C\\\\C=C)/CC(C)(C=C)O\", \"CCCC(CCOC(=O)C)SC\"]\n",
      "('C=CCOC(=O)CC1CCCCC1', 'CC(CCC=C(C)C)CCOC=O') [\"C=CCOC(=O)CC1CCCCC1\", \"CC(CCC=C(C)C)CCOC=O\"]\n",
      "('CC1COC(O1)C', 'CCCCCC(=CC1=CC=CC=C1)C(OCC)OCC') [\"CC1COC(O1)C\", \"CCCCCC(=CC1=CC=CC=C1)C(OCC)OCC\"]\n",
      "('CCCCCCOC(=O)CCCC', 'CCOC(=O)CC(=O)C') [\"CCCCCCOC(=O)CCCC\", \"CCOC(=O)CC(=O)C\"]\n",
      "('CC(C)CC(=O)OCC1=CC=CC=C1', 'CCC(=O)OC1CC2CC1C3C2C=CC3') [\"CC(C)CC(=O)OCC1=CC=CC=C1\", \"CCC(=O)OC1CC2CC1C3C2C=CC3\"]\n",
      "('CCCCCCCCOC(=O)C(C)CC', 'CCCCC\\\\C=C\\\\C(=O)OCC') [\"CCCCCCCCOC(=O)C(C)CC\", \"CCCCC\\\\C=C\\\\C(=O)OCC\"]\n",
      "('CCCCC(=O)OCC/C=C/CC', 'CCCCC\\\\C=C\\\\C(=O)OCC') [\"CCCCC(=O)OCC/C=C/CC\", \"CCCCC\\\\C=C\\\\C(=O)OCC\"]\n",
      "('C1CC(OC1)CO', 'CC1C(=C(C(=O)O1)O)C') [\"C1CC(OC1)CO\", \"CC1C(=C(C(=O)O1)O)C\"]\n",
      "('CC/C=C\\\\C[C@@H]1[C@H](CCC1=O)CC(=O)', 'CCCC(=O)OCC1=CC=CC=C1') [\"CC/C=C\\\\C[C@@H]1[C@H](CCC1=O)CC(=O)\", \"CCCC(=O)OCC1=CC=CC=C1\"]\n",
      "('CCC(CC1=CC=CC=C1)C(=O)OCC', 'CCCC=O') [\"CCC(CC1=CC=CC=C1)C(=O)OCC\", \"CCCC=O\"]\n",
      "('CC(CCCC(C)(C)O)C=C', 'CCO[C@@H]1CC[C@@H](CC1)C(C)(C)CC') [\"CC(CCCC(C)(C)O)C=C\", \"CCO[C@@H]1CC[C@@H](CC1)C(C)(C)CC\"]\n",
      "('CC(C)(CC1=CC=CC=C1)O', 'CCCCCCOC(C)OCC') [\"CC(C)(CC1=CC=CC=C1)O\", \"CCCCCCOC(C)OCC\"]\n",
      "('CCC(CC1=CC=CC=C1)C(=O)OCC', 'COC1=CC=C(C=C1)OC') [\"CCC(CC1=CC=CC=C1)C(=O)OCC\", \"COC1=CC=C(C=C1)OC\"]\n",
      "('C=CCOC(=O)CCCCC1CCCCC1', 'CC(C)C(=O)OC1CCC2CCCCC2C1') [\"C=CCOC(=O)CCCCC1CCCCC1\", \"CC(C)C(=O)OC1CCC2CCCCC2C1\"]\n",
      "('C1=CC=C(C=C1)C=CCO', 'CC1=C2CC(C(C1)C(C2)C(=O)C)C(C)C') [\"C1=CC=C(C=C1)C=CCO\", \"CC1=C2CC(C(C1)C(C2)C(=O)C)C(C)C\"]\n",
      "('CC(C(C)S)S', 'CCOC(=O)C(C)S') [\"CC(C(C)S)S\", \"CCOC(=O)C(C)S\"]\n",
      "('CC1=CCC(CC1)C(C)(C)OC(=O)C(C)C', 'CC\\\\C=C\\\\CCOC(=O)CC(=O)C') [\"CC1=CCC(CC1)C(C)(C)OC(=O)C(C)C\", \"CC\\\\C=C\\\\CCOC(=O)CC(=O)C\"]\n",
      "('CCOC(=O)CCC1=CC=CC=C1', 'CCOC1(CCCCC1)OCC') [\"CCOC(=O)CCC1=CC=CC=C1\", \"CCOC1(CCCCC1)OCC\"]\n",
      "('CC1=CCC(CC1)C(C)CC2CCCC2=O', 'CCCC(=O)OCCC(C)C') [\"CC1=CCC(CC1)C(C)CC2CCCC2=O\", \"CCCC(=O)OCCC(C)C\"]\n",
      "('CC(=CCC/C(=C/CCC(=O)C)/C)C', 'CCCCCC(=O)OCC=C(C)C') [\"CC(=CCC/C(=C/CCC(=O)C)/C)C\", \"CCCCCC(=O)OCC=C(C)C\"]\n",
      "('CC(OC)OC', 'O=C(OCCCC\\\\C=C/CC)C') [\"CC(OC)OC\", \"O=C(OCCCC\\\\C=C/CC)C\"]\n",
      "('CC1=C(SC(=N1)C)C(=O)C', 'CCSC(=O)CNC(=O)C') [\"CC1=C(SC(=N1)C)C(=O)C\", \"CCSC(=O)CNC(=O)C\"]\n",
      "('CC1(CC2CC(C1C2)C(=O)OC)C', 'C[C@]12CCCC([C@@H]1CC[C@@]3([C@@H]2CC(=O)O3)C)(C)C') [\"CC1(CC2CC(C1C2)C(=O)OC)C\", \"C[C@]12CCCC([C@@H]1CC[C@@]3([C@@H]2CC(=O)O3)C)(C)C\"]\n",
      "('CCCCCCC(=O)OC', 'CCCCCCOC(=O)/C=C/C') [\"CCCCCCC(=O)OC\", \"CCCCCCOC(=O)/C=C/C\"]\n",
      "('CC1=C(SC(=N1)CC(C)C)C', 'CCCCC(=O)C') [\"CC1=C(SC(=N1)CC(C)C)C\", \"CCCCC(=O)C\"]\n",
      "('CC1(CCCC(=C)C1C(=O)OC)C', 'CC1(CCCC23C1CC(CC2)(C(=O)O3)C)C') [\"CC1(CCCC(=C)C1C(=O)OC)C\", \"CC1(CCCC23C1CC(CC2)(C(=O)O3)C)C\"]\n",
      "('CCCCCCC(=O)OC', 'CCCCCCCOC(=O)C(C)C') [\"CCCCCCC(=O)OC\", \"CCCCCCCOC(=O)C(C)C\"]\n",
      "('CC(C)OC=O', 'CCCCCC1OCC(O1)C') [\"CC(C)OC=O\", \"CCCCCC1OCC(O1)C\"]\n",
      "('CC(=CCC/C(=C/COC=O)/C)C', 'CNC1=CC=CC=C1C(=O)OC') [\"CC(=CCC/C(=C/COC=O)/C)C\", \"CNC1=CC=CC=C1C(=O)OC\"]\n",
      "('CCCC(=O)C(CC)CC1=CC=CC=C1', 'CCCC(=O)OC1=C(OC=CC1=O)C') [\"CCCC(=O)C(CC)CC1=CC=CC=C1\", \"CCCC(=O)OC1=C(OC=CC1=O)C\"]\n",
      "('CC(=O)OCC1=CC=C(C=C1)OC', 'CCCCCC1=C(CCC1=O)C') [\"CC(=O)OCC1=CC=C(C=C1)OC\", \"CCCCCC1=C(CCC1=O)C\"]\n",
      "('CC(=O)OCC1=CC=CO1', 'CC/C=C\\\\CCOC(=O)C(C)CC') [\"CC(=O)OCC1=CC=CO1\", \"CC/C=C\\\\CCOC(=O)C(C)CC\"]\n",
      "('CC1CCC2(O1)C(CCCC2(C)O)(C)C', 'CCC(C)C1CCCCC1=O') [\"CC1CCC2(O1)C(CCCC2(C)O)(C)C\", \"CCC(C)C1CCCCC1=O\"]\n",
      "('CCCCCC(=O)OCC', 'CCCCOC(=O)CCCCCCCCC=C') [\"CCCCCC(=O)OCC\", \"CCCCOC(=O)CCCCCCCCC=C\"]\n",
      "('CC(C)C(=O)OC/C=C(\\\\C)/CCC=C(C)C', 'CC(CCCC(C)(C)O)CCO') [\"CC(C)C(=O)OC/C=C(\\\\C)/CCC=C(C)C\", \"CC(CCCC(C)(C)O)CCO\"]\n",
      "('C1=CC=C(C=C1)/C=C(/C(CO)O)\\\\O', 'CC(C)CC(=O)OCCC(C)CCCC(=C)C') [\"C1=CC=C(C=C1)/C=C(/C(CO)O)\\\\O\", \"CC(C)CC(=O)OCCC(C)CCCC(=C)C\"]\n",
      "('C1CCC(CC1)OC=O', 'CCCCCC(CC)OC=O') [\"C1CCC(CC1)OC=O\", \"CCCCCC(CC)OC=O\"]\n",
      "('CC(=O)CC(C)(C)SC', 'CCCCCCCCCOC(=O)C') [\"CC(=O)CC(C)(C)SC\", \"CCCCCCCCCOC(=O)C\"]\n",
      "('CCCCCCCCCCCCCC(=O)OCC', 'CCOC1=C(C=CC(=C1)C2OC(CC(O2)(C)C)C)O') [\"CCCCCCCCCCCCCC(=O)OCC\", \"CCOC1=C(C=CC(=C1)C2OC(CC(O2)(C)C)C)O\"]\n",
      "('CC(CCC=C(C)C)C=C', 'CC1=CCC(CC1)C(C)(C)OC(=O)C(C)C') [\"CC(CCC=C(C)C)C=C\", \"CC1=CCC(CC1)C(C)(C)OC(=O)C(C)C\"]\n",
      "('CSSCC1=CC=CO1', 'C[C@@H]1CC[C@H]([C@@H](C1)OC(=O)C)C(C)C') [\"CSSCC1=CC=CO1\", \"C[C@@H]1CC[C@H]([C@@H](C1)OC(=O)C)C(C)C\"]\n",
      "('C1=CC=C(C=C1)CCOC(=O)C2=CC=CC=C2N', 'CC(CCCC(=C)C)CCOC(=O)CC1=CC=CC=C1') [\"C1=CC=C(C=C1)CCOC(=O)C2=CC=CC=C2N\", \"CC(CCCC(=C)C)CCOC(=O)CC1=CC=CC=C1\"]\n",
      "('C=CCOC(=O)C1=CC=CC=C1O', 'CCC/C=C/COC(=O)C') [\"C=CCOC(=O)C1=CC=CC=C1O\", \"CCC/C=C/COC(=O)C\"]\n",
      "('CC(C)(CC1=CC=CC=C1)OC=O', 'C[C@@H](CCC[C@@H](C)CCC/C(=C/CO)/C)CCCC(C)C') [\"CC(C)(CC1=CC=CC=C1)OC=O\", \"C[C@@H](CCC[C@@H](C)CCC/C(=C/CO)/C)CCCC(C)C\"]\n",
      "('CC(=CCC/C(=C\\\\COC(=O)C)/C)C', 'CCCCCC1C(CC(=O)O1)C') [\"CC(=CCC/C(=C\\\\COC(=O)C)/C)C\", \"CCCCCC1C(CC(=O)O1)C\"]\n",
      "('CCCCCCOC(=O)CCCC', 'CC\\\\C=C/CCOC(=O)C1=CC=CC=C1N') [\"CCCCCCOC(=O)CCCC\", \"CC\\\\C=C/CCOC(=O)C1=CC=CC=C1N\"]\n",
      "('CCCCCCOC(=O)C(C)CC', 'CC[C@H](C)C(=O)OCC') [\"CCCCCCOC(=O)C(C)CC\", \"CC[C@H](C)C(=O)OCC\"]\n",
      "('CC(=CCCC(C)(C=C)O)C', 'CC(C)C1CCC(CC1)O') [\"CC(=CCCC(C)(C=C)O)C\", \"CC(C)C1CCC(CC1)O\"]\n",
      "('C1CCC/C=C\\\\CCCCCCCC(=O)CCC1', 'O=C(c1ccc2c(c1)C(C(C2(C)C)C)(C)C)C') [\"C1CCC/C=C\\\\CCCCCCCC(=O)CCC1\", \"O=C(c1ccc2c(c1)C(C(C2(C)C)C)(C)C)C\"]\n",
      "('C1=CN=C(C=N1)CS', 'CC1=C(C(=O)C=CO1)OC(=O)C(C)C') [\"C1=CN=C(C=N1)CS\", \"CC1=C(C(=O)C=CO1)OC(=O)C(C)C\"]\n",
      "('CC(OCc1ccccc1)OCCOC', 'CCOC(=O)CCC=C') [\"CC(OCc1ccccc1)OCCOC\", \"CCOC(=O)CCC=C\"]\n",
      "('C=CCOC1CC2CC1C3C2CC=C3', 'CC(=O)OC1=C(C=C(C=C1)C=O)OC') [\"C=CCOC1CC2CC1C3C2CC=C3\", \"CC(=O)OC1=C(C=C(C=C1)C=O)OC\"]\n",
      "('C/C=C(\\\\C)/C(=O)OC/C=C(\\\\C)/CCC=C(C)C', 'CCCC(C)OC(=O)CCC') [\"C/C=C(\\\\C)/C(=O)OC/C=C(\\\\C)/CCC=C(C)C\", \"CCCC(C)OC(=O)CCC\"]\n",
      "('C/C=C/C=C/C(=O)OC', 'CCCOC=O') [\"C/C=C/C=C/C(=O)OC\", \"CCCOC=O\"]\n",
      "('CC1=C(SC(=N1)C)C=C', 'COCC1=NC=CN=C1') [\"CC1=C(SC(=N1)C)C=C\", \"COCC1=NC=CN=C1\"]\n",
      "('CC(C)C1=CC=C(C=C1)C(=O)C', 'COC1=C(C=CC(=C1)CC=C)OC=O') [\"CC(C)C1=CC=C(C=C1)C(=O)C\", \"COC1=C(C=CC(=C1)CC=C)OC=O\"]\n",
      "('CC(=CC/C=C(/C)\\\\C=C)C', 'CC(=CCC/C(=C\\\\COC(=O)C)/C)C') [\"CC(=CC/C=C(/C)\\\\C=C)C\", \"CC(=CCC/C(=C\\\\COC(=O)C)/C)C\"]\n",
      "('CCC(=O)OC1CCCCC1', 'CCC=CC=O') [\"CCC(=O)OC1CCCCC1\", \"CCC=CC=O\"]\n",
      "('CC(=CCC/C(=C/CS)/C)C', 'CC/C=C/C=C/C(=O)C') [\"CC(=CCC/C(=C/CS)/C)C\", \"CC/C=C/C=C/C(=O)C\"]\n",
      "('C1=CC=C(C=C1)CO', 'CC1CCC2C1C3C(C3(C)C)CCC2(C)O') [\"C1=CC=C(C=C1)CO\", \"CC1CCC2C1C3C(C3(C)C)CCC2(C)O\"]\n",
      "('CC(=O)OC1CC2CC1C3C2CCC3', 'CCOCCC(C)CCCC(C)C') [\"CC(=O)OC1CC2CC1C3C2CCC3\", \"CCOCCC(C)CCCC(C)C\"]\n",
      "('CC/C=C\\\\CCCCC=O', 'CCCCCC1OCC(O1)C') [\"CC/C=C\\\\CCCCC=O\", \"CCCCCC1OCC(O1)C\"]\n",
      "('CC(=CCCC(C)(C=C)OC(=O)C)C', 'CC1=CC2C(C2(C)C)CC1C(=O)C') [\"CC(=CCCC(C)(C=C)OC(=O)C)C\", \"CC1=CC2C(C2(C)C)CC1C(=O)C\"]\n",
      "('CCCCC/C=C\\\\CCCO', 'CCCCOC(=O)CCCCCCCCC=C') [\"CCCCC/C=C\\\\CCCO\", \"CCCCOC(=O)CCCCCCCCC=C\"]\n"
     ]
    }
   ],
   "source": [
    "for p in random.sample(sorted(pair_to_data.keys()),100):\n",
    "    print(p,json.dumps(p))"
   ]
  }
 ],
 "metadata": {
  "kernelspec": {
   "display_name": "Python 3 (ipykernel)",
   "language": "python",
   "name": "python3"
  },
  "language_info": {
   "codemirror_mode": {
    "name": "ipython",
    "version": 3
   },
   "file_extension": ".py",
   "mimetype": "text/x-python",
   "name": "python",
   "nbconvert_exporter": "python",
   "pygments_lexer": "ipython3",
   "version": "3.11.5"
  }
 },
 "nbformat": 4,
 "nbformat_minor": 5
}
