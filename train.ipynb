{
 "cells": [
  {
   "cell_type": "code",
   "execution_count": 35,
   "id": "0a9d0475-a1a3-497a-87af-98907e71fdc7",
   "metadata": {
    "tags": []
   },
   "outputs": [
    {
     "name": "stderr",
     "output_type": "stream",
     "text": [
      "  0%|                                    | 101/166733 [00:05<2:30:44, 18.42it/s]\n"
     ]
    }
   ],
   "source": [
    "import json\n",
    "import h5py\n",
    "import base64\n",
    "import tqdm\n",
    "import torch\n",
    "import torch_geometric as tg\n",
    "import numpy as np\n",
    "\n",
    "def decode_smiles(encoded):\n",
    "    return base64.urlsafe_b64decode(encoded.encode()).decode()\n",
    "\n",
    "dataset = dict()\n",
    "with h5py.File('Data/dataset.h5', 'r') as f:\n",
    "    for i, encoded_pair in enumerate(tqdm.tqdm(f.keys())):\n",
    "        pair_str = decode_smiles(encoded_pair)\n",
    "        pair = json.loads(pair_str)\n",
    "        \n",
    "        group = f[encoded_pair]\n",
    "        \n",
    "        positives = group['positives'][:].astype(str).tolist()\n",
    "        negatives = group['negatives'][:].astype(str).tolist()\n",
    "        \n",
    "        graph_group = group['graph']\n",
    "        graph_data = {k: torch.tensor(np.array(v)) for k, v in graph_group.items()}\n",
    "        graph_data = {k: v.float() if k != \"edge_index\" else v.long() for k, v in graph_data.items()}\n",
    "        \n",
    "        dataset[tuple(pair)] = {\"positives\":positives, \"negatives\":negatives, \"graph\": tg.data.Data(**graph_data)}\n",
    "        \n",
    "        if i > 100:\n",
    "            break"
   ]
  },
  {
   "cell_type": "code",
   "execution_count": 47,
   "id": "1cff2561-f3d1-4926-a5bc-eec64a193cf6",
   "metadata": {
    "tags": []
   },
   "outputs": [],
   "source": [
    "import dgl\n",
    "\n",
    "example = next(iter(dataset.values()))\n",
    "pyg_data = example[\"graph\"]\n",
    "# Convert edge_index from PyG format to DGL format\n",
    "src, dst = pyg_data.edge_index\n",
    "\n",
    "# Create a DGL graph\n",
    "dgl_graph = dgl.graph((src, dst))\n",
    "\n",
    "# Add node features\n",
    "dgl_graph.ndata['feat'] = pyg_data.x\n",
    "\n",
    "# Add edge features\n",
    "dgl_graph.edata['feat'] = pyg_data.edge_attr"
   ]
  },
  {
   "cell_type": "code",
   "execution_count": 54,
   "id": "1bcdcbb1-ef16-40d6-9b06-d096cb28b89f",
   "metadata": {},
   "outputs": [
    {
     "data": {
      "text/plain": [
       "torch.Size([1, 64])"
      ]
     },
     "execution_count": 54,
     "metadata": {},
     "output_type": "execute_result"
    }
   ],
   "source": [
    "from dgllife.model.gnn import MPNNGNN\n",
    "\n",
    "class Encoder(torch.nn.Module):\n",
    "    def __init__(self,node_out_feats=64,edge_hidden_feats=128,num_step_message_passing=6):\n",
    "        super(Encoder, self).__init__()\n",
    "        self.conv = MPNNGNN(node_in_feats=9,edge_in_feats=3,node_out_feats=node_out_feats,edge_hidden_feats=edge_hidden_feats,num_step_message_passing=num_step_message_passing)\n",
    "        # https://github.com/davidbuterez/multi-fidelity-gnns-for-drug-discovery-and-quantum-mechanics/blob/3f39d12b66447f62960bf9e4b45070b266328555/schnet_multiple_fidelities/schnet_high_fidelity.py#L159\n",
    "        self.readout = tg.nn.aggr.set_transformer.SetTransformerAggregation(node_out_feats,heads=8,num_encoder_blocks=2,num_decoder_blocks=2)\n",
    "\n",
    "    def forward(self,x):\n",
    "        node_feats: torch.Tensor = x.ndata[\"feat\"]\n",
    "        edge_feats: torch.Tensor = x.edata[\"feat\"]\n",
    "        return self.readout(self.conv(x,node_feats,edge_feats))\n",
    "    \n",
    "# model = Encoder()\n",
    "# model(example[\"graph\"])\n",
    "\n",
    "model = Encoder()\n",
    "# Forward pass through the NNConv layer\n",
    "\n",
    "model(dgl_graph).shape"
   ]
  },
  {
   "cell_type": "code",
   "execution_count": 10,
   "id": "65395d40-0479-443b-ad2b-3993f07113e9",
   "metadata": {
    "tags": []
   },
   "outputs": [
    {
     "data": {
      "text/plain": [
       "Data(x=[24, 9], edge_index=[2, 44], edge_attr=[44, 3])"
      ]
     },
     "execution_count": 10,
     "metadata": {},
     "output_type": "execute_result"
    }
   ],
   "source": []
  }
 ],
 "metadata": {
  "kernelspec": {
   "display_name": "Python 3 (ipykernel)",
   "language": "python",
   "name": "python3"
  },
  "language_info": {
   "codemirror_mode": {
    "name": "ipython",
    "version": 3
   },
   "file_extension": ".py",
   "mimetype": "text/x-python",
   "name": "python",
   "nbconvert_exporter": "python",
   "pygments_lexer": "ipython3",
   "version": "3.11.5"
  }
 },
 "nbformat": 4,
 "nbformat_minor": 5
}
