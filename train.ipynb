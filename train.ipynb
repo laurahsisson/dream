{
  "nbformat": 4,
  "nbformat_minor": 0,
  "metadata": {
    "colab": {
      "provenance": [],
      "gpuType": "L4",
      "machine_shape": "hm",
      "mount_file_id": "1YiuZY2yHwxKwiHyUYGoLLCN0ztPC7exN",
      "authorship_tag": "ABX9TyPoc+S/lsSPQUts37IMMlFo"
    },
    "kernelspec": {
      "name": "python3",
      "display_name": "Python 3"
    },
    "language_info": {
      "name": "python"
    },
    "accelerator": "GPU"
  },
  "cells": [
    {
      "cell_type": "code",
      "execution_count": null,
      "metadata": {
        "colab": {
          "base_uri": "https://localhost:8080/"
        },
        "id": "J42yikQ0mwF0",
        "executionInfo": {
          "status": "ok",
          "timestamp": 1718764855095,
          "user_tz": 240,
          "elapsed": 396,
          "user": {
            "displayName": "Laura Sisson",
            "userId": "13985502108438611335"
          }
        },
        "outputId": "3566cd26-c7e2-41d0-c95b-00ce72396cd1"
      },
      "outputs": [
        {
          "output_type": "stream",
          "name": "stdout",
          "text": [
            " Data  'Dream Olfactory Mixtures Plan.gdoc'   preprocess.ipynb\t train.ipynb   Trials\n"
          ]
        }
      ],
      "source": [
        "import os\n",
        "os.chdir(\"/content/drive/MyDrive/DREAM\")\n",
        "!ls"
      ]
    },
    {
      "cell_type": "code",
      "source": [
        "!pip install torch-geometric\n",
        "!pip install info-nce-pytorch"
      ],
      "metadata": {
        "colab": {
          "base_uri": "https://localhost:8080/"
        },
        "id": "OJSsUuG6rXqP",
        "executionInfo": {
          "status": "ok",
          "timestamp": 1718764866164,
          "user_tz": 240,
          "elapsed": 10540,
          "user": {
            "displayName": "Laura Sisson",
            "userId": "13985502108438611335"
          }
        },
        "outputId": "4f563da3-251e-463b-bfb5-9620ae207dd1"
      },
      "execution_count": null,
      "outputs": [
        {
          "output_type": "stream",
          "name": "stdout",
          "text": [
            "Requirement already satisfied: torch-geometric in /usr/local/lib/python3.10/dist-packages (2.5.3)\n",
            "Requirement already satisfied: tqdm in /usr/local/lib/python3.10/dist-packages (from torch-geometric) (4.66.4)\n",
            "Requirement already satisfied: numpy in /usr/local/lib/python3.10/dist-packages (from torch-geometric) (1.25.2)\n",
            "Requirement already satisfied: scipy in /usr/local/lib/python3.10/dist-packages (from torch-geometric) (1.11.4)\n",
            "Requirement already satisfied: fsspec in /usr/local/lib/python3.10/dist-packages (from torch-geometric) (2023.6.0)\n",
            "Requirement already satisfied: jinja2 in /usr/local/lib/python3.10/dist-packages (from torch-geometric) (3.1.4)\n",
            "Requirement already satisfied: aiohttp in /usr/local/lib/python3.10/dist-packages (from torch-geometric) (3.9.5)\n",
            "Requirement already satisfied: requests in /usr/local/lib/python3.10/dist-packages (from torch-geometric) (2.31.0)\n",
            "Requirement already satisfied: pyparsing in /usr/local/lib/python3.10/dist-packages (from torch-geometric) (3.1.2)\n",
            "Requirement already satisfied: scikit-learn in /usr/local/lib/python3.10/dist-packages (from torch-geometric) (1.2.2)\n",
            "Requirement already satisfied: psutil>=5.8.0 in /usr/local/lib/python3.10/dist-packages (from torch-geometric) (5.9.5)\n",
            "Requirement already satisfied: aiosignal>=1.1.2 in /usr/local/lib/python3.10/dist-packages (from aiohttp->torch-geometric) (1.3.1)\n",
            "Requirement already satisfied: attrs>=17.3.0 in /usr/local/lib/python3.10/dist-packages (from aiohttp->torch-geometric) (23.2.0)\n",
            "Requirement already satisfied: frozenlist>=1.1.1 in /usr/local/lib/python3.10/dist-packages (from aiohttp->torch-geometric) (1.4.1)\n",
            "Requirement already satisfied: multidict<7.0,>=4.5 in /usr/local/lib/python3.10/dist-packages (from aiohttp->torch-geometric) (6.0.5)\n",
            "Requirement already satisfied: yarl<2.0,>=1.0 in /usr/local/lib/python3.10/dist-packages (from aiohttp->torch-geometric) (1.9.4)\n",
            "Requirement already satisfied: async-timeout<5.0,>=4.0 in /usr/local/lib/python3.10/dist-packages (from aiohttp->torch-geometric) (4.0.3)\n",
            "Requirement already satisfied: MarkupSafe>=2.0 in /usr/local/lib/python3.10/dist-packages (from jinja2->torch-geometric) (2.1.5)\n",
            "Requirement already satisfied: charset-normalizer<4,>=2 in /usr/local/lib/python3.10/dist-packages (from requests->torch-geometric) (3.3.2)\n",
            "Requirement already satisfied: idna<4,>=2.5 in /usr/local/lib/python3.10/dist-packages (from requests->torch-geometric) (3.7)\n",
            "Requirement already satisfied: urllib3<3,>=1.21.1 in /usr/local/lib/python3.10/dist-packages (from requests->torch-geometric) (2.0.7)\n",
            "Requirement already satisfied: certifi>=2017.4.17 in /usr/local/lib/python3.10/dist-packages (from requests->torch-geometric) (2024.6.2)\n",
            "Requirement already satisfied: joblib>=1.1.1 in /usr/local/lib/python3.10/dist-packages (from scikit-learn->torch-geometric) (1.4.2)\n",
            "Requirement already satisfied: threadpoolctl>=2.0.0 in /usr/local/lib/python3.10/dist-packages (from scikit-learn->torch-geometric) (3.5.0)\n",
            "Requirement already satisfied: info-nce-pytorch in /usr/local/lib/python3.10/dist-packages (0.1.4)\n",
            "Requirement already satisfied: torch in /usr/local/lib/python3.10/dist-packages (from info-nce-pytorch) (2.3.0+cu121)\n",
            "Requirement already satisfied: filelock in /usr/local/lib/python3.10/dist-packages (from torch->info-nce-pytorch) (3.14.0)\n",
            "Requirement already satisfied: typing-extensions>=4.8.0 in /usr/local/lib/python3.10/dist-packages (from torch->info-nce-pytorch) (4.12.2)\n",
            "Requirement already satisfied: sympy in /usr/local/lib/python3.10/dist-packages (from torch->info-nce-pytorch) (1.12.1)\n",
            "Requirement already satisfied: networkx in /usr/local/lib/python3.10/dist-packages (from torch->info-nce-pytorch) (3.3)\n",
            "Requirement already satisfied: jinja2 in /usr/local/lib/python3.10/dist-packages (from torch->info-nce-pytorch) (3.1.4)\n",
            "Requirement already satisfied: fsspec in /usr/local/lib/python3.10/dist-packages (from torch->info-nce-pytorch) (2023.6.0)\n",
            "Requirement already satisfied: nvidia-cuda-nvrtc-cu12==12.1.105 in /usr/local/lib/python3.10/dist-packages (from torch->info-nce-pytorch) (12.1.105)\n",
            "Requirement already satisfied: nvidia-cuda-runtime-cu12==12.1.105 in /usr/local/lib/python3.10/dist-packages (from torch->info-nce-pytorch) (12.1.105)\n",
            "Requirement already satisfied: nvidia-cuda-cupti-cu12==12.1.105 in /usr/local/lib/python3.10/dist-packages (from torch->info-nce-pytorch) (12.1.105)\n",
            "Requirement already satisfied: nvidia-cudnn-cu12==8.9.2.26 in /usr/local/lib/python3.10/dist-packages (from torch->info-nce-pytorch) (8.9.2.26)\n",
            "Requirement already satisfied: nvidia-cublas-cu12==12.1.3.1 in /usr/local/lib/python3.10/dist-packages (from torch->info-nce-pytorch) (12.1.3.1)\n",
            "Requirement already satisfied: nvidia-cufft-cu12==11.0.2.54 in /usr/local/lib/python3.10/dist-packages (from torch->info-nce-pytorch) (11.0.2.54)\n",
            "Requirement already satisfied: nvidia-curand-cu12==10.3.2.106 in /usr/local/lib/python3.10/dist-packages (from torch->info-nce-pytorch) (10.3.2.106)\n",
            "Requirement already satisfied: nvidia-cusolver-cu12==11.4.5.107 in /usr/local/lib/python3.10/dist-packages (from torch->info-nce-pytorch) (11.4.5.107)\n",
            "Requirement already satisfied: nvidia-cusparse-cu12==12.1.0.106 in /usr/local/lib/python3.10/dist-packages (from torch->info-nce-pytorch) (12.1.0.106)\n",
            "Requirement already satisfied: nvidia-nccl-cu12==2.20.5 in /usr/local/lib/python3.10/dist-packages (from torch->info-nce-pytorch) (2.20.5)\n",
            "Requirement already satisfied: nvidia-nvtx-cu12==12.1.105 in /usr/local/lib/python3.10/dist-packages (from torch->info-nce-pytorch) (12.1.105)\n",
            "Requirement already satisfied: triton==2.3.0 in /usr/local/lib/python3.10/dist-packages (from torch->info-nce-pytorch) (2.3.0)\n",
            "Requirement already satisfied: nvidia-nvjitlink-cu12 in /usr/local/lib/python3.10/dist-packages (from nvidia-cusolver-cu12==11.4.5.107->torch->info-nce-pytorch) (12.5.40)\n",
            "Requirement already satisfied: MarkupSafe>=2.0 in /usr/local/lib/python3.10/dist-packages (from jinja2->torch->info-nce-pytorch) (2.1.5)\n",
            "Requirement already satisfied: mpmath<1.4.0,>=1.1.0 in /usr/local/lib/python3.10/dist-packages (from sympy->torch->info-nce-pytorch) (1.3.0)\n"
          ]
        }
      ]
    },
    {
      "cell_type": "code",
      "source": [
        "import json\n",
        "import h5py\n",
        "import base64\n",
        "import tqdm\n",
        "import torch\n",
        "import torch_geometric as tg\n",
        "import numpy as np\n",
        "\n",
        "def decode_smiles(encoded):\n",
        "    return base64.urlsafe_b64decode(encoded.encode()).decode()\n",
        "\n",
        "missing = 0\n",
        "full_dataset = dict()\n",
        "lim = None\n",
        "\n",
        "with h5py.File('Data/dataset.h5', 'r') as f:\n",
        "    for i, encoded_pair in enumerate(tqdm.tqdm(f.keys())):\n",
        "        pair_str = decode_smiles(encoded_pair)\n",
        "        pair = json.loads(pair_str)\n",
        "\n",
        "        group = f[encoded_pair]\n",
        "\n",
        "        positives = group['positives'][:].astype(str).tolist()\n",
        "        if not positives:\n",
        "          missing += 1\n",
        "          continue\n",
        "\n",
        "        negatives = group['negatives'][:].astype(str).tolist()\n",
        "        if not negatives:\n",
        "          missing += 1\n",
        "          continue\n",
        "\n",
        "        graph_group = group['graph']\n",
        "        graph_data = {k: torch.tensor(np.array(v)) for k, v in graph_group.items()}\n",
        "        graph_data = {k: v.float() if k != \"edge_index\" else v.long() for k, v in graph_data.items()}\n",
        "\n",
        "        full_dataset[tuple(pair)] = {\"positives\":positives, \"negatives\":negatives, \"graph\": tg.data.Data(**graph_data)}\n",
        "\n",
        "        if lim and i > lim:\n",
        "            break\n",
        "\n",
        "len(full_dataset), missing"
      ],
      "metadata": {
        "colab": {
          "base_uri": "https://localhost:8080/"
        },
        "id": "Wv6pWNvunK92",
        "executionInfo": {
          "status": "ok",
          "timestamp": 1718765309792,
          "user_tz": 240,
          "elapsed": 443649,
          "user": {
            "displayName": "Laura Sisson",
            "userId": "13985502108438611335"
          }
        },
        "outputId": "8ee98c43-0a56-492f-f269-e1cd85685e51"
      },
      "execution_count": null,
      "outputs": [
        {
          "output_type": "stream",
          "name": "stderr",
          "text": [
            "100%|██████████| 166733/166733 [07:18<00:00, 380.02it/s]\n"
          ]
        },
        {
          "output_type": "execute_result",
          "data": {
            "text/plain": [
              "(165192, 1541)"
            ]
          },
          "metadata": {},
          "execution_count": 3
        }
      ]
    },
    {
      "cell_type": "code",
      "source": [
        "molecule_dictionary = torch.save(dictionary,\"dictionary.pt\")\n"
      ],
      "metadata": {
        "id": "L8RLwT4CS4jP"
      },
      "execution_count": null,
      "outputs": []
    },
    {
      "cell_type": "code",
      "source": [
        "import uuid\n",
        "TRIAL_ID_LENGTH = 6\n",
        "trial_id = str(uuid.uuid4())[:TRIAL_ID_LENGTH]\n",
        "trial_id"
      ],
      "metadata": {
        "colab": {
          "base_uri": "https://localhost:8080/",
          "height": 35
        },
        "id": "4uehsNnd2hO3",
        "executionInfo": {
          "status": "ok",
          "timestamp": 1718765309792,
          "user_tz": 240,
          "elapsed": 6,
          "user": {
            "displayName": "Laura Sisson",
            "userId": "13985502108438611335"
          }
        },
        "outputId": "51e48218-78f6-4976-81c4-c8e98133bbcb"
      },
      "execution_count": null,
      "outputs": [
        {
          "output_type": "execute_result",
          "data": {
            "text/plain": [
              "'4f5a92'"
            ],
            "application/vnd.google.colaboratory.intrinsic+json": {
              "type": "string"
            }
          },
          "metadata": {},
          "execution_count": 4
        }
      ]
    },
    {
      "cell_type": "code",
      "source": [
        "import sklearn\n",
        "import sklearn.model_selection\n",
        "test_size = 10000\n",
        "all_keys = list(full_dataset.keys())\n",
        "train_keys, test_keys = sklearn.model_selection.train_test_split(all_keys,test_size=test_size)\n",
        "train_dataset = {k:full_dataset[k] for k in train_keys}\n",
        "test_dataset = {k:full_dataset[k] for k in test_keys}\n",
        "len(train_dataset), len(test_dataset)"
      ],
      "metadata": {
        "colab": {
          "base_uri": "https://localhost:8080/"
        },
        "id": "1sMIYHTWl_h_",
        "executionInfo": {
          "status": "ok",
          "timestamp": 1718765310403,
          "user_tz": 240,
          "elapsed": 615,
          "user": {
            "displayName": "Laura Sisson",
            "userId": "13985502108438611335"
          }
        },
        "outputId": "0e90037a-849a-4d8f-f840-a467e43e2ebb"
      },
      "execution_count": null,
      "outputs": [
        {
          "output_type": "execute_result",
          "data": {
            "text/plain": [
              "(155192, 10000)"
            ]
          },
          "metadata": {},
          "execution_count": 5
        }
      ]
    },
    {
      "cell_type": "code",
      "source": [
        "from torch_geometric.data import Data\n",
        "from torch_geometric.loader import DataLoader\n",
        "from torch_geometric.data import Batch\n",
        "from torch_geometric.data import Dataset\n",
        "import random\n",
        "random.seed(42)\n",
        "# Because we are partitioning the dataset, we may not always be able to find\n",
        "# a positive for each anchor. If we fail after this many tries, we just skip the\n",
        "# anchor.\n",
        "lookup_count = 1000\n",
        "\n",
        "def get_in_dataset(dataset,pair,key):\n",
        "    smiles = \"\"\n",
        "    i = 0\n",
        "    # We do random searching because each split may or may not have the requisite\n",
        "    # pairs to form a anchor/positive/negative triplet.\n",
        "    while not smiles in dataset:\n",
        "        smiles = tuple(random.choice(dataset[pair][key]))\n",
        "        i += 1\n",
        "        if i > lookup_count:\n",
        "          raise LookupError(f\"Couldn't find a valid item for {key}\")\n",
        "    return smiles\n",
        "\n",
        "def triplet_graph_generator(dataset,repetitions,num_negatives):\n",
        "    for _ in tqdm.tqdm(range(repetitions)):\n",
        "      for anchor in dataset.keys():\n",
        "          try:\n",
        "            positive = get_in_dataset(dataset,anchor,\"positives\")\n",
        "            negatives = [get_in_dataset(dataset,anchor,\"negatives\") for _ in range(num_negatives)]\n",
        "            yield anchor, positive, negatives\n",
        "          except LookupError as e:\n",
        "            continue\n",
        "\n",
        "class TripletGraphDataset(Dataset):\n",
        "    def __init__(self, dataset, repetitions, num_negatives):\n",
        "        super(TripletGraphDataset, self).__init__()\n",
        "         # Converting generator to list for len() support\n",
        "        self.dataset = dataset\n",
        "        self.data_list = list(triplet_graph_generator(dataset, repetitions, num_negatives))\n",
        "\n",
        "    def len(self):\n",
        "        return len(self.data_list)\n",
        "\n",
        "    def get(self, idx):\n",
        "        anchor, positive, negatives = self.data_list[idx]\n",
        "        # Could change this to a dictionary\n",
        "        return self.dataset[anchor][\"graph\"], self.dataset[positive][\"graph\"], [self.dataset[negative][\"graph\"] for negative in negatives]\n",
        "\n",
        "\n",
        "def triplet_collate_fn(batch):\n",
        "    anchors, positives, negatives = [], [], []\n",
        "    for anchor, positive, neg_list in batch:\n",
        "        anchors.append(anchor)\n",
        "        positives.append(positive)\n",
        "        negatives.extend(neg_list)\n",
        "    return Batch.from_data_list(anchors), Batch.from_data_list(positives), Batch.from_data_list(negatives)\n",
        "\n",
        "# Need to switch the number of negatives over time (this will mean lowering bsz)\n",
        "# Create an instance of the custom dataset\n",
        "# This is quite large. Depending on system ram we may need to rethink the way batches are\n",
        "# loaded in. There is a large amount of duplication.\n",
        "# Also, our train and test splits should share no common anchors/pairs.\n",
        "# Its ok if they have common molecules, but they shouldn't have common blends.\n",
        "# We could just split the dataset and go from there.\n",
        "\n",
        "train_reps = 150\n",
        "train = TripletGraphDataset(train_dataset,train_reps,0)\n",
        "\n",
        "test_reps = 1\n",
        "test = TripletGraphDataset(test_dataset,test_reps,0)\n",
        "print(f\"Train = {len(train):,}. Test = {len(test):,}.\")"
      ],
      "metadata": {
        "colab": {
          "base_uri": "https://localhost:8080/"
        },
        "id": "sPVSRLdprr_w",
        "executionInfo": {
          "status": "ok",
          "timestamp": 1718765453682,
          "user_tz": 240,
          "elapsed": 143281,
          "user": {
            "displayName": "Laura Sisson",
            "userId": "13985502108438611335"
          }
        },
        "outputId": "e707cb8e-c943-4b1b-8028-4217da9613f9"
      },
      "execution_count": null,
      "outputs": [
        {
          "output_type": "stream",
          "name": "stderr",
          "text": [
            "100%|██████████| 150/150 [02:22<00:00,  1.05it/s]\n",
            "100%|██████████| 1/1 [00:00<00:00,  2.46it/s]"
          ]
        },
        {
          "output_type": "stream",
          "name": "stdout",
          "text": [
            "Train = 23,273,100. Test = 9,735.\n"
          ]
        },
        {
          "output_type": "stream",
          "name": "stderr",
          "text": [
            "\n"
          ]
        }
      ]
    },
    {
      "cell_type": "code",
      "source": [
        "def count_parameters(module):\n",
        "    return \"{:,}\".format(sum(p.numel() for p in module.parameters()))\n",
        "\n",
        "def readout_counts(module):\n",
        "    results = {\"total\":count_parameters(module)}\n",
        "    for n, c in module.named_children():\n",
        "        results[n] = count_parameters(c)\n",
        "    return results"
      ],
      "metadata": {
        "id": "dmP6UVd7rtor"
      },
      "execution_count": null,
      "outputs": []
    },
    {
      "cell_type": "code",
      "source": [
        "import torch.nn as nn\n",
        "import torch.nn.functional as F\n",
        "\n",
        "# Shamelessly stolen from (and converted to PytorchGeometric)\n",
        "# https://lifesci.dgl.ai/_modules/dgllife/model/gnn/mpnn.html\n",
        "class MPNNGNN(nn.Module):\n",
        "    \"\"\"MPNN.\n",
        "\n",
        "    MPNN is introduced in `Neural Message Passing for Quantum Chemistry\n",
        "    <https://arxiv.org/abs/1704.01212>`__.\n",
        "\n",
        "    This class performs message passing in MPNN and returns the updated node representations.\n",
        "\n",
        "    Parameters\n",
        "    ----------\n",
        "    node_in_feats : int\n",
        "        Size for the input node features.\n",
        "    node_out_feats : int\n",
        "        Size for the output node representations.\n",
        "    edge_in_feats : int\n",
        "        Size for the input edge features.\n",
        "    edge_hidden_feats : int\n",
        "        Size for the hidden edge representations.\n",
        "    num_step_message_passing : int\n",
        "        Number of message passing steps.\n",
        "    \"\"\"\n",
        "    def __init__(self, node_in_feats, edge_in_feats, node_out_feats,\n",
        "                 edge_hidden_feats, num_step_message_passing, dropout):\n",
        "        super(MPNNGNN, self).__init__()\n",
        "\n",
        "        # This should be changed to node wise dropout. But maybe not?\n",
        "        # See https://arxiv.org/pdf/1411.4280\n",
        "        self.project_node_feats = nn.Sequential(\n",
        "            nn.Linear(node_in_feats, node_out_feats),\n",
        "            nn.ReLU(),\n",
        "            nn.Dropout(dropout)\n",
        "        )\n",
        "        self.num_step_message_passing = num_step_message_passing\n",
        "        edge_network = nn.Sequential(\n",
        "            nn.Linear(edge_in_feats, edge_hidden_feats),\n",
        "            nn.ReLU(), # Could add dropout after this.\n",
        "            nn.Linear(edge_hidden_feats, node_out_feats * node_out_feats),\n",
        "            nn.Dropout(dropout) # This one is after the largest by far.\n",
        "        )\n",
        "\n",
        "        self.gnn_layer = tg.nn.conv.NNConv(\n",
        "            in_channels=node_out_feats,\n",
        "            out_channels=node_out_feats,\n",
        "            nn=edge_network,\n",
        "            aggr='sum' # If this doesn't work, try `aggregator_type='sum'`\n",
        "\n",
        "        )\n",
        "\n",
        "        # If we add a second layer, we could add dropout.\n",
        "        self.gru = nn.GRU(node_out_feats, node_out_feats,bidirectional=False)\n",
        "        self.final_dropout = nn.Dropout(dropout)\n",
        "\n",
        "\n",
        "    def forward(self, graph):\n",
        "        \"\"\"Performs message passing and updates node representations.\n",
        "\n",
        "        Parameters\n",
        "        ----------\n",
        "        g : DGLGraph\n",
        "            DGLGraph for a batch of graphs.\n",
        "        node_feats : float32 tensor of shape (V, node_in_feats)\n",
        "            Input node features. V for the number of nodes in the batch of graphs.\n",
        "        edge_feats : float32 tensor of shape (E, edge_in_feats)\n",
        "            Input edge features. E for the number of edges in the batch of graphs.\n",
        "\n",
        "        Returns\n",
        "        -------\n",
        "        node_feats : float32 tensor of shape (V, node_out_feats)\n",
        "            Output node representations.\n",
        "        \"\"\"\n",
        "        node_feats = graph.x\n",
        "        edge_feats = graph.edge_attr\n",
        "        node_feats = self.project_node_feats(node_feats) # (V, node_out_feats)\n",
        "        hidden_feats = node_feats.unsqueeze(0)           # (1, V, node_out_feats)\n",
        "\n",
        "        for _ in range(self.num_step_message_passing):\n",
        "            node_feats = F.relu(self.gnn_layer(node_feats, graph.edge_index, edge_feats))\n",
        "            node_feats, hidden_feats = self.gru(node_feats.unsqueeze(0), hidden_feats)\n",
        "            node_feats = self.final_dropout(node_feats.squeeze(0))\n",
        "\n",
        "        return node_feats\n",
        "\n",
        "# My sense is that we should have multiple convolutions\n",
        "# Earlier convolutions have more message passing steps (equivalent to kernel size)\n",
        "# but smaller node/hidden feature sizes (equivalent to channels).\n",
        "# AlexNet pools between some of the convolutions.\n",
        "# I'm unsure what would be the equivalent. How would we merge nodes?\n",
        "# Also, we could maybe augment the graphs with edges (decrease or increase over time)\n",
        "class Encoder(torch.nn.Module):\n",
        "    def __init__(self,node_out_feats,edge_hidden_feats,num_step_message_passing, num_sabs, heads, dropout):\n",
        "        super(Encoder, self).__init__()\n",
        "        self.conv = MPNNGNN(node_in_feats=9,edge_in_feats=3,node_out_feats=node_out_feats,edge_hidden_feats=edge_hidden_feats,num_step_message_passing=num_step_message_passing,dropout=dropout)\n",
        "        # https://github.com/davidbuterez/multi-fidelity-gnns-for-drug-discovery-and-quantum-mechanics/blob/3f39d12b66447f62960bf9e4b45070b266328555/schnet_multiple_fidelities/schnet_high_fidelity.py#L159\n",
        "        # self.readout = tg.nn.aggr.set_transformer.SetTransformerAggregation(node_out_feats,heads=8,num_encoder_blocks=2,num_decoder_blocks=2,dropout=dropout)\n",
        "        self.readout = tg.nn.aggr.set_transformer.SetTransformerAggregation(node_out_feats,heads=heads,num_encoder_blocks=num_sabs,num_decoder_blocks=num_sabs,dropout=dropout)\n",
        "\n",
        "    # Cannot get gradient checkpointing to work b/c the SetTransformerAggregation\n",
        "    # computes dropout internally and doesn't allow checkpointing.\n",
        "    # We can't combine checkpointing and gradient checkpointing without causing issues.\n",
        "    # So we could commit to no dropout.\n",
        "    def forward(self,graph):\n",
        "        x = self.conv(graph)\n",
        "        if \"batch\" in graph:\n",
        "            return self.readout(x,graph.batch)\n",
        "        return self.readout(x)\n",
        "\n",
        "    def count_parameters(self):\n",
        "        return {\"total\":count_parameters(self), \"conv\":count_parameters(self.conv), \"readout\":count_parameters(self.readout)}\n",
        "\n",
        "# model = Encoder()\n",
        "# model(example[\"graph\"])\n",
        "\n",
        "config = {\"node_out_feats\":128,\"edge_hidden_feats\":128,\"num_step_message_passing\":5, \"num_sabs\":8,\"dropout\":0.1, \"heads\":8}\n",
        "print(config)\n",
        "ex_model = Encoder(**config)\n",
        "# Forward pass through the NNConv layer\n",
        "\n",
        "example = next(iter(full_dataset.values()))\n",
        "print(ex_model(example[\"graph\"]).shape)\n",
        "print(readout_counts(ex_model))\n",
        "print(readout_counts(ex_model.conv))"
      ],
      "metadata": {
        "id": "K4GVkqWqrvHe",
        "colab": {
          "base_uri": "https://localhost:8080/"
        },
        "executionInfo": {
          "status": "ok",
          "timestamp": 1718765453682,
          "user_tz": 240,
          "elapsed": 4,
          "user": {
            "displayName": "Laura Sisson",
            "userId": "13985502108438611335"
          }
        },
        "outputId": "7d727ab0-d6df-45d5-de05-c55e5ee2a2c9"
      },
      "execution_count": null,
      "outputs": [
        {
          "output_type": "stream",
          "name": "stdout",
          "text": [
            "{'node_out_feats': 128, 'edge_hidden_feats': 128, 'num_step_message_passing': 5, 'num_sabs': 8, 'dropout': 0.1, 'heads': 8}\n",
            "torch.Size([1, 128])\n",
            "{'total': '3,651,072', 'conv': '2,230,912', 'readout': '1,420,160'}\n",
            "{'total': '2,230,912', 'project_node_feats': '1,280', 'gnn_layer': '2,130,560', 'gru': '99,072', 'final_dropout': '0'}\n"
          ]
        }
      ]
    },
    {
      "cell_type": "code",
      "source": [
        "import info_nce\n",
        "import os\n",
        "\n",
        "def save(path):\n",
        "  os.makedirs(path,exist_ok=True)\n",
        "  torch.save({\"train_loss\":train_losses, \"test_loss\":test_losses},os.path.join(path,\"losses.pt\"))\n",
        "  torch.save(config,os.path.join(path,\"config.pt\"))\n",
        "  torch.save(model.state_dict(),os.path.join(path,\"model.pt\"))\n",
        "\n",
        "# Create a DataLoader with a custom collate function\n",
        "bsz = 2**10\n",
        "print(f\"Batch size of {bsz:,}.\")\n",
        "train_loader = DataLoader(train, batch_size=bsz, shuffle=True, collate_fn=triplet_collate_fn)\n",
        "# Though we could evaluate with a larger bsz, we don't strictly need to.\n",
        "test_loader = DataLoader(test, batch_size=bsz, shuffle=True, collate_fn=triplet_collate_fn)\n",
        "\n",
        "model = Encoder(**config)\n",
        "optimizer = torch.optim.Adam(model.parameters(),lr=2e-4)\n",
        "scaler = torch.cuda.amp.GradScaler()\n",
        "loss_fn = info_nce.InfoNCE()\n",
        "model.cuda()\n",
        "\n",
        "iters_per_tl = 100\n",
        "save_fraction = .1\n",
        "iters_per_save = int(len(train_loader)*save_fraction)\n",
        "print(f\"Saving every {iters_per_save} steps.\")\n",
        "test_losses = []\n",
        "train_losses = []\n",
        "btls = []\n",
        "\n",
        "def to_gpu(batch):\n",
        "  anchors, positives, negatives = batch\n",
        "  return anchors.cuda(), positives.cuda(), [n.cuda() for n in negatives]\n",
        "\n",
        "def calc_loss(batch):\n",
        "    anchors, positives, negatives = to_gpu(batch)\n",
        "    anchor_embeds = model(anchors)\n",
        "    positives_embeds = model(positives)\n",
        "    return loss_fn(anchor_embeds,positives_embeds)\n",
        "\n",
        "def calc_test_loss():\n",
        "  tls = []\n",
        "  with torch.no_grad():\n",
        "    for tbatch in test_loader:\n",
        "      with torch.cuda.amp.autocast():\n",
        "        tls.append(calc_loss(tbatch).cpu().detach().numpy())\n",
        "  return np.mean(tls)\n",
        "\n",
        "for i, batch in enumerate(tqdm.tqdm(train_loader,smoothing=0)):\n",
        "    with torch.cuda.amp.autocast():\n",
        "      loss = calc_loss(batch)\n",
        "\n",
        "    scaler.scale(loss).backward()\n",
        "    scaler.step(optimizer)\n",
        "    scaler.update()\n",
        "    optimizer.zero_grad()\n",
        "    btls.append(loss.cpu().detach())\n",
        "\n",
        "    if (i+1) % iters_per_tl == 0:\n",
        "      # We calculate the train loss averaged across a number of train steps.\n",
        "      train_losses.append(np.mean(btls))\n",
        "      btls = []\n",
        "      test_losses.append(calc_test_loss())\n",
        "      print(f\"\\nStep {i}. Train = {train_losses[-1]:.3f}. Test = {test_losses[-1]:.3f}\")\n",
        "\n",
        "    if (i+1) % int(len(train_loader)*save_fraction) == 0:\n",
        "      print(f\"Checkoint at {i}.\")\n",
        "      save(os.path.join(\"Trials\",trial_id,f\"step{i}\"))"
      ],
      "metadata": {
        "colab": {
          "base_uri": "https://localhost:8080/",
          "height": 1000
        },
        "id": "SRby87UZseap",
        "executionInfo": {
          "status": "error",
          "timestamp": 1718772065547,
          "user_tz": 240,
          "elapsed": 6611868,
          "user": {
            "displayName": "Laura Sisson",
            "userId": "13985502108438611335"
          }
        },
        "outputId": "712192f8-1df9-4f02-922f-743ed0fa7d86"
      },
      "execution_count": null,
      "outputs": [
        {
          "output_type": "stream",
          "name": "stdout",
          "text": [
            "Batch size of 1,024.\n",
            "Saving every 2272 steps.\n"
          ]
        },
        {
          "output_type": "stream",
          "name": "stderr",
          "text": [
            "  0%|          | 100/22728 [00:55<3:29:36,  1.80it/s]"
          ]
        },
        {
          "output_type": "stream",
          "name": "stdout",
          "text": [
            "\\Step 99. Train = 6.882. Test = 6.780\n"
          ]
        },
        {
          "output_type": "stream",
          "name": "stderr",
          "text": [
            "  1%|          | 200/22728 [01:47<3:22:37,  1.85it/s]"
          ]
        },
        {
          "output_type": "stream",
          "name": "stdout",
          "text": [
            "\\Step 199. Train = 6.779. Test = 6.692\n"
          ]
        },
        {
          "output_type": "stream",
          "name": "stderr",
          "text": [
            "  1%|▏         | 300/22728 [02:38<3:17:47,  1.89it/s]"
          ]
        },
        {
          "output_type": "stream",
          "name": "stdout",
          "text": [
            "\\Step 299. Train = 6.706. Test = 6.626\n"
          ]
        },
        {
          "output_type": "stream",
          "name": "stderr",
          "text": [
            "  2%|▏         | 400/22728 [03:30<3:15:25,  1.90it/s]"
          ]
        },
        {
          "output_type": "stream",
          "name": "stdout",
          "text": [
            "\\Step 399. Train = 6.627. Test = 6.561\n"
          ]
        },
        {
          "output_type": "stream",
          "name": "stderr",
          "text": [
            "  2%|▏         | 500/22728 [04:20<3:13:22,  1.92it/s]"
          ]
        },
        {
          "output_type": "stream",
          "name": "stdout",
          "text": [
            "\\Step 499. Train = 6.563. Test = 6.505\n"
          ]
        },
        {
          "output_type": "stream",
          "name": "stderr",
          "text": [
            "  3%|▎         | 600/22728 [05:11<3:11:21,  1.93it/s]"
          ]
        },
        {
          "output_type": "stream",
          "name": "stdout",
          "text": [
            "\\Step 599. Train = 6.505. Test = 6.454\n"
          ]
        },
        {
          "output_type": "stream",
          "name": "stderr",
          "text": [
            "  3%|▎         | 700/22728 [06:02<3:09:56,  1.93it/s]"
          ]
        },
        {
          "output_type": "stream",
          "name": "stdout",
          "text": [
            "\\Step 699. Train = 6.448. Test = 6.408\n"
          ]
        },
        {
          "output_type": "stream",
          "name": "stderr",
          "text": [
            "  4%|▎         | 800/22728 [06:51<3:08:10,  1.94it/s]"
          ]
        },
        {
          "output_type": "stream",
          "name": "stdout",
          "text": [
            "\\Step 799. Train = 6.405. Test = 6.388\n"
          ]
        },
        {
          "output_type": "stream",
          "name": "stderr",
          "text": [
            "  4%|▍         | 900/22728 [07:41<3:06:21,  1.95it/s]"
          ]
        },
        {
          "output_type": "stream",
          "name": "stdout",
          "text": [
            "\\Step 899. Train = 6.347. Test = 6.325\n"
          ]
        },
        {
          "output_type": "stream",
          "name": "stderr",
          "text": [
            "  4%|▍         | 1000/22728 [08:30<3:04:57,  1.96it/s]"
          ]
        },
        {
          "output_type": "stream",
          "name": "stdout",
          "text": [
            "\\Step 999. Train = 6.316. Test = 6.288\n"
          ]
        },
        {
          "output_type": "stream",
          "name": "stderr",
          "text": [
            "  5%|▍         | 1100/22728 [09:21<3:03:51,  1.96it/s]"
          ]
        },
        {
          "output_type": "stream",
          "name": "stdout",
          "text": [
            "\\Step 1099. Train = 6.276. Test = 6.270\n"
          ]
        },
        {
          "output_type": "stream",
          "name": "stderr",
          "text": [
            "  5%|▌         | 1200/22728 [10:11<3:02:49,  1.96it/s]"
          ]
        },
        {
          "output_type": "stream",
          "name": "stdout",
          "text": [
            "\\Step 1199. Train = 6.250. Test = 6.236\n"
          ]
        },
        {
          "output_type": "stream",
          "name": "stderr",
          "text": [
            "  6%|▌         | 1300/22728 [11:01<3:01:45,  1.96it/s]"
          ]
        },
        {
          "output_type": "stream",
          "name": "stdout",
          "text": [
            "\\Step 1299. Train = 6.211. Test = 6.210\n"
          ]
        },
        {
          "output_type": "stream",
          "name": "stderr",
          "text": [
            "  6%|▌         | 1400/22728 [11:51<3:00:40,  1.97it/s]"
          ]
        },
        {
          "output_type": "stream",
          "name": "stdout",
          "text": [
            "\\Step 1399. Train = 6.200. Test = 6.196\n"
          ]
        },
        {
          "output_type": "stream",
          "name": "stderr",
          "text": [
            "  7%|▋         | 1500/22728 [12:41<2:59:31,  1.97it/s]"
          ]
        },
        {
          "output_type": "stream",
          "name": "stdout",
          "text": [
            "\\Step 1499. Train = 6.181. Test = 6.181\n"
          ]
        },
        {
          "output_type": "stream",
          "name": "stderr",
          "text": [
            "  7%|▋         | 1600/22728 [13:31<2:58:29,  1.97it/s]"
          ]
        },
        {
          "output_type": "stream",
          "name": "stdout",
          "text": [
            "\\Step 1599. Train = 6.168. Test = 6.171\n"
          ]
        },
        {
          "output_type": "stream",
          "name": "stderr",
          "text": [
            "  7%|▋         | 1700/22728 [14:21<2:57:32,  1.97it/s]"
          ]
        },
        {
          "output_type": "stream",
          "name": "stdout",
          "text": [
            "\\Step 1699. Train = 6.144. Test = 6.150\n"
          ]
        },
        {
          "output_type": "stream",
          "name": "stderr",
          "text": [
            "  8%|▊         | 1800/22728 [15:11<2:56:35,  1.98it/s]"
          ]
        },
        {
          "output_type": "stream",
          "name": "stdout",
          "text": [
            "\\Step 1799. Train = 6.138. Test = 6.153\n"
          ]
        },
        {
          "output_type": "stream",
          "name": "stderr",
          "text": [
            "  8%|▊         | 1900/22728 [16:01<2:55:38,  1.98it/s]"
          ]
        },
        {
          "output_type": "stream",
          "name": "stdout",
          "text": [
            "\\Step 1899. Train = 6.128. Test = 6.142\n"
          ]
        },
        {
          "output_type": "stream",
          "name": "stderr",
          "text": [
            "  9%|▉         | 2000/22728 [16:51<2:54:44,  1.98it/s]"
          ]
        },
        {
          "output_type": "stream",
          "name": "stdout",
          "text": [
            "\\Step 1999. Train = 6.106. Test = 6.138\n"
          ]
        },
        {
          "output_type": "stream",
          "name": "stderr",
          "text": [
            "  9%|▉         | 2100/22728 [17:41<2:53:48,  1.98it/s]"
          ]
        },
        {
          "output_type": "stream",
          "name": "stdout",
          "text": [
            "\\Step 2099. Train = 6.100. Test = 6.129\n"
          ]
        },
        {
          "output_type": "stream",
          "name": "stderr",
          "text": [
            " 10%|▉         | 2200/22728 [18:48<2:55:27,  1.95it/s]"
          ]
        },
        {
          "output_type": "stream",
          "name": "stdout",
          "text": [
            "\\Step 2199. Train = 6.089. Test = 6.122\n"
          ]
        },
        {
          "output_type": "stream",
          "name": "stderr",
          "text": [
            " 10%|█         | 2300/22728 [19:38<2:54:31,  1.95it/s]"
          ]
        },
        {
          "output_type": "stream",
          "name": "stdout",
          "text": [
            "\\Step 2299. Train = 6.078. Test = 6.104\n"
          ]
        },
        {
          "output_type": "stream",
          "name": "stderr",
          "text": [
            " 11%|█         | 2400/22728 [20:29<2:53:33,  1.95it/s]"
          ]
        },
        {
          "output_type": "stream",
          "name": "stdout",
          "text": [
            "\\Step 2399. Train = 6.080. Test = 6.105\n"
          ]
        },
        {
          "output_type": "stream",
          "name": "stderr",
          "text": [
            " 11%|█         | 2500/22728 [21:19<2:52:33,  1.95it/s]"
          ]
        },
        {
          "output_type": "stream",
          "name": "stdout",
          "text": [
            "\\Step 2499. Train = 6.068. Test = 6.107\n"
          ]
        },
        {
          "output_type": "stream",
          "name": "stderr",
          "text": [
            " 11%|█▏        | 2600/22728 [22:09<2:51:31,  1.96it/s]"
          ]
        },
        {
          "output_type": "stream",
          "name": "stdout",
          "text": [
            "\\Step 2599. Train = 6.059. Test = 6.094\n"
          ]
        },
        {
          "output_type": "stream",
          "name": "stderr",
          "text": [
            " 12%|█▏        | 2700/22728 [22:59<2:50:31,  1.96it/s]"
          ]
        },
        {
          "output_type": "stream",
          "name": "stdout",
          "text": [
            "\\Step 2699. Train = 6.058. Test = 6.090\n"
          ]
        },
        {
          "output_type": "stream",
          "name": "stderr",
          "text": [
            " 12%|█▏        | 2800/22728 [23:49<2:49:34,  1.96it/s]"
          ]
        },
        {
          "output_type": "stream",
          "name": "stdout",
          "text": [
            "\\Step 2799. Train = 6.044. Test = 6.094\n"
          ]
        },
        {
          "output_type": "stream",
          "name": "stderr",
          "text": [
            " 13%|█▎        | 2900/22728 [24:39<2:48:36,  1.96it/s]"
          ]
        },
        {
          "output_type": "stream",
          "name": "stdout",
          "text": [
            "\\Step 2899. Train = 6.052. Test = 6.081\n"
          ]
        },
        {
          "output_type": "stream",
          "name": "stderr",
          "text": [
            " 13%|█▎        | 3000/22728 [25:29<2:47:38,  1.96it/s]"
          ]
        },
        {
          "output_type": "stream",
          "name": "stdout",
          "text": [
            "\\Step 2999. Train = 6.040. Test = 6.089\n"
          ]
        },
        {
          "output_type": "stream",
          "name": "stderr",
          "text": [
            " 14%|█▎        | 3100/22728 [26:19<2:46:42,  1.96it/s]"
          ]
        },
        {
          "output_type": "stream",
          "name": "stdout",
          "text": [
            "\\Step 3099. Train = 6.038. Test = 6.078\n"
          ]
        },
        {
          "output_type": "stream",
          "name": "stderr",
          "text": [
            " 14%|█▍        | 3200/22728 [27:10<2:45:50,  1.96it/s]"
          ]
        },
        {
          "output_type": "stream",
          "name": "stdout",
          "text": [
            "\\Step 3199. Train = 6.026. Test = 6.075\n"
          ]
        },
        {
          "output_type": "stream",
          "name": "stderr",
          "text": [
            " 15%|█▍        | 3300/22728 [28:00<2:44:53,  1.96it/s]"
          ]
        },
        {
          "output_type": "stream",
          "name": "stdout",
          "text": [
            "\\Step 3299. Train = 6.024. Test = 6.067\n"
          ]
        },
        {
          "output_type": "stream",
          "name": "stderr",
          "text": [
            " 15%|█▍        | 3400/22728 [28:50<2:43:58,  1.96it/s]"
          ]
        },
        {
          "output_type": "stream",
          "name": "stdout",
          "text": [
            "\\Step 3399. Train = 6.028. Test = 6.069\n"
          ]
        },
        {
          "output_type": "stream",
          "name": "stderr",
          "text": [
            " 15%|█▌        | 3500/22728 [29:40<2:43:03,  1.97it/s]"
          ]
        },
        {
          "output_type": "stream",
          "name": "stdout",
          "text": [
            "\\Step 3499. Train = 6.011. Test = 6.061\n"
          ]
        },
        {
          "output_type": "stream",
          "name": "stderr",
          "text": [
            " 16%|█▌        | 3600/22728 [30:30<2:42:08,  1.97it/s]"
          ]
        },
        {
          "output_type": "stream",
          "name": "stdout",
          "text": [
            "\\Step 3599. Train = 6.010. Test = 6.065\n"
          ]
        },
        {
          "output_type": "stream",
          "name": "stderr",
          "text": [
            " 16%|█▋        | 3700/22728 [31:21<2:41:14,  1.97it/s]"
          ]
        },
        {
          "output_type": "stream",
          "name": "stdout",
          "text": [
            "\\Step 3699. Train = 6.021. Test = 6.071\n"
          ]
        },
        {
          "output_type": "stream",
          "name": "stderr",
          "text": [
            " 17%|█▋        | 3800/22728 [32:11<2:40:21,  1.97it/s]"
          ]
        },
        {
          "output_type": "stream",
          "name": "stdout",
          "text": [
            "\\Step 3799. Train = 6.010. Test = 6.058\n"
          ]
        },
        {
          "output_type": "stream",
          "name": "stderr",
          "text": [
            " 17%|█▋        | 3900/22728 [33:01<2:39:28,  1.97it/s]"
          ]
        },
        {
          "output_type": "stream",
          "name": "stdout",
          "text": [
            "\\Step 3899. Train = 6.018. Test = 6.053\n"
          ]
        },
        {
          "output_type": "stream",
          "name": "stderr",
          "text": [
            " 18%|█▊        | 4000/22728 [33:51<2:38:30,  1.97it/s]"
          ]
        },
        {
          "output_type": "stream",
          "name": "stdout",
          "text": [
            "\\Step 3999. Train = 6.001. Test = 6.052\n"
          ]
        },
        {
          "output_type": "stream",
          "name": "stderr",
          "text": [
            " 18%|█▊        | 4100/22728 [34:42<2:37:40,  1.97it/s]"
          ]
        },
        {
          "output_type": "stream",
          "name": "stdout",
          "text": [
            "\\Step 4099. Train = 6.007. Test = 6.047\n"
          ]
        },
        {
          "output_type": "stream",
          "name": "stderr",
          "text": [
            " 18%|█▊        | 4200/22728 [35:31<2:36:44,  1.97it/s]"
          ]
        },
        {
          "output_type": "stream",
          "name": "stdout",
          "text": [
            "\\Step 4199. Train = 5.996. Test = 6.051\n"
          ]
        },
        {
          "output_type": "stream",
          "name": "stderr",
          "text": [
            " 19%|█▉        | 4300/22728 [36:21<2:35:47,  1.97it/s]"
          ]
        },
        {
          "output_type": "stream",
          "name": "stdout",
          "text": [
            "\\Step 4299. Train = 6.000. Test = 6.052\n"
          ]
        },
        {
          "output_type": "stream",
          "name": "stderr",
          "text": [
            " 19%|█▉        | 4400/22728 [37:11<2:34:53,  1.97it/s]"
          ]
        },
        {
          "output_type": "stream",
          "name": "stdout",
          "text": [
            "\\Step 4399. Train = 5.994. Test = 6.044\n"
          ]
        },
        {
          "output_type": "stream",
          "name": "stderr",
          "text": [
            " 20%|█▉        | 4500/22728 [38:01<2:33:59,  1.97it/s]"
          ]
        },
        {
          "output_type": "stream",
          "name": "stdout",
          "text": [
            "\\Step 4499. Train = 5.987. Test = 6.055\n"
          ]
        },
        {
          "output_type": "stream",
          "name": "stderr",
          "text": [
            " 20%|██        | 4600/22728 [38:50<2:33:03,  1.97it/s]"
          ]
        },
        {
          "output_type": "stream",
          "name": "stdout",
          "text": [
            "\\Step 4599. Train = 5.980. Test = 6.043\n"
          ]
        },
        {
          "output_type": "stream",
          "name": "stderr",
          "text": [
            " 21%|██        | 4700/22728 [39:40<2:32:12,  1.97it/s]"
          ]
        },
        {
          "output_type": "stream",
          "name": "stdout",
          "text": [
            "\\Step 4699. Train = 5.985. Test = 6.039\n"
          ]
        },
        {
          "output_type": "stream",
          "name": "stderr",
          "text": [
            " 21%|██        | 4800/22728 [40:31<2:31:21,  1.97it/s]"
          ]
        },
        {
          "output_type": "stream",
          "name": "stdout",
          "text": [
            "\\Step 4799. Train = 5.987. Test = 6.030\n"
          ]
        },
        {
          "output_type": "stream",
          "name": "stderr",
          "text": [
            " 22%|██▏       | 4900/22728 [41:21<2:30:27,  1.97it/s]"
          ]
        },
        {
          "output_type": "stream",
          "name": "stdout",
          "text": [
            "\\Step 4899. Train = 5.988. Test = 6.037\n"
          ]
        },
        {
          "output_type": "stream",
          "name": "stderr",
          "text": [
            " 22%|██▏       | 5000/22728 [42:11<2:29:34,  1.98it/s]"
          ]
        },
        {
          "output_type": "stream",
          "name": "stdout",
          "text": [
            "\\Step 4999. Train = 5.980. Test = 6.047\n"
          ]
        },
        {
          "output_type": "stream",
          "name": "stderr",
          "text": [
            " 22%|██▏       | 5100/22728 [43:00<2:28:39,  1.98it/s]"
          ]
        },
        {
          "output_type": "stream",
          "name": "stdout",
          "text": [
            "\\Step 5099. Train = 5.987. Test = 6.031\n"
          ]
        },
        {
          "output_type": "stream",
          "name": "stderr",
          "text": [
            " 23%|██▎       | 5200/22728 [43:51<2:27:48,  1.98it/s]"
          ]
        },
        {
          "output_type": "stream",
          "name": "stdout",
          "text": [
            "\\Step 5199. Train = 5.989. Test = 6.029\n"
          ]
        },
        {
          "output_type": "stream",
          "name": "stderr",
          "text": [
            " 23%|██▎       | 5300/22728 [44:41<2:26:56,  1.98it/s]"
          ]
        },
        {
          "output_type": "stream",
          "name": "stdout",
          "text": [
            "\\Step 5299. Train = 5.971. Test = 6.032\n"
          ]
        },
        {
          "output_type": "stream",
          "name": "stderr",
          "text": [
            " 24%|██▍       | 5400/22728 [45:31<2:26:04,  1.98it/s]"
          ]
        },
        {
          "output_type": "stream",
          "name": "stdout",
          "text": [
            "\\Step 5399. Train = 5.980. Test = 6.029\n"
          ]
        },
        {
          "output_type": "stream",
          "name": "stderr",
          "text": [
            " 24%|██▍       | 5500/22728 [46:20<2:25:10,  1.98it/s]"
          ]
        },
        {
          "output_type": "stream",
          "name": "stdout",
          "text": [
            "\\Step 5499. Train = 5.967. Test = 6.027\n"
          ]
        },
        {
          "output_type": "stream",
          "name": "stderr",
          "text": [
            " 25%|██▍       | 5600/22728 [47:10<2:24:17,  1.98it/s]"
          ]
        },
        {
          "output_type": "stream",
          "name": "stdout",
          "text": [
            "\\Step 5599. Train = 5.964. Test = 6.038\n"
          ]
        },
        {
          "output_type": "stream",
          "name": "stderr",
          "text": [
            " 25%|██▌       | 5700/22728 [48:00<2:23:26,  1.98it/s]"
          ]
        },
        {
          "output_type": "stream",
          "name": "stdout",
          "text": [
            "\\Step 5699. Train = 5.968. Test = 6.025\n"
          ]
        },
        {
          "output_type": "stream",
          "name": "stderr",
          "text": [
            " 26%|██▌       | 5800/22728 [48:51<2:22:35,  1.98it/s]"
          ]
        },
        {
          "output_type": "stream",
          "name": "stdout",
          "text": [
            "\\Step 5799. Train = 5.951. Test = 6.031\n"
          ]
        },
        {
          "output_type": "stream",
          "name": "stderr",
          "text": [
            " 26%|██▌       | 5900/22728 [49:41<2:21:43,  1.98it/s]"
          ]
        },
        {
          "output_type": "stream",
          "name": "stdout",
          "text": [
            "\\Step 5899. Train = 5.961. Test = 6.022\n"
          ]
        },
        {
          "output_type": "stream",
          "name": "stderr",
          "text": [
            " 26%|██▋       | 6000/22728 [50:31<2:20:51,  1.98it/s]"
          ]
        },
        {
          "output_type": "stream",
          "name": "stdout",
          "text": [
            "\\Step 5999. Train = 5.969. Test = 6.032\n"
          ]
        },
        {
          "output_type": "stream",
          "name": "stderr",
          "text": [
            " 27%|██▋       | 6100/22728 [51:20<2:19:58,  1.98it/s]"
          ]
        },
        {
          "output_type": "stream",
          "name": "stdout",
          "text": [
            "\\Step 6099. Train = 5.959. Test = 6.032\n"
          ]
        },
        {
          "output_type": "stream",
          "name": "stderr",
          "text": [
            " 27%|██▋       | 6200/22728 [52:10<2:19:06,  1.98it/s]"
          ]
        },
        {
          "output_type": "stream",
          "name": "stdout",
          "text": [
            "\\Step 6199. Train = 5.961. Test = 6.020\n"
          ]
        },
        {
          "output_type": "stream",
          "name": "stderr",
          "text": [
            " 28%|██▊       | 6300/22728 [53:00<2:18:14,  1.98it/s]"
          ]
        },
        {
          "output_type": "stream",
          "name": "stdout",
          "text": [
            "\\Step 6299. Train = 5.967. Test = 6.019\n"
          ]
        },
        {
          "output_type": "stream",
          "name": "stderr",
          "text": [
            " 28%|██▊       | 6400/22728 [53:51<2:17:24,  1.98it/s]"
          ]
        },
        {
          "output_type": "stream",
          "name": "stdout",
          "text": [
            "\\Step 6399. Train = 5.950. Test = 6.013\n"
          ]
        },
        {
          "output_type": "stream",
          "name": "stderr",
          "text": [
            " 29%|██▊       | 6500/22728 [54:41<2:16:31,  1.98it/s]"
          ]
        },
        {
          "output_type": "stream",
          "name": "stdout",
          "text": [
            "\\Step 6499. Train = 5.958. Test = 6.022\n"
          ]
        },
        {
          "output_type": "stream",
          "name": "stderr",
          "text": [
            " 29%|██▉       | 6600/22728 [55:32<2:15:42,  1.98it/s]"
          ]
        },
        {
          "output_type": "stream",
          "name": "stdout",
          "text": [
            "\\Step 6599. Train = 5.951. Test = 6.032\n"
          ]
        },
        {
          "output_type": "stream",
          "name": "stderr",
          "text": [
            " 29%|██▉       | 6700/22728 [56:22<2:14:51,  1.98it/s]"
          ]
        },
        {
          "output_type": "stream",
          "name": "stdout",
          "text": [
            "\\Step 6699. Train = 5.952. Test = 6.013\n"
          ]
        },
        {
          "output_type": "stream",
          "name": "stderr",
          "text": [
            " 30%|██▉       | 6800/22728 [57:13<2:14:01,  1.98it/s]"
          ]
        },
        {
          "output_type": "stream",
          "name": "stdout",
          "text": [
            "\\Step 6799. Train = 5.943. Test = 6.017\n"
          ]
        },
        {
          "output_type": "stream",
          "name": "stderr",
          "text": [
            " 30%|███       | 6900/22728 [58:02<2:13:09,  1.98it/s]"
          ]
        },
        {
          "output_type": "stream",
          "name": "stdout",
          "text": [
            "\\Step 6899. Train = 5.944. Test = 6.026\n"
          ]
        },
        {
          "output_type": "stream",
          "name": "stderr",
          "text": [
            " 31%|███       | 7000/22728 [58:53<2:12:18,  1.98it/s]"
          ]
        },
        {
          "output_type": "stream",
          "name": "stdout",
          "text": [
            "\\Step 6999. Train = 5.954. Test = 6.007\n"
          ]
        },
        {
          "output_type": "stream",
          "name": "stderr",
          "text": [
            " 31%|███       | 7100/22728 [59:43<2:11:27,  1.98it/s]"
          ]
        },
        {
          "output_type": "stream",
          "name": "stdout",
          "text": [
            "\\Step 7099. Train = 5.948. Test = 6.011\n"
          ]
        },
        {
          "output_type": "stream",
          "name": "stderr",
          "text": [
            " 32%|███▏      | 7200/22728 [1:00:33<2:10:36,  1.98it/s]"
          ]
        },
        {
          "output_type": "stream",
          "name": "stdout",
          "text": [
            "\\Step 7199. Train = 5.929. Test = 6.002\n"
          ]
        },
        {
          "output_type": "stream",
          "name": "stderr",
          "text": [
            " 32%|███▏      | 7300/22728 [1:01:23<2:09:45,  1.98it/s]"
          ]
        },
        {
          "output_type": "stream",
          "name": "stdout",
          "text": [
            "\\Step 7299. Train = 5.948. Test = 6.017\n"
          ]
        },
        {
          "output_type": "stream",
          "name": "stderr",
          "text": [
            " 33%|███▎      | 7400/22728 [1:02:13<2:08:52,  1.98it/s]"
          ]
        },
        {
          "output_type": "stream",
          "name": "stdout",
          "text": [
            "\\Step 7399. Train = 5.933. Test = 6.005\n"
          ]
        },
        {
          "output_type": "stream",
          "name": "stderr",
          "text": [
            " 33%|███▎      | 7500/22728 [1:03:03<2:08:02,  1.98it/s]"
          ]
        },
        {
          "output_type": "stream",
          "name": "stdout",
          "text": [
            "\\Step 7499. Train = 5.938. Test = 6.003\n"
          ]
        },
        {
          "output_type": "stream",
          "name": "stderr",
          "text": [
            " 33%|███▎      | 7600/22728 [1:03:53<2:07:10,  1.98it/s]"
          ]
        },
        {
          "output_type": "stream",
          "name": "stdout",
          "text": [
            "\\Step 7599. Train = 5.938. Test = 6.014\n"
          ]
        },
        {
          "output_type": "stream",
          "name": "stderr",
          "text": [
            " 34%|███▍      | 7700/22728 [1:04:44<2:06:20,  1.98it/s]"
          ]
        },
        {
          "output_type": "stream",
          "name": "stdout",
          "text": [
            "\\Step 7699. Train = 5.934. Test = 6.006\n"
          ]
        },
        {
          "output_type": "stream",
          "name": "stderr",
          "text": [
            " 34%|███▍      | 7800/22728 [1:05:33<2:05:28,  1.98it/s]"
          ]
        },
        {
          "output_type": "stream",
          "name": "stdout",
          "text": [
            "\\Step 7799. Train = 5.928. Test = 6.004\n"
          ]
        },
        {
          "output_type": "stream",
          "name": "stderr",
          "text": [
            " 35%|███▍      | 7900/22728 [1:06:24<2:04:38,  1.98it/s]"
          ]
        },
        {
          "output_type": "stream",
          "name": "stdout",
          "text": [
            "\\Step 7899. Train = 5.935. Test = 6.003\n"
          ]
        },
        {
          "output_type": "stream",
          "name": "stderr",
          "text": [
            " 35%|███▌      | 8000/22728 [1:07:13<2:03:46,  1.98it/s]"
          ]
        },
        {
          "output_type": "stream",
          "name": "stdout",
          "text": [
            "\\Step 7999. Train = 5.936. Test = 6.004\n"
          ]
        },
        {
          "output_type": "stream",
          "name": "stderr",
          "text": [
            " 36%|███▌      | 8100/22728 [1:08:03<2:02:54,  1.98it/s]"
          ]
        },
        {
          "output_type": "stream",
          "name": "stdout",
          "text": [
            "\\Step 8099. Train = 5.931. Test = 6.002\n"
          ]
        },
        {
          "output_type": "stream",
          "name": "stderr",
          "text": [
            " 36%|███▌      | 8200/22728 [1:08:53<2:02:03,  1.98it/s]"
          ]
        },
        {
          "output_type": "stream",
          "name": "stdout",
          "text": [
            "\\Step 8199. Train = 5.938. Test = 6.010\n"
          ]
        },
        {
          "output_type": "stream",
          "name": "stderr",
          "text": [
            " 37%|███▋      | 8300/22728 [1:09:43<2:01:12,  1.98it/s]"
          ]
        },
        {
          "output_type": "stream",
          "name": "stdout",
          "text": [
            "\\Step 8299. Train = 5.930. Test = 6.003\n"
          ]
        },
        {
          "output_type": "stream",
          "name": "stderr",
          "text": [
            " 37%|███▋      | 8400/22728 [1:10:49<2:00:48,  1.98it/s]"
          ]
        },
        {
          "output_type": "stream",
          "name": "stdout",
          "text": [
            "\\Step 8399. Train = 5.927. Test = 6.008\n"
          ]
        },
        {
          "output_type": "stream",
          "name": "stderr",
          "text": [
            " 37%|███▋      | 8500/22728 [1:11:39<1:59:56,  1.98it/s]"
          ]
        },
        {
          "output_type": "stream",
          "name": "stdout",
          "text": [
            "\\Step 8499. Train = 5.919. Test = 6.001\n"
          ]
        },
        {
          "output_type": "stream",
          "name": "stderr",
          "text": [
            " 38%|███▊      | 8600/22728 [1:12:28<1:59:04,  1.98it/s]"
          ]
        },
        {
          "output_type": "stream",
          "name": "stdout",
          "text": [
            "\\Step 8599. Train = 5.926. Test = 6.001\n"
          ]
        },
        {
          "output_type": "stream",
          "name": "stderr",
          "text": [
            " 38%|███▊      | 8700/22728 [1:13:19<1:58:13,  1.98it/s]"
          ]
        },
        {
          "output_type": "stream",
          "name": "stdout",
          "text": [
            "\\Step 8699. Train = 5.927. Test = 6.017\n"
          ]
        },
        {
          "output_type": "stream",
          "name": "stderr",
          "text": [
            " 39%|███▊      | 8800/22728 [1:14:10<1:57:23,  1.98it/s]"
          ]
        },
        {
          "output_type": "stream",
          "name": "stdout",
          "text": [
            "\\Step 8799. Train = 5.923. Test = 5.993\n"
          ]
        },
        {
          "output_type": "stream",
          "name": "stderr",
          "text": [
            " 39%|███▉      | 8900/22728 [1:15:00<1:56:32,  1.98it/s]"
          ]
        },
        {
          "output_type": "stream",
          "name": "stdout",
          "text": [
            "\\Step 8899. Train = 5.921. Test = 5.994\n"
          ]
        },
        {
          "output_type": "stream",
          "name": "stderr",
          "text": [
            " 40%|███▉      | 9000/22728 [1:15:51<1:55:41,  1.98it/s]"
          ]
        },
        {
          "output_type": "stream",
          "name": "stdout",
          "text": [
            "\\Step 8999. Train = 5.922. Test = 5.990\n"
          ]
        },
        {
          "output_type": "stream",
          "name": "stderr",
          "text": [
            " 40%|████      | 9100/22728 [1:16:40<1:54:50,  1.98it/s]"
          ]
        },
        {
          "output_type": "stream",
          "name": "stdout",
          "text": [
            "\\Step 9099. Train = 5.923. Test = 6.003\n"
          ]
        },
        {
          "output_type": "stream",
          "name": "stderr",
          "text": [
            " 40%|████      | 9200/22728 [1:17:31<1:53:59,  1.98it/s]"
          ]
        },
        {
          "output_type": "stream",
          "name": "stdout",
          "text": [
            "\\Step 9199. Train = 5.917. Test = 5.993\n"
          ]
        },
        {
          "output_type": "stream",
          "name": "stderr",
          "text": [
            " 41%|████      | 9300/22728 [1:18:20<1:53:07,  1.98it/s]"
          ]
        },
        {
          "output_type": "stream",
          "name": "stdout",
          "text": [
            "\\Step 9299. Train = 5.928. Test = 6.002\n"
          ]
        },
        {
          "output_type": "stream",
          "name": "stderr",
          "text": [
            " 41%|████▏     | 9400/22728 [1:19:11<1:52:16,  1.98it/s]"
          ]
        },
        {
          "output_type": "stream",
          "name": "stdout",
          "text": [
            "\\Step 9399. Train = 5.907. Test = 5.990\n"
          ]
        },
        {
          "output_type": "stream",
          "name": "stderr",
          "text": [
            " 42%|████▏     | 9500/22728 [1:20:01<1:51:25,  1.98it/s]"
          ]
        },
        {
          "output_type": "stream",
          "name": "stdout",
          "text": [
            "\\Step 9499. Train = 5.919. Test = 6.002\n"
          ]
        },
        {
          "output_type": "stream",
          "name": "stderr",
          "text": [
            " 42%|████▏     | 9600/22728 [1:20:52<1:50:35,  1.98it/s]"
          ]
        },
        {
          "output_type": "stream",
          "name": "stdout",
          "text": [
            "\\Step 9599. Train = 5.918. Test = 5.994\n"
          ]
        },
        {
          "output_type": "stream",
          "name": "stderr",
          "text": [
            " 43%|████▎     | 9700/22728 [1:21:41<1:49:43,  1.98it/s]"
          ]
        },
        {
          "output_type": "stream",
          "name": "stdout",
          "text": [
            "\\Step 9699. Train = 5.918. Test = 5.995\n"
          ]
        },
        {
          "output_type": "stream",
          "name": "stderr",
          "text": [
            " 43%|████▎     | 9800/22728 [1:22:31<1:48:51,  1.98it/s]"
          ]
        },
        {
          "output_type": "stream",
          "name": "stdout",
          "text": [
            "\\Step 9799. Train = 5.916. Test = 5.996\n"
          ]
        },
        {
          "output_type": "stream",
          "name": "stderr",
          "text": [
            " 44%|████▎     | 9900/22728 [1:23:21<1:48:00,  1.98it/s]"
          ]
        },
        {
          "output_type": "stream",
          "name": "stdout",
          "text": [
            "\\Step 9899. Train = 5.916. Test = 5.986\n"
          ]
        },
        {
          "output_type": "stream",
          "name": "stderr",
          "text": [
            " 44%|████▍     | 10000/22728 [1:24:11<1:47:09,  1.98it/s]"
          ]
        },
        {
          "output_type": "stream",
          "name": "stdout",
          "text": [
            "\\Step 9999. Train = 5.915. Test = 5.982\n"
          ]
        },
        {
          "output_type": "stream",
          "name": "stderr",
          "text": [
            " 44%|████▍     | 10100/22728 [1:25:01<1:46:18,  1.98it/s]"
          ]
        },
        {
          "output_type": "stream",
          "name": "stdout",
          "text": [
            "\\Step 10099. Train = 5.913. Test = 5.995\n"
          ]
        },
        {
          "output_type": "stream",
          "name": "stderr",
          "text": [
            " 45%|████▍     | 10200/22728 [1:25:51<1:45:27,  1.98it/s]"
          ]
        },
        {
          "output_type": "stream",
          "name": "stdout",
          "text": [
            "\\Step 10199. Train = 5.917. Test = 5.988\n"
          ]
        },
        {
          "output_type": "stream",
          "name": "stderr",
          "text": [
            " 45%|████▌     | 10300/22728 [1:26:41<1:44:36,  1.98it/s]"
          ]
        },
        {
          "output_type": "stream",
          "name": "stdout",
          "text": [
            "\\Step 10299. Train = 5.913. Test = 5.996\n"
          ]
        },
        {
          "output_type": "stream",
          "name": "stderr",
          "text": [
            " 46%|████▌     | 10400/22728 [1:27:31<1:43:44,  1.98it/s]"
          ]
        },
        {
          "output_type": "stream",
          "name": "stdout",
          "text": [
            "\\Step 10399. Train = 5.911. Test = 5.995\n"
          ]
        },
        {
          "output_type": "stream",
          "name": "stderr",
          "text": [
            " 46%|████▌     | 10500/22728 [1:28:21<1:42:53,  1.98it/s]"
          ]
        },
        {
          "output_type": "stream",
          "name": "stdout",
          "text": [
            "\\Step 10499. Train = 5.910. Test = 5.991\n"
          ]
        },
        {
          "output_type": "stream",
          "name": "stderr",
          "text": [
            " 47%|████▋     | 10600/22728 [1:29:11<1:42:03,  1.98it/s]"
          ]
        },
        {
          "output_type": "stream",
          "name": "stdout",
          "text": [
            "\\Step 10599. Train = 5.911. Test = 5.994\n"
          ]
        },
        {
          "output_type": "stream",
          "name": "stderr",
          "text": [
            " 47%|████▋     | 10700/22728 [1:30:01<1:41:12,  1.98it/s]"
          ]
        },
        {
          "output_type": "stream",
          "name": "stdout",
          "text": [
            "\\Step 10699. Train = 5.900. Test = 5.994\n"
          ]
        },
        {
          "output_type": "stream",
          "name": "stderr",
          "text": [
            " 48%|████▊     | 10800/22728 [1:30:51<1:40:21,  1.98it/s]"
          ]
        },
        {
          "output_type": "stream",
          "name": "stdout",
          "text": [
            "\\Step 10799. Train = 5.917. Test = 5.985\n"
          ]
        },
        {
          "output_type": "stream",
          "name": "stderr",
          "text": [
            " 48%|████▊     | 10900/22728 [1:31:41<1:39:30,  1.98it/s]"
          ]
        },
        {
          "output_type": "stream",
          "name": "stdout",
          "text": [
            "\\Step 10899. Train = 5.900. Test = 5.983\n"
          ]
        },
        {
          "output_type": "stream",
          "name": "stderr",
          "text": [
            " 48%|████▊     | 11000/22728 [1:32:31<1:38:38,  1.98it/s]"
          ]
        },
        {
          "output_type": "stream",
          "name": "stdout",
          "text": [
            "\\Step 10999. Train = 5.906. Test = 6.002\n"
          ]
        },
        {
          "output_type": "stream",
          "name": "stderr",
          "text": [
            " 49%|████▉     | 11100/22728 [1:33:21<1:37:48,  1.98it/s]"
          ]
        },
        {
          "output_type": "stream",
          "name": "stdout",
          "text": [
            "\\Step 11099. Train = 5.907. Test = 5.983\n"
          ]
        },
        {
          "output_type": "stream",
          "name": "stderr",
          "text": [
            " 49%|████▉     | 11200/22728 [1:34:11<1:36:57,  1.98it/s]"
          ]
        },
        {
          "output_type": "stream",
          "name": "stdout",
          "text": [
            "\\Step 11199. Train = 5.902. Test = 5.997\n"
          ]
        },
        {
          "output_type": "stream",
          "name": "stderr",
          "text": [
            " 50%|████▉     | 11300/22728 [1:35:01<1:36:06,  1.98it/s]"
          ]
        },
        {
          "output_type": "stream",
          "name": "stdout",
          "text": [
            "\\Step 11299. Train = 5.903. Test = 5.982\n"
          ]
        },
        {
          "output_type": "stream",
          "name": "stderr",
          "text": [
            " 50%|█████     | 11400/22728 [1:35:52<1:35:15,  1.98it/s]"
          ]
        },
        {
          "output_type": "stream",
          "name": "stdout",
          "text": [
            "\\Step 11399. Train = 5.903. Test = 5.988\n"
          ]
        },
        {
          "output_type": "stream",
          "name": "stderr",
          "text": [
            " 51%|█████     | 11500/22728 [1:36:42<1:34:24,  1.98it/s]"
          ]
        },
        {
          "output_type": "stream",
          "name": "stdout",
          "text": [
            "\\Step 11499. Train = 5.898. Test = 5.996\n"
          ]
        },
        {
          "output_type": "stream",
          "name": "stderr",
          "text": [
            " 51%|█████     | 11600/22728 [1:37:31<1:33:33,  1.98it/s]"
          ]
        },
        {
          "output_type": "stream",
          "name": "stdout",
          "text": [
            "\\Step 11599. Train = 5.903. Test = 5.981\n"
          ]
        },
        {
          "output_type": "stream",
          "name": "stderr",
          "text": [
            " 51%|█████▏    | 11700/22728 [1:38:21<1:32:42,  1.98it/s]"
          ]
        },
        {
          "output_type": "stream",
          "name": "stdout",
          "text": [
            "\\Step 11699. Train = 5.892. Test = 5.983\n"
          ]
        },
        {
          "output_type": "stream",
          "name": "stderr",
          "text": [
            " 52%|█████▏    | 11800/22728 [1:39:11<1:31:51,  1.98it/s]"
          ]
        },
        {
          "output_type": "stream",
          "name": "stdout",
          "text": [
            "\\Step 11799. Train = 5.905. Test = 5.992\n"
          ]
        },
        {
          "output_type": "stream",
          "name": "stderr",
          "text": [
            " 52%|█████▏    | 11900/22728 [1:40:01<1:31:00,  1.98it/s]"
          ]
        },
        {
          "output_type": "stream",
          "name": "stdout",
          "text": [
            "\\Step 11899. Train = 5.902. Test = 5.990\n"
          ]
        },
        {
          "output_type": "stream",
          "name": "stderr",
          "text": [
            " 53%|█████▎    | 12000/22728 [1:40:51<1:30:09,  1.98it/s]"
          ]
        },
        {
          "output_type": "stream",
          "name": "stdout",
          "text": [
            "\\Step 11999. Train = 5.898. Test = 5.984\n"
          ]
        },
        {
          "output_type": "stream",
          "name": "stderr",
          "text": [
            " 53%|█████▎    | 12100/22728 [1:41:41<1:29:18,  1.98it/s]"
          ]
        },
        {
          "output_type": "stream",
          "name": "stdout",
          "text": [
            "\\Step 12099. Train = 5.905. Test = 5.990\n"
          ]
        },
        {
          "output_type": "stream",
          "name": "stderr",
          "text": [
            " 54%|█████▎    | 12200/22728 [1:42:30<1:28:27,  1.98it/s]"
          ]
        },
        {
          "output_type": "stream",
          "name": "stdout",
          "text": [
            "\\Step 12199. Train = 5.894. Test = 5.986\n"
          ]
        },
        {
          "output_type": "stream",
          "name": "stderr",
          "text": [
            " 54%|█████▍    | 12300/22728 [1:43:21<1:27:37,  1.98it/s]"
          ]
        },
        {
          "output_type": "stream",
          "name": "stdout",
          "text": [
            "\\Step 12299. Train = 5.888. Test = 5.983\n"
          ]
        },
        {
          "output_type": "stream",
          "name": "stderr",
          "text": [
            " 55%|█████▍    | 12400/22728 [1:44:12<1:26:47,  1.98it/s]"
          ]
        },
        {
          "output_type": "stream",
          "name": "stdout",
          "text": [
            "\\Step 12399. Train = 5.905. Test = 5.977\n"
          ]
        },
        {
          "output_type": "stream",
          "name": "stderr",
          "text": [
            " 55%|█████▍    | 12500/22728 [1:45:02<1:25:56,  1.98it/s]"
          ]
        },
        {
          "output_type": "stream",
          "name": "stdout",
          "text": [
            "\\Step 12499. Train = 5.898. Test = 5.979\n"
          ]
        },
        {
          "output_type": "stream",
          "name": "stderr",
          "text": [
            " 55%|█████▌    | 12600/22728 [1:45:52<1:25:06,  1.98it/s]"
          ]
        },
        {
          "output_type": "stream",
          "name": "stdout",
          "text": [
            "\\Step 12599. Train = 5.902. Test = 5.974\n"
          ]
        },
        {
          "output_type": "stream",
          "name": "stderr",
          "text": [
            " 56%|█████▌    | 12700/22728 [1:46:42<1:24:15,  1.98it/s]"
          ]
        },
        {
          "output_type": "stream",
          "name": "stdout",
          "text": [
            "\\Step 12699. Train = 5.892. Test = 5.981\n"
          ]
        },
        {
          "output_type": "stream",
          "name": "stderr",
          "text": [
            " 56%|█████▋    | 12800/22728 [1:47:33<1:23:25,  1.98it/s]"
          ]
        },
        {
          "output_type": "stream",
          "name": "stdout",
          "text": [
            "\\Step 12799. Train = 5.903. Test = 5.982\n"
          ]
        },
        {
          "output_type": "stream",
          "name": "stderr",
          "text": [
            " 57%|█████▋    | 12900/22728 [1:48:23<1:22:34,  1.98it/s]"
          ]
        },
        {
          "output_type": "stream",
          "name": "stdout",
          "text": [
            "\\Step 12899. Train = 5.903. Test = 5.986\n"
          ]
        },
        {
          "output_type": "stream",
          "name": "stderr",
          "text": [
            " 57%|█████▋    | 13000/22728 [1:49:13<1:21:44,  1.98it/s]"
          ]
        },
        {
          "output_type": "stream",
          "name": "stdout",
          "text": [
            "\\Step 12999. Train = 5.902. Test = 5.974\n"
          ]
        },
        {
          "output_type": "stream",
          "name": "stderr",
          "text": [
            " 58%|█████▊    | 13100/22728 [1:50:03<1:20:53,  1.98it/s]"
          ]
        },
        {
          "output_type": "stream",
          "name": "stdout",
          "text": [
            "\\Step 13099. Train = 5.886. Test = 5.974\n"
          ]
        },
        {
          "output_type": "stream",
          "name": "stderr",
          "text": [
            " 58%|█████▊    | 13115/22728 [1:50:11<1:20:46,  1.98it/s]\n"
          ]
        },
        {
          "output_type": "error",
          "ename": "KeyboardInterrupt",
          "evalue": "",
          "traceback": [
            "\u001b[0;31m---------------------------------------------------------------------------\u001b[0m",
            "\u001b[0;31mKeyboardInterrupt\u001b[0m                         Traceback (most recent call last)",
            "\u001b[0;32m<ipython-input-9-8744437f21ec>\u001b[0m in \u001b[0;36m<cell line: 49>\u001b[0;34m()\u001b[0m\n\u001b[1;32m     51\u001b[0m       \u001b[0mloss\u001b[0m \u001b[0;34m=\u001b[0m \u001b[0mcalc_loss\u001b[0m\u001b[0;34m(\u001b[0m\u001b[0mbatch\u001b[0m\u001b[0;34m)\u001b[0m\u001b[0;34m\u001b[0m\u001b[0;34m\u001b[0m\u001b[0m\n\u001b[1;32m     52\u001b[0m \u001b[0;34m\u001b[0m\u001b[0m\n\u001b[0;32m---> 53\u001b[0;31m     \u001b[0mscaler\u001b[0m\u001b[0;34m.\u001b[0m\u001b[0mscale\u001b[0m\u001b[0;34m(\u001b[0m\u001b[0mloss\u001b[0m\u001b[0;34m)\u001b[0m\u001b[0;34m.\u001b[0m\u001b[0mbackward\u001b[0m\u001b[0;34m(\u001b[0m\u001b[0;34m)\u001b[0m\u001b[0;34m\u001b[0m\u001b[0;34m\u001b[0m\u001b[0m\n\u001b[0m\u001b[1;32m     54\u001b[0m     \u001b[0mscaler\u001b[0m\u001b[0;34m.\u001b[0m\u001b[0mstep\u001b[0m\u001b[0;34m(\u001b[0m\u001b[0moptimizer\u001b[0m\u001b[0;34m)\u001b[0m\u001b[0;34m\u001b[0m\u001b[0;34m\u001b[0m\u001b[0m\n\u001b[1;32m     55\u001b[0m     \u001b[0mscaler\u001b[0m\u001b[0;34m.\u001b[0m\u001b[0mupdate\u001b[0m\u001b[0;34m(\u001b[0m\u001b[0;34m)\u001b[0m\u001b[0;34m\u001b[0m\u001b[0;34m\u001b[0m\u001b[0m\n",
            "\u001b[0;32m/usr/local/lib/python3.10/dist-packages/torch/_tensor.py\u001b[0m in \u001b[0;36mbackward\u001b[0;34m(self, gradient, retain_graph, create_graph, inputs)\u001b[0m\n\u001b[1;32m    523\u001b[0m                 \u001b[0minputs\u001b[0m\u001b[0;34m=\u001b[0m\u001b[0minputs\u001b[0m\u001b[0;34m,\u001b[0m\u001b[0;34m\u001b[0m\u001b[0;34m\u001b[0m\u001b[0m\n\u001b[1;32m    524\u001b[0m             )\n\u001b[0;32m--> 525\u001b[0;31m         torch.autograd.backward(\n\u001b[0m\u001b[1;32m    526\u001b[0m             \u001b[0mself\u001b[0m\u001b[0;34m,\u001b[0m \u001b[0mgradient\u001b[0m\u001b[0;34m,\u001b[0m \u001b[0mretain_graph\u001b[0m\u001b[0;34m,\u001b[0m \u001b[0mcreate_graph\u001b[0m\u001b[0;34m,\u001b[0m \u001b[0minputs\u001b[0m\u001b[0;34m=\u001b[0m\u001b[0minputs\u001b[0m\u001b[0;34m\u001b[0m\u001b[0;34m\u001b[0m\u001b[0m\n\u001b[1;32m    527\u001b[0m         )\n",
            "\u001b[0;32m/usr/local/lib/python3.10/dist-packages/torch/autograd/__init__.py\u001b[0m in \u001b[0;36mbackward\u001b[0;34m(tensors, grad_tensors, retain_graph, create_graph, grad_variables, inputs)\u001b[0m\n\u001b[1;32m    265\u001b[0m     \u001b[0;31m# some Python versions print out the first line of a multi-line function\u001b[0m\u001b[0;34m\u001b[0m\u001b[0;34m\u001b[0m\u001b[0m\n\u001b[1;32m    266\u001b[0m     \u001b[0;31m# calls in the traceback and some print out the last line\u001b[0m\u001b[0;34m\u001b[0m\u001b[0;34m\u001b[0m\u001b[0m\n\u001b[0;32m--> 267\u001b[0;31m     _engine_run_backward(\n\u001b[0m\u001b[1;32m    268\u001b[0m         \u001b[0mtensors\u001b[0m\u001b[0;34m,\u001b[0m\u001b[0;34m\u001b[0m\u001b[0;34m\u001b[0m\u001b[0m\n\u001b[1;32m    269\u001b[0m         \u001b[0mgrad_tensors_\u001b[0m\u001b[0;34m,\u001b[0m\u001b[0;34m\u001b[0m\u001b[0;34m\u001b[0m\u001b[0m\n",
            "\u001b[0;32m/usr/local/lib/python3.10/dist-packages/torch/autograd/graph.py\u001b[0m in \u001b[0;36m_engine_run_backward\u001b[0;34m(t_outputs, *args, **kwargs)\u001b[0m\n\u001b[1;32m    742\u001b[0m         \u001b[0munregister_hooks\u001b[0m \u001b[0;34m=\u001b[0m \u001b[0m_register_logging_hooks_on_whole_graph\u001b[0m\u001b[0;34m(\u001b[0m\u001b[0mt_outputs\u001b[0m\u001b[0;34m)\u001b[0m\u001b[0;34m\u001b[0m\u001b[0;34m\u001b[0m\u001b[0m\n\u001b[1;32m    743\u001b[0m     \u001b[0;32mtry\u001b[0m\u001b[0;34m:\u001b[0m\u001b[0;34m\u001b[0m\u001b[0;34m\u001b[0m\u001b[0m\n\u001b[0;32m--> 744\u001b[0;31m         return Variable._execution_engine.run_backward(  # Calls into the C++ engine to run the backward pass\n\u001b[0m\u001b[1;32m    745\u001b[0m             \u001b[0mt_outputs\u001b[0m\u001b[0;34m,\u001b[0m \u001b[0;34m*\u001b[0m\u001b[0margs\u001b[0m\u001b[0;34m,\u001b[0m \u001b[0;34m**\u001b[0m\u001b[0mkwargs\u001b[0m\u001b[0;34m\u001b[0m\u001b[0;34m\u001b[0m\u001b[0m\n\u001b[1;32m    746\u001b[0m         )  # Calls into the C++ engine to run the backward pass\n",
            "\u001b[0;31mKeyboardInterrupt\u001b[0m: "
          ]
        }
      ]
    },
    {
      "cell_type": "code",
      "source": [
        "save(os.path.join(\"Trials\",trial_id))"
      ],
      "metadata": {
        "id": "k1sUcIgYzHSA"
      },
      "execution_count": null,
      "outputs": []
    },
    {
      "cell_type": "code",
      "source": [
        "import matplotlib.pyplot as plt\n",
        "\n",
        "# Plotting the losses\n",
        "plt.figure(figsize=(10, 5))\n",
        "plt.plot([int(i*iters_per_tl) for i in range(len(train_losses))],train_losses, label='Train Loss')\n",
        "plt.plot([int(i*iters_per_tl) for i in range(len(test_losses))],test_losses, label='Test Loss')\n",
        "plt.xlabel('Epoch')\n",
        "plt.ylabel('Loss')\n",
        "plt.title('Training and Test Loss over Epochs')\n",
        "# plt.ylim((0,max(train_losses+test_losses)))\n",
        "plt.legend()\n",
        "plt.grid(True)\n",
        "plt.show()"
      ],
      "metadata": {
        "colab": {
          "base_uri": "https://localhost:8080/",
          "height": 367
        },
        "id": "3kMLgINr8uGD",
        "executionInfo": {
          "status": "ok",
          "timestamp": 1718772258305,
          "user_tz": 240,
          "elapsed": 416,
          "user": {
            "displayName": "Laura Sisson",
            "userId": "13985502108438611335"
          }
        },
        "outputId": "4c8f26b7-1317-4e5b-dcfe-881e024ac451"
      },
      "execution_count": null,
      "outputs": [
        {
          "output_type": "display_data",
          "data": {
            "text/plain": [
              "<Figure size 1000x500 with 1 Axes>"
            ],
            "image/png": "[encoded data removed]"
          },
          "metadata": {}
        }
      ]
    },
    {
      "cell_type": "markdown",
      "source": [
        "LOAD `4f5a92` AT 6k and then evaluate."
      ],
      "metadata": {
        "id": "rKEgqfg6z58r"
      }
    },
    {
      "cell_type": "code",
      "source": [],
      "metadata": {
        "id": "zOejeUHuz5Uk"
      },
      "execution_count": null,
      "outputs": []
    },
    {
      "cell_type": "code",
      "source": [
        "# import gc\n",
        "# del model\n",
        "# del batch\n",
        "# del loss\n",
        "# del optimizer\n",
        "# gc.collect()\n",
        "# torch.cuda.empty_cache()\n",
        "# optimizer.zero_grad()\n",
        "# torch.cuda.mem_get_info()"
      ],
      "metadata": {
        "id": "rRwCdV6u7HE9"
      },
      "execution_count": null,
      "outputs": []
    },
    {
      "cell_type": "code",
      "source": [
        "import sys\n",
        "sys.exit()"
      ],
      "metadata": {
        "id": "a_fj8gM_ZFnC"
      },
      "execution_count": null,
      "outputs": []
    }
  ]
}