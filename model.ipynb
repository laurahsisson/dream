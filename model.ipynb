{
 "cells": [
  {
   "cell_type": "code",
   "execution_count": 1,
   "id": "3077ca49-b9e7-4fb0-a3a1-bd7c25ce26a5",
   "metadata": {
    "tags": []
   },
   "outputs": [],
   "source": [
    "import tokenizer\n",
    "import torch\n",
    "\n",
    "graph_tokenizer = tokenizer.GraphTokenizer(torch.load(\"dictionary.pt\"))"
   ]
  },
  {
   "cell_type": "code",
   "execution_count": 2,
   "id": "5230b142-7b8d-43d8-bbcf-09e224afab87",
   "metadata": {
    "tags": []
   },
   "outputs": [
    {
     "name": "stderr",
     "output_type": "stream",
     "text": [
      "100%|█████████████████████████████████████| 500/500 [00:00<00:00, 1292.27it/s]\n"
     ]
    },
    {
     "data": {
      "text/plain": [
       "PairData(y=0.5769230127334595, edge_attr_s=[476, 3], edge_attr_t=[452, 3], edge_index_s=[2, 476], edge_index_t=[2, 452], x_s=[254, 9], x_t=[239, 9])"
      ]
     },
     "execution_count": 2,
     "metadata": {},
     "output_type": "execute_result"
    }
   ],
   "source": [
    "import h5py\n",
    "import tqdm\n",
    "import numpy as np\n",
    "import torch\n",
    "import data\n",
    "\n",
    "all_data = []\n",
    "with h5py.File('Data/train.h5', 'r') as f:\n",
    "    for label in tqdm.tqdm(f.keys()):\n",
    "      group = f[label]\n",
    "\n",
    "      graph_group = group['graph']\n",
    "      graph_data = {k: torch.tensor(np.array(v)) for k, v in graph_group.items()}\n",
    "      graph_data = {k: v.float() if not k.startswith(\"edge_index\") else v.long() for k, v in graph_data.items()}\n",
    "      all_data.append(data.PairData(**graph_data))\n",
    "\n",
    "all_data[0]"
   ]
  },
  {
   "cell_type": "code",
   "execution_count": 3,
   "id": "2e3cba35-3131-4003-badd-948fac53d66e",
   "metadata": {
    "tags": []
   },
   "outputs": [
    {
     "data": {
      "text/plain": [
       "Data(x=[254], edge_index=[2, 476], edge_attr=[476])"
      ]
     },
     "execution_count": 3,
     "metadata": {},
     "output_type": "execute_result"
    }
   ],
   "source": [
    "graph_tokenizer.tokenize(data.PairData.split(all_data[0])[0])"
   ]
  },
  {
   "cell_type": "code",
   "execution_count": 4,
   "id": "7e7f2dcb-0f2a-4b1a-a6a0-2e1cd0eca8e2",
   "metadata": {
    "tags": []
   },
   "outputs": [
    {
     "data": {
      "text/plain": [
       "(tensor([[ 0.4714, -0.0111,  0.0000,  ...,  0.4893, -0.1524, -0.7537],\n",
       "         [ 0.5443, -0.2311,  3.2477,  ...,  0.3374,  0.1596, -0.7088],\n",
       "         [ 0.6122, -0.0874,  0.0000,  ...,  0.4163, -0.0220, -0.6850],\n",
       "         ...,\n",
       "         [ 0.4853, -0.1381,  2.9273,  ...,  0.3530,  0.0585, -0.0000],\n",
       "         [ 0.0000, -0.0978,  3.8597,  ...,  0.2326,  0.2355, -0.7976],\n",
       "         [ 0.2437,  0.0425,  3.5459,  ...,  0.4893, -0.0366, -0.7458]],\n",
       "        grad_fn=<MulBackward0>),\n",
       " tensor([[ 0.0529,  0.3552, -0.0714,  ...,  0.4663, -0.4724,  0.0916],\n",
       "         [ 0.2328,  0.6689, -0.5839,  ...,  0.1626, -0.6247, -0.0924],\n",
       "         [ 0.2554,  0.5018, -0.0000,  ...,  0.2723, -0.5082, -0.0468],\n",
       "         ...,\n",
       "         [ 0.3301,  0.5117, -0.3790,  ...,  0.3733, -0.3686, -0.0179],\n",
       "         [ 0.3062,  0.6033, -0.3145,  ...,  0.3638, -0.4779,  0.1043],\n",
       "         [ 0.0000,  0.6174, -0.4303,  ...,  0.3565, -0.5251,  0.0165]],\n",
       "        grad_fn=<MulBackward0>))"
      ]
     },
     "execution_count": 4,
     "metadata": {},
     "output_type": "execute_result"
    }
   ],
   "source": [
    "import mpnn\n",
    "\n",
    "config = mpnn.Config(node_out_feats=16,\n",
    "                 edge_hidden_feats=16, num_step_message_passing=3)\n",
    "model = mpnn.from_config(config,node_in_feats=9, edge_in_feats=3,dropout=.1, do_edge_update=True)\n",
    "exmpl = data.PairData.split(all_data[0])[0]\n",
    "model(exmpl,exmpl.x,exmpl.edge_attr)"
   ]
  },
  {
   "cell_type": "code",
   "execution_count": 5,
   "id": "c24bc1dd-5210-45c8-8bb1-a8615e7fe1a9",
   "metadata": {
    "tags": []
   },
   "outputs": [
    {
     "data": {
      "text/plain": [
       "{'total': '12,224',\n",
       " 'base': '6,480',\n",
       " 'project_edge_feats': '64',\n",
       " 'edge_update_network': '1,056',\n",
       " 'gnn_layer': '4,624'}"
      ]
     },
     "execution_count": 5,
     "metadata": {},
     "output_type": "execute_result"
    }
   ],
   "source": [
    "import utils\n",
    "\n",
    "utils.readout_counts(model)"
   ]
  },
  {
   "cell_type": "code",
   "execution_count": 6,
   "id": "bb40fa2f-d978-48ba-bd80-aa02a7061ad9",
   "metadata": {
    "tags": []
   },
   "outputs": [
    {
     "data": {
      "text/plain": [
       "tensor([[ 0.3629,  1.9652,  0.9449,  0.7582,  1.1357,  1.0366,  0.5773,  0.1636,\n",
       "          0.1302,  1.8411,  1.2199,  1.5705, -0.6150,  0.3423,  0.2715,  1.5571,\n",
       "         -0.4466,  2.0710, -0.2432,  1.7037,  0.5280,  2.2168,  0.7261,  2.0933,\n",
       "          1.0107,  1.0249,  1.9450,  1.1366, -0.2466,  0.7996,  1.5958,  0.2197,\n",
       "          0.4320,  0.5953,  1.8889,  0.5723, -0.5251,  2.0812, -0.4864,  2.0457,\n",
       "          1.4566,  1.2685, -0.1298,  1.6062,  0.8319,  0.2482, -0.0858,  2.4688,\n",
       "          1.6206,  1.1771,  1.7183, -1.8192,  1.8075,  1.5534,  1.1015,  3.1736,\n",
       "          0.0186,  0.8398,  0.7455,  2.1844,  1.5703, -0.2572,  2.0397,  1.8072,\n",
       "          1.6626,  0.8331,  0.6384,  0.1090,  0.7643, -0.2922,  1.1658, -0.2924,\n",
       "          1.7136,  1.3961, -0.3477,  1.3909,  0.9249,  2.7707,  0.8840,  0.9375,\n",
       "         -0.4439,  1.2272,  0.3573,  1.4213,  1.5085, -0.8358,  0.9378,  1.2565,\n",
       "          0.1258,  0.6108,  1.9812,  2.3055,  0.1109,  0.9012,  0.6665,  0.1384,\n",
       "          1.0472,  2.1546,  1.0161,  2.2655,  0.7018,  0.0957,  2.1934,  1.2946,\n",
       "          1.2265,  0.7703,  1.0538,  0.0106,  1.5342,  1.2728,  0.7934,  1.5382,\n",
       "          1.6239,  0.6263,  0.8630,  0.4102,  1.4667,  1.7915, -0.0780,  2.3043,\n",
       "          0.4872,  0.1579,  2.0246,  1.4178,  2.2910,  0.1667, -0.6973, -0.2537]],\n",
       "       grad_fn=<ViewBackward0>)"
      ]
     },
     "execution_count": 6,
     "metadata": {},
     "output_type": "execute_result"
    }
   ],
   "source": [
    "import encoder\n",
    "import torch\n",
    "\n",
    "mpnn_configs = [mpnn.Config(node_out_feats=16,\n",
    "                 edge_hidden_feats=8, num_step_message_passing=5), mpnn.Config(node_out_feats=64,\n",
    "                 edge_hidden_feats=32, num_step_message_passing=3), mpnn.Config(node_out_feats=128,\n",
    "                 edge_hidden_feats=64, num_step_message_passing=1)]\n",
    "config = {\"mpnn_configs\":mpnn_configs, \"do_edge_update\":True, \"embedding_dim_x\":32, \"embedding_dim_edge_attr\": 64, \"do_edge_update\":True, \"num_sabs\":8,\"dropout\":0.1, \"heads\":8, \"warmup\":.05, \"lr\": 1e-3, \"weight_decay\":.01, \"betas\":(.99,.999)}\n",
    "ex_model = encoder.Encoder(graph_tokenizer=None,**config)\n",
    "ex_model(exmpl)"
   ]
  },
  {
   "cell_type": "code",
   "execution_count": 7,
   "id": "052d0d07-cfe8-4fbf-bcfb-bc9802aa1dac",
   "metadata": {
    "tags": []
   },
   "outputs": [
    {
     "data": {
      "text/plain": [
       "tensor([[ 2.6978,  1.3747,  2.1392, -0.1023,  2.7157,  2.2231,  0.5449,  0.9221,\n",
       "          4.3321,  1.5619, -0.6350, -0.1828, -0.2767,  2.8312,  1.1922,  2.1519,\n",
       "         -1.0704, -0.5354, -0.4266,  0.0557,  2.3580,  2.4410,  1.2161,  1.7591,\n",
       "         -0.7637,  4.0394,  0.3276,  0.4908,  3.8681,  2.6026,  0.6065,  5.5445,\n",
       "          1.3901,  1.0080,  1.4422, -0.4697,  0.0873,  0.9109,  0.9345,  1.5691,\n",
       "          1.6160,  1.7157,  1.8750,  5.2876,  5.9620,  2.8573,  1.3516,  1.9110,\n",
       "          0.4763,  2.9129,  2.1059,  0.9725,  0.4200,  0.5850, -0.2953, -1.2477,\n",
       "          1.7547,  0.6012,  2.6529,  1.4475,  0.5265,  3.1546,  3.1475, -0.1677]],\n",
       "       grad_fn=<ViewBackward0>)"
      ]
     },
     "execution_count": 7,
     "metadata": {},
     "output_type": "execute_result"
    }
   ],
   "source": [
    "mpnn_configs = [mpnn.Config(node_out_feats=64,\n",
    "                 edge_hidden_feats=32, num_step_message_passing=3)]\n",
    "config = {\"mpnn_configs\":mpnn_configs, \"embedding_dim_x\":32, \"embedding_dim_edge_attr\": 64, \"do_edge_update\":False, \"num_sabs\":8,\"dropout\":0.1, \"heads\":8, \"warmup\":.05, \"lr\": 1e-3, \"weight_decay\":.01, \"betas\":(.99,.999)}\n",
    "ex_model = encoder.Encoder(graph_tokenizer=graph_tokenizer,**config)\n",
    "exmpl_tokenized_graph = graph_tokenizer.tokenize(data.PairData.split(all_data[0])[0])\n",
    "ex_model(exmpl_tokenized_graph)"
   ]
  }
 ],
 "metadata": {
  "kernelspec": {
   "display_name": "Python 3 (ipykernel)",
   "language": "python",
   "name": "python3"
  },
  "language_info": {
   "codemirror_mode": {
    "name": "ipython",
    "version": 3
   },
   "file_extension": ".py",
   "mimetype": "text/x-python",
   "name": "python",
   "nbconvert_exporter": "python",
   "pygments_lexer": "ipython3",
   "version": "3.11.5"
  }
 },
 "nbformat": 4,
 "nbformat_minor": 5
}
