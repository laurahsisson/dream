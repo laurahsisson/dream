{
 "cells": [
  {
   "cell_type": "code",
   "execution_count": 1,
   "id": "3077ca49-b9e7-4fb0-a3a1-bd7c25ce26a5",
   "metadata": {
    "tags": []
   },
   "outputs": [],
   "source": [
    "import tokenizer\n",
    "import torch\n",
    "\n",
    "graph_tokenizer = tokenizer.GraphTokenizer(torch.load(\"dictionary.pt\"))"
   ]
  },
  {
   "cell_type": "code",
   "execution_count": 2,
   "id": "5230b142-7b8d-43d8-bbcf-09e224afab87",
   "metadata": {
    "tags": []
   },
   "outputs": [
    {
     "name": "stderr",
     "output_type": "stream",
     "text": [
      "100%|█████████████████████████████████████| 500/500 [00:00<00:00, 1147.68it/s]\n"
     ]
    },
    {
     "data": {
      "text/plain": [
       "{'graph1': Data(x=[254, 9], edge_index=[2, 476], edge_attr=[476, 3], blend_batch=[28], mol_batch=[254]),\n",
       " 'graph2': Data(x=[239, 9], edge_index=[2, 452], edge_attr=[452, 3], blend_batch=[28], mol_batch=[239]),\n",
       " 'y': tensor(0.5769)}"
      ]
     },
     "execution_count": 2,
     "metadata": {},
     "output_type": "execute_result"
    }
   ],
   "source": [
    "import h5py\n",
    "import tqdm\n",
    "import numpy as np\n",
    "import torch\n",
    "import data\n",
    "import torch_geometric as tg\n",
    "\n",
    "all_data = []\n",
    "with h5py.File('Data/train.h5', 'r') as f:\n",
    "    for label in tqdm.tqdm(f.keys()):\n",
    "        group = f[label]\n",
    "        graph1 = data.read_graph(group['graph1'])\n",
    "        graph2 = data.read_graph(group['graph2'])\n",
    "        # Index using () for scalar dataset\n",
    "        y = group[\"y\"][()]\n",
    "        all_data.append({\"graph1\":graph1,\"graph2\":graph2,\"y\":torch.tensor(y)})\n",
    "\n",
    "all_data[0]"
   ]
  },
  {
   "cell_type": "code",
   "execution_count": 3,
   "id": "2e3cba35-3131-4003-badd-948fac53d66e",
   "metadata": {
    "tags": []
   },
   "outputs": [
    {
     "data": {
      "text/plain": [
       "Data(x=[254], edge_index=[2, 476], edge_attr=[476], blend_batch=[28], mol_batch=[254])"
      ]
     },
     "execution_count": 3,
     "metadata": {},
     "output_type": "execute_result"
    }
   ],
   "source": [
    "graph_tokenizer.tokenize(all_data[0][\"graph1\"])"
   ]
  },
  {
   "cell_type": "code",
   "execution_count": 4,
   "id": "53e69607-d2d3-4061-9e13-bd2bc6401ca7",
   "metadata": {
    "tags": []
   },
   "outputs": [
    {
     "name": "stdout",
     "output_type": "stream",
     "text": [
      "torch.Size([2, 9])\n",
      "torch.Size([1, 9])\n"
     ]
    }
   ],
   "source": [
    "import aggregate\n",
    "\n",
    "agg = aggregate.BlendAggregator(True,9,1,1,0)\n",
    "from torch_geometric.loader import DataLoader\n",
    "batch = next(iter(DataLoader([all_data[0][\"graph1\"],all_data[0][\"graph2\"]],batch_size=2)))\n",
    "print(agg(batch.x,batch).shape)\n",
    "print(agg(all_data[0][\"graph1\"].x,all_data[0][\"graph1\"]).shape)"
   ]
  },
  {
   "cell_type": "code",
   "execution_count": 5,
   "id": "a7a0f70a-86f6-48ee-bbf6-b91316daf606",
   "metadata": {
    "tags": []
   },
   "outputs": [
    {
     "name": "stdout",
     "output_type": "stream",
     "text": [
      "torch.Size([2, 9])\n",
      "torch.Size([1, 9])\n"
     ]
    }
   ],
   "source": [
    "import aggregate\n",
    "\n",
    "agg = aggregate.BlendAggregator(False,9,1,1,0)\n",
    "from torch_geometric.loader import DataLoader\n",
    "batch = next(iter(DataLoader([all_data[0][\"graph1\"],all_data[0][\"graph2\"]],batch_size=2)))\n",
    "print(agg(batch.x,batch).shape)\n",
    "print(agg(all_data[0][\"graph1\"].x,all_data[0][\"graph1\"]).shape)"
   ]
  },
  {
   "cell_type": "code",
   "execution_count": 6,
   "id": "7e7f2dcb-0f2a-4b1a-a6a0-2e1cd0eca8e2",
   "metadata": {
    "tags": []
   },
   "outputs": [
    {
     "data": {
      "text/plain": [
       "(tensor([[-0.3087,  0.2398, -0.0294,  ..., -0.1557, -0.4226,  0.0596],\n",
       "         [-0.6061,  0.2975,  0.0441,  ..., -0.1206, -0.0000,  0.2664],\n",
       "         [-0.4704,  0.1119, -0.0220,  ..., -0.3159, -0.5034, -0.0561],\n",
       "         ...,\n",
       "         [-0.4995,  0.2896,  0.4074,  ..., -0.0000,  0.0469, -0.3208],\n",
       "         [-0.5031,  0.1146, -0.0578,  ..., -0.2303, -0.2998,  0.2197],\n",
       "         [-0.4769,  0.2424,  0.1084,  ..., -0.1312, -0.2787, -0.1429]],\n",
       "        grad_fn=<MulBackward0>),\n",
       " tensor([[-0.0148, -0.1306, -0.1554,  ...,  0.1641,  0.4541,  0.3151],\n",
       "         [ 0.0060, -0.0915, -0.1627,  ...,  0.1329,  0.3147,  0.2220],\n",
       "         [ 0.0157, -0.0992, -0.2161,  ...,  0.0531,  0.3120,  0.0000],\n",
       "         ...,\n",
       "         [ 0.0874, -0.0289, -0.1996,  ...,  0.0589,  0.3615,  0.1889],\n",
       "         [-0.0000, -0.0838, -0.2561,  ...,  0.0642,  0.3596,  0.2077],\n",
       "         [-0.0006, -0.1329, -0.2837,  ...,  0.0410,  0.3431,  0.2004]],\n",
       "        grad_fn=<MulBackward0>))"
      ]
     },
     "execution_count": 6,
     "metadata": {},
     "output_type": "execute_result"
    }
   ],
   "source": [
    "import mpnn\n",
    "\n",
    "config = mpnn.Config(node_out_feats=16,\n",
    "                 edge_hidden_feats=16, num_step_message_passing=3)\n",
    "model = mpnn.from_config(config,node_in_feats=9, edge_in_feats=3,dropout=.1, do_edge_update=True)\n",
    "exmpl = all_data[0][\"graph1\"]\n",
    "model(exmpl,exmpl.x,exmpl.edge_attr)"
   ]
  },
  {
   "cell_type": "code",
   "execution_count": 7,
   "id": "c24bc1dd-5210-45c8-8bb1-a8615e7fe1a9",
   "metadata": {
    "tags": []
   },
   "outputs": [
    {
     "data": {
      "text/plain": [
       "{'total': '12,224',\n",
       " 'base': '6,480',\n",
       " 'project_edge_feats': '64',\n",
       " 'edge_update_network': '1,056',\n",
       " 'gnn_layer': '4,624'}"
      ]
     },
     "execution_count": 7,
     "metadata": {},
     "output_type": "execute_result"
    }
   ],
   "source": [
    "import utils\n",
    "\n",
    "utils.readout_counts(model)"
   ]
  },
  {
   "cell_type": "code",
   "execution_count": 8,
   "id": "bb40fa2f-d978-48ba-bd80-aa02a7061ad9",
   "metadata": {
    "tags": []
   },
   "outputs": [
    {
     "data": {
      "text/plain": [
       "tensor([[ 16.9583,  23.6146,  42.0182,  39.7710,  17.0534,  15.2370,  25.9016,\n",
       "         -11.5936,   4.4948,  16.0699,  23.4399,  22.5283,  19.7193,  12.4031,\n",
       "         -29.9322,  21.4564,   7.5801,  37.0799,  21.3236,  29.2335,   8.4697,\n",
       "          23.5336,  -3.8189,   6.2963,   4.6791,   9.6362,  11.6724,  24.3808,\n",
       "          13.6773,   1.0631,  42.9330,  28.2912,  11.8086,   3.1609,  41.3929,\n",
       "          24.9530,   8.5946,  19.8126,  22.0701,  26.8269,  16.6450,  18.6452,\n",
       "         -15.1641,   5.8025,   7.5817,   8.7591,  -4.3016,  13.4386,  36.3745,\n",
       "          13.2861,  25.9600,  -5.3286,  28.0919,   6.1746,  25.3568,  10.2057,\n",
       "           4.1980,  12.5206,  13.3980,  -5.0892,  24.6521,  -8.2101,  17.6350,\n",
       "           4.0994,  23.5761,   7.7184,  15.9622,   1.7439,  15.6459,  10.8583,\n",
       "          -4.3025,   2.4597,  14.8605,  33.6072,  -2.8444,  18.6817,  -1.9339,\n",
       "          18.3029,  20.0758,  26.0175,   3.6948,  16.9872,  28.6298,   5.2037,\n",
       "          17.6996,  -0.5525,  14.7102,  22.5676,   7.9984,  29.4836,  12.3641,\n",
       "          -2.6727,  27.4304,  38.6735,  -4.7525,   3.3446,  10.5184,   4.8459,\n",
       "          30.5706,   5.6352,  13.9665,  20.2263,   8.4855,  22.5418, -35.2849,\n",
       "          -0.4679,  -5.6031,  24.7407,  16.7258,  42.9552,  12.9059,  15.3869,\n",
       "          19.1889,   2.9545,   8.6108,   4.7260,   6.7675,  17.3022,  15.5448,\n",
       "          -3.9555,  39.3446,  18.7059,  19.3120,   8.9596,   6.8097,  18.6327,\n",
       "          -7.6135,  41.0388]], grad_fn=<ViewBackward0>)"
      ]
     },
     "execution_count": 8,
     "metadata": {},
     "output_type": "execute_result"
    }
   ],
   "source": [
    "import encoder\n",
    "import torch\n",
    "\n",
    "mpnn_configs = [mpnn.Config(node_out_feats=16,\n",
    "                 edge_hidden_feats=8, num_step_message_passing=5), mpnn.Config(node_out_feats=64,\n",
    "                 edge_hidden_feats=32, num_step_message_passing=3), mpnn.Config(node_out_feats=128,\n",
    "                 edge_hidden_feats=64, num_step_message_passing=1)]\n",
    "config = {\"mpnn_configs\":mpnn_configs, \"do_two_stage\":True, \"do_edge_update\":True, \"embedding_dim_x\":32, \"embedding_dim_edge_attr\": 64, \"do_edge_update\":True, \"num_sabs\":8,\"dropout\":0.1, \"heads\":8, \"warmup\":.05, \"lr\": 1e-3, \"weight_decay\":.01, \"betas\":(.99,.999)}\n",
    "ex_model = encoder.Encoder(graph_tokenizer=None,**config)\n",
    "ex_model(exmpl)"
   ]
  },
  {
   "cell_type": "code",
   "execution_count": 9,
   "id": "052d0d07-cfe8-4fbf-bcfb-bc9802aa1dac",
   "metadata": {
    "tags": []
   },
   "outputs": [
    {
     "data": {
      "text/plain": [
       "tensor([[-3.5342,  5.8691,  1.9356,  3.9250,  4.3043,  0.4475,  2.0477,  3.8878,\n",
       "         -1.0316, -0.4927,  3.1384, -1.0431,  0.8578,  5.5217, -0.6399,  5.4862,\n",
       "          2.9179,  2.1390,  0.1408,  2.9660,  6.4209,  0.9619,  1.6826,  1.3622,\n",
       "          2.5840,  7.5151,  0.0904,  3.1781,  3.9731,  3.2431,  5.2631,  1.5384,\n",
       "          0.3144, -0.8868,  2.5447,  3.5468,  5.4266,  4.0325,  2.7833, -1.2086,\n",
       "          2.8764,  7.2132,  5.1883,  2.8140,  5.0126,  7.1626,  2.0744,  4.8210,\n",
       "          1.9521,  5.8612,  0.4300,  2.8682, -1.3000,  5.1001,  0.3766,  1.5599,\n",
       "          6.5754, -0.4751,  1.7334, -0.8443,  4.2337,  2.6250,  1.7305, -0.9494]],\n",
       "       grad_fn=<ViewBackward0>)"
      ]
     },
     "execution_count": 9,
     "metadata": {},
     "output_type": "execute_result"
    }
   ],
   "source": [
    "mpnn_configs = [mpnn.Config(node_out_feats=64,\n",
    "                 edge_hidden_feats=32, num_step_message_passing=3)]\n",
    "config = {\"mpnn_configs\":mpnn_configs,  \"do_two_stage\":False, \"embedding_dim_x\":32, \"embedding_dim_edge_attr\": 64, \"do_edge_update\":False, \"num_sabs\":8,\"dropout\":0.1, \"heads\":8, \"warmup\":.05, \"lr\": 1e-3, \"weight_decay\":.01, \"betas\":(.99,.999)}\n",
    "ex_model = encoder.Encoder(graph_tokenizer=graph_tokenizer,**config)\n",
    "exmpl_tokenized_graph = graph_tokenizer.tokenize(all_data[0][\"graph1\"])\n",
    "ex_model(exmpl_tokenized_graph)"
   ]
  }
 ],
 "metadata": {
  "kernelspec": {
   "display_name": "Python 3 (ipykernel)",
   "language": "python",
   "name": "python3"
  },
  "language_info": {
   "codemirror_mode": {
    "name": "ipython",
    "version": 3
   },
   "file_extension": ".py",
   "mimetype": "text/x-python",
   "name": "python",
   "nbconvert_exporter": "python",
   "pygments_lexer": "ipython3",
   "version": "3.11.5"
  }
 },
 "nbformat": 4,
 "nbformat_minor": 5
}
