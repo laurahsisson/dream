{
 "cells": [
  {
   "cell_type": "code",
   "execution_count": 1,
   "id": "c0633758-6044-42d6-80c3-1b5d5de419d2",
   "metadata": {
    "tags": []
   },
   "outputs": [
    {
     "data": {
      "text/html": [
       "<div>\n",
       "<style scoped>\n",
       "    .dataframe tbody tr th:only-of-type {\n",
       "        vertical-align: middle;\n",
       "    }\n",
       "\n",
       "    .dataframe tbody tr th {\n",
       "        vertical-align: top;\n",
       "    }\n",
       "\n",
       "    .dataframe thead th {\n",
       "        text-align: right;\n",
       "    }\n",
       "</style>\n",
       "<table border=\"1\" class=\"dataframe\">\n",
       "  <thead>\n",
       "    <tr style=\"text-align: right;\">\n",
       "      <th></th>\n",
       "      <th>CID</th>\n",
       "    </tr>\n",
       "  </thead>\n",
       "  <tbody>\n",
       "    <tr>\n",
       "      <th>0</th>\n",
       "      <td>176</td>\n",
       "    </tr>\n",
       "    <tr>\n",
       "      <th>1</th>\n",
       "      <td>177</td>\n",
       "    </tr>\n",
       "    <tr>\n",
       "      <th>2</th>\n",
       "      <td>180</td>\n",
       "    </tr>\n",
       "    <tr>\n",
       "      <th>3</th>\n",
       "      <td>240</td>\n",
       "    </tr>\n",
       "    <tr>\n",
       "      <th>4</th>\n",
       "      <td>261</td>\n",
       "    </tr>\n",
       "    <tr>\n",
       "      <th>...</th>\n",
       "      <td>...</td>\n",
       "    </tr>\n",
       "    <tr>\n",
       "      <th>66328</th>\n",
       "      <td>66328</td>\n",
       "    </tr>\n",
       "    <tr>\n",
       "      <th>78605</th>\n",
       "      <td>78605</td>\n",
       "    </tr>\n",
       "    <tr>\n",
       "      <th>19789253</th>\n",
       "      <td>19789253</td>\n",
       "    </tr>\n",
       "    <tr>\n",
       "      <th>2513785</th>\n",
       "      <td>2513785</td>\n",
       "    </tr>\n",
       "    <tr>\n",
       "      <th>25137858</th>\n",
       "      <td>25137858</td>\n",
       "    </tr>\n",
       "  </tbody>\n",
       "</table>\n",
       "<p>176 rows × 1 columns</p>\n",
       "</div>"
      ],
      "text/plain": [
       "               CID\n",
       "0              176\n",
       "1              177\n",
       "2              180\n",
       "3              240\n",
       "4              261\n",
       "...            ...\n",
       "66328        66328\n",
       "78605        78605\n",
       "19789253  19789253\n",
       "2513785    2513785\n",
       "25137858  25137858\n",
       "\n",
       "[176 rows x 1 columns]"
      ]
     },
     "execution_count": 1,
     "metadata": {},
     "output_type": "execute_result"
    }
   ],
   "source": [
    "import pandas as pd\n",
    "import pubchempy as pcp\n",
    "import tqdm\n",
    "\n",
    "tqdm.tqdm.pandas()\n",
    "\n",
    "missing_list = [66328, 78605, 19789253, 2513785, 25137858]\n",
    "df = pd.read_csv(\"Data/Challenge/CID.csv\",header=None,names=[\"CID\"])\n",
    "df = pd.concat([df,pd.DataFrame(missing_list, index=missing_list, columns=[\"CID\"])])\n",
    "df = df[~df.index.duplicated(keep='first')]\n",
    "df"
   ]
  },
  {
   "cell_type": "code",
   "execution_count": 2,
   "id": "2ef4a835-cbd8-407e-9204-3722cdcd213a",
   "metadata": {
    "tags": []
   },
   "outputs": [
    {
     "name": "stderr",
     "output_type": "stream",
     "text": [
      "100%|█████████████████████████████████████████| 176/176 [00:39<00:00,  4.44it/s]\n"
     ]
    }
   ],
   "source": [
    "df[\"SMILES\"] = df[\"CID\"].progress_apply(lambda cid: pcp.Compound.from_cid(str(cid)).canonical_smiles)"
   ]
  },
  {
   "cell_type": "code",
   "execution_count": 3,
   "id": "ca08d20e-dc30-44b9-9ddb-afb3e473b73c",
   "metadata": {
    "tags": []
   },
   "outputs": [
    {
     "data": {
      "text/html": [
       "<div>\n",
       "<style scoped>\n",
       "    .dataframe tbody tr th:only-of-type {\n",
       "        vertical-align: middle;\n",
       "    }\n",
       "\n",
       "    .dataframe tbody tr th {\n",
       "        vertical-align: top;\n",
       "    }\n",
       "\n",
       "    .dataframe thead th {\n",
       "        text-align: right;\n",
       "    }\n",
       "</style>\n",
       "<table border=\"1\" class=\"dataframe\">\n",
       "  <thead>\n",
       "    <tr style=\"text-align: right;\">\n",
       "      <th></th>\n",
       "      <th>SMILES</th>\n",
       "    </tr>\n",
       "    <tr>\n",
       "      <th>CID</th>\n",
       "      <th></th>\n",
       "    </tr>\n",
       "  </thead>\n",
       "  <tbody>\n",
       "    <tr>\n",
       "      <th>176</th>\n",
       "      <td>CC(=O)O</td>\n",
       "    </tr>\n",
       "    <tr>\n",
       "      <th>177</th>\n",
       "      <td>CC=O</td>\n",
       "    </tr>\n",
       "    <tr>\n",
       "      <th>180</th>\n",
       "      <td>CC(=O)C</td>\n",
       "    </tr>\n",
       "    <tr>\n",
       "      <th>240</th>\n",
       "      <td>C1=CC=C(C=C1)C=O</td>\n",
       "    </tr>\n",
       "    <tr>\n",
       "      <th>261</th>\n",
       "      <td>CCCC=O</td>\n",
       "    </tr>\n",
       "    <tr>\n",
       "      <th>...</th>\n",
       "      <td>...</td>\n",
       "    </tr>\n",
       "    <tr>\n",
       "      <th>66328</th>\n",
       "      <td>COC(=O)C1CCCC1=O</td>\n",
       "    </tr>\n",
       "    <tr>\n",
       "      <th>78605</th>\n",
       "      <td>C1CC(=O)CCC1C2=CC=CC=C2</td>\n",
       "    </tr>\n",
       "    <tr>\n",
       "      <th>19789253</th>\n",
       "      <td>[H+].CC(C(=O)[O-])O</td>\n",
       "    </tr>\n",
       "    <tr>\n",
       "      <th>2513785</th>\n",
       "      <td>COC1=CC=C(C=C1)NC(=O)COC(=O)CN2C(=O)C3CCCCC3C2=O</td>\n",
       "    </tr>\n",
       "    <tr>\n",
       "      <th>25137858</th>\n",
       "      <td>[H+].CN(C)CC(C1=CC=C(C=C1)OC)C2(CCCCC2)O.[Cl-]</td>\n",
       "    </tr>\n",
       "  </tbody>\n",
       "</table>\n",
       "<p>174 rows × 1 columns</p>\n",
       "</div>"
      ],
      "text/plain": [
       "                                                    SMILES\n",
       "CID                                                       \n",
       "176                                                CC(=O)O\n",
       "177                                                   CC=O\n",
       "180                                                CC(=O)C\n",
       "240                                       C1=CC=C(C=C1)C=O\n",
       "261                                                 CCCC=O\n",
       "...                                                    ...\n",
       "66328                                     COC(=O)C1CCCC1=O\n",
       "78605                              C1CC(=O)CCC1C2=CC=CC=C2\n",
       "19789253                               [H+].CC(C(=O)[O-])O\n",
       "2513785   COC1=CC=C(C=C1)NC(=O)COC(=O)CN2C(=O)C3CCCCC3C2=O\n",
       "25137858    [H+].CN(C)CC(C1=CC=C(C=C1)OC)C2(CCCCC2)O.[Cl-]\n",
       "\n",
       "[174 rows x 1 columns]"
      ]
     },
     "execution_count": 3,
     "metadata": {},
     "output_type": "execute_result"
    }
   ],
   "source": [
    "df = df.set_index(\"CID\")\n",
    "df = df[~df.index.duplicated(keep='first')]\n",
    "df"
   ]
  },
  {
   "cell_type": "code",
   "execution_count": 4,
   "id": "9c283f3d-fe03-435e-9430-97cb4f3368df",
   "metadata": {
    "tags": []
   },
   "outputs": [],
   "source": [
    "df.to_csv(\"Data/molecules.csv\")"
   ]
  }
 ],
 "metadata": {
  "kernelspec": {
   "display_name": "Python 3 (ipykernel)",
   "language": "python",
   "name": "python3"
  },
  "language_info": {
   "codemirror_mode": {
    "name": "ipython",
    "version": 3
   },
   "file_extension": ".py",
   "mimetype": "text/x-python",
   "name": "python",
   "nbconvert_exporter": "python",
   "pygments_lexer": "ipython3",
   "version": "3.11.5"
  }
 },
 "nbformat": 4,
 "nbformat_minor": 5
}
