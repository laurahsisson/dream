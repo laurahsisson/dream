{
 "cells": [
  {
   "cell_type": "code",
   "execution_count": 1,
   "metadata": {
    "colab": {
     "base_uri": "https://localhost:8080/"
    },
    "id": "PSltBOanp38P",
    "outputId": "88e964a5-2037-4239-d70f-e4261dadda2f"
   },
   "outputs": [
    {
     "data": {
      "text/plain": [
       "'/Users/laurasisson/dream'"
      ]
     },
     "execution_count": 1,
     "metadata": {},
     "output_type": "execute_result"
    }
   ],
   "source": [
    "import sys\n",
    "import os\n",
    "\n",
    "os.chdir(\"..\")\n",
    "os.getcwd()"
   ]
  },
  {
   "cell_type": "code",
   "execution_count": 2,
   "metadata": {
    "tags": []
   },
   "outputs": [
    {
     "data": {
      "text/plain": [
       "['dreamdata.py',\n",
       " 'aggregate.py',\n",
       " 'cross.py',\n",
       " '.DS_Store',\n",
       " 'embedding.py',\n",
       " 'crossoverlap.py',\n",
       " 'dictionary.pt',\n",
       " 'olfactor.py',\n",
       " 'mpnn.py',\n",
       " 'encoder.py',\n",
       " 'README.md',\n",
       " 'tokenizer.py',\n",
       " 'activation.py',\n",
       " '.gitignore',\n",
       " 'utils.py',\n",
       " 'Model',\n",
       " 'Colab',\n",
       " '.git',\n",
       " 'Data',\n",
       " 'Notebooks',\n",
       " 'pairdata.py',\n",
       " 'data.py']"
      ]
     },
     "execution_count": 2,
     "metadata": {},
     "output_type": "execute_result"
    }
   ],
   "source": [
    "os.listdir()"
   ]
  },
  {
   "cell_type": "code",
   "execution_count": 3,
   "metadata": {
    "colab": {
     "base_uri": "https://localhost:8080/"
    },
    "id": "-rQfgzL1qMrQ",
    "outputId": "c3bb7998-c7bc-45ae-fd28-502f3460fedd"
   },
   "outputs": [
    {
     "data": {
      "text/plain": [
       "(266758,\n",
       " {'mol1': 'CC1=CC2C(C2(C)C)CC1C(=O)C',\n",
       "  'mol2': 'CCCC(CC)O',\n",
       "  'blend_notes': ['herbal']})"
      ]
     },
     "execution_count": 3,
     "metadata": {},
     "output_type": "execute_result"
    }
   ],
   "source": [
    "import json\n",
    "\n",
    "with open(\"Data/full_large.json\") as f:\n",
    "    pair_dataset = json.load(f)\n",
    "\n",
    "pair_dataset = [d for d in pair_dataset if d[\"mol1\"] and d[\"mol2\"]]\n",
    "\n",
    "len(pair_dataset), pair_dataset[0]"
   ]
  },
  {
   "cell_type": "code",
   "execution_count": 4,
   "metadata": {
    "colab": {
     "base_uri": "https://localhost:8080/"
    },
    "id": "qh3sPMrqqQCI",
    "outputId": "d7361740-4d29-41ed-db1a-00443f125103"
   },
   "outputs": [
    {
     "data": {
      "text/plain": [
       "(6850, 3428, frozenset({'herbal'}), 4384)"
      ]
     },
     "execution_count": 4,
     "metadata": {},
     "output_type": "execute_result"
    }
   ],
   "source": [
    "import collections\n",
    "\n",
    "all_notes_sets = collections.defaultdict(list)\n",
    "all_mols = set()\n",
    "for d in pair_dataset:\n",
    "    all_notes_sets[frozenset(d[\"blend_notes\"])].append({d[\"mol1\"], d[\"mol2\"]})\n",
    "    all_mols.add(d[\"mol1\"])\n",
    "    all_mols.add(d[\"mol2\"])\n",
    "\n",
    "ex_notes, ex_blends = next(iter(all_notes_sets.items()))\n",
    "all_mols = list(all_mols)\n",
    "len(all_notes_sets), len(all_mols), ex_notes, len(ex_blends)"
   ]
  },
  {
   "cell_type": "code",
   "execution_count": 5,
   "metadata": {
    "colab": {
     "base_uri": "https://localhost:8080/"
    },
    "id": "BlYd_qOZr4tV",
    "outputId": "f70e298c-56d3-4750-bd14-c03afcf2c5e5"
   },
   "outputs": [
    {
     "data": {
      "text/plain": [
       "(6850, 4384, {'CC1=CC2C(C2(C)C)CC1C(=O)C', 'CCCC(CC)O'})"
      ]
     },
     "execution_count": 5,
     "metadata": {},
     "output_type": "execute_result"
    }
   ],
   "source": [
    "all_recipes = list(all_notes_sets.values())\n",
    "total_combination_count = len(all_recipes)\n",
    "len(all_recipes), len(all_recipes[0]), all_recipes[0][0]"
   ]
  },
  {
   "cell_type": "code",
   "execution_count": 39,
   "metadata": {
    "tags": []
   },
   "outputs": [
    {
     "data": {
      "text/plain": [
       "6850"
      ]
     },
     "execution_count": 39,
     "metadata": {},
     "output_type": "execute_result"
    }
   ],
   "source": [
    "len(all_notes_sets.keys())"
   ]
  },
  {
   "cell_type": "code",
   "execution_count": 52,
   "metadata": {
    "tags": []
   },
   "outputs": [
    {
     "data": {
      "text/plain": [
       "(1431, 1374, 489, 2)"
      ]
     },
     "execution_count": 52,
     "metadata": {},
     "output_type": "execute_result"
    }
   ],
   "source": [
    "def subset(note):\n",
    "    return [k for k in all_notes_sets.keys() if note in k]\n",
    "\n",
    "\n",
    "len(subset(\"fruity\")), len(subset(\"floral\")), len(subset(\"citrus\")), len(\n",
    "    subset(\"salty\")\n",
    ")"
   ]
  },
  {
   "cell_type": "markdown",
   "metadata": {
    "id": "VVoZgGpOuoWM"
   },
   "source": [
    "### Quick check to see which way we should precompute our indices\n",
    "Precomputing by combination is # all recipes across all combinations.\n",
    "\n",
    "Precompution by ingredient pairing is # ingredients<sup>2</sup>. *(which only works for pairs)*"
   ]
  },
  {
   "cell_type": "code",
   "execution_count": 6,
   "metadata": {
    "colab": {
     "base_uri": "https://localhost:8080/",
     "height": 35
    },
    "id": "BfIZ7LPOu7F2",
    "outputId": "28228a9e-1e4a-472f-f40c-344dcec71ea7"
   },
   "outputs": [
    {
     "data": {
      "text/plain": [
       "'Precompute by combination :266,758, Precompute by ingredients: 11,751,184'"
      ]
     },
     "execution_count": 6,
     "metadata": {},
     "output_type": "execute_result"
    }
   ],
   "source": [
    "total_recipe_count = sum([len(recipes) for recipes in all_recipes])\n",
    "all_combination_count = len(all_mols) ** 2\n",
    "f\"Precompute by combination :{total_recipe_count:,.0f}, Precompute by ingredients: {all_combination_count:,.0f}\""
   ]
  },
  {
   "cell_type": "markdown",
   "metadata": {
    "id": "TuZlejnwv0Nr"
   },
   "source": [
    "If this wasn't pairing, and recipes could be arbitrary number of ingredients, it would be is 2<sup># ingredients</sup>."
   ]
  },
  {
   "cell_type": "code",
   "execution_count": 7,
   "metadata": {
    "colab": {
     "base_uri": "https://localhost:8080/",
     "height": 35
    },
    "id": "m336KKgsv-AL",
    "outputId": "6eaa075a-f8bb-4956-83cc-7b212a6bf694"
   },
   "outputs": [
    {
     "data": {
      "text/plain": [
       "'10^1032'"
      ]
     },
     "execution_count": 7,
     "metadata": {},
     "output_type": "execute_result"
    }
   ],
   "source": [
    "all_combination_count = 2 ** len(all_mols)\n",
    "# f\"Precompute by ingredients (log10): {np.log10(all_combination_count):,.0f}\"\n",
    "f\"10^{len(str(all_combination_count))}\""
   ]
  },
  {
   "cell_type": "code",
   "execution_count": 8,
   "metadata": {
    "colab": {
     "base_uri": "https://localhost:8080/"
    },
    "id": "4-rt4eTYwmy9",
    "outputId": "728b06b3-6d35-4b2c-8c14-dc5cb247ab6a"
   },
   "outputs": [
    {
     "data": {
      "text/plain": [
       "(533479,\n",
       " ('CCCC(CC)O',\n",
       "  defaultdict(set,\n",
       "              {0: {0, 3, 4, 7},\n",
       "               1: {8768, 8770, 8773},\n",
       "               2: {9858},\n",
       "               3: {11064},\n",
       "               4: {11065},\n",
       "               5: {11068,\n",
       "                11069,\n",
       "                11085,\n",
       "                11095,\n",
       "                11100,\n",
       "                11101,\n",
       "                11116,\n",
       "                11127,\n",
       "                11132,\n",
       "                11139,\n",
       "                11159,\n",
       "                11167,\n",
       "                11170,\n",
       "                11174,\n",
       "                11177}})))"
      ]
     },
     "execution_count": 8,
     "metadata": {},
     "output_type": "execute_result"
    }
   ],
   "source": [
    "import collections\n",
    "\n",
    "idx_to_recipe = dict()\n",
    "\n",
    "\n",
    "def precompute_ingredient_indices(sample_recipes):\n",
    "    \"\"\"Precompute which recipes each ingredient can cover.\"\"\"\n",
    "    ingredient_indices = nested_dict = collections.defaultdict(\n",
    "        lambda: collections.defaultdict(set)\n",
    "    )\n",
    "    current_recipe_idx = 0\n",
    "\n",
    "    # The combination is the underlying set of descriptors.\n",
    "    for combination_idx, recipes in enumerate(sample_recipes):\n",
    "        # The recipe is one particular pairing that results in that combination.\n",
    "        for recipe in recipes:\n",
    "            for ingredient in recipe:\n",
    "                ingredient_indices[ingredient][combination_idx].add(current_recipe_idx)\n",
    "                idx_to_recipe[current_recipe_idx] = recipe\n",
    "                current_recipe_idx += 1\n",
    "\n",
    "    return ingredient_indices, current_recipe_idx\n",
    "\n",
    "\n",
    "all_ingredient_indices, total_recipe_count = precompute_ingredient_indices(all_recipes)\n",
    "total_recipe_count, next(iter(all_ingredient_indices.items()))"
   ]
  },
  {
   "cell_type": "code",
   "execution_count": 9,
   "metadata": {
    "colab": {
     "base_uri": "https://localhost:8080/",
     "height": 34
    },
    "id": "KT4jkGjhkLFz",
    "outputId": "ef2dac84-09be-4057-cc32-3063b89c5c2d"
   },
   "outputs": [
    {
     "data": {
      "text/plain": [
       "Solution of size 3428 w/ coverage 6850"
      ]
     },
     "metadata": {},
     "output_type": "display_data"
    }
   ],
   "source": [
    "import numpy as np\n",
    "import random\n",
    "\n",
    "\n",
    "class Solution:\n",
    "    def __init__(self, ingredients=None, coverage_bitmask=None, total_covered=0):\n",
    "        self._ingredients = ingredients if ingredients is not None else frozenset()\n",
    "        # coverage_bitmask now tracks combinations, not recipes\n",
    "        self.coverage_bitmask = (\n",
    "            coverage_bitmask\n",
    "            if coverage_bitmask is not None\n",
    "            else np.zeros(len(all_recipes), dtype=bool)\n",
    "        )\n",
    "        self.total_covered = total_covered\n",
    "\n",
    "    @classmethod\n",
    "    def random_solution(cls, n):\n",
    "        # If n matches the total number of ingredients, use all_mols directly\n",
    "        if n == len(all_mols):\n",
    "            selected_ingredients = frozenset(all_mols)\n",
    "        else:\n",
    "            # Otherwise, select n unique ingredients from all_mols\n",
    "            selected_ingredients = frozenset(random.sample(all_mols, n))\n",
    "\n",
    "        # Initialize the coverage bitmask for combinations\n",
    "        coverage_bitmask = np.zeros(len(all_recipes), dtype=bool)\n",
    "        total_covered = 0\n",
    "\n",
    "        # Check each combination and mark it as covered if any of its recipes is fully satisfied\n",
    "        for combination_idx, recipes in enumerate(all_recipes):\n",
    "            for recipe in recipes:\n",
    "                if set(recipe) <= selected_ingredients:\n",
    "                    coverage_bitmask[combination_idx] = True\n",
    "                    total_covered += 1\n",
    "                    break  # Stop once the combination is covered by any recipe\n",
    "\n",
    "        # Create the solution instance\n",
    "        solution = cls(selected_ingredients, coverage_bitmask, total_covered)\n",
    "\n",
    "        # Validation check: if we selected all ingredients, every combination should be covered\n",
    "        if n == len(all_mols):\n",
    "            assert solution.total_covered == len(\n",
    "                all_recipes\n",
    "            ), \"Expected full coverage of all combinations, but got partial coverage.\"\n",
    "\n",
    "        return solution\n",
    "\n",
    "    def add(self, ingredient):\n",
    "        assert ingredient not in self._ingredients\n",
    "        new_ingredients = self._ingredients | frozenset([ingredient])\n",
    "        new_coverage_bitmask = self.coverage_bitmask.copy()\n",
    "        new_total_covered = self.total_covered\n",
    "\n",
    "        ingredient_index = all_ingredient_indices[ingredient]\n",
    "\n",
    "        for combination_idx, recipe_indices in ingredient_index.items():\n",
    "            if not new_coverage_bitmask[\n",
    "                combination_idx\n",
    "            ]:  # Only check if not already covered\n",
    "                for recipe_idx in recipe_indices:\n",
    "                    recipe_ingredients = set(idx_to_recipe[recipe_idx])\n",
    "                    if recipe_ingredients <= new_ingredients:\n",
    "                        new_coverage_bitmask[combination_idx] = True\n",
    "                        new_total_covered += 1\n",
    "                        break  # Stop once the combination is covered\n",
    "\n",
    "        return Solution(new_ingredients, new_coverage_bitmask, new_total_covered)\n",
    "\n",
    "    def remove(self, ingredient):\n",
    "        assert ingredient in self._ingredients\n",
    "        new_ingredients = self._ingredients - frozenset([ingredient])\n",
    "        new_coverage_bitmask = self.coverage_bitmask.copy()\n",
    "        new_total_covered = self.total_covered\n",
    "\n",
    "        ingredient_index = all_ingredient_indices[ingredient]\n",
    "\n",
    "        for combination_idx, recipe_indices in ingredient_index.items():\n",
    "            if self.coverage_bitmask[\n",
    "                combination_idx\n",
    "            ]:  # Only adjust if currently covered\n",
    "                # Check if removing this ingredient uncovers the combination\n",
    "                still_covered = False\n",
    "                for recipe_idx in recipe_indices:\n",
    "                    recipe_ingredients = set(idx_to_recipe[recipe_idx])\n",
    "                    if recipe_ingredients <= new_ingredients:\n",
    "                        still_covered = True\n",
    "                        break  # Combination is still covered by another recipe\n",
    "\n",
    "                if not still_covered:\n",
    "                    new_coverage_bitmask[combination_idx] = False\n",
    "                    new_total_covered -= 1\n",
    "\n",
    "        return Solution(new_ingredients, new_coverage_bitmask, new_total_covered)\n",
    "\n",
    "    def __contains__(self, ingredient):\n",
    "        return ingredient in self._ingredients\n",
    "\n",
    "    def __len__(self):\n",
    "        return len(self._ingredients)\n",
    "\n",
    "    def coverage(self):\n",
    "        return self.total_covered\n",
    "\n",
    "    def __repr__(self):\n",
    "        return (\n",
    "            f\"Solution of size {len(self._ingredients)} w/ coverage {self.coverage()}\"\n",
    "        )\n",
    "\n",
    "\n",
    "# Example usage of random solution creation with full coverage check\n",
    "random_solution = Solution.random_solution(len(all_mols))\n",
    "display(random_solution)"
   ]
  },
  {
   "cell_type": "code",
   "execution_count": 33,
   "metadata": {
    "colab": {
     "base_uri": "https://localhost:8080/",
     "height": 596,
     "referenced_widgets": [
      "80470cf854134ad2940aab4561164069",
      "99e3ec97afb6453ea96e09fe3dda2451",
      "e892c784e7b1448da07078e20b72eae7",
      "8349cc0d0a4a4f7787fb5c6d080da847",
      "26d9c2d328564d80a3093a78447ed023",
      "ad144192551c418b89b2ec1123ba4fd5",
      "e9cb069a9627480ea2c7b590d116f84a",
      "ab519e61305e4d8d93e5a1a4e1179ff7",
      "5ebd6bf500694adda746d9f2bbccefae",
      "aacc3dd1c7cb483a814598958f2b042f",
      "7b3c7f18dafc4bb88d1db39a3d22b96a"
     ]
    },
    "id": "tM9YneOfwURd",
    "outputId": "7bb9a1f3-418e-4545-e410-5e94611f990e"
   },
   "outputs": [
    {
     "data": {
      "application/vnd.jupyter.widget-view+json": {
       "model_id": "21857347ad3f4423ad3e7e51c102c4cc",
       "version_major": 2,
       "version_minor": 0
      },
      "text/plain": [
       "Random Solution:   0%|          | 0/113 [00:00<?, ?it/s]"
      ]
     },
     "metadata": {},
     "output_type": "display_data"
    },
    {
     "data": {
      "image/png": "[encoded data removed]",
      "text/plain": [
       "<Figure size 800x600 with 2 Axes>"
      ]
     },
     "metadata": {},
     "output_type": "display_data"
    }
   ],
   "source": [
    "import numpy as np\n",
    "import os\n",
    "import matplotlib.pyplot as plt\n",
    "from matplotlib.ticker import MultipleLocator, ScalarFormatter\n",
    "from tqdm.notebook import tqdm\n",
    "import re\n",
    "\n",
    "\n",
    "x = np.logspace(0, 6, 250)  # Exponential range from 10^0 to 10^4 (1 to 1e4)\n",
    "x_int = np.unique(\n",
    "    np.round(x).astype(int)\n",
    ")  # Round and convert to integer, then keep unique values\n",
    "x_int = x_int[x_int < len(all_mols)]\n",
    "x_int = np.append(x_int, len(all_mols))\n",
    "\n",
    "random_passes = 1\n",
    "\n",
    "random_fraction_at_x = []\n",
    "pbar = tqdm(total=len(x_int), desc=\"Random Solution\", leave=True, smoothing=1)\n",
    "for max_ingredients in x_int:\n",
    "    coverage = []\n",
    "    for _ in range(random_passes):\n",
    "        random_solution = Solution.random_solution(max_ingredients)\n",
    "        random_coverage = random_solution.coverage()\n",
    "        coverage.append(random_coverage)\n",
    "\n",
    "    fraction = np.mean(coverage) / total_combination_count\n",
    "    pbar.set_postfix(\n",
    "        {\"Blend Size\": max_ingredients, \"Fraction Covered\": f\"{fraction:.4f}\"}\n",
    "    )\n",
    "    pbar.update(1)\n",
    "    random_fraction_at_x.append(fraction)\n",
    "\n",
    "\n",
    "def make_chart(fraction_at_x, title):\n",
    "    def clean_title_for_filename(title):\n",
    "        # Remove special characters and replace spaces with underscores\n",
    "        filename = re.sub(\n",
    "            r\"[^\\w\\s]\", \"\", title\n",
    "        )  # Remove non-alphanumeric characters except spaces\n",
    "        filename = re.sub(r\"\\s+\", \"_\", filename)  # Replace spaces with underscores\n",
    "        return filename.lower()\n",
    "\n",
    "    # Plot the data points on the primary axis\n",
    "    fig, ax1 = plt.subplots(figsize=(8, 6))\n",
    "    ax1.plot(x_int[: len(fraction_at_x)], fraction_at_x, marker=\".\", linestyle=\"\")\n",
    "    ax1.set_xscale(\"log\")  # Set x-axis to log scale\n",
    "\n",
    "    # Format the x-axis log scale to show numbers without scientific notation\n",
    "    ax1.xaxis.set_major_formatter(ScalarFormatter())\n",
    "    ax1.grid()\n",
    "\n",
    "    # Primary axis labels and title\n",
    "    ax1.set_title(title)\n",
    "    ax1.set_xlabel(\"# of Molecules\")\n",
    "    ax1.set_ylabel(\"Covered Fraction\")\n",
    "\n",
    "    # Add twin y-axis, scaled version without plotting points again\n",
    "    ax2 = ax1.twinx()\n",
    "    scale_factor = len(all_notes_sets)\n",
    "    ax2.set_ylim(ax1.get_ylim()[0] * scale_factor, ax1.get_ylim()[1] * scale_factor)\n",
    "    ax2.set_ylabel(\"# of Odor Combinations\")\n",
    "\n",
    "    # Show the plot\n",
    "    plt.savefig(os.path.join(\"Notebooks/Charts\", clean_title_for_filename(title)))\n",
    "    plt.show()\n",
    "\n",
    "\n",
    "make_chart(\n",
    "    random_fraction_at_x, \"Coverage by Primary Set Size (Random Molecule Sampling)\"\n",
    ")"
   ]
  },
  {
   "cell_type": "code",
   "execution_count": 11,
   "metadata": {
    "colab": {
     "base_uri": "https://localhost:8080/"
    },
    "id": "xRD4OuvIOg6y",
    "outputId": "8439fd03-a033-4f2a-fd1b-c9b57bd8d7cd"
   },
   "outputs": [
    {
     "data": {
      "text/plain": [
       "1.0"
      ]
     },
     "execution_count": 11,
     "metadata": {},
     "output_type": "execute_result"
    }
   ],
   "source": [
    "Solution.random_solution(len(all_mols)).coverage() / total_combination_count"
   ]
  },
  {
   "cell_type": "code",
   "execution_count": 12,
   "metadata": {
    "colab": {
     "base_uri": "https://localhost:8080/",
     "height": 133,
     "referenced_widgets": [
      "a0f9429dcc5648c2a007219f300ce135",
      "919d3658b1f24c579462d4523653fd3e",
      "cefbe124594447529b089f001a4f0a00",
      "ee93d85fab4441b8a5c1bbb04190efad",
      "3dfab40cfcb744a89bf77a7c061cb91d",
      "1a23ec201869455c8f2f8294bea400cc",
      "a97dda2164c0435d981a60b550b4e314",
      "c4ca68c313654353968b4cd14517ca52",
      "d048404738114594a50e58098153d5a5",
      "fa3f4a4fc47e461fa878a89dca4f9c03",
      "766c69213f614f66acdae09fc0c7e721",
      "5fb6943d06e6428ea94958700b1c80d4",
      "36360f46e4a6489cbb523965ba06372d",
      "892201fd755e4177872a994f775efba6",
      "8c0def486e77452581f725a92ad1c0ae",
      "a9e160a2798a4a40b2af2362421dbe8c",
      "d6608d6c9196467688361293178e5190",
      "5716a66a2bff4e888a98264b598b302b",
      "bd39ddeec82246f49679731781d64048",
      "51694a42a3be46c68e0eb71164568b48",
      "4108efe9125e4061affb4b142a2f57e8",
      "8e6c802d31b34eb38204882ab89fff93"
     ]
    },
    "id": "DWrEtkiieu5k",
    "outputId": "ca93920a-988a-4d34-aedb-8660185275fa"
   },
   "outputs": [
    {
     "data": {
      "application/vnd.jupyter.widget-view+json": {
       "model_id": "cf167625c2e04e57ba6c434c00c72fe9",
       "version_major": 2,
       "version_minor": 0
      },
      "text/plain": [
       "Greedy Solution:   0%|          | 0/50 [00:00<?, ?it/s]"
      ]
     },
     "metadata": {},
     "output_type": "display_data"
    },
    {
     "data": {
      "application/vnd.jupyter.widget-view+json": {
       "model_id": "0f8e4b31c46947299ca03a2382d150a6",
       "version_major": 2,
       "version_minor": 0
      },
      "text/plain": [
       "Greedy Solution:   0%|          | 0/100 [00:00<?, ?it/s]"
      ]
     },
     "metadata": {},
     "output_type": "display_data"
    },
    {
     "name": "stdout",
     "output_type": "stream",
     "text": [
      "Random Start Solution: Solution of size 100 w/ coverage 1038\n",
      "Max Recipes Covered: 1038\n",
      "Fraction of Recipes Covered: 0.1515\n"
     ]
    }
   ],
   "source": [
    "greedy_cache = dict()\n",
    "\n",
    "\n",
    "# Greedy solution with caching\n",
    "def greedy_coverage(max_ingredients, use_cache=True, disable_tqdm=False):\n",
    "    global greedy_cache\n",
    "\n",
    "    current_solution = Solution()\n",
    "\n",
    "    # Initialize progress bar\n",
    "    pbar = tqdm(\n",
    "        total=max_ingredients, desc=\"Greedy Solution\", leave=True, disable=disable_tqdm\n",
    "    )\n",
    "\n",
    "    for size in range(max_ingredients):\n",
    "        if size in greedy_cache and use_cache:\n",
    "            current_solution = greedy_cache[size]\n",
    "            pbar.set_postfix(\n",
    "                {\n",
    "                    \"Fraction Covered\": f\"{current_solution.coverage() / total_combination_count:.4f}\"\n",
    "                }\n",
    "            )\n",
    "            pbar.update(1)\n",
    "            continue\n",
    "\n",
    "        # Initialize best solution for this round as the current solution\n",
    "        best_solution = current_solution\n",
    "        current_coverage = current_solution.coverage()\n",
    "\n",
    "        for mol in all_mols:\n",
    "            # Check only ingredients not already in the solution\n",
    "            if mol in current_solution:\n",
    "                continue\n",
    "\n",
    "            # Calculate coverage with the new molecule\n",
    "            greedy_solution = current_solution.add(mol)\n",
    "            if greedy_solution.coverage() > current_coverage:\n",
    "                best_solution = greedy_solution\n",
    "                current_coverage = greedy_solution.coverage()\n",
    "\n",
    "        # Update our results and cache\n",
    "        current_solution = best_solution\n",
    "        greedy_cache[size] = current_solution\n",
    "\n",
    "        # Update the progress bar\n",
    "        pbar.set_postfix(\n",
    "            {\n",
    "                \"Fraction Covered\": f\"{current_solution.coverage() / total_combination_count:.4f}\"\n",
    "            }\n",
    "        )\n",
    "        pbar.update(1)\n",
    "\n",
    "    pbar.close()\n",
    "    return current_solution\n",
    "\n",
    "\n",
    "# Test the caching with a small run\n",
    "_ = greedy_coverage(max_ingredients=50)\n",
    "\n",
    "# Run a larger greedy solution\n",
    "best_solution = greedy_coverage(max_ingredients=100)\n",
    "print(f\"Random Start Solution: {best_solution}\")\n",
    "print(f\"Max Recipes Covered: {best_solution.coverage()}\")\n",
    "print(\n",
    "    f\"Fraction of Recipes Covered: {best_solution.coverage() / total_combination_count:.4f}\"\n",
    ")"
   ]
  },
  {
   "cell_type": "code",
   "execution_count": 34,
   "metadata": {
    "colab": {
     "base_uri": "https://localhost:8080/",
     "height": 596,
     "referenced_widgets": [
      "490dae09cf5f4e4fb146a6a804298f91",
      "a348785d35664e0d901d2864925a71c4",
      "f56de7afef9741a3a27d8d9b79258269",
      "920961a2c8f644ac98df8a731fe2ab4b",
      "db00f1b72c094933b07e56c7c3f1922f",
      "d06a811e634a40769ea18382547307b4",
      "b60ed26ce1b24d318b499b7d03a711b4",
      "8e04ea3ab1914d209f225df91f1d1690",
      "7ad51676f3584d67b0d703a8672bb650",
      "2d9ffd2e718c496ab8c161c4bd31cbd7",
      "c002e23bcfaf4088934646ecc4cb7560"
     ]
    },
    "id": "_pri1YeciUiy",
    "outputId": "94104710-b8c2-4461-d2c4-44d2e39ba57e"
   },
   "outputs": [
    {
     "data": {
      "image/png": "[encoded data removed]",
      "text/plain": [
       "<Figure size 800x600 with 2 Axes>"
      ]
     },
     "metadata": {},
     "output_type": "display_data"
    }
   ],
   "source": [
    "pbar = tqdm(total=len(x_int), desc=\"Greedy Solution\", leave=True, smoothing=1)\n",
    "\n",
    "greedy_fraction_at_x = []\n",
    "for max_ingredients in x_int:\n",
    "    best_solution = greedy_coverage(\n",
    "        max_ingredients=max_ingredients, use_cache=True, disable_tqdm=True\n",
    "    )\n",
    "    pbar.set_postfix(\n",
    "        {\n",
    "            \"Blend Size\": max_ingredients,\n",
    "            \"Fraction Covered\": f\"{best_solution.coverage() / total_combination_count:.4f}\",\n",
    "        }\n",
    "    )\n",
    "    pbar.update(1)\n",
    "    greedy_fraction_at_x.append(best_solution.coverage() / total_combination_count)\n",
    "\n",
    "make_chart(greedy_fraction_at_x, \"Coverage by Primary Set Size (Greedy Solution)\")"
   ]
  },
  {
   "cell_type": "code",
   "execution_count": null,
   "metadata": {
    "colab": {
     "background_save": true,
     "base_uri": "https://localhost:8080/",
     "height": 101,
     "referenced_widgets": [
      "cb5072e942484e96bd6dfd91ea0428ce",
      "02e15ebb51334717b67a4107a981d6a7",
      "1f6d0541d5d446c297a41ac6224cd496",
      "f1e14987b2a048e2bf7b66f6a1565bbe",
      "223c47d776614f9c97f9e7d791b8c72e",
      "2a854845a98a4cadae3318d3028fef32",
      "ace1735bb4504b59a1b1af40b8c1cb46",
      "81e9e169ad9a44a78ca607ea4496a5b8",
      "4bfe8576fae94cab9b7295322214780c",
      "8d50321cf0444dc9a4a6ba3fe8484e2c",
      "8583242971f646d5a8e99d6e91c0d89a"
     ]
    },
    "id": "kN1VTuzBva2U",
    "outputId": "55f7370f-dee2-4f58-a8a6-ee82125725d0"
   },
   "outputs": [
    {
     "data": {
      "application/vnd.jupyter.widget-view+json": {
       "model_id": "ebdbce882b624ea889e56dccb259dc1e",
       "version_major": 2,
       "version_minor": 0
      },
      "text/plain": [
       "Simulated Annealing:   0%|          | 0/10000 [00:00<?, ?it/s]"
      ]
     },
     "metadata": {},
     "output_type": "display_data"
    },
    {
     "name": "stderr",
     "output_type": "stream",
     "text": [
      "IOPub message rate exceeded.\n",
      "The Jupyter server will temporarily stop sending output\n",
      "to the client in order to avoid crashing it.\n",
      "To change this limit, set the config variable\n",
      "`--ServerApp.iopub_msg_rate_limit`.\n",
      "\n",
      "Current values:\n",
      "ServerApp.iopub_msg_rate_limit=1000.0 (msgs/sec)\n",
      "ServerApp.rate_limit_window=3.0 (secs)\n",
      "\n",
      "IOPub message rate exceeded.\n",
      "The Jupyter server will temporarily stop sending output\n",
      "to the client in order to avoid crashing it.\n",
      "To change this limit, set the config variable\n",
      "`--ServerApp.iopub_msg_rate_limit`.\n",
      "\n",
      "Current values:\n",
      "ServerApp.iopub_msg_rate_limit=1000.0 (msgs/sec)\n",
      "ServerApp.rate_limit_window=3.0 (secs)\n",
      "\n"
     ]
    }
   ],
   "source": [
    "import math\n",
    "\n",
    "\n",
    "def simulated_annealing_max_coverage(\n",
    "    max_ingredients,\n",
    "    start_random=True,\n",
    "    initial_temp=100,\n",
    "    cooling_rate=0.99,\n",
    "    num_iterations=10000,\n",
    "    disable_tqdm=False,\n",
    "):\n",
    "    \"\"\"Simulated annealing to find the best set of ingredients that maximizes recipe coverage.\"\"\"\n",
    "\n",
    "    total_recipes = len(all_recipes)\n",
    "\n",
    "    if start_random:\n",
    "        current_solution = Solution.random_solution(max_ingredients)\n",
    "    else:\n",
    "        current_solution = greedy_coverage(\n",
    "            max_ingredients=max_ingredients, use_cache=True, disable_tqdm=True\n",
    "        )\n",
    "\n",
    "    # Track the best solution\n",
    "    best_solution = current_solution\n",
    "\n",
    "    temp = initial_temp\n",
    "\n",
    "    # Initialize progress bar\n",
    "    pbar = tqdm(\n",
    "        total=num_iterations,\n",
    "        desc=\"Simulated Annealing\",\n",
    "        leave=True,\n",
    "        disable=disable_tqdm,\n",
    "    )\n",
    "\n",
    "    for i in range(num_iterations):\n",
    "        # Generate a new solution by swapping one ingredient\n",
    "        new_solution = current_solution\n",
    "\n",
    "        # If we're at the max ingredients, ensure we don't exceed it\n",
    "        if len(new_solution) >= max_ingredients:\n",
    "            # Randomly remove an ingredient before adding a new one\n",
    "            ingredient_to_remove = random.choice(list(new_solution._ingredients))\n",
    "            new_solution = new_solution.remove(ingredient_to_remove)\n",
    "\n",
    "        # Add a new ingredient from the pool of unused ingredients\n",
    "        available_ingredients = [i for i in all_mols if i not in new_solution]\n",
    "        if available_ingredients:\n",
    "            ingredient_to_add = random.choice(available_ingredients)\n",
    "            new_solution = new_solution.add(ingredient_to_add)\n",
    "\n",
    "        # Calculate acceptance probability\n",
    "        if new_solution.coverage() > current_solution.coverage():\n",
    "            accept = True  # Always accept a better solution\n",
    "        else:\n",
    "            delta = current_solution.coverage() - new_solution.coverage()\n",
    "            accept_probability = math.exp(-delta / temp)\n",
    "            accept = (\n",
    "                random.random() < accept_probability\n",
    "            )  # Accept worse solution with some probability\n",
    "\n",
    "        # Accept the new solution\n",
    "        if accept:\n",
    "            current_solution = new_solution\n",
    "\n",
    "            # Update the best solution if the new solution is better\n",
    "            if current_solution.coverage() > best_solution.coverage():\n",
    "                best_solution = current_solution\n",
    "\n",
    "        # Cool down the temperature\n",
    "        temp *= cooling_rate\n",
    "\n",
    "        # Update the progress bar and show the fraction of recipes covered\n",
    "        pbar.set_postfix(\n",
    "            {\n",
    "                \"Fraction Covered\": f\"{current_solution.coverage() / total_recipes:.4f}\",\n",
    "                \"Temperature\": f\"{temp:.2f}\",\n",
    "            }\n",
    "        )\n",
    "        pbar.update(1)\n",
    "\n",
    "    pbar.close()\n",
    "\n",
    "    return best_solution\n",
    "\n",
    "\n",
    "best_solution = simulated_annealing_max_coverage(max_ingredients=100, initial_temp=1e4)\n",
    "print(f\"Random Start Solution: {best_solution}\")\n",
    "print(f\"Max Recipes Covered: {best_solution.coverage()}\")\n",
    "print(f\"Fraction of Recipes Covered: {best_solution.coverage() / len(all_recipes):.4f}\")"
   ]
  },
  {
   "cell_type": "code",
   "execution_count": 53,
   "metadata": {
    "colab": {
     "base_uri": "https://localhost:8080/",
     "height": 34,
     "referenced_widgets": [
      "a1f55e725c8743f391a1d8172eeaa8ec"
     ]
    },
    "id": "agUVKlKXwfbC",
    "outputId": "5a020389-683e-4ce9-fc58-b0003c61e0f4"
   },
   "outputs": [
    {
     "data": {
      "application/vnd.jupyter.widget-view+json": {
       "model_id": "5a7d5d892c404e9f91b51e07ad6016aa",
       "version_major": 2,
       "version_minor": 0
      },
      "text/plain": [
       "Simulated Annealing:   0%|          | 0/113 [00:00<?, ?it/s]"
      ]
     },
     "metadata": {},
     "output_type": "display_data"
    },
    {
     "data": {
      "image/png": "[encoded data removed]",
      "text/plain": [
       "<Figure size 800x600 with 2 Axes>"
      ]
     },
     "metadata": {},
     "output_type": "display_data"
    }
   ],
   "source": [
    "pbar = tqdm(total=len(x_int), desc=\"Simulated Annealing\", leave=True, smoothing=1)\n",
    "\n",
    "greedy_annealed_fraction_at_x = []\n",
    "for max_ingredients in x_int:\n",
    "    best_solution = simulated_annealing_max_coverage(\n",
    "        max_ingredients=max_ingredients,\n",
    "        start_random=False,\n",
    "        num_iterations=int(1e5),\n",
    "        initial_temp=1e4,\n",
    "        disable_tqdm=True,\n",
    "    )\n",
    "    pbar.set_postfix(\n",
    "        {\n",
    "            \"Blend Size\": max_ingredients,\n",
    "            \"Fraction Covered\": f\"{best_solution.coverage()/len(all_recipes):.4f}\",\n",
    "        }\n",
    "    )\n",
    "    pbar.update(1)\n",
    "    greedy_annealed_fraction_at_x.append(best_solution.coverage() / len(all_recipes))\n",
    "\n",
    "make_chart(\n",
    "    greedy_annealed_fraction_at_x,\n",
    "    \"Coverage by Primary Set Size (Simulated Annealing w/ Greedy Start)\",\n",
    ")"
   ]
  },
  {
   "cell_type": "code",
   "execution_count": 36,
   "metadata": {
    "id": "zF0gvu2OxvDz"
   },
   "outputs": [
    {
     "data": {
      "image/png": "[encoded data removed]",
      "text/plain": [
       "<Figure size 800x600 with 2 Axes>"
      ]
     },
     "metadata": {},
     "output_type": "display_data"
    }
   ],
   "source": [
    "pbar = tqdm(total=len(x_int), desc=\"Simulated Annealing\", leave=True, smoothing=1)\n",
    "\n",
    "annealed_fraction_at_x = []\n",
    "for max_ingredients in x_int:\n",
    "    best_solution = simulated_annealing_max_coverage(\n",
    "        max_ingredients=max_ingredients,\n",
    "        num_iterations=int(1e4),\n",
    "        initial_temp=1e4,\n",
    "        disable_tqdm=True,\n",
    "    )\n",
    "    pbar.set_postfix(\n",
    "        {\n",
    "            \"Blend Size\": max_ingredients,\n",
    "            \"Fraction Covered\": f\"{best_solution.coverage()/len(all_recipes):.4f}\",\n",
    "        }\n",
    "    )\n",
    "    pbar.update(1)\n",
    "    annealed_fraction_at_x.append(best_solution.coverage() / len(all_recipes))\n",
    "\n",
    "make_chart(\n",
    "    annealed_fraction_at_x,\n",
    "    \"Coverage by Primary Set Size (Simulated Annealing w/ Random Start)\",\n",
    ")"
   ]
  }
 ],
 "metadata": {
  "colab": {
   "machine_shape": "hm",
   "provenance": []
  },
  "kernelspec": {
   "display_name": "Python 3 (ipykernel)",
   "language": "python",
   "name": "python3"
  },
  "language_info": {
   "codemirror_mode": {
    "name": "ipython",
    "version": 3
   },
   "file_extension": ".py",
   "mimetype": "text/x-python",
   "name": "python",
   "nbconvert_exporter": "python",
   "pygments_lexer": "ipython3",
   "version": "3.11.5"
  },
  "widgets": {
   "application/vnd.jupyter.widget-state+json": {
    "02e15ebb51334717b67a4107a981d6a7": {
     "model_module": "@jupyter-widgets/controls",
     "model_module_version": "1.5.0",
     "model_name": "HTMLModel",
     "state": {
      "_dom_classes": [],
      "_model_module": "@jupyter-widgets/controls",
      "_model_module_version": "1.5.0",
      "_model_name": "HTMLModel",
      "_view_count": null,
      "_view_module": "@jupyter-widgets/controls",
      "_view_module_version": "1.5.0",
      "_view_name": "HTMLView",
      "description": "",
      "description_tooltip": null,
      "layout": "IPY_MODEL_2a854845a98a4cadae3318d3028fef32",
      "placeholder": "​",
      "style": "IPY_MODEL_ace1735bb4504b59a1b1af40b8c1cb46",
      "value": "Simulated Annealing: 100%"
     }
    },
    "1a23ec201869455c8f2f8294bea400cc": {
     "model_module": "@jupyter-widgets/base",
     "model_module_version": "1.2.0",
     "model_name": "LayoutModel",
     "state": {
      "_model_module": "@jupyter-widgets/base",
      "_model_module_version": "1.2.0",
      "_model_name": "LayoutModel",
      "_view_count": null,
      "_view_module": "@jupyter-widgets/base",
      "_view_module_version": "1.2.0",
      "_view_name": "LayoutView",
      "align_content": null,
      "align_items": null,
      "align_self": null,
      "border": null,
      "bottom": null,
      "display": null,
      "flex": null,
      "flex_flow": null,
      "grid_area": null,
      "grid_auto_columns": null,
      "grid_auto_flow": null,
      "grid_auto_rows": null,
      "grid_column": null,
      "grid_gap": null,
      "grid_row": null,
      "grid_template_areas": null,
      "grid_template_columns": null,
      "grid_template_rows": null,
      "height": null,
      "justify_content": null,
      "justify_items": null,
      "left": null,
      "margin": null,
      "max_height": null,
      "max_width": null,
      "min_height": null,
      "min_width": null,
      "object_fit": null,
      "object_position": null,
      "order": null,
      "overflow": null,
      "overflow_x": null,
      "overflow_y": null,
      "padding": null,
      "right": null,
      "top": null,
      "visibility": null,
      "width": null
     }
    },
    "1f6d0541d5d446c297a41ac6224cd496": {
     "model_module": "@jupyter-widgets/controls",
     "model_module_version": "1.5.0",
     "model_name": "FloatProgressModel",
     "state": {
      "_dom_classes": [],
      "_model_module": "@jupyter-widgets/controls",
      "_model_module_version": "1.5.0",
      "_model_name": "FloatProgressModel",
      "_view_count": null,
      "_view_module": "@jupyter-widgets/controls",
      "_view_module_version": "1.5.0",
      "_view_name": "ProgressView",
      "bar_style": "success",
      "description": "",
      "description_tooltip": null,
      "layout": "IPY_MODEL_81e9e169ad9a44a78ca607ea4496a5b8",
      "max": 10000,
      "min": 0,
      "orientation": "horizontal",
      "style": "IPY_MODEL_4bfe8576fae94cab9b7295322214780c",
      "value": 10000
     }
    },
    "223c47d776614f9c97f9e7d791b8c72e": {
     "model_module": "@jupyter-widgets/base",
     "model_module_version": "1.2.0",
     "model_name": "LayoutModel",
     "state": {
      "_model_module": "@jupyter-widgets/base",
      "_model_module_version": "1.2.0",
      "_model_name": "LayoutModel",
      "_view_count": null,
      "_view_module": "@jupyter-widgets/base",
      "_view_module_version": "1.2.0",
      "_view_name": "LayoutView",
      "align_content": null,
      "align_items": null,
      "align_self": null,
      "border": null,
      "bottom": null,
      "display": null,
      "flex": null,
      "flex_flow": null,
      "grid_area": null,
      "grid_auto_columns": null,
      "grid_auto_flow": null,
      "grid_auto_rows": null,
      "grid_column": null,
      "grid_gap": null,
      "grid_row": null,
      "grid_template_areas": null,
      "grid_template_columns": null,
      "grid_template_rows": null,
      "height": null,
      "justify_content": null,
      "justify_items": null,
      "left": null,
      "margin": null,
      "max_height": null,
      "max_width": null,
      "min_height": null,
      "min_width": null,
      "object_fit": null,
      "object_position": null,
      "order": null,
      "overflow": null,
      "overflow_x": null,
      "overflow_y": null,
      "padding": null,
      "right": null,
      "top": null,
      "visibility": null,
      "width": null
     }
    },
    "26d9c2d328564d80a3093a78447ed023": {
     "model_module": "@jupyter-widgets/base",
     "model_module_version": "1.2.0",
     "model_name": "LayoutModel",
     "state": {
      "_model_module": "@jupyter-widgets/base",
      "_model_module_version": "1.2.0",
      "_model_name": "LayoutModel",
      "_view_count": null,
      "_view_module": "@jupyter-widgets/base",
      "_view_module_version": "1.2.0",
      "_view_name": "LayoutView",
      "align_content": null,
      "align_items": null,
      "align_self": null,
      "border": null,
      "bottom": null,
      "display": null,
      "flex": null,
      "flex_flow": null,
      "grid_area": null,
      "grid_auto_columns": null,
      "grid_auto_flow": null,
      "grid_auto_rows": null,
      "grid_column": null,
      "grid_gap": null,
      "grid_row": null,
      "grid_template_areas": null,
      "grid_template_columns": null,
      "grid_template_rows": null,
      "height": null,
      "justify_content": null,
      "justify_items": null,
      "left": null,
      "margin": null,
      "max_height": null,
      "max_width": null,
      "min_height": null,
      "min_width": null,
      "object_fit": null,
      "object_position": null,
      "order": null,
      "overflow": null,
      "overflow_x": null,
      "overflow_y": null,
      "padding": null,
      "right": null,
      "top": null,
      "visibility": null,
      "width": null
     }
    },
    "2a854845a98a4cadae3318d3028fef32": {
     "model_module": "@jupyter-widgets/base",
     "model_module_version": "1.2.0",
     "model_name": "LayoutModel",
     "state": {
      "_model_module": "@jupyter-widgets/base",
      "_model_module_version": "1.2.0",
      "_model_name": "LayoutModel",
      "_view_count": null,
      "_view_module": "@jupyter-widgets/base",
      "_view_module_version": "1.2.0",
      "_view_name": "LayoutView",
      "align_content": null,
      "align_items": null,
      "align_self": null,
      "border": null,
      "bottom": null,
      "display": null,
      "flex": null,
      "flex_flow": null,
      "grid_area": null,
      "grid_auto_columns": null,
      "grid_auto_flow": null,
      "grid_auto_rows": null,
      "grid_column": null,
      "grid_gap": null,
      "grid_row": null,
      "grid_template_areas": null,
      "grid_template_columns": null,
      "grid_template_rows": null,
      "height": null,
      "justify_content": null,
      "justify_items": null,
      "left": null,
      "margin": null,
      "max_height": null,
      "max_width": null,
      "min_height": null,
      "min_width": null,
      "object_fit": null,
      "object_position": null,
      "order": null,
      "overflow": null,
      "overflow_x": null,
      "overflow_y": null,
      "padding": null,
      "right": null,
      "top": null,
      "visibility": null,
      "width": null
     }
    },
    "2d9ffd2e718c496ab8c161c4bd31cbd7": {
     "model_module": "@jupyter-widgets/base",
     "model_module_version": "1.2.0",
     "model_name": "LayoutModel",
     "state": {
      "_model_module": "@jupyter-widgets/base",
      "_model_module_version": "1.2.0",
      "_model_name": "LayoutModel",
      "_view_count": null,
      "_view_module": "@jupyter-widgets/base",
      "_view_module_version": "1.2.0",
      "_view_name": "LayoutView",
      "align_content": null,
      "align_items": null,
      "align_self": null,
      "border": null,
      "bottom": null,
      "display": null,
      "flex": null,
      "flex_flow": null,
      "grid_area": null,
      "grid_auto_columns": null,
      "grid_auto_flow": null,
      "grid_auto_rows": null,
      "grid_column": null,
      "grid_gap": null,
      "grid_row": null,
      "grid_template_areas": null,
      "grid_template_columns": null,
      "grid_template_rows": null,
      "height": null,
      "justify_content": null,
      "justify_items": null,
      "left": null,
      "margin": null,
      "max_height": null,
      "max_width": null,
      "min_height": null,
      "min_width": null,
      "object_fit": null,
      "object_position": null,
      "order": null,
      "overflow": null,
      "overflow_x": null,
      "overflow_y": null,
      "padding": null,
      "right": null,
      "top": null,
      "visibility": null,
      "width": null
     }
    },
    "36360f46e4a6489cbb523965ba06372d": {
     "model_module": "@jupyter-widgets/controls",
     "model_module_version": "1.5.0",
     "model_name": "HTMLModel",
     "state": {
      "_dom_classes": [],
      "_model_module": "@jupyter-widgets/controls",
      "_model_module_version": "1.5.0",
      "_model_name": "HTMLModel",
      "_view_count": null,
      "_view_module": "@jupyter-widgets/controls",
      "_view_module_version": "1.5.0",
      "_view_name": "HTMLView",
      "description": "",
      "description_tooltip": null,
      "layout": "IPY_MODEL_d6608d6c9196467688361293178e5190",
      "placeholder": "​",
      "style": "IPY_MODEL_5716a66a2bff4e888a98264b598b302b",
      "value": "Greedy Solution: 100%"
     }
    },
    "3dfab40cfcb744a89bf77a7c061cb91d": {
     "model_module": "@jupyter-widgets/base",
     "model_module_version": "1.2.0",
     "model_name": "LayoutModel",
     "state": {
      "_model_module": "@jupyter-widgets/base",
      "_model_module_version": "1.2.0",
      "_model_name": "LayoutModel",
      "_view_count": null,
      "_view_module": "@jupyter-widgets/base",
      "_view_module_version": "1.2.0",
      "_view_name": "LayoutView",
      "align_content": null,
      "align_items": null,
      "align_self": null,
      "border": null,
      "bottom": null,
      "display": null,
      "flex": null,
      "flex_flow": null,
      "grid_area": null,
      "grid_auto_columns": null,
      "grid_auto_flow": null,
      "grid_auto_rows": null,
      "grid_column": null,
      "grid_gap": null,
      "grid_row": null,
      "grid_template_areas": null,
      "grid_template_columns": null,
      "grid_template_rows": null,
      "height": null,
      "justify_content": null,
      "justify_items": null,
      "left": null,
      "margin": null,
      "max_height": null,
      "max_width": null,
      "min_height": null,
      "min_width": null,
      "object_fit": null,
      "object_position": null,
      "order": null,
      "overflow": null,
      "overflow_x": null,
      "overflow_y": null,
      "padding": null,
      "right": null,
      "top": null,
      "visibility": null,
      "width": null
     }
    },
    "4108efe9125e4061affb4b142a2f57e8": {
     "model_module": "@jupyter-widgets/base",
     "model_module_version": "1.2.0",
     "model_name": "LayoutModel",
     "state": {
      "_model_module": "@jupyter-widgets/base",
      "_model_module_version": "1.2.0",
      "_model_name": "LayoutModel",
      "_view_count": null,
      "_view_module": "@jupyter-widgets/base",
      "_view_module_version": "1.2.0",
      "_view_name": "LayoutView",
      "align_content": null,
      "align_items": null,
      "align_self": null,
      "border": null,
      "bottom": null,
      "display": null,
      "flex": null,
      "flex_flow": null,
      "grid_area": null,
      "grid_auto_columns": null,
      "grid_auto_flow": null,
      "grid_auto_rows": null,
      "grid_column": null,
      "grid_gap": null,
      "grid_row": null,
      "grid_template_areas": null,
      "grid_template_columns": null,
      "grid_template_rows": null,
      "height": null,
      "justify_content": null,
      "justify_items": null,
      "left": null,
      "margin": null,
      "max_height": null,
      "max_width": null,
      "min_height": null,
      "min_width": null,
      "object_fit": null,
      "object_position": null,
      "order": null,
      "overflow": null,
      "overflow_x": null,
      "overflow_y": null,
      "padding": null,
      "right": null,
      "top": null,
      "visibility": null,
      "width": null
     }
    },
    "490dae09cf5f4e4fb146a6a804298f91": {
     "model_module": "@jupyter-widgets/controls",
     "model_module_version": "1.5.0",
     "model_name": "HBoxModel",
     "state": {
      "_dom_classes": [],
      "_model_module": "@jupyter-widgets/controls",
      "_model_module_version": "1.5.0",
      "_model_name": "HBoxModel",
      "_view_count": null,
      "_view_module": "@jupyter-widgets/controls",
      "_view_module_version": "1.5.0",
      "_view_name": "HBoxView",
      "box_style": "",
      "children": [
       "IPY_MODEL_a348785d35664e0d901d2864925a71c4",
       "IPY_MODEL_f56de7afef9741a3a27d8d9b79258269",
       "IPY_MODEL_920961a2c8f644ac98df8a731fe2ab4b"
      ],
      "layout": "IPY_MODEL_db00f1b72c094933b07e56c7c3f1922f"
     }
    },
    "4bfe8576fae94cab9b7295322214780c": {
     "model_module": "@jupyter-widgets/controls",
     "model_module_version": "1.5.0",
     "model_name": "ProgressStyleModel",
     "state": {
      "_model_module": "@jupyter-widgets/controls",
      "_model_module_version": "1.5.0",
      "_model_name": "ProgressStyleModel",
      "_view_count": null,
      "_view_module": "@jupyter-widgets/base",
      "_view_module_version": "1.2.0",
      "_view_name": "StyleView",
      "bar_color": null,
      "description_width": ""
     }
    },
    "51694a42a3be46c68e0eb71164568b48": {
     "model_module": "@jupyter-widgets/controls",
     "model_module_version": "1.5.0",
     "model_name": "ProgressStyleModel",
     "state": {
      "_model_module": "@jupyter-widgets/controls",
      "_model_module_version": "1.5.0",
      "_model_name": "ProgressStyleModel",
      "_view_count": null,
      "_view_module": "@jupyter-widgets/base",
      "_view_module_version": "1.2.0",
      "_view_name": "StyleView",
      "bar_color": null,
      "description_width": ""
     }
    },
    "5716a66a2bff4e888a98264b598b302b": {
     "model_module": "@jupyter-widgets/controls",
     "model_module_version": "1.5.0",
     "model_name": "DescriptionStyleModel",
     "state": {
      "_model_module": "@jupyter-widgets/controls",
      "_model_module_version": "1.5.0",
      "_model_name": "DescriptionStyleModel",
      "_view_count": null,
      "_view_module": "@jupyter-widgets/base",
      "_view_module_version": "1.2.0",
      "_view_name": "StyleView",
      "description_width": ""
     }
    },
    "5ebd6bf500694adda746d9f2bbccefae": {
     "model_module": "@jupyter-widgets/controls",
     "model_module_version": "1.5.0",
     "model_name": "ProgressStyleModel",
     "state": {
      "_model_module": "@jupyter-widgets/controls",
      "_model_module_version": "1.5.0",
      "_model_name": "ProgressStyleModel",
      "_view_count": null,
      "_view_module": "@jupyter-widgets/base",
      "_view_module_version": "1.2.0",
      "_view_name": "StyleView",
      "bar_color": null,
      "description_width": ""
     }
    },
    "5fb6943d06e6428ea94958700b1c80d4": {
     "model_module": "@jupyter-widgets/controls",
     "model_module_version": "1.5.0",
     "model_name": "HBoxModel",
     "state": {
      "_dom_classes": [],
      "_model_module": "@jupyter-widgets/controls",
      "_model_module_version": "1.5.0",
      "_model_name": "HBoxModel",
      "_view_count": null,
      "_view_module": "@jupyter-widgets/controls",
      "_view_module_version": "1.5.0",
      "_view_name": "HBoxView",
      "box_style": "",
      "children": [
       "IPY_MODEL_36360f46e4a6489cbb523965ba06372d",
       "IPY_MODEL_892201fd755e4177872a994f775efba6",
       "IPY_MODEL_8c0def486e77452581f725a92ad1c0ae"
      ],
      "layout": "IPY_MODEL_a9e160a2798a4a40b2af2362421dbe8c"
     }
    },
    "766c69213f614f66acdae09fc0c7e721": {
     "model_module": "@jupyter-widgets/controls",
     "model_module_version": "1.5.0",
     "model_name": "DescriptionStyleModel",
     "state": {
      "_model_module": "@jupyter-widgets/controls",
      "_model_module_version": "1.5.0",
      "_model_name": "DescriptionStyleModel",
      "_view_count": null,
      "_view_module": "@jupyter-widgets/base",
      "_view_module_version": "1.2.0",
      "_view_name": "StyleView",
      "description_width": ""
     }
    },
    "7ad51676f3584d67b0d703a8672bb650": {
     "model_module": "@jupyter-widgets/controls",
     "model_module_version": "1.5.0",
     "model_name": "ProgressStyleModel",
     "state": {
      "_model_module": "@jupyter-widgets/controls",
      "_model_module_version": "1.5.0",
      "_model_name": "ProgressStyleModel",
      "_view_count": null,
      "_view_module": "@jupyter-widgets/base",
      "_view_module_version": "1.2.0",
      "_view_name": "StyleView",
      "bar_color": null,
      "description_width": ""
     }
    },
    "7b3c7f18dafc4bb88d1db39a3d22b96a": {
     "model_module": "@jupyter-widgets/controls",
     "model_module_version": "1.5.0",
     "model_name": "DescriptionStyleModel",
     "state": {
      "_model_module": "@jupyter-widgets/controls",
      "_model_module_version": "1.5.0",
      "_model_name": "DescriptionStyleModel",
      "_view_count": null,
      "_view_module": "@jupyter-widgets/base",
      "_view_module_version": "1.2.0",
      "_view_name": "StyleView",
      "description_width": ""
     }
    },
    "80470cf854134ad2940aab4561164069": {
     "model_module": "@jupyter-widgets/controls",
     "model_module_version": "1.5.0",
     "model_name": "HBoxModel",
     "state": {
      "_dom_classes": [],
      "_model_module": "@jupyter-widgets/controls",
      "_model_module_version": "1.5.0",
      "_model_name": "HBoxModel",
      "_view_count": null,
      "_view_module": "@jupyter-widgets/controls",
      "_view_module_version": "1.5.0",
      "_view_name": "HBoxView",
      "box_style": "",
      "children": [
       "IPY_MODEL_99e3ec97afb6453ea96e09fe3dda2451",
       "IPY_MODEL_e892c784e7b1448da07078e20b72eae7",
       "IPY_MODEL_8349cc0d0a4a4f7787fb5c6d080da847"
      ],
      "layout": "IPY_MODEL_26d9c2d328564d80a3093a78447ed023"
     }
    },
    "81e9e169ad9a44a78ca607ea4496a5b8": {
     "model_module": "@jupyter-widgets/base",
     "model_module_version": "1.2.0",
     "model_name": "LayoutModel",
     "state": {
      "_model_module": "@jupyter-widgets/base",
      "_model_module_version": "1.2.0",
      "_model_name": "LayoutModel",
      "_view_count": null,
      "_view_module": "@jupyter-widgets/base",
      "_view_module_version": "1.2.0",
      "_view_name": "LayoutView",
      "align_content": null,
      "align_items": null,
      "align_self": null,
      "border": null,
      "bottom": null,
      "display": null,
      "flex": null,
      "flex_flow": null,
      "grid_area": null,
      "grid_auto_columns": null,
      "grid_auto_flow": null,
      "grid_auto_rows": null,
      "grid_column": null,
      "grid_gap": null,
      "grid_row": null,
      "grid_template_areas": null,
      "grid_template_columns": null,
      "grid_template_rows": null,
      "height": null,
      "justify_content": null,
      "justify_items": null,
      "left": null,
      "margin": null,
      "max_height": null,
      "max_width": null,
      "min_height": null,
      "min_width": null,
      "object_fit": null,
      "object_position": null,
      "order": null,
      "overflow": null,
      "overflow_x": null,
      "overflow_y": null,
      "padding": null,
      "right": null,
      "top": null,
      "visibility": null,
      "width": null
     }
    },
    "8349cc0d0a4a4f7787fb5c6d080da847": {
     "model_module": "@jupyter-widgets/controls",
     "model_module_version": "1.5.0",
     "model_name": "HTMLModel",
     "state": {
      "_dom_classes": [],
      "_model_module": "@jupyter-widgets/controls",
      "_model_module_version": "1.5.0",
      "_model_name": "HTMLModel",
      "_view_count": null,
      "_view_module": "@jupyter-widgets/controls",
      "_view_module_version": "1.5.0",
      "_view_name": "HTMLView",
      "description": "",
      "description_tooltip": null,
      "layout": "IPY_MODEL_aacc3dd1c7cb483a814598958f2b042f",
      "placeholder": "​",
      "style": "IPY_MODEL_7b3c7f18dafc4bb88d1db39a3d22b96a",
      "value": " 113/113 [00:22&lt;00:00, 55.49it/s, Blend Size=3428, Fraction Covered=1.0000]"
     }
    },
    "8583242971f646d5a8e99d6e91c0d89a": {
     "model_module": "@jupyter-widgets/controls",
     "model_module_version": "1.5.0",
     "model_name": "DescriptionStyleModel",
     "state": {
      "_model_module": "@jupyter-widgets/controls",
      "_model_module_version": "1.5.0",
      "_model_name": "DescriptionStyleModel",
      "_view_count": null,
      "_view_module": "@jupyter-widgets/base",
      "_view_module_version": "1.2.0",
      "_view_name": "StyleView",
      "description_width": ""
     }
    },
    "892201fd755e4177872a994f775efba6": {
     "model_module": "@jupyter-widgets/controls",
     "model_module_version": "1.5.0",
     "model_name": "FloatProgressModel",
     "state": {
      "_dom_classes": [],
      "_model_module": "@jupyter-widgets/controls",
      "_model_module_version": "1.5.0",
      "_model_name": "FloatProgressModel",
      "_view_count": null,
      "_view_module": "@jupyter-widgets/controls",
      "_view_module_version": "1.5.0",
      "_view_name": "ProgressView",
      "bar_style": "success",
      "description": "",
      "description_tooltip": null,
      "layout": "IPY_MODEL_bd39ddeec82246f49679731781d64048",
      "max": 100,
      "min": 0,
      "orientation": "horizontal",
      "style": "IPY_MODEL_51694a42a3be46c68e0eb71164568b48",
      "value": 100
     }
    },
    "8c0def486e77452581f725a92ad1c0ae": {
     "model_module": "@jupyter-widgets/controls",
     "model_module_version": "1.5.0",
     "model_name": "HTMLModel",
     "state": {
      "_dom_classes": [],
      "_model_module": "@jupyter-widgets/controls",
      "_model_module_version": "1.5.0",
      "_model_name": "HTMLModel",
      "_view_count": null,
      "_view_module": "@jupyter-widgets/controls",
      "_view_module_version": "1.5.0",
      "_view_name": "HTMLView",
      "description": "",
      "description_tooltip": null,
      "layout": "IPY_MODEL_4108efe9125e4061affb4b142a2f57e8",
      "placeholder": "​",
      "style": "IPY_MODEL_8e6c802d31b34eb38204882ab89fff93",
      "value": " 100/100 [00:10&lt;00:00,  5.90it/s, Fraction Covered=0.1670]"
     }
    },
    "8d50321cf0444dc9a4a6ba3fe8484e2c": {
     "model_module": "@jupyter-widgets/base",
     "model_module_version": "1.2.0",
     "model_name": "LayoutModel",
     "state": {
      "_model_module": "@jupyter-widgets/base",
      "_model_module_version": "1.2.0",
      "_model_name": "LayoutModel",
      "_view_count": null,
      "_view_module": "@jupyter-widgets/base",
      "_view_module_version": "1.2.0",
      "_view_name": "LayoutView",
      "align_content": null,
      "align_items": null,
      "align_self": null,
      "border": null,
      "bottom": null,
      "display": null,
      "flex": null,
      "flex_flow": null,
      "grid_area": null,
      "grid_auto_columns": null,
      "grid_auto_flow": null,
      "grid_auto_rows": null,
      "grid_column": null,
      "grid_gap": null,
      "grid_row": null,
      "grid_template_areas": null,
      "grid_template_columns": null,
      "grid_template_rows": null,
      "height": null,
      "justify_content": null,
      "justify_items": null,
      "left": null,
      "margin": null,
      "max_height": null,
      "max_width": null,
      "min_height": null,
      "min_width": null,
      "object_fit": null,
      "object_position": null,
      "order": null,
      "overflow": null,
      "overflow_x": null,
      "overflow_y": null,
      "padding": null,
      "right": null,
      "top": null,
      "visibility": null,
      "width": null
     }
    },
    "8e04ea3ab1914d209f225df91f1d1690": {
     "model_module": "@jupyter-widgets/base",
     "model_module_version": "1.2.0",
     "model_name": "LayoutModel",
     "state": {
      "_model_module": "@jupyter-widgets/base",
      "_model_module_version": "1.2.0",
      "_model_name": "LayoutModel",
      "_view_count": null,
      "_view_module": "@jupyter-widgets/base",
      "_view_module_version": "1.2.0",
      "_view_name": "LayoutView",
      "align_content": null,
      "align_items": null,
      "align_self": null,
      "border": null,
      "bottom": null,
      "display": null,
      "flex": null,
      "flex_flow": null,
      "grid_area": null,
      "grid_auto_columns": null,
      "grid_auto_flow": null,
      "grid_auto_rows": null,
      "grid_column": null,
      "grid_gap": null,
      "grid_row": null,
      "grid_template_areas": null,
      "grid_template_columns": null,
      "grid_template_rows": null,
      "height": null,
      "justify_content": null,
      "justify_items": null,
      "left": null,
      "margin": null,
      "max_height": null,
      "max_width": null,
      "min_height": null,
      "min_width": null,
      "object_fit": null,
      "object_position": null,
      "order": null,
      "overflow": null,
      "overflow_x": null,
      "overflow_y": null,
      "padding": null,
      "right": null,
      "top": null,
      "visibility": null,
      "width": null
     }
    },
    "8e6c802d31b34eb38204882ab89fff93": {
     "model_module": "@jupyter-widgets/controls",
     "model_module_version": "1.5.0",
     "model_name": "DescriptionStyleModel",
     "state": {
      "_model_module": "@jupyter-widgets/controls",
      "_model_module_version": "1.5.0",
      "_model_name": "DescriptionStyleModel",
      "_view_count": null,
      "_view_module": "@jupyter-widgets/base",
      "_view_module_version": "1.2.0",
      "_view_name": "StyleView",
      "description_width": ""
     }
    },
    "919d3658b1f24c579462d4523653fd3e": {
     "model_module": "@jupyter-widgets/controls",
     "model_module_version": "1.5.0",
     "model_name": "HTMLModel",
     "state": {
      "_dom_classes": [],
      "_model_module": "@jupyter-widgets/controls",
      "_model_module_version": "1.5.0",
      "_model_name": "HTMLModel",
      "_view_count": null,
      "_view_module": "@jupyter-widgets/controls",
      "_view_module_version": "1.5.0",
      "_view_name": "HTMLView",
      "description": "",
      "description_tooltip": null,
      "layout": "IPY_MODEL_1a23ec201869455c8f2f8294bea400cc",
      "placeholder": "​",
      "style": "IPY_MODEL_a97dda2164c0435d981a60b550b4e314",
      "value": "Greedy Solution: 100%"
     }
    },
    "920961a2c8f644ac98df8a731fe2ab4b": {
     "model_module": "@jupyter-widgets/controls",
     "model_module_version": "1.5.0",
     "model_name": "HTMLModel",
     "state": {
      "_dom_classes": [],
      "_model_module": "@jupyter-widgets/controls",
      "_model_module_version": "1.5.0",
      "_model_name": "HTMLModel",
      "_view_count": null,
      "_view_module": "@jupyter-widgets/controls",
      "_view_module_version": "1.5.0",
      "_view_name": "HTMLView",
      "description": "",
      "description_tooltip": null,
      "layout": "IPY_MODEL_2d9ffd2e718c496ab8c161c4bd31cbd7",
      "placeholder": "​",
      "style": "IPY_MODEL_c002e23bcfaf4088934646ecc4cb7560",
      "value": " 113/113 [05:13&lt;00:00, 12.33s/it, Blend Size=3428, Fraction Covered=0.9985]"
     }
    },
    "99e3ec97afb6453ea96e09fe3dda2451": {
     "model_module": "@jupyter-widgets/controls",
     "model_module_version": "1.5.0",
     "model_name": "HTMLModel",
     "state": {
      "_dom_classes": [],
      "_model_module": "@jupyter-widgets/controls",
      "_model_module_version": "1.5.0",
      "_model_name": "HTMLModel",
      "_view_count": null,
      "_view_module": "@jupyter-widgets/controls",
      "_view_module_version": "1.5.0",
      "_view_name": "HTMLView",
      "description": "",
      "description_tooltip": null,
      "layout": "IPY_MODEL_ad144192551c418b89b2ec1123ba4fd5",
      "placeholder": "​",
      "style": "IPY_MODEL_e9cb069a9627480ea2c7b590d116f84a",
      "value": "Random Solution: 100%"
     }
    },
    "a0f9429dcc5648c2a007219f300ce135": {
     "model_module": "@jupyter-widgets/controls",
     "model_module_version": "1.5.0",
     "model_name": "HBoxModel",
     "state": {
      "_dom_classes": [],
      "_model_module": "@jupyter-widgets/controls",
      "_model_module_version": "1.5.0",
      "_model_name": "HBoxModel",
      "_view_count": null,
      "_view_module": "@jupyter-widgets/controls",
      "_view_module_version": "1.5.0",
      "_view_name": "HBoxView",
      "box_style": "",
      "children": [
       "IPY_MODEL_919d3658b1f24c579462d4523653fd3e",
       "IPY_MODEL_cefbe124594447529b089f001a4f0a00",
       "IPY_MODEL_ee93d85fab4441b8a5c1bbb04190efad"
      ],
      "layout": "IPY_MODEL_3dfab40cfcb744a89bf77a7c061cb91d"
     }
    },
    "a348785d35664e0d901d2864925a71c4": {
     "model_module": "@jupyter-widgets/controls",
     "model_module_version": "1.5.0",
     "model_name": "HTMLModel",
     "state": {
      "_dom_classes": [],
      "_model_module": "@jupyter-widgets/controls",
      "_model_module_version": "1.5.0",
      "_model_name": "HTMLModel",
      "_view_count": null,
      "_view_module": "@jupyter-widgets/controls",
      "_view_module_version": "1.5.0",
      "_view_name": "HTMLView",
      "description": "",
      "description_tooltip": null,
      "layout": "IPY_MODEL_d06a811e634a40769ea18382547307b4",
      "placeholder": "​",
      "style": "IPY_MODEL_b60ed26ce1b24d318b499b7d03a711b4",
      "value": "Greedy Solution: 100%"
     }
    },
    "a97dda2164c0435d981a60b550b4e314": {
     "model_module": "@jupyter-widgets/controls",
     "model_module_version": "1.5.0",
     "model_name": "DescriptionStyleModel",
     "state": {
      "_model_module": "@jupyter-widgets/controls",
      "_model_module_version": "1.5.0",
      "_model_name": "DescriptionStyleModel",
      "_view_count": null,
      "_view_module": "@jupyter-widgets/base",
      "_view_module_version": "1.2.0",
      "_view_name": "StyleView",
      "description_width": ""
     }
    },
    "a9e160a2798a4a40b2af2362421dbe8c": {
     "model_module": "@jupyter-widgets/base",
     "model_module_version": "1.2.0",
     "model_name": "LayoutModel",
     "state": {
      "_model_module": "@jupyter-widgets/base",
      "_model_module_version": "1.2.0",
      "_model_name": "LayoutModel",
      "_view_count": null,
      "_view_module": "@jupyter-widgets/base",
      "_view_module_version": "1.2.0",
      "_view_name": "LayoutView",
      "align_content": null,
      "align_items": null,
      "align_self": null,
      "border": null,
      "bottom": null,
      "display": null,
      "flex": null,
      "flex_flow": null,
      "grid_area": null,
      "grid_auto_columns": null,
      "grid_auto_flow": null,
      "grid_auto_rows": null,
      "grid_column": null,
      "grid_gap": null,
      "grid_row": null,
      "grid_template_areas": null,
      "grid_template_columns": null,
      "grid_template_rows": null,
      "height": null,
      "justify_content": null,
      "justify_items": null,
      "left": null,
      "margin": null,
      "max_height": null,
      "max_width": null,
      "min_height": null,
      "min_width": null,
      "object_fit": null,
      "object_position": null,
      "order": null,
      "overflow": null,
      "overflow_x": null,
      "overflow_y": null,
      "padding": null,
      "right": null,
      "top": null,
      "visibility": null,
      "width": null
     }
    },
    "aacc3dd1c7cb483a814598958f2b042f": {
     "model_module": "@jupyter-widgets/base",
     "model_module_version": "1.2.0",
     "model_name": "LayoutModel",
     "state": {
      "_model_module": "@jupyter-widgets/base",
      "_model_module_version": "1.2.0",
      "_model_name": "LayoutModel",
      "_view_count": null,
      "_view_module": "@jupyter-widgets/base",
      "_view_module_version": "1.2.0",
      "_view_name": "LayoutView",
      "align_content": null,
      "align_items": null,
      "align_self": null,
      "border": null,
      "bottom": null,
      "display": null,
      "flex": null,
      "flex_flow": null,
      "grid_area": null,
      "grid_auto_columns": null,
      "grid_auto_flow": null,
      "grid_auto_rows": null,
      "grid_column": null,
      "grid_gap": null,
      "grid_row": null,
      "grid_template_areas": null,
      "grid_template_columns": null,
      "grid_template_rows": null,
      "height": null,
      "justify_content": null,
      "justify_items": null,
      "left": null,
      "margin": null,
      "max_height": null,
      "max_width": null,
      "min_height": null,
      "min_width": null,
      "object_fit": null,
      "object_position": null,
      "order": null,
      "overflow": null,
      "overflow_x": null,
      "overflow_y": null,
      "padding": null,
      "right": null,
      "top": null,
      "visibility": null,
      "width": null
     }
    },
    "ab519e61305e4d8d93e5a1a4e1179ff7": {
     "model_module": "@jupyter-widgets/base",
     "model_module_version": "1.2.0",
     "model_name": "LayoutModel",
     "state": {
      "_model_module": "@jupyter-widgets/base",
      "_model_module_version": "1.2.0",
      "_model_name": "LayoutModel",
      "_view_count": null,
      "_view_module": "@jupyter-widgets/base",
      "_view_module_version": "1.2.0",
      "_view_name": "LayoutView",
      "align_content": null,
      "align_items": null,
      "align_self": null,
      "border": null,
      "bottom": null,
      "display": null,
      "flex": null,
      "flex_flow": null,
      "grid_area": null,
      "grid_auto_columns": null,
      "grid_auto_flow": null,
      "grid_auto_rows": null,
      "grid_column": null,
      "grid_gap": null,
      "grid_row": null,
      "grid_template_areas": null,
      "grid_template_columns": null,
      "grid_template_rows": null,
      "height": null,
      "justify_content": null,
      "justify_items": null,
      "left": null,
      "margin": null,
      "max_height": null,
      "max_width": null,
      "min_height": null,
      "min_width": null,
      "object_fit": null,
      "object_position": null,
      "order": null,
      "overflow": null,
      "overflow_x": null,
      "overflow_y": null,
      "padding": null,
      "right": null,
      "top": null,
      "visibility": null,
      "width": null
     }
    },
    "ace1735bb4504b59a1b1af40b8c1cb46": {
     "model_module": "@jupyter-widgets/controls",
     "model_module_version": "1.5.0",
     "model_name": "DescriptionStyleModel",
     "state": {
      "_model_module": "@jupyter-widgets/controls",
      "_model_module_version": "1.5.0",
      "_model_name": "DescriptionStyleModel",
      "_view_count": null,
      "_view_module": "@jupyter-widgets/base",
      "_view_module_version": "1.2.0",
      "_view_name": "StyleView",
      "description_width": ""
     }
    },
    "ad144192551c418b89b2ec1123ba4fd5": {
     "model_module": "@jupyter-widgets/base",
     "model_module_version": "1.2.0",
     "model_name": "LayoutModel",
     "state": {
      "_model_module": "@jupyter-widgets/base",
      "_model_module_version": "1.2.0",
      "_model_name": "LayoutModel",
      "_view_count": null,
      "_view_module": "@jupyter-widgets/base",
      "_view_module_version": "1.2.0",
      "_view_name": "LayoutView",
      "align_content": null,
      "align_items": null,
      "align_self": null,
      "border": null,
      "bottom": null,
      "display": null,
      "flex": null,
      "flex_flow": null,
      "grid_area": null,
      "grid_auto_columns": null,
      "grid_auto_flow": null,
      "grid_auto_rows": null,
      "grid_column": null,
      "grid_gap": null,
      "grid_row": null,
      "grid_template_areas": null,
      "grid_template_columns": null,
      "grid_template_rows": null,
      "height": null,
      "justify_content": null,
      "justify_items": null,
      "left": null,
      "margin": null,
      "max_height": null,
      "max_width": null,
      "min_height": null,
      "min_width": null,
      "object_fit": null,
      "object_position": null,
      "order": null,
      "overflow": null,
      "overflow_x": null,
      "overflow_y": null,
      "padding": null,
      "right": null,
      "top": null,
      "visibility": null,
      "width": null
     }
    },
    "b60ed26ce1b24d318b499b7d03a711b4": {
     "model_module": "@jupyter-widgets/controls",
     "model_module_version": "1.5.0",
     "model_name": "DescriptionStyleModel",
     "state": {
      "_model_module": "@jupyter-widgets/controls",
      "_model_module_version": "1.5.0",
      "_model_name": "DescriptionStyleModel",
      "_view_count": null,
      "_view_module": "@jupyter-widgets/base",
      "_view_module_version": "1.2.0",
      "_view_name": "StyleView",
      "description_width": ""
     }
    },
    "bd39ddeec82246f49679731781d64048": {
     "model_module": "@jupyter-widgets/base",
     "model_module_version": "1.2.0",
     "model_name": "LayoutModel",
     "state": {
      "_model_module": "@jupyter-widgets/base",
      "_model_module_version": "1.2.0",
      "_model_name": "LayoutModel",
      "_view_count": null,
      "_view_module": "@jupyter-widgets/base",
      "_view_module_version": "1.2.0",
      "_view_name": "LayoutView",
      "align_content": null,
      "align_items": null,
      "align_self": null,
      "border": null,
      "bottom": null,
      "display": null,
      "flex": null,
      "flex_flow": null,
      "grid_area": null,
      "grid_auto_columns": null,
      "grid_auto_flow": null,
      "grid_auto_rows": null,
      "grid_column": null,
      "grid_gap": null,
      "grid_row": null,
      "grid_template_areas": null,
      "grid_template_columns": null,
      "grid_template_rows": null,
      "height": null,
      "justify_content": null,
      "justify_items": null,
      "left": null,
      "margin": null,
      "max_height": null,
      "max_width": null,
      "min_height": null,
      "min_width": null,
      "object_fit": null,
      "object_position": null,
      "order": null,
      "overflow": null,
      "overflow_x": null,
      "overflow_y": null,
      "padding": null,
      "right": null,
      "top": null,
      "visibility": null,
      "width": null
     }
    },
    "c002e23bcfaf4088934646ecc4cb7560": {
     "model_module": "@jupyter-widgets/controls",
     "model_module_version": "1.5.0",
     "model_name": "DescriptionStyleModel",
     "state": {
      "_model_module": "@jupyter-widgets/controls",
      "_model_module_version": "1.5.0",
      "_model_name": "DescriptionStyleModel",
      "_view_count": null,
      "_view_module": "@jupyter-widgets/base",
      "_view_module_version": "1.2.0",
      "_view_name": "StyleView",
      "description_width": ""
     }
    },
    "c4ca68c313654353968b4cd14517ca52": {
     "model_module": "@jupyter-widgets/base",
     "model_module_version": "1.2.0",
     "model_name": "LayoutModel",
     "state": {
      "_model_module": "@jupyter-widgets/base",
      "_model_module_version": "1.2.0",
      "_model_name": "LayoutModel",
      "_view_count": null,
      "_view_module": "@jupyter-widgets/base",
      "_view_module_version": "1.2.0",
      "_view_name": "LayoutView",
      "align_content": null,
      "align_items": null,
      "align_self": null,
      "border": null,
      "bottom": null,
      "display": null,
      "flex": null,
      "flex_flow": null,
      "grid_area": null,
      "grid_auto_columns": null,
      "grid_auto_flow": null,
      "grid_auto_rows": null,
      "grid_column": null,
      "grid_gap": null,
      "grid_row": null,
      "grid_template_areas": null,
      "grid_template_columns": null,
      "grid_template_rows": null,
      "height": null,
      "justify_content": null,
      "justify_items": null,
      "left": null,
      "margin": null,
      "max_height": null,
      "max_width": null,
      "min_height": null,
      "min_width": null,
      "object_fit": null,
      "object_position": null,
      "order": null,
      "overflow": null,
      "overflow_x": null,
      "overflow_y": null,
      "padding": null,
      "right": null,
      "top": null,
      "visibility": null,
      "width": null
     }
    },
    "cb5072e942484e96bd6dfd91ea0428ce": {
     "model_module": "@jupyter-widgets/controls",
     "model_module_version": "1.5.0",
     "model_name": "HBoxModel",
     "state": {
      "_dom_classes": [],
      "_model_module": "@jupyter-widgets/controls",
      "_model_module_version": "1.5.0",
      "_model_name": "HBoxModel",
      "_view_count": null,
      "_view_module": "@jupyter-widgets/controls",
      "_view_module_version": "1.5.0",
      "_view_name": "HBoxView",
      "box_style": "",
      "children": [
       "IPY_MODEL_02e15ebb51334717b67a4107a981d6a7",
       "IPY_MODEL_1f6d0541d5d446c297a41ac6224cd496",
       "IPY_MODEL_f1e14987b2a048e2bf7b66f6a1565bbe"
      ],
      "layout": "IPY_MODEL_223c47d776614f9c97f9e7d791b8c72e"
     }
    },
    "cefbe124594447529b089f001a4f0a00": {
     "model_module": "@jupyter-widgets/controls",
     "model_module_version": "1.5.0",
     "model_name": "FloatProgressModel",
     "state": {
      "_dom_classes": [],
      "_model_module": "@jupyter-widgets/controls",
      "_model_module_version": "1.5.0",
      "_model_name": "FloatProgressModel",
      "_view_count": null,
      "_view_module": "@jupyter-widgets/controls",
      "_view_module_version": "1.5.0",
      "_view_name": "ProgressView",
      "bar_style": "success",
      "description": "",
      "description_tooltip": null,
      "layout": "IPY_MODEL_c4ca68c313654353968b4cd14517ca52",
      "max": 50,
      "min": 0,
      "orientation": "horizontal",
      "style": "IPY_MODEL_d048404738114594a50e58098153d5a5",
      "value": 50
     }
    },
    "d048404738114594a50e58098153d5a5": {
     "model_module": "@jupyter-widgets/controls",
     "model_module_version": "1.5.0",
     "model_name": "ProgressStyleModel",
     "state": {
      "_model_module": "@jupyter-widgets/controls",
      "_model_module_version": "1.5.0",
      "_model_name": "ProgressStyleModel",
      "_view_count": null,
      "_view_module": "@jupyter-widgets/base",
      "_view_module_version": "1.2.0",
      "_view_name": "StyleView",
      "bar_color": null,
      "description_width": ""
     }
    },
    "d06a811e634a40769ea18382547307b4": {
     "model_module": "@jupyter-widgets/base",
     "model_module_version": "1.2.0",
     "model_name": "LayoutModel",
     "state": {
      "_model_module": "@jupyter-widgets/base",
      "_model_module_version": "1.2.0",
      "_model_name": "LayoutModel",
      "_view_count": null,
      "_view_module": "@jupyter-widgets/base",
      "_view_module_version": "1.2.0",
      "_view_name": "LayoutView",
      "align_content": null,
      "align_items": null,
      "align_self": null,
      "border": null,
      "bottom": null,
      "display": null,
      "flex": null,
      "flex_flow": null,
      "grid_area": null,
      "grid_auto_columns": null,
      "grid_auto_flow": null,
      "grid_auto_rows": null,
      "grid_column": null,
      "grid_gap": null,
      "grid_row": null,
      "grid_template_areas": null,
      "grid_template_columns": null,
      "grid_template_rows": null,
      "height": null,
      "justify_content": null,
      "justify_items": null,
      "left": null,
      "margin": null,
      "max_height": null,
      "max_width": null,
      "min_height": null,
      "min_width": null,
      "object_fit": null,
      "object_position": null,
      "order": null,
      "overflow": null,
      "overflow_x": null,
      "overflow_y": null,
      "padding": null,
      "right": null,
      "top": null,
      "visibility": null,
      "width": null
     }
    },
    "d6608d6c9196467688361293178e5190": {
     "model_module": "@jupyter-widgets/base",
     "model_module_version": "1.2.0",
     "model_name": "LayoutModel",
     "state": {
      "_model_module": "@jupyter-widgets/base",
      "_model_module_version": "1.2.0",
      "_model_name": "LayoutModel",
      "_view_count": null,
      "_view_module": "@jupyter-widgets/base",
      "_view_module_version": "1.2.0",
      "_view_name": "LayoutView",
      "align_content": null,
      "align_items": null,
      "align_self": null,
      "border": null,
      "bottom": null,
      "display": null,
      "flex": null,
      "flex_flow": null,
      "grid_area": null,
      "grid_auto_columns": null,
      "grid_auto_flow": null,
      "grid_auto_rows": null,
      "grid_column": null,
      "grid_gap": null,
      "grid_row": null,
      "grid_template_areas": null,
      "grid_template_columns": null,
      "grid_template_rows": null,
      "height": null,
      "justify_content": null,
      "justify_items": null,
      "left": null,
      "margin": null,
      "max_height": null,
      "max_width": null,
      "min_height": null,
      "min_width": null,
      "object_fit": null,
      "object_position": null,
      "order": null,
      "overflow": null,
      "overflow_x": null,
      "overflow_y": null,
      "padding": null,
      "right": null,
      "top": null,
      "visibility": null,
      "width": null
     }
    },
    "db00f1b72c094933b07e56c7c3f1922f": {
     "model_module": "@jupyter-widgets/base",
     "model_module_version": "1.2.0",
     "model_name": "LayoutModel",
     "state": {
      "_model_module": "@jupyter-widgets/base",
      "_model_module_version": "1.2.0",
      "_model_name": "LayoutModel",
      "_view_count": null,
      "_view_module": "@jupyter-widgets/base",
      "_view_module_version": "1.2.0",
      "_view_name": "LayoutView",
      "align_content": null,
      "align_items": null,
      "align_self": null,
      "border": null,
      "bottom": null,
      "display": null,
      "flex": null,
      "flex_flow": null,
      "grid_area": null,
      "grid_auto_columns": null,
      "grid_auto_flow": null,
      "grid_auto_rows": null,
      "grid_column": null,
      "grid_gap": null,
      "grid_row": null,
      "grid_template_areas": null,
      "grid_template_columns": null,
      "grid_template_rows": null,
      "height": null,
      "justify_content": null,
      "justify_items": null,
      "left": null,
      "margin": null,
      "max_height": null,
      "max_width": null,
      "min_height": null,
      "min_width": null,
      "object_fit": null,
      "object_position": null,
      "order": null,
      "overflow": null,
      "overflow_x": null,
      "overflow_y": null,
      "padding": null,
      "right": null,
      "top": null,
      "visibility": null,
      "width": null
     }
    },
    "e892c784e7b1448da07078e20b72eae7": {
     "model_module": "@jupyter-widgets/controls",
     "model_module_version": "1.5.0",
     "model_name": "FloatProgressModel",
     "state": {
      "_dom_classes": [],
      "_model_module": "@jupyter-widgets/controls",
      "_model_module_version": "1.5.0",
      "_model_name": "FloatProgressModel",
      "_view_count": null,
      "_view_module": "@jupyter-widgets/controls",
      "_view_module_version": "1.5.0",
      "_view_name": "ProgressView",
      "bar_style": "",
      "description": "",
      "description_tooltip": null,
      "layout": "IPY_MODEL_ab519e61305e4d8d93e5a1a4e1179ff7",
      "max": 113,
      "min": 0,
      "orientation": "horizontal",
      "style": "IPY_MODEL_5ebd6bf500694adda746d9f2bbccefae",
      "value": 113
     }
    },
    "e9cb069a9627480ea2c7b590d116f84a": {
     "model_module": "@jupyter-widgets/controls",
     "model_module_version": "1.5.0",
     "model_name": "DescriptionStyleModel",
     "state": {
      "_model_module": "@jupyter-widgets/controls",
      "_model_module_version": "1.5.0",
      "_model_name": "DescriptionStyleModel",
      "_view_count": null,
      "_view_module": "@jupyter-widgets/base",
      "_view_module_version": "1.2.0",
      "_view_name": "StyleView",
      "description_width": ""
     }
    },
    "ee93d85fab4441b8a5c1bbb04190efad": {
     "model_module": "@jupyter-widgets/controls",
     "model_module_version": "1.5.0",
     "model_name": "HTMLModel",
     "state": {
      "_dom_classes": [],
      "_model_module": "@jupyter-widgets/controls",
      "_model_module_version": "1.5.0",
      "_model_name": "HTMLModel",
      "_view_count": null,
      "_view_module": "@jupyter-widgets/controls",
      "_view_module_version": "1.5.0",
      "_view_name": "HTMLView",
      "description": "",
      "description_tooltip": null,
      "layout": "IPY_MODEL_fa3f4a4fc47e461fa878a89dca4f9c03",
      "placeholder": "​",
      "style": "IPY_MODEL_766c69213f614f66acdae09fc0c7e721",
      "value": " 50/50 [00:17&lt;00:00,  4.17it/s, Fraction Covered=0.0877]"
     }
    },
    "f1e14987b2a048e2bf7b66f6a1565bbe": {
     "model_module": "@jupyter-widgets/controls",
     "model_module_version": "1.5.0",
     "model_name": "HTMLModel",
     "state": {
      "_dom_classes": [],
      "_model_module": "@jupyter-widgets/controls",
      "_model_module_version": "1.5.0",
      "_model_name": "HTMLModel",
      "_view_count": null,
      "_view_module": "@jupyter-widgets/controls",
      "_view_module_version": "1.5.0",
      "_view_name": "HTMLView",
      "description": "",
      "description_tooltip": null,
      "layout": "IPY_MODEL_8d50321cf0444dc9a4a6ba3fe8484e2c",
      "placeholder": "​",
      "style": "IPY_MODEL_8583242971f646d5a8e99d6e91c0d89a",
      "value": " 10000/10000 [00:15&lt;00:00, 620.77it/s, Fraction Covered=0.0638, Temperature=0.00]"
     }
    },
    "f56de7afef9741a3a27d8d9b79258269": {
     "model_module": "@jupyter-widgets/controls",
     "model_module_version": "1.5.0",
     "model_name": "FloatProgressModel",
     "state": {
      "_dom_classes": [],
      "_model_module": "@jupyter-widgets/controls",
      "_model_module_version": "1.5.0",
      "_model_name": "FloatProgressModel",
      "_view_count": null,
      "_view_module": "@jupyter-widgets/controls",
      "_view_module_version": "1.5.0",
      "_view_name": "ProgressView",
      "bar_style": "",
      "description": "",
      "description_tooltip": null,
      "layout": "IPY_MODEL_8e04ea3ab1914d209f225df91f1d1690",
      "max": 113,
      "min": 0,
      "orientation": "horizontal",
      "style": "IPY_MODEL_7ad51676f3584d67b0d703a8672bb650",
      "value": 113
     }
    },
    "fa3f4a4fc47e461fa878a89dca4f9c03": {
     "model_module": "@jupyter-widgets/base",
     "model_module_version": "1.2.0",
     "model_name": "LayoutModel",
     "state": {
      "_model_module": "@jupyter-widgets/base",
      "_model_module_version": "1.2.0",
      "_model_name": "LayoutModel",
      "_view_count": null,
      "_view_module": "@jupyter-widgets/base",
      "_view_module_version": "1.2.0",
      "_view_name": "LayoutView",
      "align_content": null,
      "align_items": null,
      "align_self": null,
      "border": null,
      "bottom": null,
      "display": null,
      "flex": null,
      "flex_flow": null,
      "grid_area": null,
      "grid_auto_columns": null,
      "grid_auto_flow": null,
      "grid_auto_rows": null,
      "grid_column": null,
      "grid_gap": null,
      "grid_row": null,
      "grid_template_areas": null,
      "grid_template_columns": null,
      "grid_template_rows": null,
      "height": null,
      "justify_content": null,
      "justify_items": null,
      "left": null,
      "margin": null,
      "max_height": null,
      "max_width": null,
      "min_height": null,
      "min_width": null,
      "object_fit": null,
      "object_position": null,
      "order": null,
      "overflow": null,
      "overflow_x": null,
      "overflow_y": null,
      "padding": null,
      "right": null,
      "top": null,
      "visibility": null,
      "width": null
     }
    }
   }
  }
 },
 "nbformat": 4,
 "nbformat_minor": 4
}
