{
 "cells": [
  {
   "cell_type": "code",
   "execution_count": 1,
   "metadata": {
    "colab": {
     "base_uri": "https://localhost:8080/"
    },
    "id": "PSltBOanp38P",
    "outputId": "2741f30c-bcfd-4849-e316-8e4dfbeb85fd",
    "tags": []
   },
   "outputs": [
    {
     "data": {
      "text/plain": [
       "'/Users/laurasisson/dream'"
      ]
     },
     "execution_count": 1,
     "metadata": {},
     "output_type": "execute_result"
    }
   ],
   "source": [
    "import sys\n",
    "import os\n",
    "os.chdir(\"..\")\n",
    "os.getcwd()"
   ]
  },
  {
   "cell_type": "code",
   "execution_count": 2,
   "metadata": {
    "tags": []
   },
   "outputs": [
    {
     "data": {
      "text/plain": [
       "['dreamdata.py',\n",
       " 'aggregate.py',\n",
       " 'cross.py',\n",
       " '.DS_Store',\n",
       " 'embedding.py',\n",
       " 'crossoverlap.py',\n",
       " 'dictionary.pt',\n",
       " 'olfactor.py',\n",
       " 'mpnn.py',\n",
       " 'encoder.py',\n",
       " 'README.md',\n",
       " 'tokenizer.py',\n",
       " 'activation.py',\n",
       " '.gitignore',\n",
       " 'utils.py',\n",
       " 'Model',\n",
       " 'Colab',\n",
       " '.git',\n",
       " 'Data',\n",
       " 'Notebooks',\n",
       " 'pairdata.py',\n",
       " 'data.py']"
      ]
     },
     "execution_count": 2,
     "metadata": {},
     "output_type": "execute_result"
    }
   ],
   "source": [
    "os.listdir()"
   ]
  },
  {
   "cell_type": "code",
   "execution_count": 3,
   "metadata": {
    "colab": {
     "base_uri": "https://localhost:8080/"
    },
    "id": "-rQfgzL1qMrQ",
    "outputId": "fb2600cc-a25a-448e-f256-cda392d1b7ba",
    "tags": []
   },
   "outputs": [
    {
     "data": {
      "text/plain": [
       "(266758,\n",
       " {'mol1': 'CC1=CC2C(C2(C)C)CC1C(=O)C',\n",
       "  'mol2': 'CCCC(CC)O',\n",
       "  'blend_notes': ['herbal']})"
      ]
     },
     "execution_count": 3,
     "metadata": {},
     "output_type": "execute_result"
    }
   ],
   "source": [
    "import json\n",
    "with open(\"Data/full_large.json\") as f:\n",
    "    pair_dataset = json.load(f)\n",
    "\n",
    "pair_dataset = [d for d in pair_dataset if d[\"mol1\"] and d[\"mol2\"]]\n",
    "\n",
    "len(pair_dataset),pair_dataset[0]"
   ]
  },
  {
   "cell_type": "code",
   "execution_count": 4,
   "metadata": {
    "colab": {
     "base_uri": "https://localhost:8080/"
    },
    "id": "qh3sPMrqqQCI",
    "outputId": "c08478da-5c15-4ab2-f648-d5d6e13fea32",
    "tags": []
   },
   "outputs": [
    {
     "data": {
      "text/plain": [
       "(6850, 3428, frozenset({'herbal'}), 4384)"
      ]
     },
     "execution_count": 4,
     "metadata": {},
     "output_type": "execute_result"
    }
   ],
   "source": [
    "import collections\n",
    "all_notes_sets = collections.defaultdict(list)\n",
    "all_mols = set()\n",
    "for d in pair_dataset:\n",
    "  all_notes_sets[frozenset(d[\"blend_notes\"])].append({d[\"mol1\"],d[\"mol2\"]})\n",
    "  all_mols.add(d[\"mol1\"])\n",
    "  all_mols.add(d[\"mol2\"])\n",
    "\n",
    "ex_notes, ex_blends = next(iter(all_notes_sets.items()))\n",
    "all_mols = list(all_mols)\n",
    "len(all_notes_sets), len(all_mols), ex_notes, len(ex_blends)"
   ]
  },
  {
   "cell_type": "code",
   "execution_count": 5,
   "metadata": {
    "colab": {
     "base_uri": "https://localhost:8080/"
    },
    "id": "BlYd_qOZr4tV",
    "outputId": "61ca5f70-fdb1-43bf-900c-1a63dade7853",
    "tags": []
   },
   "outputs": [
    {
     "data": {
      "text/plain": [
       "(6850, 4384, {'CC1=CC2C(C2(C)C)CC1C(=O)C', 'CCCC(CC)O'})"
      ]
     },
     "execution_count": 5,
     "metadata": {},
     "output_type": "execute_result"
    }
   ],
   "source": [
    "all_recipes = list(all_notes_sets.values())\n",
    "len(all_recipes), len(all_recipes[0]), all_recipes[0][0]"
   ]
  },
  {
   "cell_type": "markdown",
   "metadata": {
    "id": "VVoZgGpOuoWM"
   },
   "source": [
    "### Quick check to see which way we should precompute our indices\n",
    "Precomputing by combination is # all recipes across all combinations.\n",
    "\n",
    "Precompution by ingredient pairing is # ingredients<sup>2</sup>. *(which only works for pairs)*"
   ]
  },
  {
   "cell_type": "code",
   "execution_count": 6,
   "metadata": {
    "colab": {
     "base_uri": "https://localhost:8080/",
     "height": 35
    },
    "id": "BfIZ7LPOu7F2",
    "outputId": "a27793fe-2a66-45f8-c0c6-f7625940a841",
    "tags": []
   },
   "outputs": [
    {
     "data": {
      "text/plain": [
       "'Precompute by combination :266,758, Precompute by ingredients: 11,751,184'"
      ]
     },
     "execution_count": 6,
     "metadata": {},
     "output_type": "execute_result"
    }
   ],
   "source": [
    "total_recipe_count = sum([len(recipes) for recipes in all_recipes])\n",
    "all_combination_count = len(all_mols)**2\n",
    "f\"Precompute by combination :{total_recipe_count:,.0f}, Precompute by ingredients: {all_combination_count:,.0f}\""
   ]
  },
  {
   "cell_type": "markdown",
   "metadata": {
    "id": "TuZlejnwv0Nr"
   },
   "source": [
    "If this wasn't pairing, and recipes could be arbitrary number of ingredients, it would be is 2<sup># ingredients</sup>."
   ]
  },
  {
   "cell_type": "code",
   "execution_count": 7,
   "metadata": {
    "colab": {
     "base_uri": "https://localhost:8080/",
     "height": 35
    },
    "id": "m336KKgsv-AL",
    "outputId": "4c152321-f926-47f3-a2d5-1cbf1026a2e2",
    "tags": []
   },
   "outputs": [
    {
     "data": {
      "text/plain": [
       "'10^1032'"
      ]
     },
     "execution_count": 7,
     "metadata": {},
     "output_type": "execute_result"
    }
   ],
   "source": [
    "all_combination_count = 2**len(all_mols)\n",
    "# f\"Precompute by ingredients (log10): {np.log10(all_combination_count):,.0f}\"\n",
    "f\"10^{len(str(all_combination_count))}\""
   ]
  },
  {
   "cell_type": "code",
   "execution_count": 8,
   "metadata": {
    "colab": {
     "base_uri": "https://localhost:8080/"
    },
    "id": "4-rt4eTYwmy9",
    "outputId": "8d1b5d75-d430-43ac-9452-55a4e08ccad9",
    "tags": []
   },
   "outputs": [
    {
     "data": {
      "text/plain": [
       "('CC1=CC2C(C2(C)C)CC1C(=O)C',\n",
       " defaultdict(set,\n",
       "             {0: {0,\n",
       "               55,\n",
       "               134,\n",
       "               258,\n",
       "               357,\n",
       "               583,\n",
       "               601,\n",
       "               614,\n",
       "               712,\n",
       "               811,\n",
       "               955,\n",
       "               1114,\n",
       "               1168,\n",
       "               1188,\n",
       "               1248,\n",
       "               1451,\n",
       "               1516,\n",
       "               1586,\n",
       "               1612,\n",
       "               1652,\n",
       "               1666,\n",
       "               1681,\n",
       "               1709,\n",
       "               1762,\n",
       "               2244,\n",
       "               2556,\n",
       "               2648,\n",
       "               2873,\n",
       "               2886,\n",
       "               3001,\n",
       "               3015,\n",
       "               3026,\n",
       "               3027,\n",
       "               3028,\n",
       "               3029,\n",
       "               3030,\n",
       "               3031,\n",
       "               3032,\n",
       "               3033,\n",
       "               3034,\n",
       "               3035,\n",
       "               3141,\n",
       "               3257,\n",
       "               3302,\n",
       "               3310,\n",
       "               3521,\n",
       "               3620,\n",
       "               3693,\n",
       "               3981,\n",
       "               4056,\n",
       "               4079,\n",
       "               4090,\n",
       "               4141,\n",
       "               4188,\n",
       "               4296,\n",
       "               4318,\n",
       "               4374},\n",
       "              1: {403},\n",
       "              2: {494},\n",
       "              7: {21710, 21711, 21712, 21713},\n",
       "              8: {16468,\n",
       "               16469,\n",
       "               16470,\n",
       "               16471,\n",
       "               16472,\n",
       "               16473,\n",
       "               16474,\n",
       "               16475,\n",
       "               16476,\n",
       "               16477},\n",
       "              9: {2907, 2908, 2909, 2910, 2911},\n",
       "              13: {2768},\n",
       "              16: {14904, 14905, 14906},\n",
       "              21: {1233},\n",
       "              22: {6638, 6639, 6640},\n",
       "              24: {2062},\n",
       "              26: {1709},\n",
       "              32: {4867, 4868, 4869, 4870},\n",
       "              36: {7023, 7024, 7025},\n",
       "              50: {229},\n",
       "              52: {344, 796},\n",
       "              54: {228, 229},\n",
       "              55: {40, 236, 1100, 1341},\n",
       "              56: {24, 61, 84, 130, 143, 228, 245, 340, 464, 585, 586, 587},\n",
       "              59: {4},\n",
       "              60: {838, 936},\n",
       "              69: {127},\n",
       "              71: {1, 6, 13, 14},\n",
       "              80: {4},\n",
       "              86: {125},\n",
       "              93: {2989, 2990},\n",
       "              124: {803},\n",
       "              130: {186},\n",
       "              218: {315},\n",
       "              223: {106},\n",
       "              226: {1060},\n",
       "              235: {1768},\n",
       "              359: {3},\n",
       "              425: {172},\n",
       "              497: {13},\n",
       "              539: {43},\n",
       "              803: {50},\n",
       "              838: {78},\n",
       "              839: {51},\n",
       "              845: {37},\n",
       "              1647: {8},\n",
       "              6542: {0}}))"
      ]
     },
     "execution_count": 8,
     "metadata": {},
     "output_type": "execute_result"
    }
   ],
   "source": [
    "import collections\n",
    "\n",
    "def precompute_ingredient_indices(sample_recipes):\n",
    "    \"\"\"Precompute which recipes each ingredient can cover.\"\"\"\n",
    "    ingredient_indices = nested_dict = collections.defaultdict(lambda: collections.defaultdict(set))\n",
    "    current_recipe_idx = 0\n",
    "\n",
    "    # The combination is the underlying set of descriptors.\n",
    "    for combination_idx, recipes in enumerate(sample_recipes):\n",
    "      # The recipe is one particular pairing that results in that combination.\n",
    "      for recipe_idx, recipe in enumerate(recipes):\n",
    "        for ingredient in recipe:\n",
    "          ingredient_indices[ingredient][combination_idx].add(recipe_idx)\n",
    "\n",
    "    return ingredient_indices\n",
    "\n",
    "all_ingredient_indices = precompute_ingredient_indices(all_recipes)\n",
    "next(iter(all_ingredient_indices.items()))"
   ]
  },
  {
   "cell_type": "code",
   "execution_count": 9,
   "metadata": {
    "colab": {
     "base_uri": "https://localhost:8080/",
     "height": 402
    },
    "id": "RN9MKvgpU99j",
    "outputId": "0c5c9d62-62f6-4216-8b66-815fae7e6241",
    "tags": []
   },
   "outputs": [
    {
     "name": "stdout",
     "output_type": "stream",
     "text": [
      "Empty solution\n"
     ]
    },
    {
     "data": {
      "text/plain": [
       "Solution of size 0 w/ coverage 0"
      ]
     },
     "metadata": {},
     "output_type": "display_data"
    },
    {
     "name": "stdout",
     "output_type": "stream",
     "text": [
      "\n",
      "Adding CC1=CC2C(C2(C)C)CC1C(=O)C\n"
     ]
    },
    {
     "data": {
      "text/plain": [
       "Solution of size 1 w/ coverage 0"
      ]
     },
     "metadata": {},
     "output_type": "display_data"
    },
    {
     "name": "stdout",
     "output_type": "stream",
     "text": [
      "\n",
      "Adding CCCC(CC)O\n"
     ]
    },
    {
     "data": {
      "text/plain": [
       "Solution of size 2 w/ coverage 1"
      ]
     },
     "metadata": {},
     "output_type": "display_data"
    },
    {
     "name": "stdout",
     "output_type": "stream",
     "text": [
      "Contains CCCC(CC)O == True\n",
      "\n",
      "Removing CCCC(CC)O\n"
     ]
    },
    {
     "data": {
      "text/plain": [
       "Solution of size 1 w/ coverage 0"
      ]
     },
     "metadata": {},
     "output_type": "display_data"
    },
    {
     "name": "stdout",
     "output_type": "stream",
     "text": [
      "Contains CCCC(CC)O == False\n"
     ]
    }
   ],
   "source": [
    "import collections\n",
    "from copy import deepcopy\n",
    "\n",
    "class Solution:\n",
    "    def __init__(self, ingredients=None, covered_combinations=None):\n",
    "        self._ingredients = ingredients if ingredients is not None else frozenset()\n",
    "        self._covered_combinations = (\n",
    "            deepcopy(covered_combinations) if covered_combinations is not None else collections.defaultdict(set)\n",
    "        )\n",
    "\n",
    "    def add(self, ingredient):\n",
    "        assert ingredient not in self._ingredients\n",
    "        new_ingredients = self._ingredients | frozenset([ingredient])\n",
    "        new_covered_combinations = deepcopy(self._covered_combinations)\n",
    "\n",
    "        # Find the precomputed index for the particular ingredient.\n",
    "        ingredient_index = all_ingredient_indices[ingredient]\n",
    "\n",
    "        # Check through every combination across each recipe.\n",
    "        for combination_idx, recipe_indices in ingredient_index.items():\n",
    "            # Check every recipe for this particular combination and see if we can satisfy it.\n",
    "            for recipe_idx in recipe_indices:\n",
    "                recipe_ingredients = all_recipes[combination_idx][recipe_idx]\n",
    "                if recipe_ingredients <= new_ingredients:  # Check if all ingredients are covered\n",
    "                    new_covered_combinations[combination_idx].add(recipe_idx)\n",
    "\n",
    "        return Solution(new_ingredients, new_covered_combinations)\n",
    "\n",
    "    def remove(self, ingredient):\n",
    "        assert ingredient in self._ingredients\n",
    "        new_ingredients = self._ingredients - frozenset([ingredient])\n",
    "        new_covered_combinations = deepcopy(self._covered_combinations)\n",
    "\n",
    "        # Find the precomputed index for the particular ingredient.\n",
    "        ingredient_index = all_ingredient_indices[ingredient]\n",
    "\n",
    "        # Check through every combination across each recipe.\n",
    "        for combination_idx, recipe_indices in ingredient_index.items():\n",
    "            for recipe_idx in recipe_indices:\n",
    "                # If removing the ingredient causes the recipe to be unsatisfied, remove it from coverage\n",
    "                recipe_ingredients = all_recipes[combination_idx][recipe_idx]\n",
    "                if not recipe_ingredients <= new_ingredients:\n",
    "                    new_covered_combinations[combination_idx].discard(recipe_idx)\n",
    "\n",
    "        return Solution(new_ingredients, new_covered_combinations)\n",
    "\n",
    "    def __contains__(self, ingredient):\n",
    "        return ingredient in self._ingredients\n",
    "\n",
    "    def coverage(self):\n",
    "        return len([rs for c, rs in self._covered_combinations.items() if len(rs) > 0])\n",
    "\n",
    "    def __repr__(self):\n",
    "        return f\"Solution of size {len(self._ingredients)} w/ coverage {self.coverage()}\"\n",
    "\n",
    "# Example usage:\n",
    "current = Solution()\n",
    "print(\"Empty solution\")\n",
    "display(current)\n",
    "\n",
    "mol1, mol2 = all_recipes[0][0]\n",
    "\n",
    "print(\"\\nAdding\", mol1)\n",
    "current = current.add(mol1)\n",
    "display(current)\n",
    "\n",
    "print(\"\\nAdding\", mol2)\n",
    "current = current.add(mol2)\n",
    "display(current)\n",
    "print(f\"Contains {mol2} == {mol2 in current}\")\n",
    "\n",
    "print(\"\\nRemoving\", mol2)\n",
    "current = current.remove(mol2)\n",
    "display(current)\n",
    "print(f\"Contains {mol2} == {mol2 in current}\")"
   ]
  },
  {
   "cell_type": "code",
   "execution_count": 10,
   "metadata": {
    "id": "IHL-vGGBcwQt",
    "tags": []
   },
   "outputs": [],
   "source": [
    "import random\n",
    "\n",
    "def generate_random_solution(sample_mols, max_ingredients=10):\n",
    "    \"\"\"Generate a random set of ingredients.\"\"\"\n",
    "    solution = Solution()\n",
    "\n",
    "    selected_mols = set(random.sample(sample_mols, max_ingredients))\n",
    "    for m in selected_mols:\n",
    "      solution = solution.add(m)\n",
    "\n",
    "    return solution"
   ]
  },
  {
   "cell_type": "code",
   "execution_count": null,
   "metadata": {
    "colab": {
     "base_uri": "https://localhost:8080/",
     "height": 388,
     "referenced_widgets": [
      "056d05baeb374203a77ef1f0ff516d7a",
      "e48ef0034e1c4d589d525d315f4e3fd2",
      "e860c64a90d342558dec772f8f369fd2",
      "faf7f4a430f84e3d8e8101a33025fcd1",
      "7aa4465d78384b1887f9b6dff2d682fb",
      "ba0e5621fdde4e03bf05698134e4d08d",
      "00f187d11855471a955f65b60d86113d",
      "61878c547c734ee39daae8f4c2b8ca27",
      "bbf1315f645847f79758fe4369b9c031",
      "e49c03b49ba6486b9dcc75ce55c0b8db",
      "6be87e21ae06478fa37f3be0ad29ead1"
     ]
    },
    "id": "tM9YneOfwURd",
    "outputId": "9f41665c-20d9-4769-917e-f28d90b9e6c8",
    "tags": []
   },
   "outputs": [
    {
     "data": {
      "application/vnd.jupyter.widget-view+json": {
       "model_id": "ff0926595de148e7a94334edfdbf3619",
       "version_major": 2,
       "version_minor": 0
      },
      "text/plain": [
       "Random Solution:   0%|          | 0/113 [00:00<?, ?it/s]"
      ]
     },
     "metadata": {},
     "output_type": "display_data"
    }
   ],
   "source": [
    "import numpy as np\n",
    "import matplotlib.pyplot as plt\n",
    "from matplotlib.ticker import MultipleLocator, ScalarFormatter\n",
    "from tqdm.notebook import tqdm\n",
    "\n",
    "x = np.logspace(0, 6, 250)  # Exponential range from 10^0 to 10^4 (1 to 1e4)\n",
    "x_int = np.unique(np.round(x).astype(int))  # Round and convert to integer, then keep unique values\n",
    "x_int = x_int[x_int < len(all_mols)]\n",
    "x_int = np.append(x_int,len(all_mols))\n",
    "\n",
    "random_passes = 3\n",
    "\n",
    "random_fraction_at_x = []\n",
    "pbar = tqdm(total=len(x_int), desc=\"Random Solution\", leave=True,smoothing=1)\n",
    "for max_ingredients in x_int:\n",
    "  coverage = []\n",
    "  for _ in range(random_passes):\n",
    "    random_solution = generate_random_solution(list(all_mols), max_ingredients)\n",
    "    random_coverage = random_solution.coverage()\n",
    "    coverage.append(random_coverage)\n",
    "\n",
    "  fraction = np.mean(coverage) / len(all_recipes)\n",
    "  pbar.set_postfix({'Blend Size':max_ingredients,'Fraction Covered': f'{fraction:.4f}'})\n",
    "  pbar.update(1)\n",
    "  random_fraction_at_x.append(fraction)\n",
    "\n",
    "\n",
    "def make_chart(fraction_at_x,title):\n",
    "  # Plot the data points on the primary axis\n",
    "  fig, ax1 = plt.subplots(figsize=(8, 6))\n",
    "  ax1.plot(x_int[:len(fraction_at_x)], fraction_at_x, marker=\".\", linestyle=\"\")\n",
    "  ax1.set_xscale('log')  # Set x-axis to log scale\n",
    "\n",
    "  # Set major y-ticks at 0.1 intervals\n",
    "  ax1.yaxis.set_major_locator(MultipleLocator(0.1))\n",
    "  ax1.minorticks_on()  # Turn on minor ticks\n",
    "  ax1.yaxis.set_minor_locator(MultipleLocator(0.01))  # Minor ticks with 0.01 spacing\n",
    "\n",
    "  # Format the x-axis log scale to show numbers without scientific notation\n",
    "  ax1.xaxis.set_major_formatter(ScalarFormatter())\n",
    "  ax1.grid()\n",
    "\n",
    "  # Primary axis labels and title\n",
    "  ax1.set_title(title)\n",
    "  ax1.set_xlabel('# of Molecules')\n",
    "  ax1.set_ylabel('Covered Fraction')\n",
    "\n",
    "  # Add twin y-axis, scaled version without plotting points again\n",
    "  ax2 = ax1.twinx()\n",
    "  scale_factor = len(all_notes_sets)\n",
    "  ax2.set_ylim(ax1.get_ylim()[0] * scale_factor, ax1.get_ylim()[1] * scale_factor)\n",
    "  ax2.set_ylabel('# of Odor Combinations')\n",
    "\n",
    "  # Show the plot\n",
    "  plt.show()\n",
    "\n",
    "make_chart(random_fraction_at_x,\"Coverage by Primary Set Size (Random Molecule Sampling)\")"
   ]
  },
  {
   "cell_type": "code",
   "execution_count": null,
   "metadata": {
    "id": "DWrEtkiieu5k"
   },
   "outputs": [],
   "source": [
    "greedy_cache = dict()\n",
    "\n",
    "# Greedy solution with caching (breaks if we want to subsample from the original set)\n",
    "def greedy_coverage(max_ingredients, use_cache=True, disable_tqdm=False):\n",
    "  global greedy_cache\n",
    "\n",
    "  current_solution = Solution()\n",
    "\n",
    "  total_recipes = len(all_recipes)\n",
    "\n",
    "  # Initialize progress bar\n",
    "  pbar = tqdm(total=max_ingredients, desc=\"Greedy Solution\", leave=True, disable=disable_tqdm)\n",
    "\n",
    "  for size in range(max_ingredients):\n",
    "    if size in greedy_cache and use_cache:\n",
    "      solution = greedy_cache[size]\n",
    "      # Update the progress bar and show the fraction of recipes covered\n",
    "      pbar.set_postfix({'Fraction Covered': f'{current_solution.coverage() / total_recipes:.4f}'})\n",
    "      pbar.update(1)\n",
    "      continue\n",
    "\n",
    "    # Find the best current_coverage at each size\n",
    "    best_solution = current_solution\n",
    "\n",
    "    for mol in all_mols:\n",
    "      # Check every ingredient that we don't have already\n",
    "      if mol in current_solution:\n",
    "        continue\n",
    "\n",
    "\n",
    "      # Check the improved current_coverage\n",
    "      greedy_solution = current_solution.add(mol)\n",
    "      if greedy_solution.coverage() > best_solution.coverage():\n",
    "        best_solution = greedy_solution\n",
    "\n",
    "    # Update our results\n",
    "    current_solution = best_solution\n",
    "    # Update the cache\n",
    "    greedy_cache[size] = current_solution\n",
    "\n",
    "    # Update the progress bar and show the fraction of recipes covered\n",
    "    pbar.set_postfix({'Fraction Covered': f'{current_solution.coverage() / total_recipes:.4f}'})\n",
    "    pbar.update(1)\n",
    "\n",
    "  return current_solution\n",
    "\n",
    "\n",
    "# Doing this just to check caching works.\n",
    "_ = greedy_coverage(max_ingredients=50)\n",
    "\n",
    "# Attempt large greedy solution.\n",
    "best_solution = greedy_coverage(max_ingredients=100)\n",
    "print(f\"Random Start Solution: {best_solution}\")\n",
    "print(f\"Max Recipes Covered: {best_solution.coverage()}\")\n",
    "print(f\"Fraction of Recipes Covered: {best_solution.coverage()/len(all_recipes):.4f}\")\n"
   ]
  },
  {
   "cell_type": "code",
   "execution_count": null,
   "metadata": {
    "id": "_pri1YeciUiy"
   },
   "outputs": [],
   "source": [
    "pbar = tqdm(total=len(x_int), desc=\"Greedy Solution\", leave=True,smoothing=1)\n",
    "\n",
    "greedy_fraction_at_x = []\n",
    "for max_ingredients in x_int:\n",
    "  best_solution = greedy_coverage(max_ingredients=max_ingredients, use_cache=True, disable_tqdm=True)\n",
    "  pbar.set_postfix({'Blend Size':max_ingredients,'Fraction Covered': f'{best_solution.coverage() / len(all_recipes):.4f}'})\n",
    "  pbar.update(1)\n",
    "  greedy_fraction_at_x.append(best_solution.coverage() / len(all_recipes))\n",
    "\n",
    "make_chart(greedy_fraction_at_x,\"Coverage by Primary Set Size (Greedy Solution)\")"
   ]
  },
  {
   "cell_type": "code",
   "execution_count": null,
   "metadata": {
    "id": "kN1VTuzBva2U"
   },
   "outputs": [],
   "source": [
    "def simulated_annealing_max_coverage(max_ingredients, start_random=True, initial_temp=100, cooling_rate=0.99, num_iterations=10000, disable_tqdm=False):\n",
    "    \"\"\"Simulated annealing to find the best set of ingredients that maximizes recipe coverage.\"\"\"\n",
    "\n",
    "    total_recipes = len(all_recipes)\n",
    "\n",
    "    if start_random:\n",
    "      current_solution = generate_random_solution(all_mols, max_ingredients)\n",
    "    else:\n",
    "      current_solution = greedy_coverage(max_ingredients=max_ingredients, use_cache=True, disable_tqdm=True)\n",
    "\n",
    "    # Track the best solution\n",
    "    best_solution = current_solution\n",
    "\n",
    "    temp = initial_temp\n",
    "\n",
    "    # Initialize progress bar\n",
    "    pbar = tqdm(total=num_iterations, desc=\"Simulated Annealing\", leave=True, disable=disable_tqdm)\n",
    "\n",
    "    for i in range(num_iterations):\n",
    "        # Generate a new solution by swapping one ingredient\n",
    "        new_solution = current_solution\n",
    "\n",
    "        # If we're at the max ingredients, ensure we don't exceed it\n",
    "        if len(new_solution) >= max_ingredients:\n",
    "            # Randomly remove an ingredient before adding a new one\n",
    "            ingredient_to_remove = random.choice(list(new_solution._ingredients))\n",
    "            new_solution = new_solution.remove(ingredient_to_remove)\n",
    "\n",
    "        # Add a new ingredient from the pool of unused ingredients\n",
    "        available_ingredients = [i for i in all_mols if i not in new_solution]\n",
    "        if available_ingredients:\n",
    "            ingredient_to_add = random.choice(available_ingredients)\n",
    "            new_solution = new_solution.add(ingredient_to_add)\n",
    "\n",
    "\n",
    "        # Calculate acceptance probability\n",
    "        if new_solution.coverage() > current_solution.coverage():\n",
    "            accept = True  # Always accept a better solution\n",
    "        else:\n",
    "            delta = current_solution.coverage() - new_solution.coverage()\n",
    "            accept_probability = math.exp(-delta / temp)\n",
    "            accept = random.random() < accept_probability  # Accept worse solution with some probability\n",
    "\n",
    "        # Accept the new solution\n",
    "        if accept:\n",
    "            current_solution = new_solution\n",
    "\n",
    "            # Update the best solution if the new solution is better\n",
    "            if current_solution.coverage() > best_solution.coverage():\n",
    "                best_solution = current_solution\n",
    "\n",
    "        # Cool down the temperature\n",
    "        temp *= cooling_rate\n",
    "\n",
    "        # Update the progress bar and show the fraction of recipes covered\n",
    "        pbar.set_postfix({'Fraction Covered': f'{current_solution.coverage() / total_recipes:.4f}', 'Temperature': f'{temp:.2f}'})\n",
    "        pbar.update(1)\n",
    "\n",
    "    pbar.close()\n",
    "\n",
    "    return best_solution, best_coverage, best_coverage / total_recipes\n",
    "\n",
    "best_solution, best_coverage, best_fraction = simulated_annealing_max_coverage(max_ingredients=100, initial_temp=1e4)\n",
    "print(f\"Random Start Solution: {best_solution}\")\n",
    "print(f\"Max Recipes Covered: {best_coverage}\")\n",
    "print(f\"Fraction of Recipes Covered: {best_fraction:.4f}\")\n"
   ]
  },
  {
   "cell_type": "code",
   "execution_count": null,
   "metadata": {
    "id": "zF0gvu2OxvDz"
   },
   "outputs": [],
   "source": [
    "pbar = tqdm(total=len(x_int), desc=\"Simulated Annealing\", leave=True,smoothing=1)\n",
    "\n",
    "annealed_fraction_at_x = []\n",
    "for max_ingredients in x_int:\n",
    "  best_solution, best_coverage, best_fraction = simulated_annealing_max_coverage(max_ingredients=max_ingredients, num_iterations=int(1e4), initial_temp=1e4, disable_tqdm=True)\n",
    "  pbar.set_postfix({'Blend Size':max_ingredients,'Fraction Covered': f'{best_fraction:.4f}'})\n",
    "  pbar.update(1)\n",
    "  annealed_fraction_at_x.append(best_fraction)\n",
    "\n",
    "make_chart(annealed_fraction_at_x,\"Coverage by Primary Set Size (Simulated Annealing)\")"
   ]
  },
  {
   "cell_type": "code",
   "execution_count": null,
   "metadata": {
    "id": "agUVKlKXwfbC"
   },
   "outputs": [],
   "source": [
    "pbar = tqdm(total=len(x_int), desc=\"Simulated Annealing\", leave=True,smoothing=1)\n",
    "\n",
    "greedy_annealed_fraction_at_x = []\n",
    "for max_ingredients in x_int:\n",
    "  best_solution, best_coverage, best_fraction = simulated_annealing_max_coverage(max_ingredients=max_ingredients, start_random=False, num_iterations=int(1e4), initial_temp=1e4, disable_tqdm=True)\n",
    "  pbar.set_postfix({'Blend Size':max_ingredients,'Fraction Covered': f'{best_fraction:.4f}'})\n",
    "  pbar.update(1)\n",
    "  greedy_annealed_fraction_at_x.append(best_fraction)\n",
    "\n",
    "make_chart(greedy_annealed_fraction_at_x,\"Coverage by Primary Set Size (Simulated Annealing)\")"
   ]
  },
  {
   "cell_type": "code",
   "execution_count": null,
   "metadata": {
    "id": "3bQd3ItpYfJe"
   },
   "outputs": [],
   "source": [
    "import random\n",
    "import math\n",
    "from tqdm.notebook import tqdm  # Use tqdm for Jupyter Notebook progress bar\n",
    "\n",
    "\n",
    "def generate_random_solution(sample_mols, max_ingredients=10):\n",
    "    \"\"\"Generate a random set of ingredients.\"\"\"\n",
    "    return set(random.sample(sample_mols, max_ingredients))\n",
    "\n",
    "def get_coverage(selected_ingredients):\n",
    "    \"\"\"Calculate how many combinations can be covered by the selected ingredients using precomputed data.\"\"\"\n",
    "    covered_combinations = set()\n",
    "\n",
    "    # For every ingredient, we will check across every combination and recipe\n",
    "    # to see if we can make it.\n",
    "    for ingredient in selected_ingredients:\n",
    "      # Find the precomputed index for the particular ingredient.\n",
    "      ingredient_index = all_ingredient_indices[ingredient]\n",
    "\n",
    "      # Check through every combination across each recipe.\n",
    "      for combination_idx, recipe_indices in ingredient_index.items():\n",
    "        # We can skip if we already cover this combination.\n",
    "        if combination_idx in covered_combinations:\n",
    "          continue\n",
    "\n",
    "        # Otherwise, we have to check every recipe for this particular\n",
    "        # combination and see if we can satisfy it.\n",
    "        for recipe_idx in recipe_indices:\n",
    "          recipe_ingredients = all_recipes[combination_idx][recipe_idx]\n",
    "\n",
    "          # It is satisifed if we have every ingredient selected.\n",
    "          if not recipe_ingredients.difference(selected_ingredients):\n",
    "            covered_combinations.add(combination_idx)\n",
    "\n",
    "    return len(covered_combinations)"
   ]
  },
  {
   "cell_type": "code",
   "execution_count": null,
   "metadata": {
    "id": "D2JeLwaLy2OG"
   },
   "outputs": [],
   "source": [
    "# Ok, instead of doing this\n",
    "# We should have a solution object\n",
    "# And it holds the number of completed recipes across each combination.\n",
    "# It has two functions. Add and remove."
   ]
  },
  {
   "cell_type": "markdown",
   "metadata": {
    "id": "b8_EQxEiPvpz"
   },
   "source": [
    "Add in a greedy chart!"
   ]
  }
 ],
 "metadata": {
  "colab": {
   "machine_shape": "hm",
   "provenance": []
  },
  "kernelspec": {
   "display_name": "Python 3 (ipykernel)",
   "language": "python",
   "name": "python3"
  },
  "language_info": {
   "codemirror_mode": {
    "name": "ipython",
    "version": 3
   },
   "file_extension": ".py",
   "mimetype": "text/x-python",
   "name": "python",
   "nbconvert_exporter": "python",
   "pygments_lexer": "ipython3",
   "version": "3.11.5"
  },
  "widgets": {
   "application/vnd.jupyter.widget-state+json": {
    "00f187d11855471a955f65b60d86113d": {
     "model_module": "@jupyter-widgets/controls",
     "model_module_version": "1.5.0",
     "model_name": "DescriptionStyleModel",
     "state": {
      "_model_module": "@jupyter-widgets/controls",
      "_model_module_version": "1.5.0",
      "_model_name": "DescriptionStyleModel",
      "_view_count": null,
      "_view_module": "@jupyter-widgets/base",
      "_view_module_version": "1.2.0",
      "_view_name": "StyleView",
      "description_width": ""
     }
    },
    "056d05baeb374203a77ef1f0ff516d7a": {
     "model_module": "@jupyter-widgets/controls",
     "model_module_version": "1.5.0",
     "model_name": "HBoxModel",
     "state": {
      "_dom_classes": [],
      "_model_module": "@jupyter-widgets/controls",
      "_model_module_version": "1.5.0",
      "_model_name": "HBoxModel",
      "_view_count": null,
      "_view_module": "@jupyter-widgets/controls",
      "_view_module_version": "1.5.0",
      "_view_name": "HBoxView",
      "box_style": "",
      "children": [
       "IPY_MODEL_e48ef0034e1c4d589d525d315f4e3fd2",
       "IPY_MODEL_e860c64a90d342558dec772f8f369fd2",
       "IPY_MODEL_faf7f4a430f84e3d8e8101a33025fcd1"
      ],
      "layout": "IPY_MODEL_7aa4465d78384b1887f9b6dff2d682fb"
     }
    },
    "61878c547c734ee39daae8f4c2b8ca27": {
     "model_module": "@jupyter-widgets/base",
     "model_module_version": "1.2.0",
     "model_name": "LayoutModel",
     "state": {
      "_model_module": "@jupyter-widgets/base",
      "_model_module_version": "1.2.0",
      "_model_name": "LayoutModel",
      "_view_count": null,
      "_view_module": "@jupyter-widgets/base",
      "_view_module_version": "1.2.0",
      "_view_name": "LayoutView",
      "align_content": null,
      "align_items": null,
      "align_self": null,
      "border": null,
      "bottom": null,
      "display": null,
      "flex": null,
      "flex_flow": null,
      "grid_area": null,
      "grid_auto_columns": null,
      "grid_auto_flow": null,
      "grid_auto_rows": null,
      "grid_column": null,
      "grid_gap": null,
      "grid_row": null,
      "grid_template_areas": null,
      "grid_template_columns": null,
      "grid_template_rows": null,
      "height": null,
      "justify_content": null,
      "justify_items": null,
      "left": null,
      "margin": null,
      "max_height": null,
      "max_width": null,
      "min_height": null,
      "min_width": null,
      "object_fit": null,
      "object_position": null,
      "order": null,
      "overflow": null,
      "overflow_x": null,
      "overflow_y": null,
      "padding": null,
      "right": null,
      "top": null,
      "visibility": null,
      "width": null
     }
    },
    "6be87e21ae06478fa37f3be0ad29ead1": {
     "model_module": "@jupyter-widgets/controls",
     "model_module_version": "1.5.0",
     "model_name": "DescriptionStyleModel",
     "state": {
      "_model_module": "@jupyter-widgets/controls",
      "_model_module_version": "1.5.0",
      "_model_name": "DescriptionStyleModel",
      "_view_count": null,
      "_view_module": "@jupyter-widgets/base",
      "_view_module_version": "1.2.0",
      "_view_name": "StyleView",
      "description_width": ""
     }
    },
    "7aa4465d78384b1887f9b6dff2d682fb": {
     "model_module": "@jupyter-widgets/base",
     "model_module_version": "1.2.0",
     "model_name": "LayoutModel",
     "state": {
      "_model_module": "@jupyter-widgets/base",
      "_model_module_version": "1.2.0",
      "_model_name": "LayoutModel",
      "_view_count": null,
      "_view_module": "@jupyter-widgets/base",
      "_view_module_version": "1.2.0",
      "_view_name": "LayoutView",
      "align_content": null,
      "align_items": null,
      "align_self": null,
      "border": null,
      "bottom": null,
      "display": null,
      "flex": null,
      "flex_flow": null,
      "grid_area": null,
      "grid_auto_columns": null,
      "grid_auto_flow": null,
      "grid_auto_rows": null,
      "grid_column": null,
      "grid_gap": null,
      "grid_row": null,
      "grid_template_areas": null,
      "grid_template_columns": null,
      "grid_template_rows": null,
      "height": null,
      "justify_content": null,
      "justify_items": null,
      "left": null,
      "margin": null,
      "max_height": null,
      "max_width": null,
      "min_height": null,
      "min_width": null,
      "object_fit": null,
      "object_position": null,
      "order": null,
      "overflow": null,
      "overflow_x": null,
      "overflow_y": null,
      "padding": null,
      "right": null,
      "top": null,
      "visibility": null,
      "width": null
     }
    },
    "ba0e5621fdde4e03bf05698134e4d08d": {
     "model_module": "@jupyter-widgets/base",
     "model_module_version": "1.2.0",
     "model_name": "LayoutModel",
     "state": {
      "_model_module": "@jupyter-widgets/base",
      "_model_module_version": "1.2.0",
      "_model_name": "LayoutModel",
      "_view_count": null,
      "_view_module": "@jupyter-widgets/base",
      "_view_module_version": "1.2.0",
      "_view_name": "LayoutView",
      "align_content": null,
      "align_items": null,
      "align_self": null,
      "border": null,
      "bottom": null,
      "display": null,
      "flex": null,
      "flex_flow": null,
      "grid_area": null,
      "grid_auto_columns": null,
      "grid_auto_flow": null,
      "grid_auto_rows": null,
      "grid_column": null,
      "grid_gap": null,
      "grid_row": null,
      "grid_template_areas": null,
      "grid_template_columns": null,
      "grid_template_rows": null,
      "height": null,
      "justify_content": null,
      "justify_items": null,
      "left": null,
      "margin": null,
      "max_height": null,
      "max_width": null,
      "min_height": null,
      "min_width": null,
      "object_fit": null,
      "object_position": null,
      "order": null,
      "overflow": null,
      "overflow_x": null,
      "overflow_y": null,
      "padding": null,
      "right": null,
      "top": null,
      "visibility": null,
      "width": null
     }
    },
    "bbf1315f645847f79758fe4369b9c031": {
     "model_module": "@jupyter-widgets/controls",
     "model_module_version": "1.5.0",
     "model_name": "ProgressStyleModel",
     "state": {
      "_model_module": "@jupyter-widgets/controls",
      "_model_module_version": "1.5.0",
      "_model_name": "ProgressStyleModel",
      "_view_count": null,
      "_view_module": "@jupyter-widgets/base",
      "_view_module_version": "1.2.0",
      "_view_name": "StyleView",
      "bar_color": null,
      "description_width": ""
     }
    },
    "e48ef0034e1c4d589d525d315f4e3fd2": {
     "model_module": "@jupyter-widgets/controls",
     "model_module_version": "1.5.0",
     "model_name": "HTMLModel",
     "state": {
      "_dom_classes": [],
      "_model_module": "@jupyter-widgets/controls",
      "_model_module_version": "1.5.0",
      "_model_name": "HTMLModel",
      "_view_count": null,
      "_view_module": "@jupyter-widgets/controls",
      "_view_module_version": "1.5.0",
      "_view_name": "HTMLView",
      "description": "",
      "description_tooltip": null,
      "layout": "IPY_MODEL_ba0e5621fdde4e03bf05698134e4d08d",
      "placeholder": "​",
      "style": "IPY_MODEL_00f187d11855471a955f65b60d86113d",
      "value": "Random Solution:  88%"
     }
    },
    "e49c03b49ba6486b9dcc75ce55c0b8db": {
     "model_module": "@jupyter-widgets/base",
     "model_module_version": "1.2.0",
     "model_name": "LayoutModel",
     "state": {
      "_model_module": "@jupyter-widgets/base",
      "_model_module_version": "1.2.0",
      "_model_name": "LayoutModel",
      "_view_count": null,
      "_view_module": "@jupyter-widgets/base",
      "_view_module_version": "1.2.0",
      "_view_name": "LayoutView",
      "align_content": null,
      "align_items": null,
      "align_self": null,
      "border": null,
      "bottom": null,
      "display": null,
      "flex": null,
      "flex_flow": null,
      "grid_area": null,
      "grid_auto_columns": null,
      "grid_auto_flow": null,
      "grid_auto_rows": null,
      "grid_column": null,
      "grid_gap": null,
      "grid_row": null,
      "grid_template_areas": null,
      "grid_template_columns": null,
      "grid_template_rows": null,
      "height": null,
      "justify_content": null,
      "justify_items": null,
      "left": null,
      "margin": null,
      "max_height": null,
      "max_width": null,
      "min_height": null,
      "min_width": null,
      "object_fit": null,
      "object_position": null,
      "order": null,
      "overflow": null,
      "overflow_x": null,
      "overflow_y": null,
      "padding": null,
      "right": null,
      "top": null,
      "visibility": null,
      "width": null
     }
    },
    "e860c64a90d342558dec772f8f369fd2": {
     "model_module": "@jupyter-widgets/controls",
     "model_module_version": "1.5.0",
     "model_name": "FloatProgressModel",
     "state": {
      "_dom_classes": [],
      "_model_module": "@jupyter-widgets/controls",
      "_model_module_version": "1.5.0",
      "_model_name": "FloatProgressModel",
      "_view_count": null,
      "_view_module": "@jupyter-widgets/controls",
      "_view_module_version": "1.5.0",
      "_view_name": "ProgressView",
      "bar_style": "",
      "description": "",
      "description_tooltip": null,
      "layout": "IPY_MODEL_61878c547c734ee39daae8f4c2b8ca27",
      "max": 113,
      "min": 0,
      "orientation": "horizontal",
      "style": "IPY_MODEL_bbf1315f645847f79758fe4369b9c031",
      "value": 99
     }
    },
    "faf7f4a430f84e3d8e8101a33025fcd1": {
     "model_module": "@jupyter-widgets/controls",
     "model_module_version": "1.5.0",
     "model_name": "HTMLModel",
     "state": {
      "_dom_classes": [],
      "_model_module": "@jupyter-widgets/controls",
      "_model_module_version": "1.5.0",
      "_model_name": "HTMLModel",
      "_view_count": null,
      "_view_module": "@jupyter-widgets/controls",
      "_view_module_version": "1.5.0",
      "_view_name": "HTMLView",
      "description": "",
      "description_tooltip": null,
      "layout": "IPY_MODEL_e49c03b49ba6486b9dcc75ce55c0b8db",
      "placeholder": "​",
      "style": "IPY_MODEL_6be87e21ae06478fa37f3be0ad29ead1",
      "value": " 99/113 [17:13&lt;35:00, 150.06s/it, Blend Size=1603, Fraction Covered=0.3683]"
     }
    }
   }
  }
 },
 "nbformat": 4,
 "nbformat_minor": 4
}
