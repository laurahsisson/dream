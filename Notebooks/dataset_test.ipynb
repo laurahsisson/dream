{
 "cells": [
  {
   "cell_type": "code",
   "execution_count": 1,
   "id": "ef886e83-6230-4048-bde8-5c251fef1765",
   "metadata": {
    "tags": []
   },
   "outputs": [
    {
     "name": "stdout",
     "output_type": "stream",
     "text": [
      "\u001b[34mDocker\u001b[m\u001b[m        activation.py data.py       encoder.py    pairdata.py\n",
      "\u001b[34mNotebooks\u001b[m\u001b[m     aggregate.py  dictionary.pt layers.ipynb  rmse.ipynb\n",
      "README.md     blends.ipynb  dreamdata.py  mpnn.py       tokenizer.py\n",
      "\u001b[34m__pycache__\u001b[m\u001b[m   cross.py      embedding.py  olfactor.py   utils.py\n"
     ]
    }
   ],
   "source": [
    "import os\n",
    "os.chdir(\"..\")\n",
    "!ls"
   ]
  },
  {
   "cell_type": "code",
   "execution_count": 2,
   "id": "34fdbd7b-bfd8-478b-87c5-01c3429a36df",
   "metadata": {
    "tags": []
   },
   "outputs": [
    {
     "data": {
      "text/plain": [
       "(268963,\n",
       " {'mol1': 'CC1=CC2C(C2(C)C)CC1C(=O)C',\n",
       "  'mol2': 'CCCC(CC)O',\n",
       "  'blend_notes': ['herbal']})"
      ]
     },
     "execution_count": 2,
     "metadata": {},
     "output_type": "execute_result"
    }
   ],
   "source": [
    "import json\n",
    "with open(\"Notebooks/Data/pair_huge.json\") as f:\n",
    "    pair_dataset = json.load(f)\n",
    "\n",
    "len(pair_dataset),pair_dataset[0]"
   ]
  },
  {
   "cell_type": "code",
   "execution_count": 3,
   "id": "64394297-7064-49cb-8866-a64a7c3d5967",
   "metadata": {
    "tags": []
   },
   "outputs": [
    {
     "ename": "AssertionError",
     "evalue": "",
     "output_type": "error",
     "traceback": [
      "\u001b[0;31m---------------------------------------------------------------------------\u001b[0m",
      "\u001b[0;31mAssertionError\u001b[0m                            Traceback (most recent call last)",
      "Cell \u001b[0;32mIn[3], line 2\u001b[0m\n\u001b[1;32m      1\u001b[0m \u001b[38;5;28;01mfor\u001b[39;00m d \u001b[38;5;129;01min\u001b[39;00m pair_dataset:\n\u001b[0;32m----> 2\u001b[0m     \u001b[38;5;28;01massert\u001b[39;00m d[\u001b[38;5;124m\"\u001b[39m\u001b[38;5;124mmol1\u001b[39m\u001b[38;5;124m\"\u001b[39m]\n\u001b[1;32m      3\u001b[0m     \u001b[38;5;28;01massert\u001b[39;00m d[\u001b[38;5;124m\"\u001b[39m\u001b[38;5;124mmol2\u001b[39m\u001b[38;5;124m\"\u001b[39m]\n",
      "\u001b[0;31mAssertionError\u001b[0m: "
     ]
    }
   ],
   "source": [
    "# for d in pair_dataset:\n",
    "#     assert d[\"mol1\"]\n",
    "#     assert d[\"mol2\"]"
   ]
  },
  {
   "cell_type": "code",
   "execution_count": 4,
   "id": "7054e69a-cd70-45f8-a71b-09f13f413124",
   "metadata": {
    "tags": []
   },
   "outputs": [
    {
     "name": "stderr",
     "output_type": "stream",
     "text": [
      "[15:38:20] SMILES Parse Error: syntax error while parsing: InChI=1/C7H8S/c1-6-4-2-3-5-7(6)8/h2-5,8H,1H3\n",
      "[15:38:20] SMILES Parse Error: Failed parsing SMILES 'InChI=1/C7H8S/c1-6-4-2-3-5-7(6)8/h2-5,8H,1H3' for input: 'InChI=1/C7H8S/c1-6-4-2-3-5-7(6)8/h2-5,8H,1H3'\n",
      "[15:38:21] Can't kekulize mol.  Unkekulized atoms: 3 4 5 6 8\n",
      "[15:38:21] SMILES Parse Error: syntax error while parsing: (C)C1=CN=CC(=N1)OC.CC(C)C1=CN=C(C=N1)OC.CC(C)C1=NC=CN=C1OC\n",
      "[15:38:21] SMILES Parse Error: Failed parsing SMILES '(C)C1=CN=CC(=N1)OC.CC(C)C1=CN=C(C=N1)OC.CC(C)C1=NC=CN=C1OC' for input: '(C)C1=CN=CC(=N1)OC.CC(C)C1=CN=C(C=N1)OC.CC(C)C1=NC=CN=C1OC'\n",
      "100%|███████████████████████████████| 268963/268963 [00:56<00:00, 4786.21it/s]\n"
     ]
    },
    {
     "data": {
      "text/plain": [
       "(268653,\n",
       " {'pair': ('CC1=CC2C(C2(C)C)CC1C(=O)C', 'CCCC(CC)O'),\n",
       "  'graph': BlendData(x=[20, 9], edge_index=[2, 40], edge_attr=[40, 3], mol_batch=[20], blend_batch=[2]),\n",
       "  'notes': tensor([0., 0., 0., 0., 0., 0., 0., 0., 0., 0., 0., 0., 0., 0., 0., 0., 0., 0.,\n",
       "          0., 0., 0., 0., 0., 0., 0., 0., 0., 0., 0., 0., 0., 0., 0., 0., 0., 0.,\n",
       "          0., 0., 0., 0., 0., 0., 0., 0., 0., 1., 0., 0., 0., 0., 0., 0., 0., 0.,\n",
       "          0., 0., 0., 0., 0., 0., 0., 0., 0., 0., 0., 0., 0., 0., 0., 0., 0., 0.,\n",
       "          0., 0., 0., 0., 0., 0., 0., 0., 0., 0., 0., 0., 0., 0., 0., 0., 0., 0.,\n",
       "          0., 0., 0., 0., 0., 0., 0., 0., 0., 0., 0., 0., 0., 0., 0., 0., 0., 0.,\n",
       "          0., 0., 0., 0., 0., 0., 0., 0., 0., 0., 0., 0., 0., 0., 0., 0., 0., 0.,\n",
       "          0., 0., 0., 0., 0.])})"
      ]
     },
     "execution_count": 4,
     "metadata": {},
     "output_type": "execute_result"
    }
   ],
   "source": [
    "import pairdata as ds\n",
    "dataset = ds.make(pair_dataset)\n",
    "len(dataset),dataset[0]"
   ]
  },
  {
   "cell_type": "code",
   "execution_count": null,
   "id": "822db502-c473-4235-88c6-8f6ef5345a1a",
   "metadata": {
    "tags": []
   },
   "outputs": [],
   "source": [
    "{k:v.dtype for k,v in dataset[0][\"graph\"].items()}"
   ]
  }
 ],
 "metadata": {
  "kernelspec": {
   "display_name": "Python 3 (ipykernel)",
   "language": "python",
   "name": "python3"
  },
  "language_info": {
   "codemirror_mode": {
    "name": "ipython",
    "version": 3
   },
   "file_extension": ".py",
   "mimetype": "text/x-python",
   "name": "python",
   "nbconvert_exporter": "python",
   "pygments_lexer": "ipython3",
   "version": "3.11.5"
  }
 },
 "nbformat": 4,
 "nbformat_minor": 5
}
