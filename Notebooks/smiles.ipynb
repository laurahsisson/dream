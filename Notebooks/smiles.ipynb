{
 "cells": [
  {
   "cell_type": "code",
   "execution_count": 1,
   "id": "c0633758-6044-42d6-80c3-1b5d5de419d2",
   "metadata": {
    "tags": []
   },
   "outputs": [],
   "source": [
    "import pubchempy as pcp\n",
    "from tqdm.notebook import tqdm\n",
    "all_cids = [176, 177, 179, 180, 240, 261, 263, 264, 307, 323, 326, 454, 460, 527, 612, 650, 798, 957, 999, 1031, 1032, 1060, 1068, 1127, 1140, 1146, 1183, 2758, 2879, 2969, 3314, 3776, 4133, 5634, 6054, 6184, 6276, 6501, 6544, 6561, 6569, 6584, 6590, 6654, 6736, 6982, 6989, 7059, 7119, 7150, 7165, 7284, 7344, 7363, 7410, 7460, 7463, 7519, 7583, 7600, 7632, 7654, 7685, 7710, 7714, 7731, 7749, 7762, 7770, 7793, 7799, 7848, 7888, 7895, 7921, 7966, 7991, 8025, 8030, 8048, 8051, 8063, 8091, 8103, 8118, 8129, 8130, 8148, 8186, 8635, 8797, 8842, 8857, 8858, 8892, 8918, 9609, 10430, 10448, 10560, 10722, 10821, 10882, 10890, 10976, 11002, 11124, 11173, 11509, 11552, 12020, 12178, 12180, 12232, 12348, 12367, 12741, 14286, 15380, 16666, 17100, 18827, 19310, 20859, 22201, 22386, 22873, 24915, 26331, 31244, 31249, 31252, 31265, 31266, 31272, 31276, 31277, 61016, 61138, 61199, 62336, 62433, 62444, 62465, 84682, 91497, 93009, 440917, 440967, 443158, 443162, 637511, 637566, 637776, 638011, 5281168, 5281515, 5283349, 5284503, 5318042, 5373603, 6259976, 11002307]"
   ]
  },
  {
   "cell_type": "code",
   "execution_count": 2,
   "id": "99a3df4c-ed9d-424b-9093-6032450782d6",
   "metadata": {
    "tags": []
   },
   "outputs": [
    {
     "data": {
      "application/vnd.jupyter.widget-view+json": {
       "model_id": "a2403c66fb6a453ea7a01bd8f2b062ca",
       "version_major": 2,
       "version_minor": 0
      },
      "text/plain": [
       "  0%|          | 0/163 [00:00<?, ?it/s]"
      ]
     },
     "metadata": {},
     "output_type": "display_data"
    }
   ],
   "source": [
    "cid_to_smiles = {cid: pcp.Compound.from_cid(str(cid)).canonical_smiles for cid in tqdm(all_cids,smoothing=0)}"
   ]
  },
  {
   "cell_type": "code",
   "execution_count": 3,
   "id": "451c7244-5975-45d1-a1e8-73ec55323cf1",
   "metadata": {
    "tags": []
   },
   "outputs": [],
   "source": [
    "import json\n",
    "with open(\"Data/cid_to_smiles.json\",\"w\") as f:\n",
    "    json.dump(cid_to_smiles,f)"
   ]
  },
  {
   "cell_type": "code",
   "execution_count": 4,
   "id": "6f8c58d9-c3c9-49ed-9a38-e076a4d184c5",
   "metadata": {
    "tags": []
   },
   "outputs": [
    {
     "data": {
      "text/plain": [
       "{176: 'CC(=O)O',\n",
       " 177: 'CC=O',\n",
       " 179: 'CC(C(=O)C)O',\n",
       " 180: 'CC(=O)C',\n",
       " 240: 'C1=CC=C(C=C1)C=O',\n",
       " 261: 'CCCC=O',\n",
       " 263: 'CCCCO',\n",
       " 264: 'CCCC(=O)O',\n",
       " 307: 'C1=CC=C(C=C1)C=CC=O',\n",
       " 323: 'C1=CC=C2C(=C1)C=CC(=O)O2',\n",
       " 326: 'CC(C)C1=CC=C(C=C1)C=O',\n",
       " 454: 'CCCCCCCC=O',\n",
       " 460: 'COC1=CC=CC=C1O',\n",
       " 527: 'CCC=O',\n",
       " 612: 'CC(C(=O)O)O',\n",
       " 650: 'CC(=O)C(=O)C',\n",
       " 798: 'C1=CC=C2C(=C1)C=CN2',\n",
       " 957: 'CCCCCCCCO',\n",
       " 999: 'C1=CC=C(C=C1)CC(=O)O',\n",
       " 1031: 'CCCO',\n",
       " 1032: 'CCC(=O)O',\n",
       " 1060: 'CC(=O)C(=O)O',\n",
       " 1068: 'CSC',\n",
       " 1127: 'C1CCSC1',\n",
       " 1140: 'CC1=CC=CC=C1',\n",
       " 1146: 'CN(C)C',\n",
       " 1183: 'COC1=C(C=CC(=C1)C=O)O',\n",
       " 2758: 'CC1(C2CCC(O1)(CC2)C)C',\n",
       " 2879: 'CC1=CC=C(C=C1)O',\n",
       " 2969: 'CCCCCCCCCC(=O)O',\n",
       " 3314: 'COC1=C(C=CC(=C1)CC=C)O',\n",
       " 3776: 'CC(C)O',\n",
       " 4133: 'COC(=O)C1=CC=CC=C1O',\n",
       " 5634: 'C=CCCCCCCCCC(=O)O',\n",
       " 6054: 'C1=CC=C(C=C1)CCO',\n",
       " 6184: 'CCCCCC=O',\n",
       " 6276: 'CCCCCO',\n",
       " 6501: 'CCOC(=O)C1C(O1)(C)C2=CC=CC=C2',\n",
       " 6544: 'CC1=CC(=O)CC(C1)(C)C',\n",
       " 6561: 'CC(C)C=O',\n",
       " 6569: 'CCC(=O)C',\n",
       " 6584: 'CC(=O)OC',\n",
       " 6590: 'CC(C)C(=O)O',\n",
       " 6654: 'CC1=CCC2CC1C2(C)C',\n",
       " 6736: 'CC1=CNC2=CC=CC=C12',\n",
       " 6982: 'CC1=CC(=C(C=C1Cl)C(C)C)O',\n",
       " 6989: 'CC1=CC(=C(C=C1)C(C)C)O',\n",
       " 7059: 'CC1=CC2=C(C=C1)N=CC=C2',\n",
       " 7119: 'COC1=CC2=CC=CC=C2C=C1',\n",
       " 7150: 'COC(=O)C1=CC=CC=C1',\n",
       " 7165: 'CCOC(=O)C1=CC=CC=C1',\n",
       " 7284: 'CCC(C)C=O',\n",
       " 7344: 'CCOC(=O)C(C)O',\n",
       " 7363: 'C1=COC(=C1)CS',\n",
       " 7410: 'CC(=O)C1=CC=CC=C1',\n",
       " 7460: 'CC1=CCC(C=C1)C(C)C',\n",
       " 7463: 'CC1=CC=C(C=C1)C(C)C',\n",
       " 7519: 'COC1=CC=CC=C1',\n",
       " 7583: 'C1=CC=C(C=C1)OC2=CC=CC=C2',\n",
       " 7600: 'CC(C)CCOC(=O)CC1=CC=CC=C1',\n",
       " 7632: 'CC(C)(CCC1=CC=CC=C1)O',\n",
       " 7654: 'CC(=O)OCCC1=CC=CC=C1',\n",
       " 7685: 'CC1=CC=C(C=C1)OC(=O)C(C)C',\n",
       " 7710: 'CCCCCC1CCC(=O)O1',\n",
       " 7714: 'CCCCCCCC1CCC(=O)O1',\n",
       " 7731: 'CC1=CC=C(C=C1)OC',\n",
       " 7749: 'CCC(=O)OCC',\n",
       " 7762: 'CCCC(=O)OCC',\n",
       " 7770: 'CCCC(=O)OCCC',\n",
       " 7793: 'CC(CCC=C(C)C)CCO',\n",
       " 7799: 'CCCCCCCC(=O)OCC',\n",
       " 7848: 'CCCS',\n",
       " 7888: 'CC(CCCC(C)(C)O)CC=O',\n",
       " 7895: 'CCCC(=O)C',\n",
       " 7921: 'CC1CCC(=O)O1',\n",
       " 7966: 'C1CCC(CC1)O',\n",
       " 7991: 'CCCCC(=O)O',\n",
       " 8025: 'CCOC=O',\n",
       " 8030: 'C1=CSC=C1',\n",
       " 8048: 'CCCCCCCCCC(=O)OCC',\n",
       " 8051: 'CCCCCC(=O)C',\n",
       " 8063: 'CCCCC=O',\n",
       " 8091: 'CCCCCCCC(=O)OC',\n",
       " 8103: 'CCCCCCO',\n",
       " 8118: 'CCCSCCC',\n",
       " 8129: 'CCCCCCCO',\n",
       " 8130: 'CCCCCCC=O',\n",
       " 8148: 'CCCCNCCCC',\n",
       " 8186: 'CCCCCCCCCCC=O',\n",
       " 8635: 'COC(=O)C1=CC=CC=C1N',\n",
       " 8797: 'CC1=CC=C(C=C1)OC(=O)C',\n",
       " 8842: 'CC(CCC=C(C)C)CCO',\n",
       " 8857: 'CCOC(=O)C',\n",
       " 8858: 'CC(=CC(=O)C)C',\n",
       " 8892: 'CCCCCC(=O)O',\n",
       " 8918: 'CCCCCCCCCOC(=O)C',\n",
       " 9609: 'CCSCC',\n",
       " 10430: 'CC(C)CC(=O)O',\n",
       " 10448: 'CSCCCO',\n",
       " 10560: 'CCC(C)S',\n",
       " 10722: 'CC1=CC=CC=C1C=O',\n",
       " 10821: 'C#CC1=CC=CC=C1',\n",
       " 10882: 'CCCCC(=O)OCC',\n",
       " 10890: 'CCCCCOC(=O)CCC',\n",
       " 10976: 'CCCCCC(C)O',\n",
       " 11002: 'CCCCSCCCC',\n",
       " 11124: 'CCC(=O)OC',\n",
       " 11173: 'CC(=CCO)C',\n",
       " 11509: 'CCCC(=O)CC',\n",
       " 11552: 'CC(C)CC=O',\n",
       " 12020: 'CCC(C=C)O',\n",
       " 12178: 'CCCC(CC)O',\n",
       " 12180: 'CCCC(=O)OC',\n",
       " 12232: 'CSSC',\n",
       " 12348: 'CCCCCOC(=O)C',\n",
       " 12367: 'CCCCCCCC(C)O',\n",
       " 12741: 'CCCCCCCCC(=O)C',\n",
       " 14286: 'CC(=O)C1=CC=CC=N1',\n",
       " 15380: 'CSCSC',\n",
       " 16666: 'CC1CCC(C(C1)O)C(C)C',\n",
       " 17100: 'CC1=CCC(CC1)C(C)(C)O',\n",
       " 18827: 'CCCCCC(C=C)O',\n",
       " 19310: 'CSSSC',\n",
       " 20859: 'CCC(OC)OC',\n",
       " 22201: 'CC1=NC=CN=C1C',\n",
       " 22386: 'CCCC(C)O',\n",
       " 22873: 'CCCCCCOC(=O)CCCCC',\n",
       " 24915: 'CCCC(=O)OC(C)(C)CC1=CC=CC=C1',\n",
       " 26331: 'CCC1=NC=CN=C1',\n",
       " 31244: 'COC1=CC=C(C=C1)C=O',\n",
       " 31249: 'CCOC(=O)CCC(=O)OCC',\n",
       " 31252: 'CC1=CN=C(C=N1)C',\n",
       " 31265: 'CCCCCC(=O)OCC',\n",
       " 31266: 'CCCCCC(=O)OCC=C',\n",
       " 31272: 'CCCCOC(=O)C',\n",
       " 31276: 'CC(C)CCOC(=O)C',\n",
       " 31277: 'C(C(=O)O)SCC(=O)O',\n",
       " 61016: 'CC(CCC=C(C)C)C=O',\n",
       " 61138: 'C=CCCC(=O)O',\n",
       " 61199: 'CCC1C(=C(C(=O)O1)O)C',\n",
       " 62336: 'CC(C1=CC=CC=C1)C(OC)OC',\n",
       " 62433: 'CCCCCOC(=O)CCCC',\n",
       " 62444: 'CCCC(=O)SC',\n",
       " 62465: 'CCC1=CC(=C(C=C1)O)OC',\n",
       " 84682: 'CCC(C)O',\n",
       " 91497: 'CC1COCC2=CC3=C(C=C12)C(C(C3(C)C)C)(C)C',\n",
       " 93009: 'CC(=O)OC1CC2CCC1(C2(C)C)C',\n",
       " 440917: 'CC1=CCC(CC1)C(=C)C',\n",
       " 440967: 'CC1(C2CCC(=C)C1C2)C',\n",
       " 443158: 'CC(=CCCC(C)(C=C)O)C',\n",
       " 443162: 'CC1=CCC(CC1)C(C)(C)O',\n",
       " 637511: 'C1=CC=C(C=C1)C=CC=O',\n",
       " 637566: 'CC(=CCCC(=CCO)C)C',\n",
       " 637776: 'CC=CC1=CC(=C(C=C1)OC)OC',\n",
       " 638011: 'CC(=CCCC(=CC=O)C)C',\n",
       " 5281168: 'CCCC=CC=O',\n",
       " 5281515: 'CC1=CCCC(=C)C2CC(C2CC1)(C)C',\n",
       " 5283349: 'CCCCCC=CC=CC=O',\n",
       " 5284503: 'CCC=CCCO',\n",
       " 5318042: 'CCCC=CCO',\n",
       " 5373603: 'CCC=C1C2=CC=CC=C2C(=O)O1',\n",
       " 6259976: 'CCC=C1C2=CC=CC=C2C(=O)O1',\n",
       " 11002307: 'CC1(OC(C(O1)C2C(OC(O2)(C)C)C(C#C)O)C=CC(=O)OC)C'}"
      ]
     },
     "execution_count": 4,
     "metadata": {},
     "output_type": "execute_result"
    }
   ],
   "source": [
    "cid_to_smiles"
   ]
  }
 ],
 "metadata": {
  "kernelspec": {
   "display_name": "Python 3 (ipykernel)",
   "language": "python",
   "name": "python3"
  },
  "language_info": {
   "codemirror_mode": {
    "name": "ipython",
    "version": 3
   },
   "file_extension": ".py",
   "mimetype": "text/x-python",
   "name": "python",
   "nbconvert_exporter": "python",
   "pygments_lexer": "ipython3",
   "version": "3.11.5"
  }
 },
 "nbformat": 4,
 "nbformat_minor": 5
}
