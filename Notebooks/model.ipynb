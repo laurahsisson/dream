{
 "cells": [
  {
   "cell_type": "code",
   "execution_count": 1,
   "id": "3077ca49-b9e7-4fb0-a3a1-bd7c25ce26a5",
   "metadata": {
    "tags": []
   },
   "outputs": [],
   "source": [
    "import tokenizer\n",
    "import torch\n",
    "\n",
    "graph_tokenizer = tokenizer.GraphTokenizer(torch.load(\"dictionary.pt\"))"
   ]
  },
  {
   "cell_type": "code",
   "execution_count": null,
   "id": "bff1f7ac-fb81-4b89-b9c6-0116a046f756",
   "metadata": {},
   "outputs": [],
   "source": []
  },
  {
   "cell_type": "code",
   "execution_count": 2,
   "id": "5230b142-7b8d-43d8-bbcf-09e224afab87",
   "metadata": {
    "tags": []
   },
   "outputs": [
    {
     "name": "stderr",
     "output_type": "stream",
     "text": [
      "100%|██████████████████████████████████████| 500/500 [00:00<00:00, 957.19it/s]\n"
     ]
    },
    {
     "data": {
      "text/plain": [
       "{'graph1': BlendData(x=[254, 9], edge_index=[2, 476], edge_attr=[476, 3], blend_batch=[28], mol_batch=[254]),\n",
       " 'graph2': BlendData(x=[239, 9], edge_index=[2, 452], edge_attr=[452, 3], blend_batch=[28], mol_batch=[239]),\n",
       " 'y': tensor(0.5769)}"
      ]
     },
     "execution_count": 2,
     "metadata": {},
     "output_type": "execute_result"
    }
   ],
   "source": [
    "import h5py\n",
    "import tqdm\n",
    "import numpy as np\n",
    "import torch\n",
    "import data\n",
    "import torch_geometric as tg\n",
    "\n",
    "all_data = []\n",
    "with h5py.File('Data/train.h5', 'r') as f:\n",
    "    for label in tqdm.tqdm(f.keys()):\n",
    "        group = f[label]\n",
    "        graph1 = data.read_graph(group['graph1'])\n",
    "        graph2 = data.read_graph(group['graph2'])\n",
    "        # Index using () for scalar dataset\n",
    "        y = group[\"y\"][()]\n",
    "        all_data.append({\"graph1\":graph1,\"graph2\":graph2,\"y\":torch.tensor(y)})\n",
    "\n",
    "all_data[0]"
   ]
  },
  {
   "cell_type": "code",
   "execution_count": 3,
   "id": "2e3cba35-3131-4003-badd-948fac53d66e",
   "metadata": {
    "tags": []
   },
   "outputs": [
    {
     "data": {
      "text/plain": [
       "BlendData(x=[254], edge_index=[2, 476], edge_attr=[476], blend_batch=[28], mol_batch=[254])"
      ]
     },
     "execution_count": 3,
     "metadata": {},
     "output_type": "execute_result"
    }
   ],
   "source": [
    "graph_tokenizer.tokenize(all_data[0][\"graph1\"])"
   ]
  },
  {
   "cell_type": "code",
   "execution_count": 4,
   "id": "53e69607-d2d3-4061-9e13-bd2bc6401ca7",
   "metadata": {
    "tags": []
   },
   "outputs": [
    {
     "name": "stdout",
     "output_type": "stream",
     "text": [
      "torch.Size([2, 9])\n",
      "torch.Size([1, 9])\n"
     ]
    }
   ],
   "source": [
    "import aggregate\n",
    "\n",
    "agg = aggregate.BlendAggregator(True,9,1,1,0)\n",
    "from torch_geometric.loader import DataLoader\n",
    "batch = next(iter(DataLoader([all_data[0][\"graph1\"],all_data[0][\"graph2\"]],batch_size=2)))\n",
    "print(agg(batch.x,batch).shape)\n",
    "print(agg(all_data[0][\"graph1\"].x,all_data[0][\"graph1\"]).shape)"
   ]
  },
  {
   "cell_type": "code",
   "execution_count": 5,
   "id": "a7a0f70a-86f6-48ee-bbf6-b91316daf606",
   "metadata": {
    "tags": []
   },
   "outputs": [
    {
     "name": "stdout",
     "output_type": "stream",
     "text": [
      "torch.Size([2, 9])\n",
      "torch.Size([1, 9])\n"
     ]
    }
   ],
   "source": [
    "import aggregate\n",
    "\n",
    "agg = aggregate.BlendAggregator(False,9,1,1,0)\n",
    "from torch_geometric.loader import DataLoader\n",
    "batch = next(iter(DataLoader([all_data[0][\"graph1\"],all_data[0][\"graph2\"]],batch_size=2)))\n",
    "print(agg(batch.x,batch).shape)\n",
    "print(agg(all_data[0][\"graph1\"].x,all_data[0][\"graph1\"]).shape)"
   ]
  },
  {
   "cell_type": "code",
   "execution_count": 6,
   "id": "7e7f2dcb-0f2a-4b1a-a6a0-2e1cd0eca8e2",
   "metadata": {
    "tags": []
   },
   "outputs": [
    {
     "data": {
      "text/plain": [
       "(tensor([[-1.1086e-01,  5.9793e-01, -2.2948e-01,  ..., -0.0000e+00,\n",
       "          -9.4011e-02,  8.7698e-02],\n",
       "         [-4.5254e-01,  4.4808e-01,  4.9272e-04,  ..., -0.0000e+00,\n",
       "          -4.1328e-02,  9.4875e-01],\n",
       "         [-2.9034e-01,  4.4947e-01,  7.5658e-02,  ..., -3.9582e-01,\n",
       "           1.7581e-02,  0.0000e+00],\n",
       "         ...,\n",
       "         [-3.3554e-01,  5.5025e-01, -4.5601e-02,  ..., -5.9421e-01,\n",
       "           1.7330e-01,  9.7878e-01],\n",
       "         [-4.4461e-01,  5.9406e-01, -4.6533e-02,  ..., -5.5005e-01,\n",
       "           0.0000e+00,  9.8289e-01],\n",
       "         [-3.6731e-01,  5.6484e-01, -6.6888e-04,  ..., -5.0887e-01,\n",
       "           4.2269e-02,  1.1149e+00]], grad_fn=<MulBackward0>),\n",
       " tensor([[0., 0., 0.],\n",
       "         [0., 0., 0.],\n",
       "         [0., 0., 0.],\n",
       "         ...,\n",
       "         [0., 0., 0.],\n",
       "         [0., 0., 0.],\n",
       "         [0., 0., 0.]]))"
      ]
     },
     "execution_count": 6,
     "metadata": {},
     "output_type": "execute_result"
    }
   ],
   "source": [
    "import mpnn\n",
    "\n",
    "config = mpnn.Config(node_out_feats=16,\n",
    "                 edge_hidden_feats=16, num_step_message_passing=3)\n",
    "model = mpnn.from_config(config,node_in_feats=9, edge_in_feats=3,dropout=.1, do_edge_update=False, act_mode=\"relu\", aggr_mode=\"mean\")\n",
    "exmpl = all_data[0][\"graph1\"]\n",
    "model(exmpl,exmpl.x,exmpl.edge_attr)"
   ]
  },
  {
   "cell_type": "code",
   "execution_count": 7,
   "id": "fe261d8c-514c-42e0-a9ca-806264b5b282",
   "metadata": {
    "tags": []
   },
   "outputs": [
    {
     "data": {
      "text/plain": [
       "(tensor([[ 0.0651,  0.6191,  0.0000,  ..., -0.6613,  0.4398,  0.1102],\n",
       "         [ 0.3710,  0.1486,  0.4202,  ..., -0.7344,  0.5642, -0.0541],\n",
       "         [ 0.4385, -0.4399,  1.1991,  ..., -0.7480,  0.5107, -0.2213],\n",
       "         ...,\n",
       "         [ 0.2609,  0.4220,  0.0000,  ..., -0.5616,  0.4564,  0.1654],\n",
       "         [ 0.2520,  0.6360,  1.4052,  ..., -0.7652,  0.5367,  0.0000],\n",
       "         [ 0.3235,  0.8571,  1.3611,  ..., -0.7862,  0.5557,  0.0000]],\n",
       "        grad_fn=<MulBackward0>),\n",
       " tensor([[-0.0917, -0.1025,  0.0140,  ..., -0.0713,  0.0266,  0.0646],\n",
       "         [-0.1151, -0.0911, -0.0175,  ..., -0.0892, -0.0077,  0.0854],\n",
       "         [-0.1225, -0.1051, -0.0367,  ..., -0.0712, -0.0018,  0.0951],\n",
       "         ...,\n",
       "         [-0.0941, -0.1129,  0.0032,  ..., -0.0701,  0.0014,  0.0922],\n",
       "         [-0.0922, -0.1213,  0.0118,  ..., -0.0000,  0.0109,  0.0993],\n",
       "         [-0.0000, -0.1283,  0.0011,  ..., -0.0947,  0.0329,  0.0954]],\n",
       "        grad_fn=<MulBackward0>))"
      ]
     },
     "execution_count": 7,
     "metadata": {},
     "output_type": "execute_result"
    }
   ],
   "source": [
    "import mpnn\n",
    "\n",
    "config = mpnn.Config(node_out_feats=16,\n",
    "                 edge_hidden_feats=16, num_step_message_passing=3)\n",
    "model = mpnn.from_config(config,node_in_feats=9, edge_in_feats=3,dropout=.1, do_edge_update=True, act_mode=\"silu\", aggr_mode=\"mean\")\n",
    "exmpl = all_data[0][\"graph1\"]\n",
    "model(exmpl,exmpl.x,exmpl.edge_attr)"
   ]
  },
  {
   "cell_type": "code",
   "execution_count": 8,
   "id": "c24bc1dd-5210-45c8-8bb1-a8615e7fe1a9",
   "metadata": {
    "tags": []
   },
   "outputs": [
    {
     "data": {
      "text/plain": [
       "{'total': '7,536',\n",
       " 'project_node_feats': '160',\n",
       " 'project_edge_feats': '64',\n",
       " 'edge_update_network': '1,056',\n",
       " 'gnn_layer': '4,624',\n",
       " 'gru': '1,632',\n",
       " 'final_dropout': '0',\n",
       " 'act_fn': '0'}"
      ]
     },
     "execution_count": 8,
     "metadata": {},
     "output_type": "execute_result"
    }
   ],
   "source": [
    "import utils\n",
    "\n",
    "utils.readout_counts(model)"
   ]
  },
  {
   "cell_type": "code",
   "execution_count": 9,
   "id": "bb40fa2f-d978-48ba-bd80-aa02a7061ad9",
   "metadata": {
    "tags": []
   },
   "outputs": [
    {
     "data": {
      "text/plain": [
       "tensor([[ 18.2376,  12.8071,  -5.5295,  16.5835,  18.4512,   4.5106,  18.9346,\n",
       "           5.3940,   5.7368,  -4.6714,  -8.5467,  29.2297,   0.4495,  18.6136,\n",
       "           7.4170,   3.7315,  31.7972,   3.0480,  11.4155,   4.5478,   7.8203,\n",
       "           4.8087,  19.6080,  -9.3006,   5.8667,  -8.6544,   4.4850,   9.0722,\n",
       "          22.7579,   1.4889,  -0.8683,  26.1983,  28.2484,   6.8676,   1.8244,\n",
       "          13.4864,  17.5423,  16.9630,   0.1558,   9.0989,  32.4871,  30.0749,\n",
       "           3.7551,   3.4496,  14.7507,  35.4850,  45.2909,  18.2363,  -4.7399,\n",
       "          20.7594,  -0.4542,   2.3403,  29.2756,  17.5551,   9.3151,   8.3835,\n",
       "          21.2074,   5.4204,   3.1834,   1.5830,  10.1714,  20.9592,   5.7934,\n",
       "           2.1979,   3.4059,   1.6745,  10.9144,  22.0496,  43.2983,   9.6749,\n",
       "           2.0627,  27.1440,  -4.7370,  26.5000,  13.2379,  10.7729,   0.1793,\n",
       "          -2.9773,  -7.3232,  21.0099,  29.1560,  32.1109,   4.8592,   7.1054,\n",
       "          14.8848,   6.1785,  16.9974,  19.2201,  10.8294,  17.2842,   7.9106,\n",
       "          11.7616,  17.8869,   6.8765,  28.9878,  21.0815,  -5.8641,   8.8629,\n",
       "           5.9444,   1.1533, -13.1708,   7.1510,   2.6812,   3.1035,  23.0911,\n",
       "          25.2203,   6.0423,  19.9142,  -7.7595,  24.3715,  12.1261,  -0.6264,\n",
       "           6.9007,  12.6585,  -4.0185,   5.6907,   1.0187,  -1.0938,  12.8911,\n",
       "          27.4075,  20.1120,   5.3565,   0.0477,  33.2426,  20.8664,   5.7529,\n",
       "           5.4620,  16.5264]], grad_fn=<ViewBackward0>)"
      ]
     },
     "execution_count": 9,
     "metadata": {},
     "output_type": "execute_result"
    }
   ],
   "source": [
    "import encoder\n",
    "import torch\n",
    "\n",
    "mpnn_configs = [mpnn.Config(node_out_feats=16,\n",
    "                 edge_hidden_feats=8, num_step_message_passing=5), mpnn.Config(node_out_feats=64,\n",
    "                 edge_hidden_feats=32, num_step_message_passing=3), mpnn.Config(node_out_feats=128,\n",
    "                 edge_hidden_feats=64, num_step_message_passing=1)]\n",
    "config = {\"mpnn_configs\":mpnn_configs, \"do_two_stage\":True, \"do_edge_update\":True, \"embedding_dim_x\":32, \"embedding_dim_edge_attr\": 64, \"do_edge_update\":True, \"num_sabs\":8,\"dropout\":0.1, \"heads\":8, \"warmup\":.05, \"lr\": 1e-3, \"weight_decay\":.01, \"betas\":(.99,.999), \"act_mode\":\"silu\", \"aggr_mode\":\"mean\"}\n",
    "ex_model = encoder.Encoder(graph_tokenizer=None,**config)\n",
    "ex_model(exmpl)"
   ]
  },
  {
   "cell_type": "code",
   "execution_count": 10,
   "id": "052d0d07-cfe8-4fbf-bcfb-bc9802aa1dac",
   "metadata": {
    "tags": []
   },
   "outputs": [
    {
     "data": {
      "text/plain": [
       "tensor([[ 1.3085, -0.6367,  3.6747,  2.3550,  0.2019,  0.1382,  1.9521,  2.8015,\n",
       "          3.1114,  2.4208,  1.3376,  0.5894,  2.9270, -0.7420,  2.3614,  0.5792,\n",
       "          0.2500,  1.0394,  0.5326,  0.2194,  2.6679, -0.6281,  1.6159, -0.4010,\n",
       "          2.0637,  2.2164,  3.0328,  0.8726,  0.1433,  2.5497,  0.8665,  3.3314,\n",
       "          2.1336,  1.2047,  0.8032, -0.9606,  2.7784, -0.0494, -0.2224,  0.1641,\n",
       "          0.7583,  1.1312,  2.1103,  2.1527,  2.4876,  1.7718,  1.5835,  1.3554,\n",
       "          1.6235,  1.0931,  1.5464, -0.2125,  1.2835,  4.1847,  1.9146,  1.0801,\n",
       "          1.0353,  4.0354,  1.0553,  1.0515,  4.6782,  1.6404,  1.4699,  0.9885]],\n",
       "       grad_fn=<ViewBackward0>)"
      ]
     },
     "execution_count": 10,
     "metadata": {},
     "output_type": "execute_result"
    }
   ],
   "source": [
    "mpnn_configs = [mpnn.Config(node_out_feats=64,\n",
    "                 edge_hidden_feats=32, num_step_message_passing=3)]\n",
    "config = {\"mpnn_configs\":mpnn_configs,  \"do_two_stage\":False, \"embedding_dim_x\":32, \"embedding_dim_edge_attr\": 64, \"do_edge_update\":False, \"num_sabs\":8,\"dropout\":0.1, \"heads\":8, \"warmup\":.05, \"lr\": 1e-3, \"weight_decay\":.01, \"betas\":(.99,.999), \"act_mode\":\"gelu\",\"aggr_mode\":\"max\"}\n",
    "ex_model = encoder.Encoder(graph_tokenizer=graph_tokenizer,**config)\n",
    "exmpl_tokenized_graph = graph_tokenizer.tokenize(all_data[0][\"graph1\"])\n",
    "ex_model(exmpl_tokenized_graph)"
   ]
  },
  {
   "cell_type": "code",
   "execution_count": 11,
   "id": "aa70f470-6ee0-4b90-8375-46747f574fec",
   "metadata": {
    "tags": []
   },
   "outputs": [],
   "source": [
    "class CrossEncoder(torch.nn.Module):\n",
    "    def __init__(self,encoder, do_cosine_similarity, **kwargs):\n",
    "        super(CrossEncoder, self).__init__()\n",
    "        self.encoder = encoder\n",
    "        self.do_cosine_similarity = do_cosine_similarity\n",
    "        if not self.do_cosine_similarity:\n",
    "          self.readout = torch.nn.Linear(self.encoder.readout.in_channels*2,1)\n",
    "\n",
    "    def forward(self,graph1, graph2):\n",
    "      embed1 = self.encoder(graph1)\n",
    "      embed2 = self.encoder(graph2)\n",
    "\n",
    "      if self.do_cosine_similarity:\n",
    "        return torch.nn.functional.cosine_similarity(embed1,embed2)\n",
    "\n",
    "      return torch.nn.functional.sigmoid(self.readout(torch.cat([embed1,embed2],dim=-1))).squeeze(dim=-1)\n",
    "\n",
    "m = CrossEncoder(ex_model,False)"
   ]
  }
 ],
 "metadata": {
  "kernelspec": {
   "display_name": "Python 3 (ipykernel)",
   "language": "python",
   "name": "python3"
  },
  "language_info": {
   "codemirror_mode": {
    "name": "ipython",
    "version": 3
   },
   "file_extension": ".py",
   "mimetype": "text/x-python",
   "name": "python",
   "nbconvert_exporter": "python",
   "pygments_lexer": "ipython3",
   "version": "3.11.5"
  }
 },
 "nbformat": 4,
 "nbformat_minor": 5
}
