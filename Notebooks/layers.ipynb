{
 "cells": [
  {
   "cell_type": "code",
   "execution_count": 11,
   "id": "dc09b08e-5361-41e9-8c92-c659b1b59c3b",
   "metadata": {
    "tags": []
   },
   "outputs": [
    {
     "data": {
      "text/plain": [
       "Sequential(\n",
       "  (0): Linear(in_features=130, out_features=1, bias=True)\n",
       ")"
      ]
     },
     "execution_count": 11,
     "metadata": {},
     "output_type": "execute_result"
    }
   ],
   "source": [
    "import torch\n",
    "import activation\n",
    "\n",
    "def build_model(in_dim, hidden_dim, out_dim, act_fn, num_hidden_layers):\n",
    "    layers = []\n",
    "    \n",
    "    # If there are no hidden layers, just add the output layer\n",
    "    if num_hidden_layers == 0:\n",
    "        layers.append(torch.nn.Linear(in_dim, out_dim))\n",
    "    else:\n",
    "        # Input layer\n",
    "        layers.append(torch.nn.Linear(in_dim, hidden_dim))\n",
    "        layers.append(act_fn())\n",
    "        \n",
    "        # Hidden layers\n",
    "        for _ in range(num_hidden_layers - 1):\n",
    "            layers.append(torch.nn.Linear(hidden_dim, hidden_dim))\n",
    "            layers.append(act_fn())\n",
    "        \n",
    "        # Output layer\n",
    "        layers.append(torch.nn.Linear(hidden_dim, out_dim))\n",
    "    \n",
    "    return torch.nn.Sequential(*layers)\n",
    "\n",
    "act_fn = activation.get_act_fn(\"relu\")\n",
    "build_model(130,128,1,act_fn,0)"
   ]
  },
  {
   "cell_type": "code",
   "execution_count": 12,
   "id": "f88cf2aa-e044-4a9f-baef-3d379d9d52ef",
   "metadata": {
    "tags": []
   },
   "outputs": [
    {
     "data": {
      "text/plain": [
       "Sequential(\n",
       "  (0): Linear(in_features=130, out_features=128, bias=True)\n",
       "  (1): ReLU()\n",
       "  (2): Linear(in_features=128, out_features=128, bias=True)\n",
       "  (3): ReLU()\n",
       "  (4): Linear(in_features=128, out_features=1, bias=True)\n",
       ")"
      ]
     },
     "execution_count": 12,
     "metadata": {},
     "output_type": "execute_result"
    }
   ],
   "source": [
    "build_model(130,128,1,act_fn,2)"
   ]
  },
  {
   "cell_type": "code",
   "execution_count": 13,
   "id": "16e20c88-104f-42d6-86d0-ccb5b27569ed",
   "metadata": {
    "tags": []
   },
   "outputs": [
    {
     "data": {
      "text/plain": [
       "Sequential(\n",
       "  (0): Linear(in_features=130, out_features=128, bias=True)\n",
       "  (1): ReLU()\n",
       "  (2): Linear(in_features=128, out_features=128, bias=True)\n",
       "  (3): ReLU()\n",
       "  (4): Linear(in_features=128, out_features=128, bias=True)\n",
       "  (5): ReLU()\n",
       "  (6): Linear(in_features=128, out_features=1, bias=True)\n",
       ")"
      ]
     },
     "execution_count": 13,
     "metadata": {},
     "output_type": "execute_result"
    }
   ],
   "source": [
    "build_model(130,128,1,act_fn,3)"
   ]
  }
 ],
 "metadata": {
  "kernelspec": {
   "display_name": "Python 3 (ipykernel)",
   "language": "python",
   "name": "python3"
  },
  "language_info": {
   "codemirror_mode": {
    "name": "ipython",
    "version": 3
   },
   "file_extension": ".py",
   "mimetype": "text/x-python",
   "name": "python",
   "nbconvert_exporter": "python",
   "pygments_lexer": "ipython3",
   "version": "3.11.5"
  }
 },
 "nbformat": 4,
 "nbformat_minor": 5
}
