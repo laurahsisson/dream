{
 "cells": [
  {
   "cell_type": "code",
   "execution_count": 1,
   "id": "083d1179-00e4-480a-8940-5fe177acb85f",
   "metadata": {
    "tags": []
   },
   "outputs": [
    {
     "data": {
      "text/plain": [
       "'/Users/laurasisson/dream'"
      ]
     },
     "execution_count": 1,
     "metadata": {},
     "output_type": "execute_result"
    }
   ],
   "source": [
    "import sys\n",
    "import os\n",
    "\n",
    "os.chdir(\"..\")\n",
    "os.getcwd()"
   ]
  },
  {
   "cell_type": "code",
   "execution_count": 2,
   "id": "036c4b96-1009-44dd-8e74-5cbfe1ac3ecd",
   "metadata": {
    "tags": []
   },
   "outputs": [
    {
     "data": {
      "text/plain": [
       "dict_keys(['train', 'test', 'covered_notes'])"
      ]
     },
     "execution_count": 2,
     "metadata": {},
     "output_type": "execute_result"
    }
   ],
   "source": [
    "import json\n",
    "\n",
    "with open(\"Data/annealed_70_30.json\") as f:\n",
    "    annealed = json.load(f)\n",
    "\n",
    "annealed.keys()"
   ]
  },
  {
   "cell_type": "code",
   "execution_count": 3,
   "id": "b173d79a-b690-4cbc-9b40-fd2a7ef14554",
   "metadata": {
    "tags": []
   },
   "outputs": [
    {
     "data": {
      "text/plain": [
       "{'mol1': 'CCC\\\\C=C/CCC(=O)OCC',\n",
       " 'mol2': 'CCC(=O)OCCC(C)C',\n",
       " 'blend_notes': ['fruity']}"
      ]
     },
     "execution_count": 3,
     "metadata": {},
     "output_type": "execute_result"
    }
   ],
   "source": [
    "import pairdata\n",
    "\n",
    "pairdata.convert(annealed[\"train\"][0])"
   ]
  },
  {
   "cell_type": "code",
   "execution_count": 4,
   "id": "a3930a05-ed2c-43fe-9d67-c8070d8af930",
   "metadata": {
    "tags": []
   },
   "outputs": [
    {
     "data": {
      "text/plain": [
       "216961"
      ]
     },
     "execution_count": 4,
     "metadata": {},
     "output_type": "execute_result"
    }
   ],
   "source": [
    "converted = [pairdata.convert(d) for d in annealed[\"train\"]]\n",
    "len(converted)"
   ]
  },
  {
   "cell_type": "code",
   "execution_count": 5,
   "id": "9df73942-d842-4124-8aad-cd6f6346d741",
   "metadata": {
    "tags": []
   },
   "outputs": [
    {
     "data": {
      "text/plain": [
       "{'mol1': 'CCC\\\\C=C/CCC(=O)OCC',\n",
       " 'mol2': 'CCC(=O)OCCC(C)C',\n",
       " 'blend_notes': ['fruity']}"
      ]
     },
     "execution_count": 5,
     "metadata": {},
     "output_type": "execute_result"
    }
   ],
   "source": [
    "converted[0]"
   ]
  },
  {
   "cell_type": "code",
   "execution_count": 6,
   "id": "b3ce216c-4f97-4a51-9ebf-676167c95dc1",
   "metadata": {
    "tags": []
   },
   "outputs": [],
   "source": [
    "all_smiles = set()\n",
    "for d in converted:\n",
    "    all_smiles.add(d[\"mol1\"])\n",
    "    all_smiles.add(d[\"mol2\"])"
   ]
  },
  {
   "cell_type": "code",
   "execution_count": 7,
   "id": "b5ab610e-d671-48c4-b1a7-6095d924b07a",
   "metadata": {
    "tags": []
   },
   "outputs": [
    {
     "name": "stderr",
     "output_type": "stream",
     "text": [
      "[17:35:20] SMILES Parse Error: syntax error while parsing: InChI=1/C7H8S/c1-6-4-2-3-5-7(6)8/h2-5,8H,1H3\n",
      "[17:35:20] SMILES Parse Error: Failed parsing SMILES 'InChI=1/C7H8S/c1-6-4-2-3-5-7(6)8/h2-5,8H,1H3' for input: 'InChI=1/C7H8S/c1-6-4-2-3-5-7(6)8/h2-5,8H,1H3'\n",
      "[17:35:20] SMILES Parse Error: syntax error while parsing: (C)C1=CN=CC(=N1)OC.CC(C)C1=CN=C(C=N1)OC.CC(C)C1=NC=CN=C1OC\n",
      "[17:35:20] SMILES Parse Error: Failed parsing SMILES '(C)C1=CN=CC(=N1)OC.CC(C)C1=CN=C(C=N1)OC.CC(C)C1=NC=CN=C1OC' for input: '(C)C1=CN=CC(=N1)OC.CC(C)C1=CN=C(C=N1)OC.CC(C)C1=NC=CN=C1OC'\n"
     ]
    },
    {
     "name": "stdout",
     "output_type": "stream",
     "text": [
      "'NoneType' object has no attribute 'GetAtoms'\n",
      "'NoneType' object has no attribute 'GetAtoms'\n"
     ]
    },
    {
     "data": {
      "text/plain": [
       "2"
      ]
     },
     "execution_count": 7,
     "metadata": {},
     "output_type": "execute_result"
    }
   ],
   "source": [
    "from ogb.utils import smiles2graph\n",
    "\n",
    "errored = 0\n",
    "graph_data = dict()\n",
    "for smiles in all_smiles:\n",
    "    try:\n",
    "        graph_data[smiles] = pairdata.to_torch(smiles2graph(smiles))\n",
    "    except AttributeError as e:\n",
    "        print(e)\n",
    "        errored += 1\n",
    "\n",
    "errored"
   ]
  },
  {
   "cell_type": "code",
   "execution_count": 14,
   "id": "73a01571-26be-486b-be99-79b68873c7a7",
   "metadata": {
    "tags": []
   },
   "outputs": [],
   "source": [
    "import torch_geometric as tg\n",
    "import data\n",
    "\n",
    "\n",
    "def combine_graphs_old(graphs):\n",
    "    combined_batch = next(iter(tg.loader.DataLoader(graphs, batch_size=len(graphs))))\n",
    "    # Index of the molecule, for each atom\n",
    "    mol_batch = combined_batch.batch\n",
    "    # Index of the blend, for each molecule (increment during batch)\n",
    "    blend_batch = torch.zeros(len(graphs), dtype=torch.long)\n",
    "    return data.BlendData(\n",
    "        x=combined_batch.x,\n",
    "        edge_attr=combined_batch.edge_attr,\n",
    "        edge_index=combined_batch.edge_index,\n",
    "        mol_batch=mol_batch,\n",
    "        blend_batch=blend_batch,\n",
    "    )"
   ]
  },
  {
   "cell_type": "code",
   "execution_count": 15,
   "id": "30675b4d-7c00-4c14-a682-2262684cd482",
   "metadata": {
    "tags": []
   },
   "outputs": [
    {
     "name": "stderr",
     "output_type": "stream",
     "text": [
      "100%|█████████████████████████████████| 216961/216961 [00:54<00:00, 4005.01it/s]\n"
     ]
    }
   ],
   "source": [
    "import torch\n",
    "import tqdm\n",
    "\n",
    "for d in tqdm.tqdm(converted):\n",
    "    if not d[\"mol1\"] in graph_data or not d[\"mol2\"] in graph_data:\n",
    "        continue\n",
    "\n",
    "    g1 = graph_data[d[\"mol1\"]]\n",
    "    g2 = graph_data[d[\"mol2\"]]\n",
    "\n",
    "    graphs = combine_graphs_old([g1, g2])\n",
    "    graphs_fast = data.combine_graphs([g1, g2])\n",
    "    for k in graphs.keys():\n",
    "        assert torch.equal(graphs[k], graphs_fast[k])"
   ]
  },
  {
   "cell_type": "code",
   "execution_count": null,
   "id": "06fce4a0-e45a-4555-a50c-5a6f5c9b7c15",
   "metadata": {
    "tags": []
   },
   "outputs": [],
   "source": [
    "import time\n",
    "\n",
    "start = time.perf_counter()\n",
    "\n",
    "for d in tqdm.tqdm(converted):\n",
    "    if not d[\"mol1\"] in graph_data or not d[\"mol2\"] in graph_data:\n",
    "        continue\n",
    "\n",
    "    g1 = graph_data[d[\"mol1\"]]\n",
    "    g2 = graph_data[d[\"mol2\"]]\n",
    "\n",
    "    graphs = combine_graphs_old([g1, g2])\n",
    "\n",
    "print(f\"Old method elapsed = {time.perf_counter() - start:.2f}s\")"
   ]
  },
  {
   "cell_type": "code",
   "execution_count": null,
   "id": "4cb94f72-fc39-4a95-9379-2a744cd1631f",
   "metadata": {
    "tags": []
   },
   "outputs": [],
   "source": [
    "import time\n",
    "\n",
    "start = time.perf_counter()\n",
    "\n",
    "for d in tqdm.tqdm(converted):\n",
    "    if not d[\"mol1\"] in graph_data or not d[\"mol2\"] in graph_data:\n",
    "        continue\n",
    "\n",
    "    g1 = graph_data[d[\"mol1\"]]\n",
    "    g2 = graph_data[d[\"mol2\"]]\n",
    "\n",
    "    graphs = data.combine_graphs([g1, g2])\n",
    "\n",
    "print(f\"New method elapsed = {time.perf_counter() - start:.2f}s\")"
   ]
  }
 ],
 "metadata": {
  "kernelspec": {
   "display_name": "Python 3 (ipykernel)",
   "language": "python",
   "name": "python3"
  },
  "language_info": {
   "codemirror_mode": {
    "name": "ipython",
    "version": 3
   },
   "file_extension": ".py",
   "mimetype": "text/x-python",
   "name": "python",
   "nbconvert_exporter": "python",
   "pygments_lexer": "ipython3",
   "version": "3.11.5"
  }
 },
 "nbformat": 4,
 "nbformat_minor": 5
}
