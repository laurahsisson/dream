{
 "cells": [
  {
   "cell_type": "code",
   "execution_count": 1,
   "id": "3c9191ce-8800-4711-a185-2524eeb0e19d",
   "metadata": {
    "tags": []
   },
   "outputs": [
    {
     "data": {
      "text/plain": [
       "'/Users/laurasisson/dream'"
      ]
     },
     "execution_count": 1,
     "metadata": {},
     "output_type": "execute_result"
    }
   ],
   "source": [
    "import sys\n",
    "import os\n",
    "os.chdir(\"..\")\n",
    "os.getcwd()"
   ]
  },
  {
   "cell_type": "code",
   "execution_count": 2,
   "id": "d04de07b-144d-4a30-b730-d568632d51c9",
   "metadata": {
    "tags": []
   },
   "outputs": [
    {
     "data": {
      "text/plain": [
       "dict_keys(['train', 'test', 'covered_notes'])"
      ]
     },
     "execution_count": 2,
     "metadata": {},
     "output_type": "execute_result"
    }
   ],
   "source": [
    "import json\n",
    "with open(\"Data/annealed_70_30.json\") as f:\n",
    "    annealed = json.load(f)\n",
    "\n",
    "annealed.keys()"
   ]
  },
  {
   "cell_type": "code",
   "execution_count": 3,
   "id": "0d5fdffd-c5e2-4867-b3d3-d5faa019b6c2",
   "metadata": {
    "tags": []
   },
   "outputs": [
    {
     "data": {
      "text/plain": [
       "{'mol1': 'CCC\\\\C=C/CCC(=O)OCC',\n",
       " 'mol2': 'CCC(=O)OCCC(C)C',\n",
       " 'blend_notes': ['fruity']}"
      ]
     },
     "execution_count": 3,
     "metadata": {},
     "output_type": "execute_result"
    }
   ],
   "source": [
    "def convert(datapoint):\n",
    "    return {\"mol1\":datapoint[\"edge\"][0],\"mol2\":datapoint[\"edge\"][1],\"blend_notes\":datapoint[\"blend_notes\"]}\n",
    "\n",
    "convert(annealed[\"train\"][0])"
   ]
  },
  {
   "cell_type": "code",
   "execution_count": 4,
   "id": "dbe0265b-8e29-4b7d-bb7f-7192f4faf9f8",
   "metadata": {
    "tags": []
   },
   "outputs": [
    {
     "data": {
      "text/plain": [
       "(216961, 11619)"
      ]
     },
     "execution_count": 4,
     "metadata": {},
     "output_type": "execute_result"
    }
   ],
   "source": [
    "len({tuple(d[\"edge\"]) for d in annealed[\"train\"]}), len({tuple(d[\"edge\"]) for d in annealed[\"test\"]})"
   ]
  },
  {
   "cell_type": "code",
   "execution_count": 10,
   "id": "ea635fd0-9598-46b9-8d53-6809b367ff27",
   "metadata": {
    "tags": []
   },
   "outputs": [
    {
     "name": "stderr",
     "output_type": "stream",
     "text": [
      "[12:23:02] SMILES Parse Error: syntax error while parsing: InChI=1/C7H8S/c1-6-4-2-3-5-7(6)8/h2-5,8H,1H3\n",
      "[12:23:02] SMILES Parse Error: Failed parsing SMILES 'InChI=1/C7H8S/c1-6-4-2-3-5-7(6)8/h2-5,8H,1H3' for input: 'InChI=1/C7H8S/c1-6-4-2-3-5-7(6)8/h2-5,8H,1H3'\n"
     ]
    },
    {
     "name": "stdout",
     "output_type": "stream",
     "text": [
      "'NoneType' object has no attribute 'GetAtoms'\n"
     ]
    },
    {
     "name": "stderr",
     "output_type": "stream",
     "text": [
      "[12:23:03] SMILES Parse Error: syntax error while parsing: (C)C1=CN=CC(=N1)OC.CC(C)C1=CN=C(C=N1)OC.CC(C)C1=NC=CN=C1OC\n",
      "[12:23:03] SMILES Parse Error: Failed parsing SMILES '(C)C1=CN=CC(=N1)OC.CC(C)C1=CN=C(C=N1)OC.CC(C)C1=NC=CN=C1OC' for input: '(C)C1=CN=CC(=N1)OC.CC(C)C1=CN=C(C=N1)OC.CC(C)C1=NC=CN=C1OC'\n"
     ]
    },
    {
     "name": "stdout",
     "output_type": "stream",
     "text": [
      "'NoneType' object has no attribute 'GetAtoms'\n"
     ]
    },
    {
     "name": "stderr",
     "output_type": "stream",
     "text": [
      "100%|█████████████████████████████████| 216961/216961 [00:55<00:00, 3911.58it/s]\n",
      "[12:24:02] Can't kekulize mol.  Unkekulized atoms: 3 4 5 6 8\n"
     ]
    },
    {
     "name": "stdout",
     "output_type": "stream",
     "text": [
      "'NoneType' object has no attribute 'GetAtoms'\n"
     ]
    },
    {
     "name": "stderr",
     "output_type": "stream",
     "text": [
      "100%|███████████████████████████████████| 11619/11619 [00:02<00:00, 4459.97it/s]\n"
     ]
    },
    {
     "name": "stdout",
     "output_type": "stream",
     "text": [
      "Train Dataset: 216,893, Annealed Train: 216,961, Test Dataset: 11,572, Annealed Test: 11,619\n"
     ]
    }
   ],
   "source": [
    "import pairdata\n",
    "# Building the dataset from raw GS data is faster than loading the premade dataset from Drive.\n",
    "train_dataset = pairdata.make([convert(d) for d in annealed[\"train\"]],annealed[\"covered_notes\"])\n",
    "test_dataset = pairdata.make([convert(d) for d in annealed[\"test\"]],annealed[\"covered_notes\"])\n",
    "print(f\"Train Dataset: {len(train_dataset):,}, Annealed Train: {len(annealed['train']):,}, Test Dataset: {len(test_dataset):,}, Annealed Test: {len(annealed['test']):,}\")"
   ]
  },
  {
   "cell_type": "code",
   "execution_count": 6,
   "id": "d9d1ca9e-b48a-4521-804a-37736fa533ce",
   "metadata": {},
   "outputs": [
    {
     "data": {
      "text/plain": [
       "{'pair': ('CCC\\\\C=C/CCC(=O)OCC', 'CCC(=O)OCCC(C)C'),\n",
       " 'graph': BlendData(x=[22, 9], edge_index=[2, 40], edge_attr=[40, 3], mol_batch=[22], blend_batch=[2]),\n",
       " 'notes': tensor([0., 0., 0., 0., 0., 0., 0., 0., 0., 0., 0., 0., 0., 0., 0., 0., 0., 0.,\n",
       "         0., 0., 0., 0., 0., 0., 0., 0., 0., 0., 0., 0., 0., 0., 0., 0., 0., 0.,\n",
       "         0., 0., 0., 0., 0., 0., 0., 0., 0., 0., 0., 0., 0., 0., 0., 0., 0., 0.,\n",
       "         0., 0., 0., 0., 0., 0., 1., 0., 0., 0., 0., 0., 0., 0., 0., 0., 0., 0.,\n",
       "         0., 0., 0., 0., 0., 0., 0., 0., 0., 0., 0., 0., 0., 0., 0., 0., 0., 0.,\n",
       "         0., 0., 0., 0., 0., 0., 0., 0., 0., 0., 0.])}"
      ]
     },
     "execution_count": 6,
     "metadata": {},
     "output_type": "execute_result"
    }
   ],
   "source": [
    " train_dataset[0]"
   ]
  },
  {
   "cell_type": "code",
   "execution_count": 7,
   "id": "bd072f68-ccf1-4b17-ab33-997c111fbdec",
   "metadata": {
    "tags": []
   },
   "outputs": [
    {
     "data": {
      "text/plain": [
       "(216893, 216961)"
      ]
     },
     "execution_count": 7,
     "metadata": {},
     "output_type": "execute_result"
    }
   ],
   "source": [
    "len([d[\"pair\"] for d in train_dataset]), len(annealed[\"train\"])"
   ]
  }
 ],
 "metadata": {
  "kernelspec": {
   "display_name": "Python 3 (ipykernel)",
   "language": "python",
   "name": "python3"
  },
  "language_info": {
   "codemirror_mode": {
    "name": "ipython",
    "version": 3
   },
   "file_extension": ".py",
   "mimetype": "text/x-python",
   "name": "python",
   "nbconvert_exporter": "python",
   "pygments_lexer": "ipython3",
   "version": "3.11.5"
  }
 },
 "nbformat": 4,
 "nbformat_minor": 5
}
