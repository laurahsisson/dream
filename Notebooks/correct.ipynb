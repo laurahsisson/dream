{
 "cells": [
  {
   "cell_type": "code",
   "execution_count": 35,
   "id": "65eee6e9-8ad8-4a35-afd1-f3a8932a6e9e",
   "metadata": {
    "tags": []
   },
   "outputs": [],
   "source": [
    "import sys\n",
    "sys.path.append(\"..\")"
   ]
  },
  {
   "cell_type": "code",
   "execution_count": 1,
   "id": "b4dcd4f6-15ca-4667-8120-06ae6b22ee2a",
   "metadata": {
    "tags": []
   },
   "outputs": [],
   "source": [
    "import sklearn\n",
    "import sklearn.preprocessing"
   ]
  },
  {
   "cell_type": "code",
   "execution_count": 2,
   "id": "89453f62-dd39-4289-b87f-96e2ed575ee4",
   "metadata": {
    "tags": []
   },
   "outputs": [
    {
     "data": {
      "text/html": [
       "<div>\n",
       "<style scoped>\n",
       "    .dataframe tbody tr th:only-of-type {\n",
       "        vertical-align: middle;\n",
       "    }\n",
       "\n",
       "    .dataframe tbody tr th {\n",
       "        vertical-align: top;\n",
       "    }\n",
       "\n",
       "    .dataframe thead th {\n",
       "        text-align: right;\n",
       "    }\n",
       "</style>\n",
       "<table border=\"1\" class=\"dataframe\">\n",
       "  <thead>\n",
       "    <tr style=\"text-align: right;\">\n",
       "      <th></th>\n",
       "      <th>Dataset</th>\n",
       "      <th>Mixture Label</th>\n",
       "      <th>CID</th>\n",
       "      <th>CID.1</th>\n",
       "      <th>CID.2</th>\n",
       "      <th>CID.3</th>\n",
       "      <th>CID.4</th>\n",
       "      <th>CID.5</th>\n",
       "      <th>CID.6</th>\n",
       "      <th>CID.7</th>\n",
       "      <th>...</th>\n",
       "      <th>CID.48</th>\n",
       "      <th>CID.49</th>\n",
       "      <th>CID.50</th>\n",
       "      <th>CID.51</th>\n",
       "      <th>CID.52</th>\n",
       "      <th>CID.53</th>\n",
       "      <th>CID.54</th>\n",
       "      <th>CID.55</th>\n",
       "      <th>CID.56</th>\n",
       "      <th>CID.57</th>\n",
       "    </tr>\n",
       "  </thead>\n",
       "  <tbody>\n",
       "    <tr>\n",
       "      <th>1</th>\n",
       "      <td>Snitz 1</td>\n",
       "      <td>1</td>\n",
       "      <td>6501.0</td>\n",
       "      <td>264.0</td>\n",
       "      <td>2879.0</td>\n",
       "      <td>7685.0</td>\n",
       "      <td>7731.0</td>\n",
       "      <td>326.0</td>\n",
       "      <td>7888.0</td>\n",
       "      <td>61138.0</td>\n",
       "      <td>...</td>\n",
       "      <td>0.0</td>\n",
       "      <td>0.0</td>\n",
       "      <td>0.0</td>\n",
       "      <td>0.0</td>\n",
       "      <td>0.0</td>\n",
       "      <td>0.0</td>\n",
       "      <td>0.0</td>\n",
       "      <td>0.0</td>\n",
       "      <td>0.0</td>\n",
       "      <td>0.0</td>\n",
       "    </tr>\n",
       "    <tr>\n",
       "      <th>3</th>\n",
       "      <td>Snitz 1</td>\n",
       "      <td>2</td>\n",
       "      <td>240.0</td>\n",
       "      <td>93009.0</td>\n",
       "      <td>323.0</td>\n",
       "      <td>8148.0</td>\n",
       "      <td>7762.0</td>\n",
       "      <td>3314.0</td>\n",
       "      <td>460.0</td>\n",
       "      <td>6184.0</td>\n",
       "      <td>...</td>\n",
       "      <td>0.0</td>\n",
       "      <td>0.0</td>\n",
       "      <td>0.0</td>\n",
       "      <td>0.0</td>\n",
       "      <td>0.0</td>\n",
       "      <td>0.0</td>\n",
       "      <td>0.0</td>\n",
       "      <td>0.0</td>\n",
       "      <td>0.0</td>\n",
       "      <td>0.0</td>\n",
       "    </tr>\n",
       "    <tr>\n",
       "      <th>5</th>\n",
       "      <td>Snitz 1</td>\n",
       "      <td>3</td>\n",
       "      <td>7710.0</td>\n",
       "      <td>0.0</td>\n",
       "      <td>0.0</td>\n",
       "      <td>0.0</td>\n",
       "      <td>0.0</td>\n",
       "      <td>0.0</td>\n",
       "      <td>0.0</td>\n",
       "      <td>0.0</td>\n",
       "      <td>...</td>\n",
       "      <td>0.0</td>\n",
       "      <td>0.0</td>\n",
       "      <td>0.0</td>\n",
       "      <td>0.0</td>\n",
       "      <td>0.0</td>\n",
       "      <td>0.0</td>\n",
       "      <td>0.0</td>\n",
       "      <td>0.0</td>\n",
       "      <td>0.0</td>\n",
       "      <td>0.0</td>\n",
       "    </tr>\n",
       "    <tr>\n",
       "      <th>7</th>\n",
       "      <td>Snitz 1</td>\n",
       "      <td>4</td>\n",
       "      <td>31276.0</td>\n",
       "      <td>93009.0</td>\n",
       "      <td>11002.0</td>\n",
       "      <td>323.0</td>\n",
       "      <td>7966.0</td>\n",
       "      <td>8148.0</td>\n",
       "      <td>7632.0</td>\n",
       "      <td>22201.0</td>\n",
       "      <td>...</td>\n",
       "      <td>0.0</td>\n",
       "      <td>0.0</td>\n",
       "      <td>0.0</td>\n",
       "      <td>0.0</td>\n",
       "      <td>0.0</td>\n",
       "      <td>0.0</td>\n",
       "      <td>0.0</td>\n",
       "      <td>0.0</td>\n",
       "      <td>0.0</td>\n",
       "      <td>0.0</td>\n",
       "    </tr>\n",
       "    <tr>\n",
       "      <th>9</th>\n",
       "      <td>Snitz 1</td>\n",
       "      <td>5</td>\n",
       "      <td>10890.0</td>\n",
       "      <td>93009.0</td>\n",
       "      <td>11002.0</td>\n",
       "      <td>6982.0</td>\n",
       "      <td>323.0</td>\n",
       "      <td>8797.0</td>\n",
       "      <td>7966.0</td>\n",
       "      <td>8148.0</td>\n",
       "      <td>...</td>\n",
       "      <td>0.0</td>\n",
       "      <td>0.0</td>\n",
       "      <td>0.0</td>\n",
       "      <td>0.0</td>\n",
       "      <td>0.0</td>\n",
       "      <td>0.0</td>\n",
       "      <td>0.0</td>\n",
       "      <td>0.0</td>\n",
       "      <td>0.0</td>\n",
       "      <td>0.0</td>\n",
       "    </tr>\n",
       "    <tr>\n",
       "      <th>...</th>\n",
       "      <td>...</td>\n",
       "      <td>...</td>\n",
       "      <td>...</td>\n",
       "      <td>...</td>\n",
       "      <td>...</td>\n",
       "      <td>...</td>\n",
       "      <td>...</td>\n",
       "      <td>...</td>\n",
       "      <td>...</td>\n",
       "      <td>...</td>\n",
       "      <td>...</td>\n",
       "      <td>...</td>\n",
       "      <td>...</td>\n",
       "      <td>...</td>\n",
       "      <td>...</td>\n",
       "      <td>...</td>\n",
       "      <td>...</td>\n",
       "      <td>...</td>\n",
       "      <td>...</td>\n",
       "      <td>...</td>\n",
       "      <td>...</td>\n",
       "    </tr>\n",
       "    <tr>\n",
       "      <th>357</th>\n",
       "      <td>Ravia</td>\n",
       "      <td>116</td>\n",
       "      <td>7799.0</td>\n",
       "      <td>31244.0</td>\n",
       "      <td>1031.0</td>\n",
       "      <td>7363.0</td>\n",
       "      <td>14286.0</td>\n",
       "      <td>8025.0</td>\n",
       "      <td>19310.0</td>\n",
       "      <td>7793.0</td>\n",
       "      <td>...</td>\n",
       "      <td>0.0</td>\n",
       "      <td>0.0</td>\n",
       "      <td>0.0</td>\n",
       "      <td>0.0</td>\n",
       "      <td>0.0</td>\n",
       "      <td>0.0</td>\n",
       "      <td>0.0</td>\n",
       "      <td>0.0</td>\n",
       "      <td>0.0</td>\n",
       "      <td>0.0</td>\n",
       "    </tr>\n",
       "    <tr>\n",
       "      <th>359</th>\n",
       "      <td>Ravia</td>\n",
       "      <td>117</td>\n",
       "      <td>6590.0</td>\n",
       "      <td>1031.0</td>\n",
       "      <td>176.0</td>\n",
       "      <td>180.0</td>\n",
       "      <td>7363.0</td>\n",
       "      <td>7150.0</td>\n",
       "      <td>14286.0</td>\n",
       "      <td>8025.0</td>\n",
       "      <td>...</td>\n",
       "      <td>0.0</td>\n",
       "      <td>0.0</td>\n",
       "      <td>0.0</td>\n",
       "      <td>0.0</td>\n",
       "      <td>0.0</td>\n",
       "      <td>0.0</td>\n",
       "      <td>0.0</td>\n",
       "      <td>0.0</td>\n",
       "      <td>0.0</td>\n",
       "      <td>0.0</td>\n",
       "    </tr>\n",
       "    <tr>\n",
       "      <th>361</th>\n",
       "      <td>Ravia</td>\n",
       "      <td>118</td>\n",
       "      <td>1068.0</td>\n",
       "      <td>1031.0</td>\n",
       "      <td>180.0</td>\n",
       "      <td>3776.0</td>\n",
       "      <td>14286.0</td>\n",
       "      <td>61138.0</td>\n",
       "      <td>8025.0</td>\n",
       "      <td>6561.0</td>\n",
       "      <td>...</td>\n",
       "      <td>0.0</td>\n",
       "      <td>0.0</td>\n",
       "      <td>0.0</td>\n",
       "      <td>0.0</td>\n",
       "      <td>0.0</td>\n",
       "      <td>0.0</td>\n",
       "      <td>0.0</td>\n",
       "      <td>0.0</td>\n",
       "      <td>0.0</td>\n",
       "      <td>0.0</td>\n",
       "    </tr>\n",
       "    <tr>\n",
       "      <th>363</th>\n",
       "      <td>Ravia</td>\n",
       "      <td>119</td>\n",
       "      <td>7799.0</td>\n",
       "      <td>3776.0</td>\n",
       "      <td>264.0</td>\n",
       "      <td>62336.0</td>\n",
       "      <td>6569.0</td>\n",
       "      <td>10448.0</td>\n",
       "      <td>261.0</td>\n",
       "      <td>5284503.0</td>\n",
       "      <td>...</td>\n",
       "      <td>0.0</td>\n",
       "      <td>0.0</td>\n",
       "      <td>0.0</td>\n",
       "      <td>0.0</td>\n",
       "      <td>0.0</td>\n",
       "      <td>0.0</td>\n",
       "      <td>0.0</td>\n",
       "      <td>0.0</td>\n",
       "      <td>0.0</td>\n",
       "      <td>0.0</td>\n",
       "    </tr>\n",
       "    <tr>\n",
       "      <th>365</th>\n",
       "      <td>Ravia</td>\n",
       "      <td>120</td>\n",
       "      <td>7799.0</td>\n",
       "      <td>1068.0</td>\n",
       "      <td>7150.0</td>\n",
       "      <td>19310.0</td>\n",
       "      <td>7793.0</td>\n",
       "      <td>264.0</td>\n",
       "      <td>527.0</td>\n",
       "      <td>263.0</td>\n",
       "      <td>...</td>\n",
       "      <td>0.0</td>\n",
       "      <td>0.0</td>\n",
       "      <td>0.0</td>\n",
       "      <td>0.0</td>\n",
       "      <td>0.0</td>\n",
       "      <td>0.0</td>\n",
       "      <td>0.0</td>\n",
       "      <td>0.0</td>\n",
       "      <td>0.0</td>\n",
       "      <td>0.0</td>\n",
       "    </tr>\n",
       "  </tbody>\n",
       "</table>\n",
       "<p>183 rows × 60 columns</p>\n",
       "</div>"
      ],
      "text/plain": [
       "     Dataset  Mixture Label      CID    CID.1    CID.2    CID.3    CID.4  \\\n",
       "1    Snitz 1              1   6501.0    264.0   2879.0   7685.0   7731.0   \n",
       "3    Snitz 1              2    240.0  93009.0    323.0   8148.0   7762.0   \n",
       "5    Snitz 1              3   7710.0      0.0      0.0      0.0      0.0   \n",
       "7    Snitz 1              4  31276.0  93009.0  11002.0    323.0   7966.0   \n",
       "9    Snitz 1              5  10890.0  93009.0  11002.0   6982.0    323.0   \n",
       "..       ...            ...      ...      ...      ...      ...      ...   \n",
       "357    Ravia            116   7799.0  31244.0   1031.0   7363.0  14286.0   \n",
       "359    Ravia            117   6590.0   1031.0    176.0    180.0   7363.0   \n",
       "361    Ravia            118   1068.0   1031.0    180.0   3776.0  14286.0   \n",
       "363    Ravia            119   7799.0   3776.0    264.0  62336.0   6569.0   \n",
       "365    Ravia            120   7799.0   1068.0   7150.0  19310.0   7793.0   \n",
       "\n",
       "       CID.5    CID.6      CID.7  ...  CID.48  CID.49  CID.50  CID.51  CID.52  \\\n",
       "1      326.0   7888.0    61138.0  ...     0.0     0.0     0.0     0.0     0.0   \n",
       "3     3314.0    460.0     6184.0  ...     0.0     0.0     0.0     0.0     0.0   \n",
       "5        0.0      0.0        0.0  ...     0.0     0.0     0.0     0.0     0.0   \n",
       "7     8148.0   7632.0    22201.0  ...     0.0     0.0     0.0     0.0     0.0   \n",
       "9     8797.0   7966.0     8148.0  ...     0.0     0.0     0.0     0.0     0.0   \n",
       "..       ...      ...        ...  ...     ...     ...     ...     ...     ...   \n",
       "357   8025.0  19310.0     7793.0  ...     0.0     0.0     0.0     0.0     0.0   \n",
       "359   7150.0  14286.0     8025.0  ...     0.0     0.0     0.0     0.0     0.0   \n",
       "361  61138.0   8025.0     6561.0  ...     0.0     0.0     0.0     0.0     0.0   \n",
       "363  10448.0    261.0  5284503.0  ...     0.0     0.0     0.0     0.0     0.0   \n",
       "365    264.0    527.0      263.0  ...     0.0     0.0     0.0     0.0     0.0   \n",
       "\n",
       "     CID.53  CID.54  CID.55  CID.56  CID.57  \n",
       "1       0.0     0.0     0.0     0.0     0.0  \n",
       "3       0.0     0.0     0.0     0.0     0.0  \n",
       "5       0.0     0.0     0.0     0.0     0.0  \n",
       "7       0.0     0.0     0.0     0.0     0.0  \n",
       "9       0.0     0.0     0.0     0.0     0.0  \n",
       "..      ...     ...     ...     ...     ...  \n",
       "357     0.0     0.0     0.0     0.0     0.0  \n",
       "359     0.0     0.0     0.0     0.0     0.0  \n",
       "361     0.0     0.0     0.0     0.0     0.0  \n",
       "363     0.0     0.0     0.0     0.0     0.0  \n",
       "365     0.0     0.0     0.0     0.0     0.0  \n",
       "\n",
       "[183 rows x 60 columns]"
      ]
     },
     "execution_count": 2,
     "metadata": {},
     "output_type": "execute_result"
    }
   ],
   "source": [
    "import pandas as pd\n",
    "\n",
    "snitz_ravia = pd.read_csv(\"Data/Challenge/Snitz_Ravia_Definition.csv\").dropna()\n",
    "snitz_ravia[\"Mixture Label\"] = snitz_ravia[\"Mixture Label\"].astype(int)\n",
    "snitz_ravia"
   ]
  },
  {
   "cell_type": "code",
   "execution_count": 3,
   "id": "aa8c8244-b62c-4824-b28c-736219904c1b",
   "metadata": {
    "tags": []
   },
   "outputs": [
    {
     "data": {
      "text/plain": [
       "(183,\n",
       " ('Snitz 1_1', [6501, 264, 2879, 7685, 7731, 326, 7888, 61138, 8030, 1183]))"
      ]
     },
     "execution_count": 3,
     "metadata": {},
     "output_type": "execute_result"
    }
   ],
   "source": [
    "def extract_mixture_labels_and_cids(df):\n",
    "    result = dict()\n",
    "    cid_columns = [col for col in df.columns if col.startswith('CID')]\n",
    "\n",
    "    for index, row in df.iterrows():\n",
    "        mixture_label = (row[\"Dataset\"]+\"_\" if \"Dataset\" in row else \"\") + str(row['Mixture Label'])\n",
    "        cids = [int(cid) for cid in row[cid_columns].tolist() if cid != 0]\n",
    "        assert len(set(cids)) == len(cids)\n",
    "        \n",
    "        \n",
    "        result[mixture_label] = cids\n",
    "\n",
    "    return result\n",
    "\n",
    "def extract_mixture_labels(df):\n",
    "    result = []\n",
    "    cid_columns = [col for col in df.columns if col.startswith('CID')]\n",
    "\n",
    "    for index, row in df.iterrows():\n",
    "        mixture_label = (row[\"Dataset\"]+\"_\" if \"Dataset\" in row else \"\") + str(row['Mixture Label'])\n",
    "        result.append(mixture_label)\n",
    "\n",
    "    return result\n",
    "        \n",
    "snitz_ravia_mixtures = extract_mixture_labels_and_cids(snitz_ravia)\n",
    "len(snitz_ravia_mixtures), next(iter(snitz_ravia_mixtures.items()))"
   ]
  },
  {
   "cell_type": "code",
   "execution_count": 4,
   "id": "87a38393-23a8-411b-87d6-324fc8cf22de",
   "metadata": {},
   "outputs": [
    {
     "data": {
      "text/plain": [
       "(520,\n",
       " ('Bushdid_1',\n",
       "  [440917,\n",
       "   5281515,\n",
       "   8030,\n",
       "   3314,\n",
       "   31272,\n",
       "   798,\n",
       "   6184,\n",
       "   8892,\n",
       "   8025,\n",
       "   6054,\n",
       "   7463,\n",
       "   8148,\n",
       "   999,\n",
       "   1060,\n",
       "   22873,\n",
       "   10890,\n",
       "   61138,\n",
       "   2879,\n",
       "   10430,\n",
       "   8048,\n",
       "   6561,\n",
       "   22386,\n",
       "   11509,\n",
       "   443162,\n",
       "   8797,\n",
       "   16666,\n",
       "   7749,\n",
       "   7793,\n",
       "   7799,\n",
       "   7762]))"
      ]
     },
     "execution_count": 4,
     "metadata": {},
     "output_type": "execute_result"
    }
   ],
   "source": [
    "import json\n",
    "\n",
    "report = pd.read_csv(\"Data/report.csv\")\n",
    "assert ~report[\"Multiple_matches\"].all()\n",
    "report[\"Label\"] = report.apply(lambda x: f\"Bushdid_{x['Idx_processed_dream_bushdid']+1}\", axis=1)\n",
    "bushdid_mixtures = report.set_index('Label')['bushdid_CIDs'].to_dict()\n",
    "bushdid_mixtures = {k:json.loads(cids) for k, cids in bushdid_mixtures.items()}\n",
    "len(bushdid_mixtures), next(iter(bushdid_mixtures.items()))"
   ]
  },
  {
   "cell_type": "code",
   "execution_count": 5,
   "id": "38e1c8da-035b-43b2-9a6b-2864d6d8d0f8",
   "metadata": {
    "tags": []
   },
   "outputs": [
    {
     "data": {
      "text/plain": [
       "703"
      ]
     },
     "execution_count": 5,
     "metadata": {},
     "output_type": "execute_result"
    }
   ],
   "source": [
    "all_mixtures = snitz_ravia_mixtures | bushdid_mixtures\n",
    "len(all_mixtures)"
   ]
  },
  {
   "cell_type": "code",
   "execution_count": 8,
   "id": "8b223660-a382-4ad6-bd64-744a2d8ec023",
   "metadata": {
    "tags": []
   },
   "outputs": [
    {
     "data": {
      "text/plain": [
       "(92, ('1', [10890, 62465, 12180, 7799, 6054, 12367, 61016, 7410, 7749, 10722]))"
      ]
     },
     "execution_count": 8,
     "metadata": {},
     "output_type": "execute_result"
    }
   ],
   "source": [
    "test_df = pd.read_csv(\"Data/Challenge/Mixure_Definitions_test_set.csv\")\n",
    "test_mixtures = extract_mixture_labels_and_cids(test_df)\n",
    "len(test_mixtures), next(iter(test_mixtures.items()))"
   ]
  },
  {
   "cell_type": "code",
   "execution_count": 22,
   "id": "754ebaa4-e619-4bc1-bd22-151389e5448b",
   "metadata": {
    "tags": []
   },
   "outputs": [
    {
     "data": {
      "text/html": [
       "<div>\n",
       "<style scoped>\n",
       "    .dataframe tbody tr th:only-of-type {\n",
       "        vertical-align: middle;\n",
       "    }\n",
       "\n",
       "    .dataframe tbody tr th {\n",
       "        vertical-align: top;\n",
       "    }\n",
       "\n",
       "    .dataframe thead th {\n",
       "        text-align: right;\n",
       "    }\n",
       "</style>\n",
       "<table border=\"1\" class=\"dataframe\">\n",
       "  <thead>\n",
       "    <tr style=\"text-align: right;\">\n",
       "      <th></th>\n",
       "      <th>Dataset</th>\n",
       "      <th>Mixture_1</th>\n",
       "      <th>Mixture_2</th>\n",
       "      <th>Experimental_Values</th>\n",
       "    </tr>\n",
       "  </thead>\n",
       "  <tbody>\n",
       "    <tr>\n",
       "      <th>0</th>\n",
       "      <td>Snitz 1</td>\n",
       "      <td>1.0</td>\n",
       "      <td>2.0</td>\n",
       "      <td>0.604167</td>\n",
       "    </tr>\n",
       "    <tr>\n",
       "      <th>1</th>\n",
       "      <td>Snitz 1</td>\n",
       "      <td>1.0</td>\n",
       "      <td>3.0</td>\n",
       "      <td>0.651042</td>\n",
       "    </tr>\n",
       "    <tr>\n",
       "      <th>2</th>\n",
       "      <td>Snitz 1</td>\n",
       "      <td>1.0</td>\n",
       "      <td>5.0</td>\n",
       "      <td>0.505208</td>\n",
       "    </tr>\n",
       "    <tr>\n",
       "      <th>3</th>\n",
       "      <td>Snitz 1</td>\n",
       "      <td>1.0</td>\n",
       "      <td>6.0</td>\n",
       "      <td>0.411458</td>\n",
       "    </tr>\n",
       "    <tr>\n",
       "      <th>4</th>\n",
       "      <td>Snitz 1</td>\n",
       "      <td>1.0</td>\n",
       "      <td>7.0</td>\n",
       "      <td>0.562500</td>\n",
       "    </tr>\n",
       "    <tr>\n",
       "      <th>...</th>\n",
       "      <td>...</td>\n",
       "      <td>...</td>\n",
       "      <td>...</td>\n",
       "      <td>...</td>\n",
       "    </tr>\n",
       "    <tr>\n",
       "      <th>495</th>\n",
       "      <td>Bushdid</td>\n",
       "      <td>509.0</td>\n",
       "      <td>510.0</td>\n",
       "      <td>0.461538</td>\n",
       "    </tr>\n",
       "    <tr>\n",
       "      <th>496</th>\n",
       "      <td>Bushdid</td>\n",
       "      <td>513.0</td>\n",
       "      <td>514.0</td>\n",
       "      <td>0.692308</td>\n",
       "    </tr>\n",
       "    <tr>\n",
       "      <th>497</th>\n",
       "      <td>Bushdid</td>\n",
       "      <td>515.0</td>\n",
       "      <td>516.0</td>\n",
       "      <td>0.730769</td>\n",
       "    </tr>\n",
       "    <tr>\n",
       "      <th>498</th>\n",
       "      <td>Bushdid</td>\n",
       "      <td>517.0</td>\n",
       "      <td>518.0</td>\n",
       "      <td>0.538462</td>\n",
       "    </tr>\n",
       "    <tr>\n",
       "      <th>499</th>\n",
       "      <td>Bushdid</td>\n",
       "      <td>519.0</td>\n",
       "      <td>520.0</td>\n",
       "      <td>0.807692</td>\n",
       "    </tr>\n",
       "  </tbody>\n",
       "</table>\n",
       "<p>500 rows × 4 columns</p>\n",
       "</div>"
      ],
      "text/plain": [
       "     Dataset  Mixture_1  Mixture_2  Experimental_Values\n",
       "0    Snitz 1        1.0        2.0             0.604167\n",
       "1    Snitz 1        1.0        3.0             0.651042\n",
       "2    Snitz 1        1.0        5.0             0.505208\n",
       "3    Snitz 1        1.0        6.0             0.411458\n",
       "4    Snitz 1        1.0        7.0             0.562500\n",
       "..       ...        ...        ...                  ...\n",
       "495  Bushdid      509.0      510.0             0.461538\n",
       "496  Bushdid      513.0      514.0             0.692308\n",
       "497  Bushdid      515.0      516.0             0.730769\n",
       "498  Bushdid      517.0      518.0             0.538462\n",
       "499  Bushdid      519.0      520.0             0.807692\n",
       "\n",
       "[500 rows x 4 columns]"
      ]
     },
     "execution_count": 22,
     "metadata": {},
     "output_type": "execute_result"
    }
   ],
   "source": [
    "train_experiments = pd.read_csv(\"Data/Challenge/TrainingData_mixturedist.csv\").dropna()\n",
    "train_experiments = train_experiments.rename(columns={\"Mixture 1\":\"Mixture_1\",\"Mixture 2\":\"Mixture_2\",\"Experimental Values\":\"Experimental_Values\"})\n",
    "train_experiments"
   ]
  },
  {
   "cell_type": "code",
   "execution_count": 23,
   "id": "6f91979e-ab46-44a4-9417-98350cbec78c",
   "metadata": {
    "tags": []
   },
   "outputs": [
    {
     "data": {
      "text/html": [
       "<div>\n",
       "<style scoped>\n",
       "    .dataframe tbody tr th:only-of-type {\n",
       "        vertical-align: middle;\n",
       "    }\n",
       "\n",
       "    .dataframe tbody tr th {\n",
       "        vertical-align: top;\n",
       "    }\n",
       "\n",
       "    .dataframe thead th {\n",
       "        text-align: right;\n",
       "    }\n",
       "</style>\n",
       "<table border=\"1\" class=\"dataframe\">\n",
       "  <thead>\n",
       "    <tr style=\"text-align: right;\">\n",
       "      <th></th>\n",
       "      <th>Dataset</th>\n",
       "      <th>Mixture_1</th>\n",
       "      <th>Mixture_2</th>\n",
       "      <th>Experimental_Values</th>\n",
       "      <th>Label 1</th>\n",
       "      <th>Label 2</th>\n",
       "      <th>CIDS 1</th>\n",
       "      <th>CIDS 2</th>\n",
       "    </tr>\n",
       "  </thead>\n",
       "  <tbody>\n",
       "    <tr>\n",
       "      <th>0</th>\n",
       "      <td>Snitz 1</td>\n",
       "      <td>1.0</td>\n",
       "      <td>2.0</td>\n",
       "      <td>0.604167</td>\n",
       "      <td>Snitz 1_1</td>\n",
       "      <td>Snitz 1_2</td>\n",
       "      <td>[6501, 264, 2879, 7685, 7731, 326, 7888, 61138...</td>\n",
       "      <td>[240, 93009, 323, 8148, 7762, 3314, 460, 6184,...</td>\n",
       "    </tr>\n",
       "    <tr>\n",
       "      <th>1</th>\n",
       "      <td>Snitz 1</td>\n",
       "      <td>1.0</td>\n",
       "      <td>3.0</td>\n",
       "      <td>0.651042</td>\n",
       "      <td>Snitz 1_1</td>\n",
       "      <td>Snitz 1_3</td>\n",
       "      <td>[6501, 264, 2879, 7685, 7731, 326, 7888, 61138...</td>\n",
       "      <td>[7710]</td>\n",
       "    </tr>\n",
       "    <tr>\n",
       "      <th>2</th>\n",
       "      <td>Snitz 1</td>\n",
       "      <td>1.0</td>\n",
       "      <td>5.0</td>\n",
       "      <td>0.505208</td>\n",
       "      <td>Snitz 1_1</td>\n",
       "      <td>Snitz 1_5</td>\n",
       "      <td>[6501, 264, 2879, 7685, 7731, 326, 7888, 61138...</td>\n",
       "      <td>[10890, 93009, 11002, 6982, 323, 8797, 7966, 8...</td>\n",
       "    </tr>\n",
       "    <tr>\n",
       "      <th>3</th>\n",
       "      <td>Snitz 1</td>\n",
       "      <td>1.0</td>\n",
       "      <td>6.0</td>\n",
       "      <td>0.411458</td>\n",
       "      <td>Snitz 1_1</td>\n",
       "      <td>Snitz 1_6</td>\n",
       "      <td>[6501, 264, 2879, 7685, 7731, 326, 7888, 61138...</td>\n",
       "      <td>[7710, 31276, 10890, 240, 93009, 11002, 6982, ...</td>\n",
       "    </tr>\n",
       "    <tr>\n",
       "      <th>4</th>\n",
       "      <td>Snitz 1</td>\n",
       "      <td>1.0</td>\n",
       "      <td>7.0</td>\n",
       "      <td>0.562500</td>\n",
       "      <td>Snitz 1_1</td>\n",
       "      <td>Snitz 1_7</td>\n",
       "      <td>[6501, 264, 2879, 7685, 7731, 326, 7888, 61138...</td>\n",
       "      <td>[93009, 460, 443158, 6544]</td>\n",
       "    </tr>\n",
       "    <tr>\n",
       "      <th>...</th>\n",
       "      <td>...</td>\n",
       "      <td>...</td>\n",
       "      <td>...</td>\n",
       "      <td>...</td>\n",
       "      <td>...</td>\n",
       "      <td>...</td>\n",
       "      <td>...</td>\n",
       "      <td>...</td>\n",
       "    </tr>\n",
       "    <tr>\n",
       "      <th>495</th>\n",
       "      <td>Bushdid</td>\n",
       "      <td>509.0</td>\n",
       "      <td>510.0</td>\n",
       "      <td>0.461538</td>\n",
       "      <td>Bushdid_509</td>\n",
       "      <td>Bushdid_510</td>\n",
       "      <td>[176, 7059, 7654, 4133, 31272, 2969, 7344, 605...</td>\n",
       "      <td>[176, 7059, 7654, 4133, 31272, 2969, 7344, 605...</td>\n",
       "    </tr>\n",
       "    <tr>\n",
       "      <th>496</th>\n",
       "      <td>Bushdid</td>\n",
       "      <td>513.0</td>\n",
       "      <td>514.0</td>\n",
       "      <td>0.692308</td>\n",
       "      <td>Bushdid_513</td>\n",
       "      <td>Bushdid_514</td>\n",
       "      <td>[612, 6654, 19310, 22386, 62465, 11552, 7793, ...</td>\n",
       "      <td>[10430, 454, 440917, 3776, 240, 2758, 10821, 7...</td>\n",
       "    </tr>\n",
       "    <tr>\n",
       "      <th>497</th>\n",
       "      <td>Bushdid</td>\n",
       "      <td>515.0</td>\n",
       "      <td>516.0</td>\n",
       "      <td>0.730769</td>\n",
       "      <td>Bushdid_515</td>\n",
       "      <td>Bushdid_516</td>\n",
       "      <td>[16666, 19310, 62465, 7848, 440917, 7991, 1060...</td>\n",
       "      <td>[16666, 19310, 62465, 22201, 7921, 22386, 7583...</td>\n",
       "    </tr>\n",
       "    <tr>\n",
       "      <th>498</th>\n",
       "      <td>Bushdid</td>\n",
       "      <td>517.0</td>\n",
       "      <td>518.0</td>\n",
       "      <td>0.538462</td>\n",
       "      <td>Bushdid_517</td>\n",
       "      <td>Bushdid_518</td>\n",
       "      <td>[1127, 10821, 8858, 8148, 3776, 8048, 7731, 31...</td>\n",
       "      <td>[6561, 7921, 7654, 24915, 261, 7888, 999, 8030...</td>\n",
       "    </tr>\n",
       "    <tr>\n",
       "      <th>499</th>\n",
       "      <td>Bushdid</td>\n",
       "      <td>519.0</td>\n",
       "      <td>520.0</td>\n",
       "      <td>0.807692</td>\n",
       "      <td>Bushdid_519</td>\n",
       "      <td>Bushdid_520</td>\n",
       "      <td>[2969, 264, 8048, 6054, 4133, 8635, 10560, 123...</td>\n",
       "      <td>[2969, 264, 8048, 6054, 4133, 8635, 10560, 123...</td>\n",
       "    </tr>\n",
       "  </tbody>\n",
       "</table>\n",
       "<p>500 rows × 8 columns</p>\n",
       "</div>"
      ],
      "text/plain": [
       "     Dataset  Mixture_1  Mixture_2  Experimental_Values      Label 1  \\\n",
       "0    Snitz 1        1.0        2.0             0.604167    Snitz 1_1   \n",
       "1    Snitz 1        1.0        3.0             0.651042    Snitz 1_1   \n",
       "2    Snitz 1        1.0        5.0             0.505208    Snitz 1_1   \n",
       "3    Snitz 1        1.0        6.0             0.411458    Snitz 1_1   \n",
       "4    Snitz 1        1.0        7.0             0.562500    Snitz 1_1   \n",
       "..       ...        ...        ...                  ...          ...   \n",
       "495  Bushdid      509.0      510.0             0.461538  Bushdid_509   \n",
       "496  Bushdid      513.0      514.0             0.692308  Bushdid_513   \n",
       "497  Bushdid      515.0      516.0             0.730769  Bushdid_515   \n",
       "498  Bushdid      517.0      518.0             0.538462  Bushdid_517   \n",
       "499  Bushdid      519.0      520.0             0.807692  Bushdid_519   \n",
       "\n",
       "         Label 2                                             CIDS 1  \\\n",
       "0      Snitz 1_2  [6501, 264, 2879, 7685, 7731, 326, 7888, 61138...   \n",
       "1      Snitz 1_3  [6501, 264, 2879, 7685, 7731, 326, 7888, 61138...   \n",
       "2      Snitz 1_5  [6501, 264, 2879, 7685, 7731, 326, 7888, 61138...   \n",
       "3      Snitz 1_6  [6501, 264, 2879, 7685, 7731, 326, 7888, 61138...   \n",
       "4      Snitz 1_7  [6501, 264, 2879, 7685, 7731, 326, 7888, 61138...   \n",
       "..           ...                                                ...   \n",
       "495  Bushdid_510  [176, 7059, 7654, 4133, 31272, 2969, 7344, 605...   \n",
       "496  Bushdid_514  [612, 6654, 19310, 22386, 62465, 11552, 7793, ...   \n",
       "497  Bushdid_516  [16666, 19310, 62465, 7848, 440917, 7991, 1060...   \n",
       "498  Bushdid_518  [1127, 10821, 8858, 8148, 3776, 8048, 7731, 31...   \n",
       "499  Bushdid_520  [2969, 264, 8048, 6054, 4133, 8635, 10560, 123...   \n",
       "\n",
       "                                                CIDS 2  \n",
       "0    [240, 93009, 323, 8148, 7762, 3314, 460, 6184,...  \n",
       "1                                               [7710]  \n",
       "2    [10890, 93009, 11002, 6982, 323, 8797, 7966, 8...  \n",
       "3    [7710, 31276, 10890, 240, 93009, 11002, 6982, ...  \n",
       "4                           [93009, 460, 443158, 6544]  \n",
       "..                                                 ...  \n",
       "495  [176, 7059, 7654, 4133, 31272, 2969, 7344, 605...  \n",
       "496  [10430, 454, 440917, 3776, 240, 2758, 10821, 7...  \n",
       "497  [16666, 19310, 62465, 22201, 7921, 22386, 7583...  \n",
       "498  [6561, 7921, 7654, 24915, 261, 7888, 999, 8030...  \n",
       "499  [2969, 264, 8048, 6054, 4133, 8635, 10560, 123...  \n",
       "\n",
       "[500 rows x 8 columns]"
      ]
     },
     "execution_count": 23,
     "metadata": {},
     "output_type": "execute_result"
    }
   ],
   "source": [
    "def make_df_with_cids(experiments,mixtures,use_dataset=True):\n",
    "    experiments = experiments.copy()\n",
    "    if use_dataset:\n",
    "        experiments[\"Label 1\"] = experiments.apply(lambda x: x[\"Dataset\"]+\"_\"+str(int(x[\"Mixture_1\"])),axis=1)\n",
    "        experiments[\"Label 2\"] = experiments.apply(lambda x: x[\"Dataset\"]+\"_\"+str(int(x[\"Mixture_2\"])),axis=1)\n",
    "    else:\n",
    "        experiments[\"Label 1\"] = experiments.apply(lambda x: str(int(x[\"Mixture_1\"])),axis=1)\n",
    "        experiments[\"Label 2\"] = experiments.apply(lambda x: str(int(x[\"Mixture_2\"])),axis=1)\n",
    "    experiments[\"CIDS 1\"] = experiments.apply(lambda x: mixtures[x[\"Label 1\"]],axis=1)\n",
    "    experiments[\"CIDS 2\"] = experiments.apply(lambda x: mixtures[x[\"Label 2\"]],axis=1)\n",
    "    return experiments\n",
    "train_experiments_with_cids = make_df_with_cids(train_experiments,all_mixtures)\n",
    "train_experiments_with_cids"
   ]
  },
  {
   "cell_type": "code",
   "execution_count": 59,
   "id": "69b7c2a1-5466-4232-84f0-01a9438c38ba",
   "metadata": {
    "tags": []
   },
   "outputs": [
    {
     "data": {
      "text/plain": [
       "Dataset\n",
       "Bushdid    234\n",
       "Snitz 1    140\n",
       "Snitz 2     81\n",
       "Ravia       45\n",
       "Name: count, dtype: int64"
      ]
     },
     "execution_count": 59,
     "metadata": {},
     "output_type": "execute_result"
    }
   ],
   "source": [
    "train_experiments_with_cids['Dataset'].value_counts()"
   ]
  },
  {
   "cell_type": "code",
   "execution_count": 19,
   "id": "f1c340da-7905-4c02-9bd7-8ed3b2fa0ea6",
   "metadata": {
    "tags": []
   },
   "outputs": [
    {
     "data": {
      "text/html": [
       "<div>\n",
       "<style scoped>\n",
       "    .dataframe tbody tr th:only-of-type {\n",
       "        vertical-align: middle;\n",
       "    }\n",
       "\n",
       "    .dataframe tbody tr th {\n",
       "        vertical-align: top;\n",
       "    }\n",
       "\n",
       "    .dataframe thead th {\n",
       "        text-align: right;\n",
       "    }\n",
       "</style>\n",
       "<table border=\"1\" class=\"dataframe\">\n",
       "  <thead>\n",
       "    <tr style=\"text-align: right;\">\n",
       "      <th></th>\n",
       "      <th>Dataset</th>\n",
       "      <th>Mixture_1</th>\n",
       "      <th>Mixture_2</th>\n",
       "      <th>Predicted_Experimental_Values</th>\n",
       "      <th>Label 1</th>\n",
       "      <th>Label 2</th>\n",
       "      <th>CIDS 1</th>\n",
       "      <th>CIDS 2</th>\n",
       "    </tr>\n",
       "  </thead>\n",
       "  <tbody>\n",
       "    <tr>\n",
       "      <th>0</th>\n",
       "      <td>CGm01</td>\n",
       "      <td>1</td>\n",
       "      <td>17</td>\n",
       "      <td>0</td>\n",
       "      <td>1</td>\n",
       "      <td>17</td>\n",
       "      <td>[10890, 62465, 12180, 7799, 6054, 12367, 61016...</td>\n",
       "      <td>[22201, 6184, 12741, 8797, 11509, 7793, 7770, ...</td>\n",
       "    </tr>\n",
       "    <tr>\n",
       "      <th>1</th>\n",
       "      <td>CGm02</td>\n",
       "      <td>2</td>\n",
       "      <td>18</td>\n",
       "      <td>0</td>\n",
       "      <td>2</td>\n",
       "      <td>18</td>\n",
       "      <td>[31244, 14286, 7714, 8892, 18827, 12020, 7519,...</td>\n",
       "      <td>[7410, 31276, 62433, 10821, 7799, 22201, 6590,...</td>\n",
       "    </tr>\n",
       "    <tr>\n",
       "      <th>2</th>\n",
       "      <td>CGm03</td>\n",
       "      <td>3</td>\n",
       "      <td>19</td>\n",
       "      <td>0</td>\n",
       "      <td>3</td>\n",
       "      <td>19</td>\n",
       "      <td>[7793, 8091, 8797, 26331, 22873, 31265, 8118, ...</td>\n",
       "      <td>[62433, 62336, 6590, 31244, 62465, 11002, 5634...</td>\n",
       "    </tr>\n",
       "    <tr>\n",
       "      <th>3</th>\n",
       "      <td>CGm04</td>\n",
       "      <td>4</td>\n",
       "      <td>20</td>\n",
       "      <td>0</td>\n",
       "      <td>4</td>\n",
       "      <td>20</td>\n",
       "      <td>[31272, 6501, 8091, 454, 31252, 6184, 7410, 86...</td>\n",
       "      <td>[8051, 7799, 3314, 8858, 12178, 4133, 8118, 10...</td>\n",
       "    </tr>\n",
       "    <tr>\n",
       "      <th>4</th>\n",
       "      <td>CGm05</td>\n",
       "      <td>5</td>\n",
       "      <td>21</td>\n",
       "      <td>0</td>\n",
       "      <td>5</td>\n",
       "      <td>21</td>\n",
       "      <td>[8892, 14286, 7991, 7749, 8051, 62465, 62336, ...</td>\n",
       "      <td>[7344, 7654, 10890, 6590, 10882, 11509, 7731, ...</td>\n",
       "    </tr>\n",
       "  </tbody>\n",
       "</table>\n",
       "</div>"
      ],
      "text/plain": [
       "   Dataset  Mixture_1  Mixture_2  Predicted_Experimental_Values Label 1  \\\n",
       "0  CGm01            1         17                              0       1   \n",
       "1  CGm02            2         18                              0       2   \n",
       "2  CGm03            3         19                              0       3   \n",
       "3  CGm04            4         20                              0       4   \n",
       "4  CGm05            5         21                              0       5   \n",
       "\n",
       "  Label 2                                             CIDS 1  \\\n",
       "0      17  [10890, 62465, 12180, 7799, 6054, 12367, 61016...   \n",
       "1      18  [31244, 14286, 7714, 8892, 18827, 12020, 7519,...   \n",
       "2      19  [7793, 8091, 8797, 26331, 22873, 31265, 8118, ...   \n",
       "3      20  [31272, 6501, 8091, 454, 31252, 6184, 7410, 86...   \n",
       "4      21  [8892, 14286, 7991, 7749, 8051, 62465, 62336, ...   \n",
       "\n",
       "                                              CIDS 2  \n",
       "0  [22201, 6184, 12741, 8797, 11509, 7793, 7770, ...  \n",
       "1  [7410, 31276, 62433, 10821, 7799, 22201, 6590,...  \n",
       "2  [62433, 62336, 6590, 31244, 62465, 11002, 5634...  \n",
       "3  [8051, 7799, 3314, 8858, 12178, 4133, 8118, 10...  \n",
       "4  [7344, 7654, 10890, 6590, 10882, 11509, 7731, ...  "
      ]
     },
     "execution_count": 19,
     "metadata": {},
     "output_type": "execute_result"
    }
   ],
   "source": [
    "test_experiments = pd.read_csv(\"Data/Challenge/Test_set_Submission_form.csv\").dropna()\n",
    "test_experiments_with_cids = make_df_with_cids(test_experiments,test_mixtures,use_dataset=False)\n",
    "test_experiments_with_cids.head(5)"
   ]
  },
  {
   "cell_type": "code",
   "execution_count": 20,
   "id": "9474307d-bdb6-45b9-81be-0c46923974da",
   "metadata": {
    "tags": []
   },
   "outputs": [
    {
     "data": {
      "text/html": [
       "<div>\n",
       "<style scoped>\n",
       "    .dataframe tbody tr th:only-of-type {\n",
       "        vertical-align: middle;\n",
       "    }\n",
       "\n",
       "    .dataframe tbody tr th {\n",
       "        vertical-align: top;\n",
       "    }\n",
       "\n",
       "    .dataframe thead th {\n",
       "        text-align: right;\n",
       "    }\n",
       "</style>\n",
       "<table border=\"1\" class=\"dataframe\">\n",
       "  <thead>\n",
       "    <tr style=\"text-align: right;\">\n",
       "      <th></th>\n",
       "      <th>Dataset</th>\n",
       "      <th>Mixture_1</th>\n",
       "      <th>Mixture_2</th>\n",
       "      <th>Predicted_Experimental_Values</th>\n",
       "      <th>Label 1</th>\n",
       "      <th>Label 2</th>\n",
       "      <th>CIDS 1</th>\n",
       "      <th>CIDS 2</th>\n",
       "    </tr>\n",
       "  </thead>\n",
       "  <tbody>\n",
       "    <tr>\n",
       "      <th>0</th>\n",
       "      <td>Bushdid</td>\n",
       "      <td>65</td>\n",
       "      <td>66</td>\n",
       "      <td>0</td>\n",
       "      <td>Bushdid_65</td>\n",
       "      <td>Bushdid_66</td>\n",
       "      <td>[62336, 460, 8103, 6054, 1127, 637511, 7632, 1...</td>\n",
       "      <td>[62336, 460, 8103, 6054, 1127, 637511, 7632, 1...</td>\n",
       "    </tr>\n",
       "    <tr>\n",
       "      <th>1</th>\n",
       "      <td>Snitz 2</td>\n",
       "      <td>1</td>\n",
       "      <td>8</td>\n",
       "      <td>0</td>\n",
       "      <td>Snitz 2_1</td>\n",
       "      <td>Snitz 2_8</td>\n",
       "      <td>[326, 26331, 6544, 1140]</td>\n",
       "      <td>[31276, 8148, 7762, 18827, 7714]</td>\n",
       "    </tr>\n",
       "    <tr>\n",
       "      <th>2</th>\n",
       "      <td>Snitz 1</td>\n",
       "      <td>24</td>\n",
       "      <td>17</td>\n",
       "      <td>0</td>\n",
       "      <td>Snitz 1_24</td>\n",
       "      <td>Snitz 1_17</td>\n",
       "      <td>[7749, 61138, 6054, 6544]</td>\n",
       "      <td>[14286, 31276, 7600, 7519, 11002, 6982, 307, 3...</td>\n",
       "    </tr>\n",
       "    <tr>\n",
       "      <th>3</th>\n",
       "      <td>Snitz 2</td>\n",
       "      <td>12</td>\n",
       "      <td>14</td>\n",
       "      <td>0</td>\n",
       "      <td>Snitz 2_12</td>\n",
       "      <td>Snitz 2_14</td>\n",
       "      <td>[7410, 326, 2758, 62444, 7770, 1140]</td>\n",
       "      <td>[8797, 7731, 7966, 3314, 62336, 7059, 7991, 61...</td>\n",
       "    </tr>\n",
       "    <tr>\n",
       "      <th>4</th>\n",
       "      <td>Snitz 1</td>\n",
       "      <td>49</td>\n",
       "      <td>45</td>\n",
       "      <td>0</td>\n",
       "      <td>Snitz 1_49</td>\n",
       "      <td>Snitz 1_45</td>\n",
       "      <td>[7600, 62433, 7991, 6989]</td>\n",
       "      <td>[7685]</td>\n",
       "    </tr>\n",
       "  </tbody>\n",
       "</table>\n",
       "</div>"
      ],
      "text/plain": [
       "   Dataset  Mixture_1  Mixture_2  Predicted_Experimental_Values     Label 1  \\\n",
       "0  Bushdid         65         66                              0  Bushdid_65   \n",
       "1  Snitz 2          1          8                              0   Snitz 2_1   \n",
       "2  Snitz 1         24         17                              0  Snitz 1_24   \n",
       "3  Snitz 2         12         14                              0  Snitz 2_12   \n",
       "4  Snitz 1         49         45                              0  Snitz 1_49   \n",
       "\n",
       "      Label 2                                             CIDS 1  \\\n",
       "0  Bushdid_66  [62336, 460, 8103, 6054, 1127, 637511, 7632, 1...   \n",
       "1   Snitz 2_8                           [326, 26331, 6544, 1140]   \n",
       "2  Snitz 1_17                          [7749, 61138, 6054, 6544]   \n",
       "3  Snitz 2_14               [7410, 326, 2758, 62444, 7770, 1140]   \n",
       "4  Snitz 1_45                          [7600, 62433, 7991, 6989]   \n",
       "\n",
       "                                              CIDS 2  \n",
       "0  [62336, 460, 8103, 6054, 1127, 637511, 7632, 1...  \n",
       "1                   [31276, 8148, 7762, 18827, 7714]  \n",
       "2  [14286, 31276, 7600, 7519, 11002, 6982, 307, 3...  \n",
       "3  [8797, 7731, 7966, 3314, 62336, 7059, 7991, 61...  \n",
       "4                                             [7685]  "
      ]
     },
     "execution_count": 20,
     "metadata": {},
     "output_type": "execute_result"
    }
   ],
   "source": [
    "leaderboard_experiments = pd.read_csv(\"Data/Challenge/Leaderboard_set_Submission_form.csv\").dropna()\n",
    "leaderboard_experiments_with_cids = make_df_with_cids(leaderboard_experiments,all_mixtures)\n",
    "leaderboard_experiments_with_cids.head(5)"
   ]
  },
  {
   "cell_type": "code",
   "execution_count": 30,
   "id": "69b66af1-4248-4ef5-885c-30acc2d0560d",
   "metadata": {
    "tags": []
   },
   "outputs": [
    {
     "data": {
      "text/plain": [
       "163"
      ]
     },
     "execution_count": 30,
     "metadata": {},
     "output_type": "execute_result"
    }
   ],
   "source": [
    "all_cids = set()\n",
    "for _, cids in all_mixtures.items():\n",
    "    all_cids.update(cids)\n",
    "    \n",
    "for _, cids in test_mixtures.items():\n",
    "    all_cids.update(cids)\n",
    "len(all_cids)"
   ]
  },
  {
   "cell_type": "code",
   "execution_count": 17,
   "id": "15907e0b-fa6e-415d-b761-4177b370620e",
   "metadata": {
    "tags": []
   },
   "outputs": [
    {
     "data": {
      "text/plain": [
       "(163, (176, 'CC(=O)O'))"
      ]
     },
     "execution_count": 17,
     "metadata": {},
     "output_type": "execute_result"
    }
   ],
   "source": [
    "import json\n",
    "with open(\"Data/cid_to_smiles.json\") as f:\n",
    "    cid_to_smiles = json.load(f)\n",
    "cid_to_smiles = {int(cid):smiles for cid, smiles in cid_to_smiles.items()}\n",
    "len(cid_to_smiles), next(iter(cid_to_smiles.items()))"
   ]
  },
  {
   "cell_type": "code",
   "execution_count": 18,
   "id": "78ae6daf-28b9-44a6-85dc-db64aa0810b9",
   "metadata": {
    "tags": []
   },
   "outputs": [],
   "source": [
    "for cid in all_cids:\n",
    "    assert cid in cid_to_smiles"
   ]
  },
  {
   "cell_type": "code",
   "execution_count": 25,
   "id": "7de5fb28-7d0c-4c69-834f-1c6e80bf5bf4",
   "metadata": {
    "tags": []
   },
   "outputs": [
    {
     "data": {
      "application/vnd.jupyter.widget-view+json": {
       "model_id": "51049c31b2214f8ea12f50cff101ca40",
       "version_major": 2,
       "version_minor": 0
      },
      "text/plain": [
       "  0%|          | 0/163 [00:00<?, ?it/s]"
      ]
     },
     "metadata": {},
     "output_type": "display_data"
    },
    {
     "data": {
      "text/plain": [
       "(159, ('CC(=O)O', Data(x=[4, 9], edge_index=[2, 6], edge_attr=[6, 3])))"
      ]
     },
     "execution_count": 25,
     "metadata": {},
     "output_type": "execute_result"
    }
   ],
   "source": [
    "from ogb.utils import smiles2graph\n",
    "import numpy as np\n",
    "from torch_geometric.data import InMemoryDataset, download_url, Data\n",
    "import torch\n",
    "from tqdm.notebook import tqdm\n",
    "\n",
    "def to_torch(graph):\n",
    "    tensor_keys = [\"edge_index\", 'edge_feat', 'node_feat']\n",
    "    for key in tensor_keys:\n",
    "        graph[key] = torch.tensor(graph[key])\n",
    "    return Data(x=graph[\"node_feat\"].float(),edge_attr=graph[\"edge_feat\"],edge_index=graph[\"edge_index\"])\n",
    "\n",
    "graph_data = dict()\n",
    "for smiles in tqdm(cid_to_smiles.values(),smoothing=0):\n",
    "    graph_data[smiles] = to_torch(smiles2graph(smiles))\n",
    "len(graph_data), next(iter(graph_data.items()))"
   ]
  },
  {
   "cell_type": "code",
   "execution_count": 55,
   "id": "bb548b2f-57a5-41bc-aae0-a11b5ee4a91c",
   "metadata": {
    "tags": []
   },
   "outputs": [
    {
     "data": {
      "application/vnd.jupyter.widget-view+json": {
       "model_id": "fabf6053efc243128ce83b1842ff9c78",
       "version_major": 2,
       "version_minor": 0
      },
      "text/plain": [
       "  0%|          | 0/500 [00:00<?, ?it/s]"
      ]
     },
     "metadata": {},
     "output_type": "display_data"
    },
    {
     "data": {
      "text/plain": [
       "(500,\n",
       " {'dataset': 'Snitz 1',\n",
       "  'label': 'Snitz 1_1+Snitz 1_2',\n",
       "  'graph1': BlendData(x=[97, 9], edge_index=[2, 190], edge_attr=[190, 3], mol_batch=[97], blend_batch=[10]),\n",
       "  'graph2': BlendData(x=[96, 9], edge_index=[2, 192], edge_attr=[192, 3], mol_batch=[96], blend_batch=[10]),\n",
       "  'y': tensor(0.6042)})"
      ]
     },
     "execution_count": 55,
     "metadata": {},
     "output_type": "execute_result"
    }
   ],
   "source": [
    "import data\n",
    "\n",
    "def make_mixture(cids):\n",
    "    return data.combine_graphs([graph_data[cid_to_smiles[cid]] for cid in cids])\n",
    "\n",
    "def make_mixture_data(df_with_cids,use_y):\n",
    "    mixture_data = []\n",
    "    for _,row in tqdm(df_with_cids.iterrows(),total=len(df_with_cids)):\n",
    "        graph1 = make_mixture(row[\"CIDS 1\"])\n",
    "        graph2 = make_mixture(row[\"CIDS 2\"])\n",
    "        \n",
    "        pair_data = {\"dataset\":row['Dataset'],\"label\":f\"{row['Label 1']}+{row['Label 2']}\",\"graph1\":graph1,\"graph2\":graph2}\n",
    "        if use_y:\n",
    "            pair_data[\"y\"] = torch.tensor(row[\"Experimental_Values\"])\n",
    "        mixture_data.append(pair_data)\n",
    "    return mixture_data\n",
    "\n",
    "train_mixture_data = make_mixture_data(train_experiments_with_cids,use_y=True)\n",
    "len(train_mixture_data), train_mixture_data[0]"
   ]
  },
  {
   "cell_type": "code",
   "execution_count": 56,
   "id": "9768b6b6-7663-4d85-a6ba-9557bf0b7efb",
   "metadata": {
    "tags": []
   },
   "outputs": [
    {
     "data": {
      "application/vnd.jupyter.widget-view+json": {
       "model_id": "e8e4cf4a35f649e9bcce460069297212",
       "version_major": 2,
       "version_minor": 0
      },
      "text/plain": [
       "  0%|          | 0/46 [00:00<?, ?it/s]"
      ]
     },
     "metadata": {},
     "output_type": "display_data"
    },
    {
     "data": {
      "text/plain": [
       "(46,\n",
       " {'dataset': 'CGm01  ',\n",
       "  'label': '1+17',\n",
       "  'graph1': BlendData(x=[95, 9], edge_index=[2, 178], edge_attr=[178, 3], mol_batch=[95], blend_batch=[10]),\n",
       "  'graph2': BlendData(x=[95, 9], edge_index=[2, 178], edge_attr=[178, 3], mol_batch=[95], blend_batch=[10])})"
      ]
     },
     "execution_count": 56,
     "metadata": {},
     "output_type": "execute_result"
    }
   ],
   "source": [
    "test_mixture_data = make_mixture_data(test_experiments_with_cids,use_y=False)\n",
    "len(test_mixture_data), test_mixture_data[0]"
   ]
  },
  {
   "cell_type": "code",
   "execution_count": 57,
   "id": "1527901a-f1d3-4b22-b3b9-5aea888b6acc",
   "metadata": {},
   "outputs": [
    {
     "data": {
      "application/vnd.jupyter.widget-view+json": {
       "model_id": "cd269b27bfe245348c37b06e79b01ea0",
       "version_major": 2,
       "version_minor": 0
      },
      "text/plain": [
       "  0%|          | 0/46 [00:00<?, ?it/s]"
      ]
     },
     "metadata": {},
     "output_type": "display_data"
    },
    {
     "data": {
      "text/plain": [
       "(46,\n",
       " {'dataset': 'Bushdid',\n",
       "  'label': 'Bushdid_65+Bushdid_66',\n",
       "  'graph1': BlendData(x=[285, 9], edge_index=[2, 546], edge_attr=[546, 3], mol_batch=[285], blend_batch=[30]),\n",
       "  'graph2': BlendData(x=[254, 9], edge_index=[2, 478], edge_attr=[478, 3], mol_batch=[254], blend_batch=[30])})"
      ]
     },
     "execution_count": 57,
     "metadata": {},
     "output_type": "execute_result"
    }
   ],
   "source": [
    "leaderboard_mixture_data = make_mixture_data(leaderboard_experiments_with_cids,use_y=False)\n",
    "len(leaderboard_mixture_data), leaderboard_mixture_data[0]"
   ]
  },
  {
   "cell_type": "code",
   "execution_count": 60,
   "id": "a3dc3626-41af-4640-805d-8efee8154bd9",
   "metadata": {
    "tags": []
   },
   "outputs": [
    {
     "data": {
      "application/vnd.jupyter.widget-view+json": {
       "model_id": "e993aebafd0840d8a22d187c77a61a65",
       "version_major": 2,
       "version_minor": 0
      },
      "text/plain": [
       "  0%|          | 0/500 [00:00<?, ?it/s]"
      ]
     },
     "metadata": {},
     "output_type": "display_data"
    },
    {
     "data": {
      "application/vnd.jupyter.widget-view+json": {
       "model_id": "553a36b5c2ee44779f4fa8da7d17ccf7",
       "version_major": 2,
       "version_minor": 0
      },
      "text/plain": [
       "  0%|          | 0/46 [00:00<?, ?it/s]"
      ]
     },
     "metadata": {},
     "output_type": "display_data"
    },
    {
     "data": {
      "application/vnd.jupyter.widget-view+json": {
       "model_id": "636faeda9ce5493da716ecb75eac15a2",
       "version_major": 2,
       "version_minor": 0
      },
      "text/plain": [
       "  0%|          | 0/46 [00:00<?, ?it/s]"
      ]
     },
     "metadata": {},
     "output_type": "display_data"
    }
   ],
   "source": [
    "import h5py\n",
    "def make_file(fname,mixture_data):\n",
    "    with h5py.File(fname, 'w') as f:\n",
    "        for data in tqdm(mixture_data):\n",
    "            group = f.create_group(data[\"label\"])\n",
    "            graph_group1 = group.create_group(\"graph1\")\n",
    "            for k,v in data[\"graph1\"].items():\n",
    "                graph_group1.create_dataset(k,data=v.numpy())\n",
    "            graph_group2 = group.create_group(\"graph2\")\n",
    "            for k,v in data[\"graph2\"].items():\n",
    "                graph_group2.create_dataset(k,data=v.numpy())\n",
    "            group.create_dataset(\"dataset\",data=data[\"dataset\"])\n",
    "            if \"y\" in data:\n",
    "                group.create_dataset(\"y\",data=data[\"y\"].numpy())\n",
    "make_file(\"Data/train.h5\",train_mixture_data)\n",
    "make_file(\"Data/test.h5\",test_mixture_data)\n",
    "make_file(\"Data/leaderboard.h5\",leaderboard_mixture_data)"
   ]
  }
 ],
 "metadata": {
  "kernelspec": {
   "display_name": "Python 3 (ipykernel)",
   "language": "python",
   "name": "python3"
  },
  "language_info": {
   "codemirror_mode": {
    "name": "ipython",
    "version": 3
   },
   "file_extension": ".py",
   "mimetype": "text/x-python",
   "name": "python",
   "nbconvert_exporter": "python",
   "pygments_lexer": "ipython3",
   "version": "3.11.5"
  }
 },
 "nbformat": 4,
 "nbformat_minor": 5
}
